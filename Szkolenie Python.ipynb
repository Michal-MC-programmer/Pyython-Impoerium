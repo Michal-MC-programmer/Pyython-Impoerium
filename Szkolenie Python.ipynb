{
 "cells": [
  {
   "cell_type": "markdown",
   "id": "cfff1385",
   "metadata": {},
   "source": [
    "# Podstawy\n",
    "\n",
    "## Markdown\n",
    "\n",
    "```\n",
    "# H1 \n",
    "## H2\n",
    "```\n",
    "\n",
    "## GIT\n",
    "\n",
    "    git init - inicjalizacja pustego repo\n",
    "    \n",
    "    Po utworzeniu polecenia\n",
    "    (git remote add origin <adres>)\n",
    "    (git config --global user.email \"email\")\n",
    "    (git config --global user.name \"name\")\n",
    "    (git config --list)\n",
    "    \n",
    "    Najczestsze polecenia\n",
    "    git status\n",
    "    git add <nazwa pliku>\n",
    "    git commit -m \"message\" # tworzenie rewizji\n",
    "    git push origin master  # wysyla zmiany do zdalnego repo\n",
    "    \n",
    "    git branch  # sprawdza galaz\n",
    "    \n",
    "\n",
    "    git pull origin master  # sciaga zmiany ze zdalnego repo\n",
    "    \n",
    "    git clone <adres>\n",
    "    \n",
    "## Podstawowe typy\n",
    "\n",
    "### int - liczby całkowite\n"
   ]
  },
  {
   "cell_type": "code",
   "execution_count": 2,
   "id": "4e1f716d",
   "metadata": {},
   "outputs": [
    {
     "data": {
      "text/plain": [
       "100000000"
      ]
     },
     "execution_count": 2,
     "metadata": {},
     "output_type": "execute_result"
    }
   ],
   "source": [
    "1\n",
    "2\n",
    "\n",
    "10000\n",
    "100_000_000  # separator pomocniczy"
   ]
  },
  {
   "cell_type": "code",
   "execution_count": 3,
   "id": "69894c32",
   "metadata": {},
   "outputs": [
    {
     "data": {
      "text/plain": [
       "0"
      ]
     },
     "execution_count": 3,
     "metadata": {},
     "output_type": "execute_result"
    }
   ],
   "source": [
    "int()"
   ]
  },
  {
   "cell_type": "code",
   "execution_count": 4,
   "id": "8f665c6f",
   "metadata": {},
   "outputs": [
    {
     "data": {
      "text/plain": [
       "100"
      ]
     },
     "execution_count": 4,
     "metadata": {},
     "output_type": "execute_result"
    }
   ],
   "source": [
    "int(\"100\")"
   ]
  },
  {
   "cell_type": "code",
   "execution_count": 5,
   "id": "5c99efa4",
   "metadata": {},
   "outputs": [
    {
     "data": {
      "text/plain": [
       "str"
      ]
     },
     "execution_count": 5,
     "metadata": {},
     "output_type": "execute_result"
    }
   ],
   "source": [
    "type(\"100\")"
   ]
  },
  {
   "cell_type": "code",
   "execution_count": 6,
   "id": "b3e212af",
   "metadata": {},
   "outputs": [
    {
     "data": {
      "text/plain": [
       "int"
      ]
     },
     "execution_count": 6,
     "metadata": {},
     "output_type": "execute_result"
    }
   ],
   "source": [
    "type(int(\"100\"))"
   ]
  },
  {
   "cell_type": "code",
   "execution_count": 7,
   "id": "c48bc2bc",
   "metadata": {},
   "outputs": [
    {
     "data": {
      "text/plain": [
       "2"
      ]
     },
     "execution_count": 7,
     "metadata": {},
     "output_type": "execute_result"
    }
   ],
   "source": [
    "int(2.7)"
   ]
  },
  {
   "cell_type": "code",
   "execution_count": 9,
   "id": "6e7d2524",
   "metadata": {},
   "outputs": [
    {
     "ename": "ValueError",
     "evalue": "invalid literal for int() with base 10: '2.7'",
     "output_type": "error",
     "traceback": [
      "\u001b[1;31m---------------------------------------------------------------------------\u001b[0m",
      "\u001b[1;31mValueError\u001b[0m                                Traceback (most recent call last)",
      "\u001b[1;32mC:\\Users\\SZB345~1\\AppData\\Local\\Temp/ipykernel_4196/4095753669.py\u001b[0m in \u001b[0;36m<module>\u001b[1;34m\u001b[0m\n\u001b[1;32m----> 1\u001b[1;33m \u001b[0mint\u001b[0m\u001b[1;33m(\u001b[0m\u001b[1;34m\"2.7\"\u001b[0m\u001b[1;33m)\u001b[0m\u001b[1;33m\u001b[0m\u001b[1;33m\u001b[0m\u001b[0m\n\u001b[0m",
      "\u001b[1;31mValueError\u001b[0m: invalid literal for int() with base 10: '2.7'"
     ]
    }
   ],
   "source": [
    "int(\"2.7\")"
   ]
  },
  {
   "cell_type": "markdown",
   "id": "bf20e9f5",
   "metadata": {},
   "source": [
    "### float - liczby zmiennoprzecinkowe\n",
    "\n",
    "float"
   ]
  },
  {
   "cell_type": "code",
   "execution_count": 10,
   "id": "cbbfc536",
   "metadata": {},
   "outputs": [
    {
     "data": {
      "text/plain": [
       "1.0"
      ]
     },
     "execution_count": 10,
     "metadata": {},
     "output_type": "execute_result"
    }
   ],
   "source": [
    "float(1)"
   ]
  },
  {
   "cell_type": "code",
   "execution_count": 11,
   "id": "6907752a",
   "metadata": {},
   "outputs": [
    {
     "data": {
      "text/plain": [
       "False"
      ]
     },
     "execution_count": 11,
     "metadata": {},
     "output_type": "execute_result"
    }
   ],
   "source": [
    "0.1 + 0.1 + 0.1 == 0.3"
   ]
  },
  {
   "cell_type": "markdown",
   "id": "97274334",
   "metadata": {},
   "source": [
    "#### Operatory\n",
    "\n",
    "    + dodawanie\n",
    "    - odejmowanie\n",
    "    * mnożenie\n",
    "    / dzielenie\n",
    "    // dzielenie calkowite\n",
    "    % modulo - reszta z dzielenia\n",
    "    ** operator potegowania"
   ]
  },
  {
   "cell_type": "code",
   "execution_count": 12,
   "id": "41fbd185",
   "metadata": {},
   "outputs": [
    {
     "data": {
      "text/plain": [
       "3.3333333333333335"
      ]
     },
     "execution_count": 12,
     "metadata": {},
     "output_type": "execute_result"
    }
   ],
   "source": [
    "10 / 3"
   ]
  },
  {
   "cell_type": "code",
   "execution_count": 13,
   "id": "a5422974",
   "metadata": {},
   "outputs": [
    {
     "data": {
      "text/plain": [
       "3"
      ]
     },
     "execution_count": 13,
     "metadata": {},
     "output_type": "execute_result"
    }
   ],
   "source": [
    "10 // 3"
   ]
  },
  {
   "cell_type": "code",
   "execution_count": 14,
   "id": "9a21357c",
   "metadata": {},
   "outputs": [
    {
     "data": {
      "text/plain": [
       "1"
      ]
     },
     "execution_count": 14,
     "metadata": {},
     "output_type": "execute_result"
    }
   ],
   "source": [
    "10 % 3"
   ]
  },
  {
   "cell_type": "code",
   "execution_count": 15,
   "id": "5264cd0a",
   "metadata": {},
   "outputs": [
    {
     "data": {
      "text/plain": [
       "9"
      ]
     },
     "execution_count": 15,
     "metadata": {},
     "output_type": "execute_result"
    }
   ],
   "source": [
    "3 ** 2"
   ]
  },
  {
   "cell_type": "code",
   "execution_count": 16,
   "id": "789c130f",
   "metadata": {},
   "outputs": [
    {
     "data": {
      "text/plain": [
       "3.0"
      ]
     },
     "execution_count": 16,
     "metadata": {},
     "output_type": "execute_result"
    }
   ],
   "source": [
    "9 ** 0.5"
   ]
  },
  {
   "cell_type": "markdown",
   "id": "68fccaae",
   "metadata": {},
   "source": [
    "#### Zadanie\n",
    "W sesji interaktywnego środowiska interpretera oblicz następujące wartości:\n",
    "\n",
    "* pole trójkąta o podstawie 10 i wysokości 5\n",
    "* pole koła o promieniu 7\n",
    "* pole trapezu o długości podstaw 3 i 9 oraz wysokości 6.5 \n",
    "* objętość kuli o promieniu 7/8"
   ]
  },
  {
   "cell_type": "code",
   "execution_count": 1,
   "id": "88e3e011",
   "metadata": {},
   "outputs": [
    {
     "data": {
      "text/plain": [
       "25.0"
      ]
     },
     "execution_count": 1,
     "metadata": {},
     "output_type": "execute_result"
    }
   ],
   "source": [
    "0.5 * 10 * 5"
   ]
  },
  {
   "cell_type": "code",
   "execution_count": 2,
   "id": "a175bf26",
   "metadata": {},
   "outputs": [],
   "source": [
    "import math"
   ]
  },
  {
   "cell_type": "code",
   "execution_count": 4,
   "id": "738b3492",
   "metadata": {},
   "outputs": [
    {
     "data": {
      "text/plain": [
       "153.93804002589985"
      ]
     },
     "execution_count": 4,
     "metadata": {},
     "output_type": "execute_result"
    }
   ],
   "source": [
    "math.pi * 7 ** 2"
   ]
  },
  {
   "cell_type": "code",
   "execution_count": 5,
   "id": "0abba76e",
   "metadata": {},
   "outputs": [
    {
     "data": {
      "text/plain": [
       "39.0"
      ]
     },
     "execution_count": 5,
     "metadata": {},
     "output_type": "execute_result"
    }
   ],
   "source": [
    "(3 + 9) * 6.5 / 2"
   ]
  },
  {
   "cell_type": "code",
   "execution_count": 7,
   "id": "d1255821",
   "metadata": {},
   "outputs": [
    {
     "data": {
      "text/plain": [
       "2.806162187972133"
      ]
     },
     "execution_count": 7,
     "metadata": {},
     "output_type": "execute_result"
    }
   ],
   "source": [
    "(4 * math.pi * (7/8) ** 3) / 3"
   ]
  },
  {
   "cell_type": "markdown",
   "id": "c65157db",
   "metadata": {},
   "source": [
    "#### Zasady PEP8\n",
    "\n",
    "https://www.python.org/dev/peps/pep-0008/\n",
    "\n",
    "flake8\n",
    "\n",
    "black"
   ]
  },
  {
   "cell_type": "markdown",
   "id": "36ba309a",
   "metadata": {},
   "source": [
    "### bool\n",
    "\n",
    "False/True"
   ]
  },
  {
   "cell_type": "code",
   "execution_count": 8,
   "id": "37838900",
   "metadata": {},
   "outputs": [
    {
     "data": {
      "text/plain": [
       "False"
      ]
     },
     "execution_count": 8,
     "metadata": {},
     "output_type": "execute_result"
    }
   ],
   "source": [
    "False"
   ]
  },
  {
   "cell_type": "code",
   "execution_count": 9,
   "id": "280dc3b3",
   "metadata": {},
   "outputs": [
    {
     "data": {
      "text/plain": [
       "True"
      ]
     },
     "execution_count": 9,
     "metadata": {},
     "output_type": "execute_result"
    }
   ],
   "source": [
    "True"
   ]
  },
  {
   "cell_type": "markdown",
   "id": "57c263c5",
   "metadata": {},
   "source": [
    "#### Operatory porównania\n",
    "    \n",
    "    ==\n",
    "    !=\n",
    "    <\n",
    "    <=\n",
    "    >\n",
    "    >=\n",
    "    \n",
    "    inne operatory, które zwrócą wartość True/ False, to\n",
    "    \n",
    "    in\n",
    "    is"
   ]
  },
  {
   "cell_type": "code",
   "execution_count": 11,
   "id": "90835b0f",
   "metadata": {},
   "outputs": [
    {
     "data": {
      "text/plain": [
       "True"
      ]
     },
     "execution_count": 11,
     "metadata": {},
     "output_type": "execute_result"
    }
   ],
   "source": [
    "1 * 2 == 6 / 3"
   ]
  },
  {
   "cell_type": "code",
   "execution_count": 12,
   "id": "b3cda643",
   "metadata": {},
   "outputs": [
    {
     "data": {
      "text/plain": [
       "False"
      ]
     },
     "execution_count": 12,
     "metadata": {},
     "output_type": "execute_result"
    }
   ],
   "source": [
    "1 * 2 == 3 / 2"
   ]
  },
  {
   "cell_type": "markdown",
   "id": "70be8281",
   "metadata": {},
   "source": [
    "#### Operatory logiczne\n",
    "\n",
    "    and - koniunkcja\n",
    "    or - alternatywa\n",
    "    not - negacja"
   ]
  },
  {
   "cell_type": "code",
   "execution_count": 13,
   "id": "50503f66",
   "metadata": {},
   "outputs": [
    {
     "data": {
      "text/plain": [
       "True"
      ]
     },
     "execution_count": 13,
     "metadata": {},
     "output_type": "execute_result"
    }
   ],
   "source": [
    "False or True"
   ]
  },
  {
   "cell_type": "code",
   "execution_count": 14,
   "id": "b6f1e078",
   "metadata": {},
   "outputs": [
    {
     "data": {
      "text/plain": [
       "False"
      ]
     },
     "execution_count": 14,
     "metadata": {},
     "output_type": "execute_result"
    }
   ],
   "source": [
    "False and True"
   ]
  },
  {
   "cell_type": "code",
   "execution_count": 15,
   "id": "12f48b9d",
   "metadata": {},
   "outputs": [
    {
     "data": {
      "text/plain": [
       "True"
      ]
     },
     "execution_count": 15,
     "metadata": {},
     "output_type": "execute_result"
    }
   ],
   "source": [
    "not False"
   ]
  },
  {
   "cell_type": "code",
   "execution_count": 16,
   "id": "1b74313e",
   "metadata": {},
   "outputs": [
    {
     "data": {
      "text/plain": [
       "True"
      ]
     },
     "execution_count": 16,
     "metadata": {},
     "output_type": "execute_result"
    }
   ],
   "source": [
    "1 * 2 == 3 / 2 or 3 > 2"
   ]
  },
  {
   "cell_type": "code",
   "execution_count": 17,
   "id": "64faea60",
   "metadata": {},
   "outputs": [
    {
     "data": {
      "text/plain": [
       "False"
      ]
     },
     "execution_count": 17,
     "metadata": {},
     "output_type": "execute_result"
    }
   ],
   "source": [
    "1 * 2 == 3 / 2 and 3 > 2"
   ]
  },
  {
   "cell_type": "code",
   "execution_count": 18,
   "id": "ea9d001b",
   "metadata": {},
   "outputs": [
    {
     "data": {
      "text/plain": [
       "True"
      ]
     },
     "execution_count": 18,
     "metadata": {},
     "output_type": "execute_result"
    }
   ],
   "source": [
    "1 == 1.0"
   ]
  },
  {
   "cell_type": "code",
   "execution_count": 19,
   "id": "b3cc0001",
   "metadata": {},
   "outputs": [
    {
     "data": {
      "text/plain": [
       "False"
      ]
     },
     "execution_count": 19,
     "metadata": {},
     "output_type": "execute_result"
    }
   ],
   "source": [
    "1 == \"1\""
   ]
  },
  {
   "cell_type": "code",
   "execution_count": 20,
   "id": "8fc38de6",
   "metadata": {},
   "outputs": [
    {
     "data": {
      "text/plain": [
       "True"
      ]
     },
     "execution_count": 20,
     "metadata": {},
     "output_type": "execute_result"
    }
   ],
   "source": [
    "1 == True"
   ]
  },
  {
   "cell_type": "code",
   "execution_count": 21,
   "id": "c6f4e933",
   "metadata": {},
   "outputs": [
    {
     "data": {
      "text/plain": [
       "2"
      ]
     },
     "execution_count": 21,
     "metadata": {},
     "output_type": "execute_result"
    }
   ],
   "source": [
    "1 + True"
   ]
  },
  {
   "cell_type": "code",
   "execution_count": 22,
   "id": "b4c0e0d9",
   "metadata": {},
   "outputs": [
    {
     "name": "stderr",
     "output_type": "stream",
     "text": [
      "<>:1: SyntaxWarning: \"is\" with a literal. Did you mean \"==\"?\n",
      "<>:1: SyntaxWarning: \"is\" with a literal. Did you mean \"==\"?\n",
      "C:\\Users\\SZB345~1\\AppData\\Local\\Temp/ipykernel_11844/3482963539.py:1: SyntaxWarning: \"is\" with a literal. Did you mean \"==\"?\n",
      "  1 is True\n"
     ]
    },
    {
     "data": {
      "text/plain": [
       "False"
      ]
     },
     "execution_count": 22,
     "metadata": {},
     "output_type": "execute_result"
    }
   ],
   "source": [
    "1 is True"
   ]
  },
  {
   "cell_type": "code",
   "execution_count": 23,
   "id": "255846cf",
   "metadata": {},
   "outputs": [
    {
     "data": {
      "text/plain": [
       "3035582890224"
      ]
     },
     "execution_count": 23,
     "metadata": {},
     "output_type": "execute_result"
    }
   ],
   "source": [
    "id(1)"
   ]
  },
  {
   "cell_type": "code",
   "execution_count": 24,
   "id": "2971b4e4",
   "metadata": {},
   "outputs": [
    {
     "data": {
      "text/plain": [
       "140725254495080"
      ]
     },
     "execution_count": 24,
     "metadata": {},
     "output_type": "execute_result"
    }
   ],
   "source": [
    "id(True)"
   ]
  },
  {
   "cell_type": "code",
   "execution_count": 25,
   "id": "aa555bcf",
   "metadata": {},
   "outputs": [
    {
     "data": {
      "text/plain": [
       "0"
      ]
     },
     "execution_count": 25,
     "metadata": {},
     "output_type": "execute_result"
    }
   ],
   "source": [
    "int(False)"
   ]
  },
  {
   "cell_type": "code",
   "execution_count": 130,
   "id": "80645ce9",
   "metadata": {},
   "outputs": [
    {
     "data": {
      "text/plain": [
       "0.0"
      ]
     },
     "execution_count": 130,
     "metadata": {},
     "output_type": "execute_result"
    }
   ],
   "source": [
    "float(False)"
   ]
  },
  {
   "cell_type": "code",
   "execution_count": 134,
   "id": "0ca163c8",
   "metadata": {},
   "outputs": [
    {
     "data": {
      "text/plain": [
       "3.033054890961142e+17"
      ]
     },
     "execution_count": 134,
     "metadata": {},
     "output_type": "execute_result"
    }
   ],
   "source": [
    "56.0 ** 10"
   ]
  },
  {
   "cell_type": "code",
   "execution_count": 135,
   "id": "545ceca7",
   "metadata": {},
   "outputs": [
    {
     "data": {
      "text/plain": [
       "123"
      ]
     },
     "execution_count": 135,
     "metadata": {},
     "output_type": "execute_result"
    }
   ],
   "source": [
    "123"
   ]
  },
  {
   "cell_type": "code",
   "execution_count": 140,
   "id": "5ba7ed6e",
   "metadata": {},
   "outputs": [
    {
     "data": {
      "text/plain": [
       "43"
      ]
     },
     "execution_count": 140,
     "metadata": {},
     "output_type": "execute_result"
    }
   ],
   "source": [
    "0b101011"
   ]
  },
  {
   "cell_type": "code",
   "execution_count": 141,
   "id": "93fc4364",
   "metadata": {},
   "outputs": [
    {
     "data": {
      "text/plain": [
       "4095"
      ]
     },
     "execution_count": 141,
     "metadata": {},
     "output_type": "execute_result"
    }
   ],
   "source": [
    "0xfff"
   ]
  },
  {
   "cell_type": "code",
   "execution_count": 142,
   "id": "9da010fd",
   "metadata": {},
   "outputs": [
    {
     "data": {
      "text/plain": [
       "511"
      ]
     },
     "execution_count": 142,
     "metadata": {},
     "output_type": "execute_result"
    }
   ],
   "source": [
    "0o777"
   ]
  },
  {
   "cell_type": "code",
   "execution_count": 143,
   "id": "13ffdc36",
   "metadata": {},
   "outputs": [
    {
     "name": "stdout",
     "output_type": "stream",
     "text": [
      "Help on class int in module builtins:\n",
      "\n",
      "class int(object)\n",
      " |  int([x]) -> integer\n",
      " |  int(x, base=10) -> integer\n",
      " |  \n",
      " |  Convert a number or string to an integer, or return 0 if no arguments\n",
      " |  are given.  If x is a number, return x.__int__().  For floating point\n",
      " |  numbers, this truncates towards zero.\n",
      " |  \n",
      " |  If x is not a number or if base is given, then x must be a string,\n",
      " |  bytes, or bytearray instance representing an integer literal in the\n",
      " |  given base.  The literal can be preceded by '+' or '-' and be surrounded\n",
      " |  by whitespace.  The base defaults to 10.  Valid bases are 0 and 2-36.\n",
      " |  Base 0 means to interpret the base from the string as an integer literal.\n",
      " |  >>> int('0b100', base=0)\n",
      " |  4\n",
      " |  \n",
      " |  Built-in subclasses:\n",
      " |      bool\n",
      " |  \n",
      " |  Methods defined here:\n",
      " |  \n",
      " |  __abs__(self, /)\n",
      " |      abs(self)\n",
      " |  \n",
      " |  __add__(self, value, /)\n",
      " |      Return self+value.\n",
      " |  \n",
      " |  __and__(self, value, /)\n",
      " |      Return self&value.\n",
      " |  \n",
      " |  __bool__(self, /)\n",
      " |      self != 0\n",
      " |  \n",
      " |  __ceil__(...)\n",
      " |      Ceiling of an Integral returns itself.\n",
      " |  \n",
      " |  __divmod__(self, value, /)\n",
      " |      Return divmod(self, value).\n",
      " |  \n",
      " |  __eq__(self, value, /)\n",
      " |      Return self==value.\n",
      " |  \n",
      " |  __float__(self, /)\n",
      " |      float(self)\n",
      " |  \n",
      " |  __floor__(...)\n",
      " |      Flooring an Integral returns itself.\n",
      " |  \n",
      " |  __floordiv__(self, value, /)\n",
      " |      Return self//value.\n",
      " |  \n",
      " |  __format__(self, format_spec, /)\n",
      " |      Default object formatter.\n",
      " |  \n",
      " |  __ge__(self, value, /)\n",
      " |      Return self>=value.\n",
      " |  \n",
      " |  __getattribute__(self, name, /)\n",
      " |      Return getattr(self, name).\n",
      " |  \n",
      " |  __getnewargs__(self, /)\n",
      " |  \n",
      " |  __gt__(self, value, /)\n",
      " |      Return self>value.\n",
      " |  \n",
      " |  __hash__(self, /)\n",
      " |      Return hash(self).\n",
      " |  \n",
      " |  __index__(self, /)\n",
      " |      Return self converted to an integer, if self is suitable for use as an index into a list.\n",
      " |  \n",
      " |  __int__(self, /)\n",
      " |      int(self)\n",
      " |  \n",
      " |  __invert__(self, /)\n",
      " |      ~self\n",
      " |  \n",
      " |  __le__(self, value, /)\n",
      " |      Return self<=value.\n",
      " |  \n",
      " |  __lshift__(self, value, /)\n",
      " |      Return self<<value.\n",
      " |  \n",
      " |  __lt__(self, value, /)\n",
      " |      Return self<value.\n",
      " |  \n",
      " |  __mod__(self, value, /)\n",
      " |      Return self%value.\n",
      " |  \n",
      " |  __mul__(self, value, /)\n",
      " |      Return self*value.\n",
      " |  \n",
      " |  __ne__(self, value, /)\n",
      " |      Return self!=value.\n",
      " |  \n",
      " |  __neg__(self, /)\n",
      " |      -self\n",
      " |  \n",
      " |  __or__(self, value, /)\n",
      " |      Return self|value.\n",
      " |  \n",
      " |  __pos__(self, /)\n",
      " |      +self\n",
      " |  \n",
      " |  __pow__(self, value, mod=None, /)\n",
      " |      Return pow(self, value, mod).\n",
      " |  \n",
      " |  __radd__(self, value, /)\n",
      " |      Return value+self.\n",
      " |  \n",
      " |  __rand__(self, value, /)\n",
      " |      Return value&self.\n",
      " |  \n",
      " |  __rdivmod__(self, value, /)\n",
      " |      Return divmod(value, self).\n",
      " |  \n",
      " |  __repr__(self, /)\n",
      " |      Return repr(self).\n",
      " |  \n",
      " |  __rfloordiv__(self, value, /)\n",
      " |      Return value//self.\n",
      " |  \n",
      " |  __rlshift__(self, value, /)\n",
      " |      Return value<<self.\n",
      " |  \n",
      " |  __rmod__(self, value, /)\n",
      " |      Return value%self.\n",
      " |  \n",
      " |  __rmul__(self, value, /)\n",
      " |      Return value*self.\n",
      " |  \n",
      " |  __ror__(self, value, /)\n",
      " |      Return value|self.\n",
      " |  \n",
      " |  __round__(...)\n",
      " |      Rounding an Integral returns itself.\n",
      " |      \n",
      " |      Rounding with an ndigits argument also returns an integer.\n",
      " |  \n",
      " |  __rpow__(self, value, mod=None, /)\n",
      " |      Return pow(value, self, mod).\n",
      " |  \n",
      " |  __rrshift__(self, value, /)\n",
      " |      Return value>>self.\n",
      " |  \n",
      " |  __rshift__(self, value, /)\n",
      " |      Return self>>value.\n",
      " |  \n",
      " |  __rsub__(self, value, /)\n",
      " |      Return value-self.\n",
      " |  \n",
      " |  __rtruediv__(self, value, /)\n",
      " |      Return value/self.\n",
      " |  \n",
      " |  __rxor__(self, value, /)\n",
      " |      Return value^self.\n",
      " |  \n",
      " |  __sizeof__(self, /)\n",
      " |      Returns size in memory, in bytes.\n",
      " |  \n",
      " |  __sub__(self, value, /)\n",
      " |      Return self-value.\n",
      " |  \n",
      " |  __truediv__(self, value, /)\n",
      " |      Return self/value.\n",
      " |  \n",
      " |  __trunc__(...)\n",
      " |      Truncating an Integral returns itself.\n",
      " |  \n",
      " |  __xor__(self, value, /)\n",
      " |      Return self^value.\n",
      " |  \n",
      " |  as_integer_ratio(self, /)\n",
      " |      Return integer ratio.\n",
      " |      \n",
      " |      Return a pair of integers, whose ratio is exactly equal to the original int\n",
      " |      and with a positive denominator.\n",
      " |      \n",
      " |      >>> (10).as_integer_ratio()\n",
      " |      (10, 1)\n",
      " |      >>> (-10).as_integer_ratio()\n",
      " |      (-10, 1)\n",
      " |      >>> (0).as_integer_ratio()\n",
      " |      (0, 1)\n",
      " |  \n",
      " |  bit_count(self, /)\n",
      " |      Number of ones in the binary representation of the absolute value of self.\n",
      " |      \n",
      " |      Also known as the population count.\n",
      " |      \n",
      " |      >>> bin(13)\n",
      " |      '0b1101'\n",
      " |      >>> (13).bit_count()\n",
      " |      3\n",
      " |  \n",
      " |  bit_length(self, /)\n",
      " |      Number of bits necessary to represent self in binary.\n",
      " |      \n",
      " |      >>> bin(37)\n",
      " |      '0b100101'\n",
      " |      >>> (37).bit_length()\n",
      " |      6\n",
      " |  \n",
      " |  conjugate(...)\n",
      " |      Returns self, the complex conjugate of any int.\n",
      " |  \n",
      " |  to_bytes(self, /, length, byteorder, *, signed=False)\n",
      " |      Return an array of bytes representing an integer.\n",
      " |      \n",
      " |      length\n",
      " |        Length of bytes object to use.  An OverflowError is raised if the\n",
      " |        integer is not representable with the given number of bytes.\n",
      " |      byteorder\n",
      " |        The byte order used to represent the integer.  If byteorder is 'big',\n",
      " |        the most significant byte is at the beginning of the byte array.  If\n",
      " |        byteorder is 'little', the most significant byte is at the end of the\n",
      " |        byte array.  To request the native byte order of the host system, use\n",
      " |        `sys.byteorder' as the byte order value.\n",
      " |      signed\n",
      " |        Determines whether two's complement is used to represent the integer.\n",
      " |        If signed is False and a negative integer is given, an OverflowError\n",
      " |        is raised.\n",
      " |  \n",
      " |  ----------------------------------------------------------------------\n",
      " |  Class methods defined here:\n",
      " |  \n",
      " |  from_bytes(bytes, byteorder, *, signed=False) from builtins.type\n",
      " |      Return the integer represented by the given array of bytes.\n",
      " |      \n",
      " |      bytes\n",
      " |        Holds the array of bytes to convert.  The argument must either\n",
      " |        support the buffer protocol or be an iterable object producing bytes.\n",
      " |        Bytes and bytearray are examples of built-in objects that support the\n",
      " |        buffer protocol.\n",
      " |      byteorder\n",
      " |        The byte order used to represent the integer.  If byteorder is 'big',\n",
      " |        the most significant byte is at the beginning of the byte array.  If\n",
      " |        byteorder is 'little', the most significant byte is at the end of the\n",
      " |        byte array.  To request the native byte order of the host system, use\n",
      " |        `sys.byteorder' as the byte order value.\n",
      " |      signed\n",
      " |        Indicates whether two's complement is used to represent the integer.\n",
      " |  \n",
      " |  ----------------------------------------------------------------------\n",
      " |  Static methods defined here:\n",
      " |  \n",
      " |  __new__(*args, **kwargs) from builtins.type\n",
      " |      Create and return a new object.  See help(type) for accurate signature.\n",
      " |  \n",
      " |  ----------------------------------------------------------------------\n",
      " |  Data descriptors defined here:\n",
      " |  \n",
      " |  denominator\n",
      " |      the denominator of a rational number in lowest terms\n",
      " |  \n",
      " |  imag\n",
      " |      the imaginary part of a complex number\n",
      " |  \n",
      " |  numerator\n",
      " |      the numerator of a rational number in lowest terms\n",
      " |  \n",
      " |  real\n",
      " |      the real part of a complex number\n",
      "\n"
     ]
    }
   ],
   "source": [
    "help(int)"
   ]
  },
  {
   "cell_type": "code",
   "execution_count": 144,
   "id": "2e988044",
   "metadata": {},
   "outputs": [
    {
     "data": {
      "text/plain": [
       "26"
      ]
     },
     "execution_count": 144,
     "metadata": {},
     "output_type": "execute_result"
    }
   ],
   "source": [
    "int('222', base=3)"
   ]
  },
  {
   "cell_type": "markdown",
   "id": "5110a5c3",
   "metadata": {},
   "source": [
    "### complex"
   ]
  },
  {
   "cell_type": "code",
   "execution_count": 127,
   "id": "1c6f2e4a",
   "metadata": {},
   "outputs": [
    {
     "data": {
      "text/plain": [
       "0j"
      ]
     },
     "execution_count": 127,
     "metadata": {},
     "output_type": "execute_result"
    }
   ],
   "source": [
    "complex()"
   ]
  },
  {
   "cell_type": "code",
   "execution_count": 129,
   "id": "e6a09061",
   "metadata": {},
   "outputs": [
    {
     "data": {
      "text/plain": [
       "(3+7j)"
      ]
     },
     "execution_count": 129,
     "metadata": {},
     "output_type": "execute_result"
    }
   ],
   "source": [
    "1 + 3j + 2 + 4j"
   ]
  },
  {
   "cell_type": "markdown",
   "id": "e48742b9",
   "metadata": {},
   "source": [
    "### str - napis"
   ]
  },
  {
   "cell_type": "code",
   "execution_count": null,
   "id": "5cadec39",
   "metadata": {},
   "outputs": [],
   "source": []
  },
  {
   "cell_type": "code",
   "execution_count": 27,
   "id": "1882a977",
   "metadata": {},
   "outputs": [
    {
     "data": {
      "text/plain": [
       "'to jest napis'"
      ]
     },
     "execution_count": 27,
     "metadata": {},
     "output_type": "execute_result"
    }
   ],
   "source": [
    "\"to jest napis\""
   ]
  },
  {
   "cell_type": "code",
   "execution_count": 28,
   "id": "9da4838c",
   "metadata": {},
   "outputs": [
    {
     "data": {
      "text/plain": [
       "'to jest napis'"
      ]
     },
     "execution_count": 28,
     "metadata": {},
     "output_type": "execute_result"
    }
   ],
   "source": [
    "'to jest napis'"
   ]
  },
  {
   "cell_type": "code",
   "execution_count": 29,
   "id": "1acd42ff",
   "metadata": {},
   "outputs": [
    {
     "data": {
      "text/plain": [
       "\"to 'jest' napis\""
      ]
     },
     "execution_count": 29,
     "metadata": {},
     "output_type": "execute_result"
    }
   ],
   "source": [
    "\"to 'jest' napis\""
   ]
  },
  {
   "cell_type": "code",
   "execution_count": 30,
   "id": "ca58e610",
   "metadata": {},
   "outputs": [
    {
     "data": {
      "text/plain": [
       "'to \"jest\" napis'"
      ]
     },
     "execution_count": 30,
     "metadata": {},
     "output_type": "execute_result"
    }
   ],
   "source": [
    "'to \"jest\" napis'"
   ]
  },
  {
   "cell_type": "code",
   "execution_count": 31,
   "id": "c4c57bca",
   "metadata": {},
   "outputs": [
    {
     "data": {
      "text/plain": [
       "'to \"jest\" napis'"
      ]
     },
     "execution_count": 31,
     "metadata": {},
     "output_type": "execute_result"
    }
   ],
   "source": [
    "\"to \\\"jest\\\" napis\""
   ]
  },
  {
   "cell_type": "code",
   "execution_count": 32,
   "id": "0bf58f72",
   "metadata": {},
   "outputs": [
    {
     "ename": "SyntaxError",
     "evalue": "invalid syntax (Temp/ipykernel_11844/739905611.py, line 1)",
     "output_type": "error",
     "traceback": [
      "\u001b[1;36m  File \u001b[1;32m\"C:\\Users\\SZB345~1\\AppData\\Local\\Temp/ipykernel_11844/739905611.py\"\u001b[1;36m, line \u001b[1;32m1\u001b[0m\n\u001b[1;33m    \"to \"jest\" napis\"\u001b[0m\n\u001b[1;37m         ^\u001b[0m\n\u001b[1;31mSyntaxError\u001b[0m\u001b[1;31m:\u001b[0m invalid syntax\n"
     ]
    }
   ],
   "source": [
    "\"to \"jest\" napis\""
   ]
  },
  {
   "cell_type": "code",
   "execution_count": 33,
   "id": "e37eea22",
   "metadata": {},
   "outputs": [
    {
     "data": {
      "text/plain": [
       "'napisnapis1'"
      ]
     },
     "execution_count": 33,
     "metadata": {},
     "output_type": "execute_result"
    }
   ],
   "source": [
    "\"napis\" + \"napis1\""
   ]
  },
  {
   "cell_type": "code",
   "execution_count": 36,
   "id": "f3a81733",
   "metadata": {},
   "outputs": [
    {
     "data": {
      "text/plain": [
       "'linia 1\\nlinia 2'"
      ]
     },
     "execution_count": 36,
     "metadata": {},
     "output_type": "execute_result"
    }
   ],
   "source": [
    "'linia 1\\n' + 'linia 2' "
   ]
  },
  {
   "cell_type": "code",
   "execution_count": 37,
   "id": "d5b3b1b3",
   "metadata": {},
   "outputs": [
    {
     "name": "stdout",
     "output_type": "stream",
     "text": [
      "linia 1\n",
      "linia 2\n"
     ]
    }
   ],
   "source": [
    "print('linia 1\\n' + 'linia 2')"
   ]
  },
  {
   "cell_type": "code",
   "execution_count": 38,
   "id": "a70bcfd9",
   "metadata": {},
   "outputs": [
    {
     "data": {
      "text/plain": [
       "'\\nlinia1\\nlinia2\\n'"
      ]
     },
     "execution_count": 38,
     "metadata": {},
     "output_type": "execute_result"
    }
   ],
   "source": [
    "'''\n",
    "linia1\n",
    "linia2\n",
    "'''"
   ]
  },
  {
   "cell_type": "code",
   "execution_count": 39,
   "id": "28909b26",
   "metadata": {},
   "outputs": [
    {
     "data": {
      "text/plain": [
       "'\\nlinia1\\nlinia2\\n'"
      ]
     },
     "execution_count": 39,
     "metadata": {},
     "output_type": "execute_result"
    }
   ],
   "source": [
    "\"\"\"\n",
    "linia1\n",
    "linia2\n",
    "\"\"\""
   ]
  },
  {
   "cell_type": "markdown",
   "id": "ca730880",
   "metadata": {},
   "source": [
    "### Zmienne\n",
    "\n",
    "Typowanie dynamiczne ( w odróżnieniu od statycznego)\n"
   ]
  },
  {
   "cell_type": "code",
   "execution_count": 40,
   "id": "f731fb15",
   "metadata": {},
   "outputs": [],
   "source": [
    "a = 1  # komentarz\n",
    "a = 2.3 # komentowanie blokow ctrl + /\n",
    "a = \"a\"\n",
    "\n",
    "\"\"\"\n",
    "To czasem tez jest uwazane za komentarz\n",
    "\"\"\""
   ]
  },
  {
   "cell_type": "code",
   "execution_count": 41,
   "id": "d3f2c438",
   "metadata": {},
   "outputs": [],
   "source": [
    "a: str = \"New\""
   ]
  },
  {
   "cell_type": "markdown",
   "id": "d3eb3af8",
   "metadata": {},
   "source": [
    "mypy -  http://mypy-lang.org/"
   ]
  },
  {
   "cell_type": "markdown",
   "id": "82e26f59",
   "metadata": {},
   "source": [
    "nazwy zmiennych piszemy malymi literami\n",
    "moga to byc litery cyfry i znak podkreslenia\n",
    "\n",
    "\n",
    "    Dobre nazwy\n",
    "    nazwa_zmiennej\n",
    "    _nazwa_zmiennej\n",
    "    ser_1\n",
    "    \n",
    "    \n",
    "    zle nazwy:\n",
    "    \n",
    "    bledy:\n",
    "    1nazwa\n",
    "    nazwa.1\n",
    "    \n",
    "    zla praktyka:\n",
    "    nazwaZmiennej\n",
    "    NazwaZmiennej\n",
    "    \n",
    "    "
   ]
  },
  {
   "cell_type": "code",
   "execution_count": 42,
   "id": "817463f0",
   "metadata": {},
   "outputs": [],
   "source": [
    "zmienna = \"napis\"\n",
    "x = zmienna"
   ]
  },
  {
   "cell_type": "code",
   "execution_count": 43,
   "id": "3a223f98",
   "metadata": {},
   "outputs": [
    {
     "data": {
      "text/plain": [
       "True"
      ]
     },
     "execution_count": 43,
     "metadata": {},
     "output_type": "execute_result"
    }
   ],
   "source": [
    "x == zmienna"
   ]
  },
  {
   "cell_type": "code",
   "execution_count": 44,
   "id": "5b86072c",
   "metadata": {},
   "outputs": [
    {
     "data": {
      "text/plain": [
       "True"
      ]
     },
     "execution_count": 44,
     "metadata": {},
     "output_type": "execute_result"
    }
   ],
   "source": [
    "x is zmienna"
   ]
  },
  {
   "cell_type": "code",
   "execution_count": 45,
   "id": "add5ef78",
   "metadata": {},
   "outputs": [
    {
     "data": {
      "text/plain": [
       "3035680511792"
      ]
     },
     "execution_count": 45,
     "metadata": {},
     "output_type": "execute_result"
    }
   ],
   "source": [
    "id(x)"
   ]
  },
  {
   "cell_type": "code",
   "execution_count": 46,
   "id": "90a7af2f",
   "metadata": {},
   "outputs": [
    {
     "data": {
      "text/plain": [
       "3035680511792"
      ]
     },
     "execution_count": 46,
     "metadata": {},
     "output_type": "execute_result"
    }
   ],
   "source": [
    "id(zmienna)"
   ]
  },
  {
   "cell_type": "code",
   "execution_count": 47,
   "id": "96fc7f59",
   "metadata": {},
   "outputs": [],
   "source": [
    "zmienna2 = \"napis dluższy\"\n",
    "x = zmienna2\n"
   ]
  },
  {
   "cell_type": "code",
   "execution_count": 48,
   "id": "d68e7798",
   "metadata": {},
   "outputs": [
    {
     "data": {
      "text/plain": [
       "True"
      ]
     },
     "execution_count": 48,
     "metadata": {},
     "output_type": "execute_result"
    }
   ],
   "source": [
    "zmienna2 == x"
   ]
  },
  {
   "cell_type": "code",
   "execution_count": 49,
   "id": "e8844f35",
   "metadata": {},
   "outputs": [
    {
     "data": {
      "text/plain": [
       "True"
      ]
     },
     "execution_count": 49,
     "metadata": {},
     "output_type": "execute_result"
    }
   ],
   "source": [
    "zmienna2 is x"
   ]
  },
  {
   "cell_type": "code",
   "execution_count": 50,
   "id": "bfdbcacd",
   "metadata": {},
   "outputs": [
    {
     "data": {
      "text/plain": [
       "3035680511792"
      ]
     },
     "execution_count": 50,
     "metadata": {},
     "output_type": "execute_result"
    }
   ],
   "source": [
    "zmienna3 = \"napis\"\n",
    "id(zmienna3)"
   ]
  },
  {
   "cell_type": "code",
   "execution_count": 51,
   "id": "cdf87e49",
   "metadata": {},
   "outputs": [],
   "source": [
    "zmienna4 = \"napis dluższy\""
   ]
  },
  {
   "cell_type": "code",
   "execution_count": 52,
   "id": "e1c7176f",
   "metadata": {},
   "outputs": [
    {
     "data": {
      "text/plain": [
       "True"
      ]
     },
     "execution_count": 52,
     "metadata": {},
     "output_type": "execute_result"
    }
   ],
   "source": [
    "zmienna2 == zmienna4"
   ]
  },
  {
   "cell_type": "code",
   "execution_count": 53,
   "id": "55c194e1",
   "metadata": {},
   "outputs": [
    {
     "data": {
      "text/plain": [
       "False"
      ]
     },
     "execution_count": 53,
     "metadata": {},
     "output_type": "execute_result"
    }
   ],
   "source": [
    "zmienna2 is zmienna4"
   ]
  },
  {
   "cell_type": "code",
   "execution_count": 54,
   "id": "6c4af241",
   "metadata": {},
   "outputs": [
    {
     "data": {
      "text/plain": [
       "3035681112560"
      ]
     },
     "execution_count": 54,
     "metadata": {},
     "output_type": "execute_result"
    }
   ],
   "source": [
    "id(zmienna2)"
   ]
  },
  {
   "cell_type": "code",
   "execution_count": 55,
   "id": "68a17cee",
   "metadata": {},
   "outputs": [
    {
     "data": {
      "text/plain": [
       "3035681113120"
      ]
     },
     "execution_count": 55,
     "metadata": {},
     "output_type": "execute_result"
    }
   ],
   "source": [
    "id(zmienna4)"
   ]
  },
  {
   "cell_type": "code",
   "execution_count": 56,
   "id": "7164fea6",
   "metadata": {},
   "outputs": [
    {
     "data": {
      "text/plain": [
       "True"
      ]
     },
     "execution_count": 56,
     "metadata": {},
     "output_type": "execute_result"
    }
   ],
   "source": [
    "a = 1\n",
    "b = 1\n",
    "\n",
    "a is b"
   ]
  },
  {
   "cell_type": "code",
   "execution_count": 57,
   "id": "361f1ad3",
   "metadata": {},
   "outputs": [
    {
     "data": {
      "text/plain": [
       "False"
      ]
     },
     "execution_count": 57,
     "metadata": {},
     "output_type": "execute_result"
    }
   ],
   "source": [
    "a = 10000001\n",
    "b = 10000001\n",
    "\n",
    "a is b"
   ]
  },
  {
   "cell_type": "markdown",
   "id": "64210082",
   "metadata": {},
   "source": [
    "#### Funkcja print\n",
    "\n"
   ]
  },
  {
   "cell_type": "code",
   "execution_count": 58,
   "id": "d000de49",
   "metadata": {},
   "outputs": [
    {
     "name": "stdout",
     "output_type": "stream",
     "text": [
      "Help on built-in function print in module builtins:\n",
      "\n",
      "print(...)\n",
      "    print(value, ..., sep=' ', end='\\n', file=sys.stdout, flush=False)\n",
      "    \n",
      "    Prints the values to a stream, or to sys.stdout by default.\n",
      "    Optional keyword arguments:\n",
      "    file:  a file-like object (stream); defaults to the current sys.stdout.\n",
      "    sep:   string inserted between values, default a space.\n",
      "    end:   string appended after the last value, default a newline.\n",
      "    flush: whether to forcibly flush the stream.\n",
      "\n"
     ]
    }
   ],
   "source": [
    "help(print)"
   ]
  },
  {
   "cell_type": "code",
   "execution_count": 59,
   "id": "8bdd3933",
   "metadata": {},
   "outputs": [
    {
     "name": "stdout",
     "output_type": "stream",
     "text": [
      "\n"
     ]
    }
   ],
   "source": [
    "print()"
   ]
  },
  {
   "cell_type": "code",
   "execution_count": 60,
   "id": "82426a64",
   "metadata": {},
   "outputs": [
    {
     "name": "stdout",
     "output_type": "stream",
     "text": [
      "1 2 3 4\n"
     ]
    }
   ],
   "source": [
    "print(1, 2, 3, 4)"
   ]
  },
  {
   "cell_type": "code",
   "execution_count": 65,
   "id": "2f1b38fc",
   "metadata": {},
   "outputs": [
    {
     "name": "stdout",
     "output_type": "stream",
     "text": [
      "1 2 3 4\n"
     ]
    }
   ],
   "source": [
    "print(1, 2, \"3\", 4)"
   ]
  },
  {
   "cell_type": "code",
   "execution_count": 70,
   "id": "30223851",
   "metadata": {},
   "outputs": [
    {
     "name": "stdout",
     "output_type": "stream",
     "text": [
      "1\n"
     ]
    }
   ],
   "source": [
    "print(str(1))"
   ]
  },
  {
   "cell_type": "code",
   "execution_count": 73,
   "id": "083dbd51",
   "metadata": {},
   "outputs": [
    {
     "name": "stdout",
     "output_type": "stream",
     "text": [
      "10\n",
      "20\n"
     ]
    }
   ],
   "source": [
    "print(10)\n",
    "print(20)"
   ]
  },
  {
   "cell_type": "code",
   "execution_count": 76,
   "id": "4f5b021f",
   "metadata": {},
   "outputs": [
    {
     "name": "stdout",
     "output_type": "stream",
     "text": [
      "10-20\n"
     ]
    }
   ],
   "source": [
    "print(10, end=\"-\")\n",
    "print(20)"
   ]
  },
  {
   "cell_type": "code",
   "execution_count": 78,
   "id": "70b9ee5a",
   "metadata": {},
   "outputs": [
    {
     "name": "stdout",
     "output_type": "stream",
     "text": [
      "1:2:3:4\n"
     ]
    }
   ],
   "source": [
    "print(1, 2, 3, 4, sep=\":\")"
   ]
  },
  {
   "cell_type": "code",
   "execution_count": 79,
   "id": "997886f8",
   "metadata": {},
   "outputs": [
    {
     "ename": "SyntaxError",
     "evalue": "positional argument follows keyword argument (Temp/ipykernel_11844/1238163101.py, line 1)",
     "output_type": "error",
     "traceback": [
      "\u001b[1;36m  File \u001b[1;32m\"C:\\Users\\SZB345~1\\AppData\\Local\\Temp/ipykernel_11844/1238163101.py\"\u001b[1;36m, line \u001b[1;32m1\u001b[0m\n\u001b[1;33m    print(end=\"-\", 1)\u001b[0m\n\u001b[1;37m                    ^\u001b[0m\n\u001b[1;31mSyntaxError\u001b[0m\u001b[1;31m:\u001b[0m positional argument follows keyword argument\n"
     ]
    }
   ],
   "source": [
    "print(end=\"-\", 1)  # kolejnosc ma znaczenie"
   ]
  },
  {
   "cell_type": "markdown",
   "id": "dddafd16",
   "metadata": {},
   "source": [
    "#### input"
   ]
  },
  {
   "cell_type": "code",
   "execution_count": 80,
   "id": "6c35a57f",
   "metadata": {},
   "outputs": [
    {
     "name": "stdout",
     "output_type": "stream",
     "text": [
      "10\n"
     ]
    }
   ],
   "source": [
    "x = input()"
   ]
  },
  {
   "cell_type": "code",
   "execution_count": 81,
   "id": "e50e3376",
   "metadata": {},
   "outputs": [
    {
     "data": {
      "text/plain": [
       "'10'"
      ]
     },
     "execution_count": 81,
     "metadata": {},
     "output_type": "execute_result"
    }
   ],
   "source": [
    "x"
   ]
  },
  {
   "cell_type": "code",
   "execution_count": 82,
   "id": "b435cccb",
   "metadata": {},
   "outputs": [
    {
     "name": "stdout",
     "output_type": "stream",
     "text": [
      "Wciśnij jakiś klawisz\n"
     ]
    },
    {
     "data": {
      "text/plain": [
       "''"
      ]
     },
     "execution_count": 82,
     "metadata": {},
     "output_type": "execute_result"
    }
   ],
   "source": [
    "input(\"Wciśnij jakiś klawisz\")"
   ]
  },
  {
   "cell_type": "code",
   "execution_count": 83,
   "id": "145a30d1",
   "metadata": {},
   "outputs": [
    {
     "ename": "TypeError",
     "evalue": "can only concatenate str (not \"int\") to str",
     "output_type": "error",
     "traceback": [
      "\u001b[1;31m---------------------------------------------------------------------------\u001b[0m",
      "\u001b[1;31mTypeError\u001b[0m                                 Traceback (most recent call last)",
      "\u001b[1;32mC:\\Users\\SZB345~1\\AppData\\Local\\Temp/ipykernel_11844/1824700092.py\u001b[0m in \u001b[0;36m<module>\u001b[1;34m\u001b[0m\n\u001b[0;32m      1\u001b[0m \u001b[1;31m# x to napis\u001b[0m\u001b[1;33m\u001b[0m\u001b[1;33m\u001b[0m\u001b[0m\n\u001b[0;32m      2\u001b[0m \u001b[1;33m\u001b[0m\u001b[0m\n\u001b[1;32m----> 3\u001b[1;33m \u001b[0mx\u001b[0m \u001b[1;33m+\u001b[0m \u001b[1;36m1\u001b[0m\u001b[1;33m\u001b[0m\u001b[1;33m\u001b[0m\u001b[0m\n\u001b[0m",
      "\u001b[1;31mTypeError\u001b[0m: can only concatenate str (not \"int\") to str"
     ]
    }
   ],
   "source": [
    "# x to napis\n",
    "# typowanie silne - python nie robi za nas konwersji\n",
    "x + 1"
   ]
  },
  {
   "cell_type": "code",
   "execution_count": 84,
   "id": "a603a764",
   "metadata": {},
   "outputs": [
    {
     "data": {
      "text/plain": [
       "11"
      ]
     },
     "execution_count": 84,
     "metadata": {},
     "output_type": "execute_result"
    }
   ],
   "source": [
    "int(x) + 1"
   ]
  },
  {
   "cell_type": "code",
   "execution_count": 87,
   "id": "c0d12925",
   "metadata": {},
   "outputs": [
    {
     "data": {
      "text/plain": [
       "'101'"
      ]
     },
     "execution_count": 87,
     "metadata": {},
     "output_type": "execute_result"
    }
   ],
   "source": [
    "x + str(1)"
   ]
  },
  {
   "cell_type": "code",
   "execution_count": 88,
   "id": "3f1ff1b2",
   "metadata": {},
   "outputs": [
    {
     "name": "stdout",
     "output_type": "stream",
     "text": [
      "Help on method raw_input in module ipykernel.kernelbase:\n",
      "\n",
      "raw_input(prompt='') method of ipykernel.ipkernel.IPythonKernel instance\n",
      "    Forward raw_input to frontends\n",
      "    \n",
      "    Raises\n",
      "    ------\n",
      "    StdinNotImplementedError if active frontend doesn't support stdin.\n",
      "\n"
     ]
    }
   ],
   "source": [
    "help(input)"
   ]
  },
  {
   "cell_type": "markdown",
   "id": "ccddde19",
   "metadata": {},
   "source": [
    "#### Zadanie 01\n",
    "\n",
    "Korzystając z przypisywania wartości do zmiennych napisz program obliczający pole trapezu o długości podstaw 3 i 9 oraz wysokości 6.5.\n",
    "\n",
    "#### Zadanie 02\n",
    "\n",
    "Napisz program wyliczający kwotę należną za zakupiony towar na podstawie ceny za kilogram oraz liczby zakupionych kilogramów. Do przechowywania informacji o cenie oraz liczbie kilogramów użyj zmiennych. Wypisz wszystkie informacj na konsolę. Przykładowy komunikat programu:\n",
    "\n",
    "    Cena za kg: 10.0  (# print)\n",
    "    Waga: 2.5         (# input)\n",
    "    Należność: 25.0"
   ]
  },
  {
   "cell_type": "code",
   "execution_count": 100,
   "id": "630f5293",
   "metadata": {},
   "outputs": [
    {
     "name": "stdout",
     "output_type": "stream",
     "text": [
      "Ser:                   Cheddarxxxxxxx                   - cena  12.50\n",
      "Ser:                       Gouda                        - cena   9.23\n"
     ]
    }
   ],
   "source": [
    "nazwa_1 = \"Cheddarxxxxxxx\"\n",
    "cena_1 = 12.5\n",
    "\n",
    "nazwa_2 = \"Gouda\"\n",
    "cena_2 = 9.23\n",
    "\n",
    "template = \"Ser: {:^50} - cena {:6.2f}\"\n",
    "\n",
    "print(template.format(nazwa_1, cena_1))\n",
    "print(template.format(nazwa_2, cena_2))"
   ]
  },
  {
   "cell_type": "code",
   "execution_count": 101,
   "id": "b84cc6f4",
   "metadata": {},
   "outputs": [],
   "source": [
    "t1 =  f\"Ser: {nazwa_1:^50} - cena {cena_1:6.2f}\"\n"
   ]
  },
  {
   "cell_type": "code",
   "execution_count": 102,
   "id": "23fb804f",
   "metadata": {},
   "outputs": [
    {
     "data": {
      "text/plain": [
       "'Ser:                   Cheddarxxxxxxx                   - cena  12.50'"
      ]
     },
     "execution_count": 102,
     "metadata": {},
     "output_type": "execute_result"
    }
   ],
   "source": [
    "t1"
   ]
  },
  {
   "cell_type": "code",
   "execution_count": 104,
   "id": "f9cb4726",
   "metadata": {},
   "outputs": [
    {
     "data": {
      "text/plain": [
       "'Ser Cheddarxxxxxxx:10 12.50'"
      ]
     },
     "execution_count": 104,
     "metadata": {},
     "output_type": "execute_result"
    }
   ],
   "source": [
    "\"Ser %s %.2f\" % (nazwa_1, cena_1)"
   ]
  },
  {
   "cell_type": "markdown",
   "id": "d7eae8ad",
   "metadata": {},
   "source": [
    "#### Zadanie 03\n",
    "\n",
    "Napisz program obliczający koszt przejazdu z miasta A do B na podstawie podanej przez użytkownika liczby kilometrów, ceny paliwa oraz spalania. Zapytaj użytkownika także o nazwy miejscowości. Przykładowe komunikat programu:\n",
    "\n",
    "     Miasto A: Warszawa\n",
    "     Miasto B: Gdańsk\n",
    "     Dystans Warszawa‐Gdańsk: 420\n",
    "     Cena paliwa: 4.55\n",
    "     Spalanie na 100 km: 5.5\n",
    "     Koszt przejazdu Warszawa‐Gdańsk to 105 PLN"
   ]
  },
  {
   "cell_type": "markdown",
   "id": "dbd1790b",
   "metadata": {},
   "source": [
    "## Wyrażenie warunkowe\n",
    "\n",
    "1. najprostsze uzycie\n",
    "\n",
    "    if warunek:\n",
    "       <blok kodu>\n",
    "    \n",
    "    <kolejny blok kodu>\n",
    "    \n",
    "2. else\n",
    "    \n",
    "    \n",
    "    if warunek:\n",
    "       <blok kodu>\n",
    "    else:\n",
    "       <blok kodu>\n",
    "   \n",
    "   \n",
    "           \n",
    "           "
   ]
  },
  {
   "cell_type": "code",
   "execution_count": 113,
   "id": "31f944aa",
   "metadata": {},
   "outputs": [
    {
     "name": "stdout",
     "output_type": "stream",
     "text": [
      "Większy niż 10\n",
      "12\n",
      "Cos tam dalej sie dzieje\n"
     ]
    }
   ],
   "source": [
    "x = 12\n",
    "\n",
    "if x > 10: \n",
    "    print(\"Większy niż 10\")\n",
    "    print(x)\n",
    "else:\n",
    "    print(\"else\")\n",
    "    if x % 2 == 0:\n",
    "        print(\"parzysty\")\n",
    "    \n",
    "print(\"Cos tam dalej sie dzieje\")\n"
   ]
  },
  {
   "cell_type": "code",
   "execution_count": 114,
   "id": "f2cc61a2",
   "metadata": {},
   "outputs": [
    {
     "name": "stdout",
     "output_type": "stream",
     "text": [
      "Większy niż 10\n",
      "12\n",
      "Cos tam dalej sie dzieje\n"
     ]
    }
   ],
   "source": [
    "x = 12\n",
    "\n",
    "if x > 10: \n",
    "    print(\"Większy niż 10\")\n",
    "    print(x)\n",
    "elif x % 2 == 0:\n",
    "    print(\"Parzysty\")\n",
    "elif x % 3 == 0:\n",
    "    print(\"podzielne przez 3\")\n",
    "else:\n",
    "    print(\"else\")\n",
    "\n",
    "    \n",
    "print(\"Cos tam dalej sie dzieje\")\n"
   ]
  },
  {
   "cell_type": "code",
   "execution_count": 115,
   "id": "6454f5c9",
   "metadata": {},
   "outputs": [
    {
     "name": "stdout",
     "output_type": "stream",
     "text": [
      "Większy niż 10\n",
      "12\n",
      "Parzysty\n",
      "podzielne przez 3\n",
      "Cos tam dalej sie dzieje\n"
     ]
    }
   ],
   "source": [
    "x = 12\n",
    "\n",
    "if x > 10: \n",
    "    print(\"Większy niż 10\")\n",
    "    print(x)\n",
    "    \n",
    "if x % 2 == 0:\n",
    "    print(\"Parzysty\")\n",
    "\n",
    "\n",
    "if x % 3 == 0:\n",
    "    print(\"podzielne przez 3\")\n",
    "else:\n",
    "    print(\"else\")\n",
    "\n",
    "    \n",
    "print(\"Cos tam dalej sie dzieje\")"
   ]
  },
  {
   "cell_type": "code",
   "execution_count": 117,
   "id": "26104775",
   "metadata": {},
   "outputs": [
    {
     "data": {
      "text/plain": [
       "True"
      ]
     },
     "execution_count": 117,
     "metadata": {},
     "output_type": "execute_result"
    }
   ],
   "source": [
    "1 > 0 or 1 / 0"
   ]
  },
  {
   "cell_type": "code",
   "execution_count": 118,
   "id": "57ab760e",
   "metadata": {},
   "outputs": [
    {
     "data": {
      "text/plain": [
       "False"
      ]
     },
     "execution_count": 118,
     "metadata": {},
     "output_type": "execute_result"
    }
   ],
   "source": [
    "1 < 0 and 1 / 0"
   ]
  },
  {
   "cell_type": "markdown",
   "id": "6858c4c4",
   "metadata": {},
   "source": [
    "#### Zadanie 04\n",
    "\n",
    "Napisz program, który sprawdzi pełnoletność osoby na podstawie roku jej urodzenia. Przykładowy komunikat programu:\n",
    "\n",
    "    Podaj rok urodzenia: 1980\n",
    "    Jesteś pełnoletni!\n",
    "    \n",
    "    Podaj rok urodzenia: 2012\n",
    "    Nie jeste pełnoletni!"
   ]
  },
  {
   "cell_type": "code",
   "execution_count": 119,
   "id": "368ffa7f",
   "metadata": {},
   "outputs": [],
   "source": [
    "import datetime\n",
    "\n",
    "t = datetime.datetime.now()"
   ]
  },
  {
   "cell_type": "code",
   "execution_count": 120,
   "id": "30e894e6",
   "metadata": {},
   "outputs": [
    {
     "data": {
      "text/plain": [
       "datetime.datetime(2021, 12, 15, 12, 52, 11, 527911)"
      ]
     },
     "execution_count": 120,
     "metadata": {},
     "output_type": "execute_result"
    }
   ],
   "source": [
    "t"
   ]
  },
  {
   "cell_type": "code",
   "execution_count": 121,
   "id": "dbe0b3f9",
   "metadata": {},
   "outputs": [
    {
     "data": {
      "text/plain": [
       "['__add__',\n",
       " '__class__',\n",
       " '__delattr__',\n",
       " '__dir__',\n",
       " '__doc__',\n",
       " '__eq__',\n",
       " '__format__',\n",
       " '__ge__',\n",
       " '__getattribute__',\n",
       " '__gt__',\n",
       " '__hash__',\n",
       " '__init__',\n",
       " '__init_subclass__',\n",
       " '__le__',\n",
       " '__lt__',\n",
       " '__ne__',\n",
       " '__new__',\n",
       " '__radd__',\n",
       " '__reduce__',\n",
       " '__reduce_ex__',\n",
       " '__repr__',\n",
       " '__rsub__',\n",
       " '__setattr__',\n",
       " '__sizeof__',\n",
       " '__str__',\n",
       " '__sub__',\n",
       " '__subclasshook__',\n",
       " 'astimezone',\n",
       " 'combine',\n",
       " 'ctime',\n",
       " 'date',\n",
       " 'day',\n",
       " 'dst',\n",
       " 'fold',\n",
       " 'fromisocalendar',\n",
       " 'fromisoformat',\n",
       " 'fromordinal',\n",
       " 'fromtimestamp',\n",
       " 'hour',\n",
       " 'isocalendar',\n",
       " 'isoformat',\n",
       " 'isoweekday',\n",
       " 'max',\n",
       " 'microsecond',\n",
       " 'min',\n",
       " 'minute',\n",
       " 'month',\n",
       " 'now',\n",
       " 'replace',\n",
       " 'resolution',\n",
       " 'second',\n",
       " 'strftime',\n",
       " 'strptime',\n",
       " 'time',\n",
       " 'timestamp',\n",
       " 'timetuple',\n",
       " 'timetz',\n",
       " 'today',\n",
       " 'toordinal',\n",
       " 'tzinfo',\n",
       " 'tzname',\n",
       " 'utcfromtimestamp',\n",
       " 'utcnow',\n",
       " 'utcoffset',\n",
       " 'utctimetuple',\n",
       " 'weekday',\n",
       " 'year']"
      ]
     },
     "execution_count": 121,
     "metadata": {},
     "output_type": "execute_result"
    }
   ],
   "source": [
    "dir(t)"
   ]
  },
  {
   "cell_type": "code",
   "execution_count": 123,
   "id": "f1ffd11f",
   "metadata": {},
   "outputs": [
    {
     "data": {
      "text/plain": [
       "2"
      ]
     },
     "execution_count": 123,
     "metadata": {},
     "output_type": "execute_result"
    }
   ],
   "source": [
    "t.weekday()"
   ]
  },
  {
   "attachments": {
    "image.png": {
     "image/png": "[encoded data removed]"
    }
   },
   "cell_type": "markdown",
   "id": "f0fded09",
   "metadata": {},
   "source": [
    "#### Zadanie 05\n",
    "\n",
    "Napisz program, który na podstawie pozycji gracza (x, y) na planszy w przedziale od 0 do 100 wyświetli jego przybliżone położenie (centrum, prawy górny róg, górna krawędź, ...) lub informację o pozycji poza planszą. Przyjmij wartość 10 jako margines krawędzi. Przykładowy komunikat programu:\n",
    "\n",
    "     Podaj pozycję gracza X: 95\n",
    "     Podaj pozycję gracza Y: 95\n",
    "     Gracz znajduje się w prawym górnym rogu.\n",
    "     \n",
    "![image.png](attachment:image.png)"
   ]
  },
  {
   "cell_type": "code",
   "execution_count": 146,
   "id": "806ad66e",
   "metadata": {},
   "outputs": [
    {
     "data": {
      "text/plain": [
       "False"
      ]
     },
     "execution_count": 146,
     "metadata": {},
     "output_type": "execute_result"
    }
   ],
   "source": [
    "x = 2\n",
    "\n",
    "5 < x < 15"
   ]
  },
  {
   "cell_type": "markdown",
   "id": "b4c1b09c",
   "metadata": {},
   "source": [
    "## pętla while\n",
    "\n",
    "\n",
    "    while <warunek>:\n",
    "        <blok kodu>\n",
    "\n",
    "\n",
    "    while <warunek>:\n",
    "        <blok kodu>\n",
    "    else:\n",
    "        <blok kodu>"
   ]
  },
  {
   "cell_type": "code",
   "execution_count": 147,
   "id": "bbdcb3c7",
   "metadata": {},
   "outputs": [
    {
     "name": "stdout",
     "output_type": "stream",
     "text": [
      "10\n",
      "9\n",
      "8\n",
      "7\n",
      "6\n",
      "5\n",
      "4\n",
      "3\n",
      "2\n",
      "1\n"
     ]
    }
   ],
   "source": [
    "x = 10\n",
    "\n",
    "while x > 0:\n",
    "    print(x)\n",
    "    x = x - 1 # x -= 1\n"
   ]
  },
  {
   "cell_type": "code",
   "execution_count": 150,
   "id": "6d68ef78",
   "metadata": {},
   "outputs": [
    {
     "name": "stdout",
     "output_type": "stream",
     "text": [
      "10\n",
      "8\n",
      "6\n",
      "4\n",
      "2\n",
      "Pętla skończona\n"
     ]
    }
   ],
   "source": [
    "x = 10\n",
    "\n",
    "while x > 0:\n",
    "    if x % 2 != 0:\n",
    "        x -= 1\n",
    "        continue\n",
    "    print(x)\n",
    "    x -= 1\n",
    "else:\n",
    "    print(\"Pętla skończona\")"
   ]
  },
  {
   "cell_type": "code",
   "execution_count": 152,
   "id": "53783647",
   "metadata": {},
   "outputs": [
    {
     "name": "stdout",
     "output_type": "stream",
     "text": [
      "10\n",
      "9\n",
      "8\n",
      "7\n",
      "6\n",
      "5\n"
     ]
    }
   ],
   "source": [
    "x = 10\n",
    "\n",
    "while x > 0:\n",
    "    if x == 4:\n",
    "        break\n",
    "    print(x)\n",
    "    x -= 1\n",
    "else:\n",
    "    print(\"Pętla skończona skończona bez użycua break\")"
   ]
  },
  {
   "cell_type": "code",
   "execution_count": 153,
   "id": "519c176e",
   "metadata": {},
   "outputs": [
    {
     "name": "stdout",
     "output_type": "stream",
     "text": [
      "Podaj liczbe lub k by zakonczyc1\n",
      "Podaj liczbe lub k by zakonczyc2\n",
      "Podaj liczbe lub k by zakonczyc3\n",
      "Podaj liczbe lub k by zakonczyc4\n",
      "Podaj liczbe lub k by zakonczyc5\n",
      "Podaj liczbe lub k by zakonczyc6\n",
      "Podaj liczbe lub k by zakonczyck\n",
      "21\n"
     ]
    }
   ],
   "source": [
    "suma = 0\n",
    "while True:\n",
    "    polecenie = input(\"Podaj liczbe lub k by zakonczyc\")\n",
    "    if polecenie == \"k\": break\n",
    "    suma += int(polecenie)\n",
    "\n",
    "print(suma)\n",
    "    \n",
    "        "
   ]
  },
  {
   "cell_type": "markdown",
   "id": "cf18623a",
   "metadata": {},
   "source": [
    "#### Zadanie 06\n",
    "\n",
    "Napisz program obliczający kwadrat 100 pierwszych liczba całkowitych i wypisujący wyniki na konsolę.\n",
    "\n",
    "#### Zadanie 07\n",
    "\n",
    "Napisz program obliczający średnią wartość temperatury w danym tygodniu na podstawie temperatur wprowadzonych przez użytkownika.\n",
    "\n",
    "#### Zadanie 08\n",
    "\n",
    "Napisz program wyświetlający minimalną oraz maksymalną liczbę z wszystkich liczb wprowadzonych przez użytkownika. Daj użytkownikowi możliwość zakończenia wprowadzania liczb odpowiednią komendą. Zadbaj o obsłużenie przypadku gdy użytkownik nie wprowadzi żadnej liczby.\n",
    "\n",
    "#### Zadanie 09 (opcjonalnie)\n",
    "\n",
    "Napisz grę polegającą na poszukiwaniu skarbu na dwuwymiarowej planszy o rozmiarach 10 na 10. Użytkownik może wprowadzać komendy zmieniające położenie postaci. Po każdym ruchu użytkownik powinien otrzymywać informację o tym czy zmierza dobrym kierunku. Wyjcie poza planszę oznacza koniec gry. Po znalezieniu skarbu wypisz liczbę ruchów wykorzystanych przez użytkownika na dojście do celu. \n",
    "\n",
    "Dodatkowo: po wykonaniu większej liczby kroków niż minimalna wartość x 2, umieść skarb w nowym miejscu z prawdopodobieństwem 1/5 nie podawaj graczowi wskazówki po wykonaniu kroku\n",
    "\n",
    "    import random \n",
    "\n",
    "    los = random.randint(1, 5)\n"
   ]
  },
  {
   "cell_type": "markdown",
   "id": "c8702a29",
   "metadata": {},
   "source": [
    "## Kolekcje\n",
    "\n",
    "### tuple - krotka"
   ]
  },
  {
   "cell_type": "code",
   "execution_count": 154,
   "id": "ccd465e7",
   "metadata": {},
   "outputs": [],
   "source": [
    "dane = (1, 2, 3, \"4\", (1, 2, 3))"
   ]
  },
  {
   "cell_type": "code",
   "execution_count": 155,
   "id": "61b4f5ff",
   "metadata": {},
   "outputs": [
    {
     "data": {
      "text/plain": [
       "tuple"
      ]
     },
     "execution_count": 155,
     "metadata": {},
     "output_type": "execute_result"
    }
   ],
   "source": [
    "type(dane)"
   ]
  },
  {
   "cell_type": "code",
   "execution_count": 156,
   "id": "81f9380f",
   "metadata": {},
   "outputs": [
    {
     "data": {
      "text/plain": [
       "['__add__',\n",
       " '__class__',\n",
       " '__class_getitem__',\n",
       " '__contains__',\n",
       " '__delattr__',\n",
       " '__dir__',\n",
       " '__doc__',\n",
       " '__eq__',\n",
       " '__format__',\n",
       " '__ge__',\n",
       " '__getattribute__',\n",
       " '__getitem__',\n",
       " '__getnewargs__',\n",
       " '__gt__',\n",
       " '__hash__',\n",
       " '__init__',\n",
       " '__init_subclass__',\n",
       " '__iter__',\n",
       " '__le__',\n",
       " '__len__',\n",
       " '__lt__',\n",
       " '__mul__',\n",
       " '__ne__',\n",
       " '__new__',\n",
       " '__reduce__',\n",
       " '__reduce_ex__',\n",
       " '__repr__',\n",
       " '__rmul__',\n",
       " '__setattr__',\n",
       " '__sizeof__',\n",
       " '__str__',\n",
       " '__subclasshook__',\n",
       " 'count',\n",
       " 'index']"
      ]
     },
     "execution_count": 156,
     "metadata": {},
     "output_type": "execute_result"
    }
   ],
   "source": [
    "dir(dane)"
   ]
  },
  {
   "cell_type": "code",
   "execution_count": 157,
   "id": "629bc684",
   "metadata": {},
   "outputs": [
    {
     "data": {
      "text/plain": [
       "3"
      ]
     },
     "execution_count": 157,
     "metadata": {},
     "output_type": "execute_result"
    }
   ],
   "source": [
    "dane.index(\"4\")"
   ]
  },
  {
   "cell_type": "code",
   "execution_count": 158,
   "id": "0f910f02",
   "metadata": {},
   "outputs": [
    {
     "data": {
      "text/plain": [
       "1"
      ]
     },
     "execution_count": 158,
     "metadata": {},
     "output_type": "execute_result"
    }
   ],
   "source": [
    "dane.count(2)"
   ]
  },
  {
   "cell_type": "code",
   "execution_count": 159,
   "id": "6437ee63",
   "metadata": {},
   "outputs": [
    {
     "data": {
      "text/plain": [
       "0"
      ]
     },
     "execution_count": 159,
     "metadata": {},
     "output_type": "execute_result"
    }
   ],
   "source": [
    "dane.count(100)"
   ]
  },
  {
   "cell_type": "code",
   "execution_count": 160,
   "id": "0e986c7b",
   "metadata": {},
   "outputs": [
    {
     "ename": "ValueError",
     "evalue": "tuple.index(x): x not in tuple",
     "output_type": "error",
     "traceback": [
      "\u001b[1;31m---------------------------------------------------------------------------\u001b[0m",
      "\u001b[1;31mValueError\u001b[0m                                Traceback (most recent call last)",
      "\u001b[1;32mC:\\Users\\SZB345~1\\AppData\\Local\\Temp/ipykernel_11844/397406526.py\u001b[0m in \u001b[0;36m<module>\u001b[1;34m\u001b[0m\n\u001b[1;32m----> 1\u001b[1;33m \u001b[0mdane\u001b[0m\u001b[1;33m.\u001b[0m\u001b[0mindex\u001b[0m\u001b[1;33m(\u001b[0m\u001b[1;36m100\u001b[0m\u001b[1;33m)\u001b[0m\u001b[1;33m\u001b[0m\u001b[1;33m\u001b[0m\u001b[0m\n\u001b[0m",
      "\u001b[1;31mValueError\u001b[0m: tuple.index(x): x not in tuple"
     ]
    }
   ],
   "source": [
    "dane.index(100)"
   ]
  },
  {
   "cell_type": "code",
   "execution_count": 161,
   "id": "fd75855c",
   "metadata": {},
   "outputs": [
    {
     "data": {
      "text/plain": [
       "(1, 2, 3, '4', (1, 2, 3))"
      ]
     },
     "execution_count": 161,
     "metadata": {},
     "output_type": "execute_result"
    }
   ],
   "source": [
    "dane"
   ]
  },
  {
   "cell_type": "code",
   "execution_count": 162,
   "id": "5b0a20aa",
   "metadata": {},
   "outputs": [
    {
     "data": {
      "text/plain": [
       "(1, 2, 3)"
      ]
     },
     "execution_count": 162,
     "metadata": {},
     "output_type": "execute_result"
    }
   ],
   "source": [
    "(1, 2, 3)\n",
    "#0, 1, 2 - indexy\n"
   ]
  },
  {
   "cell_type": "code",
   "execution_count": 163,
   "id": "22d73a24",
   "metadata": {},
   "outputs": [
    {
     "data": {
      "text/plain": [
       "'4'"
      ]
     },
     "execution_count": 163,
     "metadata": {},
     "output_type": "execute_result"
    }
   ],
   "source": [
    "# wybieranie z tupli\n",
    "\n",
    "dane[3]"
   ]
  },
  {
   "cell_type": "code",
   "execution_count": 164,
   "id": "21d81654",
   "metadata": {},
   "outputs": [
    {
     "data": {
      "text/plain": [
       "(1, 2, 3)"
      ]
     },
     "execution_count": 164,
     "metadata": {},
     "output_type": "execute_result"
    }
   ],
   "source": [
    "dane[4]"
   ]
  },
  {
   "cell_type": "code",
   "execution_count": 165,
   "id": "ea2b2f7f",
   "metadata": {},
   "outputs": [
    {
     "data": {
      "text/plain": [
       "1"
      ]
     },
     "execution_count": 165,
     "metadata": {},
     "output_type": "execute_result"
    }
   ],
   "source": [
    "dane[4][0]\n",
    "#(1, 2, 3)[0]"
   ]
  },
  {
   "cell_type": "code",
   "execution_count": 166,
   "id": "d4feb9e6",
   "metadata": {},
   "outputs": [
    {
     "data": {
      "text/plain": [
       "(1, 2, 3)"
      ]
     },
     "execution_count": 166,
     "metadata": {},
     "output_type": "execute_result"
    }
   ],
   "source": [
    "dane[-1]"
   ]
  },
  {
   "cell_type": "code",
   "execution_count": 167,
   "id": "0ebb8533",
   "metadata": {},
   "outputs": [
    {
     "data": {
      "text/plain": [
       "'4'"
      ]
     },
     "execution_count": 167,
     "metadata": {},
     "output_type": "execute_result"
    }
   ],
   "source": [
    "dane[-2]"
   ]
  },
  {
   "cell_type": "code",
   "execution_count": 168,
   "id": "ffd1e180",
   "metadata": {},
   "outputs": [
    {
     "data": {
      "text/plain": [
       "5"
      ]
     },
     "execution_count": 168,
     "metadata": {},
     "output_type": "execute_result"
    }
   ],
   "source": [
    "len(dane)"
   ]
  },
  {
   "cell_type": "code",
   "execution_count": 169,
   "id": "e39bf0a1",
   "metadata": {},
   "outputs": [
    {
     "data": {
      "text/plain": [
       "(1, 2, 3, '4', (1, 2, 3))"
      ]
     },
     "execution_count": 169,
     "metadata": {},
     "output_type": "execute_result"
    }
   ],
   "source": [
    "dane"
   ]
  },
  {
   "cell_type": "code",
   "execution_count": 178,
   "id": "1bd69790",
   "metadata": {},
   "outputs": [
    {
     "data": {
      "text/plain": [
       "(4, 5, 6)"
      ]
     },
     "execution_count": 178,
     "metadata": {},
     "output_type": "execute_result"
    }
   ],
   "source": [
    "\n",
    "# Slicing\n",
    "\n",
    "       # 0  1  2  3  4  5  6  7  8  9\n",
    "dane2 = (1, 2, 3, 4, 5, 6, 7, 8, 9, 10)\n",
    "\n",
    "dane2[3:6]\n"
   ]
  },
  {
   "cell_type": "code",
   "execution_count": 171,
   "id": "641d13ad",
   "metadata": {},
   "outputs": [
    {
     "data": {
      "text/plain": [
       "(5, 6, 7, 8, 9, 10)"
      ]
     },
     "execution_count": 171,
     "metadata": {},
     "output_type": "execute_result"
    }
   ],
   "source": [
    "dane2[4:]"
   ]
  },
  {
   "cell_type": "code",
   "execution_count": 174,
   "id": "913e817d",
   "metadata": {},
   "outputs": [
    {
     "data": {
      "text/plain": [
       "(5, 6, 7, 8, 9)"
      ]
     },
     "execution_count": 174,
     "metadata": {},
     "output_type": "execute_result"
    }
   ],
   "source": [
    "dane2[4:-1]"
   ]
  },
  {
   "cell_type": "code",
   "execution_count": 176,
   "id": "c4386e96",
   "metadata": {},
   "outputs": [
    {
     "data": {
      "text/plain": [
       "(3, 6, 9)"
      ]
     },
     "execution_count": 176,
     "metadata": {},
     "output_type": "execute_result"
    }
   ],
   "source": [
    "dane2[2::3]"
   ]
  },
  {
   "cell_type": "code",
   "execution_count": 177,
   "id": "423ee6bb",
   "metadata": {},
   "outputs": [
    {
     "data": {
      "text/plain": [
       "(10, 9, 8, 7, 6, 5, 4, 3, 2, 1)"
      ]
     },
     "execution_count": 177,
     "metadata": {},
     "output_type": "execute_result"
    }
   ],
   "source": [
    "dane2[::-1]"
   ]
  },
  {
   "cell_type": "markdown",
   "id": "5dc5c8bf",
   "metadata": {},
   "source": [
    "#### tupla jest niemutowalna\n",
    "\n",
    "nie dodam do niej elementy\n",
    "nie usune z niej elementu\n",
    "\n",
    "moge utworzyc nowa tuple na podstawie starej"
   ]
  },
  {
   "cell_type": "code",
   "execution_count": 217,
   "id": "c04a6fe1",
   "metadata": {},
   "outputs": [
    {
     "data": {
      "text/plain": [
       "(1, 2, 3, 3, 4, 5)"
      ]
     },
     "execution_count": 217,
     "metadata": {},
     "output_type": "execute_result"
    }
   ],
   "source": [
    "x = (1, 2, 3) + (3, 4, 5)\n",
    "x"
   ]
  },
  {
   "cell_type": "code",
   "execution_count": null,
   "id": "d476ed2a",
   "metadata": {},
   "outputs": [],
   "source": [
    "x[]"
   ]
  },
  {
   "cell_type": "markdown",
   "id": "a6a8380e",
   "metadata": {},
   "source": [
    "### List - lista"
   ]
  },
  {
   "cell_type": "code",
   "execution_count": 180,
   "id": "756aa426",
   "metadata": {},
   "outputs": [],
   "source": [
    "lista = [1, 2, 3, 4, 5]"
   ]
  },
  {
   "cell_type": "code",
   "execution_count": 181,
   "id": "f68ff12c",
   "metadata": {},
   "outputs": [
    {
     "data": {
      "text/plain": [
       "['__add__',\n",
       " '__class__',\n",
       " '__class_getitem__',\n",
       " '__contains__',\n",
       " '__delattr__',\n",
       " '__delitem__',\n",
       " '__dir__',\n",
       " '__doc__',\n",
       " '__eq__',\n",
       " '__format__',\n",
       " '__ge__',\n",
       " '__getattribute__',\n",
       " '__getitem__',\n",
       " '__gt__',\n",
       " '__hash__',\n",
       " '__iadd__',\n",
       " '__imul__',\n",
       " '__init__',\n",
       " '__init_subclass__',\n",
       " '__iter__',\n",
       " '__le__',\n",
       " '__len__',\n",
       " '__lt__',\n",
       " '__mul__',\n",
       " '__ne__',\n",
       " '__new__',\n",
       " '__reduce__',\n",
       " '__reduce_ex__',\n",
       " '__repr__',\n",
       " '__reversed__',\n",
       " '__rmul__',\n",
       " '__setattr__',\n",
       " '__setitem__',\n",
       " '__sizeof__',\n",
       " '__str__',\n",
       " '__subclasshook__',\n",
       " 'append',\n",
       " 'clear',\n",
       " 'copy',\n",
       " 'count',\n",
       " 'extend',\n",
       " 'index',\n",
       " 'insert',\n",
       " 'pop',\n",
       " 'remove',\n",
       " 'reverse',\n",
       " 'sort']"
      ]
     },
     "execution_count": 181,
     "metadata": {},
     "output_type": "execute_result"
    }
   ],
   "source": [
    "dir(lista)"
   ]
  },
  {
   "cell_type": "code",
   "execution_count": 183,
   "id": "cdce8cf5",
   "metadata": {},
   "outputs": [],
   "source": [
    "x = lista.append(6)"
   ]
  },
  {
   "cell_type": "code",
   "execution_count": 185,
   "id": "2b1833df",
   "metadata": {},
   "outputs": [
    {
     "data": {
      "text/plain": [
       "True"
      ]
     },
     "execution_count": 185,
     "metadata": {},
     "output_type": "execute_result"
    }
   ],
   "source": [
    "x is None"
   ]
  },
  {
   "cell_type": "code",
   "execution_count": 186,
   "id": "8c2c820f",
   "metadata": {},
   "outputs": [
    {
     "name": "stdout",
     "output_type": "stream",
     "text": [
      "10\n"
     ]
    },
    {
     "data": {
      "text/plain": [
       "True"
      ]
     },
     "execution_count": 186,
     "metadata": {},
     "output_type": "execute_result"
    }
   ],
   "source": [
    "x = print(\"10\")\n",
    "x is None"
   ]
  },
  {
   "cell_type": "code",
   "execution_count": 187,
   "id": "3ba7b935",
   "metadata": {},
   "outputs": [
    {
     "data": {
      "text/plain": [
       "[1, 2, 3, 4, 5, 6, 6]"
      ]
     },
     "execution_count": 187,
     "metadata": {},
     "output_type": "execute_result"
    }
   ],
   "source": [
    "lista"
   ]
  },
  {
   "cell_type": "code",
   "execution_count": 188,
   "id": "7467db4f",
   "metadata": {},
   "outputs": [],
   "source": [
    "lista.reverse()"
   ]
  },
  {
   "cell_type": "code",
   "execution_count": 189,
   "id": "2f1b0225",
   "metadata": {},
   "outputs": [
    {
     "data": {
      "text/plain": [
       "[6, 6, 5, 4, 3, 2, 1]"
      ]
     },
     "execution_count": 189,
     "metadata": {},
     "output_type": "execute_result"
    }
   ],
   "source": [
    "lista"
   ]
  },
  {
   "cell_type": "code",
   "execution_count": 190,
   "id": "bbdb3903",
   "metadata": {},
   "outputs": [
    {
     "data": {
      "text/plain": [
       "(1, 2, 3, '4', (1, 2, 3))"
      ]
     },
     "execution_count": 190,
     "metadata": {},
     "output_type": "execute_result"
    }
   ],
   "source": [
    "dane"
   ]
  },
  {
   "cell_type": "code",
   "execution_count": 191,
   "id": "0ed82784",
   "metadata": {},
   "outputs": [],
   "source": [
    "dane_lista = list(dane)"
   ]
  },
  {
   "cell_type": "code",
   "execution_count": 192,
   "id": "832c7910",
   "metadata": {},
   "outputs": [
    {
     "data": {
      "text/plain": [
       "[1, 2, 3, '4', (1, 2, 3)]"
      ]
     },
     "execution_count": 192,
     "metadata": {},
     "output_type": "execute_result"
    }
   ],
   "source": [
    "dane_lista"
   ]
  },
  {
   "cell_type": "code",
   "execution_count": 193,
   "id": "4b13e4ff",
   "metadata": {},
   "outputs": [],
   "source": [
    "x = [1, 2, 3]\n",
    "y = x"
   ]
  },
  {
   "cell_type": "code",
   "execution_count": 194,
   "id": "c173e438",
   "metadata": {},
   "outputs": [
    {
     "data": {
      "text/plain": [
       "[1, 2, 3]"
      ]
     },
     "execution_count": 194,
     "metadata": {},
     "output_type": "execute_result"
    }
   ],
   "source": [
    "x"
   ]
  },
  {
   "cell_type": "code",
   "execution_count": 195,
   "id": "2614855c",
   "metadata": {},
   "outputs": [],
   "source": [
    "x.append(4)"
   ]
  },
  {
   "cell_type": "code",
   "execution_count": 196,
   "id": "a881b32a",
   "metadata": {},
   "outputs": [
    {
     "data": {
      "text/plain": [
       "[1, 2, 3, 4]"
      ]
     },
     "execution_count": 196,
     "metadata": {},
     "output_type": "execute_result"
    }
   ],
   "source": [
    "x"
   ]
  },
  {
   "cell_type": "code",
   "execution_count": 197,
   "id": "8fe07147",
   "metadata": {},
   "outputs": [
    {
     "data": {
      "text/plain": [
       "[1, 2, 3, 4]"
      ]
     },
     "execution_count": 197,
     "metadata": {},
     "output_type": "execute_result"
    }
   ],
   "source": [
    "y"
   ]
  },
  {
   "cell_type": "code",
   "execution_count": 198,
   "id": "604b7551",
   "metadata": {},
   "outputs": [
    {
     "data": {
      "text/plain": [
       "3035689467648"
      ]
     },
     "execution_count": 198,
     "metadata": {},
     "output_type": "execute_result"
    }
   ],
   "source": [
    "id(x)"
   ]
  },
  {
   "cell_type": "code",
   "execution_count": 199,
   "id": "2933e4ef",
   "metadata": {},
   "outputs": [
    {
     "data": {
      "text/plain": [
       "3035689467648"
      ]
     },
     "execution_count": 199,
     "metadata": {},
     "output_type": "execute_result"
    }
   ],
   "source": [
    "id(y)"
   ]
  },
  {
   "cell_type": "code",
   "execution_count": 200,
   "id": "444b458f",
   "metadata": {},
   "outputs": [],
   "source": [
    "y.append(7)"
   ]
  },
  {
   "cell_type": "code",
   "execution_count": 201,
   "id": "94c84685",
   "metadata": {},
   "outputs": [
    {
     "data": {
      "text/plain": [
       "[1, 2, 3, 4, 7]"
      ]
     },
     "execution_count": 201,
     "metadata": {},
     "output_type": "execute_result"
    }
   ],
   "source": [
    "x"
   ]
  },
  {
   "cell_type": "code",
   "execution_count": 202,
   "id": "ef1c5c1b",
   "metadata": {},
   "outputs": [],
   "source": [
    "y = x.copy() # y = x[:]\n",
    "\n"
   ]
  },
  {
   "cell_type": "code",
   "execution_count": 203,
   "id": "0052ffd1",
   "metadata": {},
   "outputs": [],
   "source": [
    "x.append(8)"
   ]
  },
  {
   "cell_type": "code",
   "execution_count": 204,
   "id": "4b7a8372",
   "metadata": {},
   "outputs": [
    {
     "data": {
      "text/plain": [
       "[1, 2, 3, 4, 7, 8]"
      ]
     },
     "execution_count": 204,
     "metadata": {},
     "output_type": "execute_result"
    }
   ],
   "source": [
    "x"
   ]
  },
  {
   "cell_type": "code",
   "execution_count": 205,
   "id": "a4ac240e",
   "metadata": {},
   "outputs": [
    {
     "data": {
      "text/plain": [
       "[1, 2, 3, 4, 7]"
      ]
     },
     "execution_count": 205,
     "metadata": {},
     "output_type": "execute_result"
    }
   ],
   "source": [
    "y"
   ]
  },
  {
   "cell_type": "code",
   "execution_count": 206,
   "id": "b0ef019b",
   "metadata": {},
   "outputs": [],
   "source": [
    "a = [1, 2]\n",
    "b = [3, 4, a]\n",
    "\n",
    "c = b.copy()"
   ]
  },
  {
   "cell_type": "code",
   "execution_count": 207,
   "id": "b343f8f5",
   "metadata": {},
   "outputs": [
    {
     "data": {
      "text/plain": [
       "[3, 4, [1, 2]]"
      ]
     },
     "execution_count": 207,
     "metadata": {},
     "output_type": "execute_result"
    }
   ],
   "source": [
    "c"
   ]
  },
  {
   "cell_type": "code",
   "execution_count": 208,
   "id": "69b5072a",
   "metadata": {},
   "outputs": [],
   "source": [
    "a.append(1)"
   ]
  },
  {
   "cell_type": "code",
   "execution_count": 209,
   "id": "6c87f289",
   "metadata": {},
   "outputs": [
    {
     "data": {
      "text/plain": [
       "[3, 4, [1, 2, 1]]"
      ]
     },
     "execution_count": 209,
     "metadata": {},
     "output_type": "execute_result"
    }
   ],
   "source": [
    "b"
   ]
  },
  {
   "cell_type": "code",
   "execution_count": 210,
   "id": "c17cd407",
   "metadata": {},
   "outputs": [
    {
     "data": {
      "text/plain": [
       "[3, 4, [1, 2, 1]]"
      ]
     },
     "execution_count": 210,
     "metadata": {},
     "output_type": "execute_result"
    }
   ],
   "source": [
    "c"
   ]
  },
  {
   "cell_type": "code",
   "execution_count": 211,
   "id": "678670fa",
   "metadata": {},
   "outputs": [],
   "source": [
    "import copy\n",
    "\n",
    "c = copy.deepcopy(b)"
   ]
  },
  {
   "cell_type": "code",
   "execution_count": 212,
   "id": "7c4d5c8b",
   "metadata": {},
   "outputs": [
    {
     "data": {
      "text/plain": [
       "[3, 4, [1, 2, 1]]"
      ]
     },
     "execution_count": 212,
     "metadata": {},
     "output_type": "execute_result"
    }
   ],
   "source": [
    "c"
   ]
  },
  {
   "cell_type": "code",
   "execution_count": 213,
   "id": "54dd0d06",
   "metadata": {},
   "outputs": [],
   "source": [
    "a.append(7)"
   ]
  },
  {
   "cell_type": "code",
   "execution_count": 214,
   "id": "8d7a2273",
   "metadata": {},
   "outputs": [
    {
     "data": {
      "text/plain": [
       "[3, 4, [1, 2, 1, 7]]"
      ]
     },
     "execution_count": 214,
     "metadata": {},
     "output_type": "execute_result"
    }
   ],
   "source": [
    "b"
   ]
  },
  {
   "cell_type": "code",
   "execution_count": 215,
   "id": "edf3fbe8",
   "metadata": {},
   "outputs": [
    {
     "data": {
      "text/plain": [
       "[3, 4, [1, 2, 1]]"
      ]
     },
     "execution_count": 215,
     "metadata": {},
     "output_type": "execute_result"
    }
   ],
   "source": [
    "c"
   ]
  },
  {
   "cell_type": "code",
   "execution_count": 226,
   "id": "d30e0b5e",
   "metadata": {},
   "outputs": [],
   "source": [
    "funkcje = (print, input, dir, int, float)"
   ]
  },
  {
   "cell_type": "code",
   "execution_count": 229,
   "id": "40d4767f",
   "metadata": {},
   "outputs": [
    {
     "data": {
      "text/plain": [
       "0"
      ]
     },
     "execution_count": 229,
     "metadata": {},
     "output_type": "execute_result"
    }
   ],
   "source": [
    "funkcje[3]()  # int()"
   ]
  },
  {
   "cell_type": "code",
   "execution_count": 220,
   "id": "d40c32b9",
   "metadata": {},
   "outputs": [],
   "source": [
    "print = 10"
   ]
  },
  {
   "cell_type": "code",
   "execution_count": 221,
   "id": "7248e4de",
   "metadata": {},
   "outputs": [
    {
     "data": {
      "text/plain": [
       "10"
      ]
     },
     "execution_count": 221,
     "metadata": {},
     "output_type": "execute_result"
    }
   ],
   "source": [
    "print"
   ]
  },
  {
   "cell_type": "code",
   "execution_count": 224,
   "id": "75fa1e22",
   "metadata": {},
   "outputs": [],
   "source": [
    "print = __builtins__.print"
   ]
  },
  {
   "cell_type": "code",
   "execution_count": 225,
   "id": "b98e04cb",
   "metadata": {},
   "outputs": [
    {
     "data": {
      "text/plain": [
       "['ArithmeticError',\n",
       " 'AssertionError',\n",
       " 'AttributeError',\n",
       " 'BaseException',\n",
       " 'BlockingIOError',\n",
       " 'BrokenPipeError',\n",
       " 'BufferError',\n",
       " 'BytesWarning',\n",
       " 'ChildProcessError',\n",
       " 'ConnectionAbortedError',\n",
       " 'ConnectionError',\n",
       " 'ConnectionRefusedError',\n",
       " 'ConnectionResetError',\n",
       " 'DeprecationWarning',\n",
       " 'EOFError',\n",
       " 'Ellipsis',\n",
       " 'EncodingWarning',\n",
       " 'EnvironmentError',\n",
       " 'Exception',\n",
       " 'False',\n",
       " 'FileExistsError',\n",
       " 'FileNotFoundError',\n",
       " 'FloatingPointError',\n",
       " 'FutureWarning',\n",
       " 'GeneratorExit',\n",
       " 'IOError',\n",
       " 'ImportError',\n",
       " 'ImportWarning',\n",
       " 'IndentationError',\n",
       " 'IndexError',\n",
       " 'InterruptedError',\n",
       " 'IsADirectoryError',\n",
       " 'KeyError',\n",
       " 'KeyboardInterrupt',\n",
       " 'LookupError',\n",
       " 'MemoryError',\n",
       " 'ModuleNotFoundError',\n",
       " 'NameError',\n",
       " 'None',\n",
       " 'NotADirectoryError',\n",
       " 'NotImplemented',\n",
       " 'NotImplementedError',\n",
       " 'OSError',\n",
       " 'OverflowError',\n",
       " 'PendingDeprecationWarning',\n",
       " 'PermissionError',\n",
       " 'ProcessLookupError',\n",
       " 'RecursionError',\n",
       " 'ReferenceError',\n",
       " 'ResourceWarning',\n",
       " 'RuntimeError',\n",
       " 'RuntimeWarning',\n",
       " 'StopAsyncIteration',\n",
       " 'StopIteration',\n",
       " 'SyntaxError',\n",
       " 'SyntaxWarning',\n",
       " 'SystemError',\n",
       " 'SystemExit',\n",
       " 'TabError',\n",
       " 'TimeoutError',\n",
       " 'True',\n",
       " 'TypeError',\n",
       " 'UnboundLocalError',\n",
       " 'UnicodeDecodeError',\n",
       " 'UnicodeEncodeError',\n",
       " 'UnicodeError',\n",
       " 'UnicodeTranslateError',\n",
       " 'UnicodeWarning',\n",
       " 'UserWarning',\n",
       " 'ValueError',\n",
       " 'Warning',\n",
       " 'WindowsError',\n",
       " 'ZeroDivisionError',\n",
       " '__IPYTHON__',\n",
       " '__build_class__',\n",
       " '__debug__',\n",
       " '__doc__',\n",
       " '__import__',\n",
       " '__loader__',\n",
       " '__name__',\n",
       " '__package__',\n",
       " '__spec__',\n",
       " 'abs',\n",
       " 'aiter',\n",
       " 'all',\n",
       " 'anext',\n",
       " 'any',\n",
       " 'ascii',\n",
       " 'bin',\n",
       " 'bool',\n",
       " 'breakpoint',\n",
       " 'bytearray',\n",
       " 'bytes',\n",
       " 'callable',\n",
       " 'chr',\n",
       " 'classmethod',\n",
       " 'compile',\n",
       " 'complex',\n",
       " 'copyright',\n",
       " 'credits',\n",
       " 'delattr',\n",
       " 'dict',\n",
       " 'dir',\n",
       " 'display',\n",
       " 'divmod',\n",
       " 'enumerate',\n",
       " 'eval',\n",
       " 'exec',\n",
       " 'execfile',\n",
       " 'filter',\n",
       " 'float',\n",
       " 'format',\n",
       " 'frozenset',\n",
       " 'get_ipython',\n",
       " 'getattr',\n",
       " 'globals',\n",
       " 'hasattr',\n",
       " 'hash',\n",
       " 'help',\n",
       " 'hex',\n",
       " 'id',\n",
       " 'input',\n",
       " 'int',\n",
       " 'isinstance',\n",
       " 'issubclass',\n",
       " 'iter',\n",
       " 'len',\n",
       " 'license',\n",
       " 'list',\n",
       " 'locals',\n",
       " 'map',\n",
       " 'max',\n",
       " 'memoryview',\n",
       " 'min',\n",
       " 'next',\n",
       " 'object',\n",
       " 'oct',\n",
       " 'open',\n",
       " 'ord',\n",
       " 'pow',\n",
       " 'print',\n",
       " 'property',\n",
       " 'range',\n",
       " 'repr',\n",
       " 'reversed',\n",
       " 'round',\n",
       " 'runfile',\n",
       " 'set',\n",
       " 'setattr',\n",
       " 'slice',\n",
       " 'sorted',\n",
       " 'staticmethod',\n",
       " 'str',\n",
       " 'sum',\n",
       " 'super',\n",
       " 'tuple',\n",
       " 'type',\n",
       " 'vars',\n",
       " 'zip']"
      ]
     },
     "execution_count": 225,
     "metadata": {},
     "output_type": "execute_result"
    }
   ],
   "source": [
    "dir(__builtins__)"
   ]
  },
  {
   "cell_type": "code",
   "execution_count": 230,
   "id": "4f43ac2f",
   "metadata": {},
   "outputs": [],
   "source": [
    "# przestrzen globalna\n",
    "\n",
    "\n"
   ]
  },
  {
   "cell_type": "markdown",
   "id": "8f767761",
   "metadata": {},
   "source": [
    "#### Zadanie 09\n",
    "\n",
    "W sesji interaktywnego środowiska interpretera stwórz tuplę zawierającą 10 różnych liczb całkowitych. Korzystając z operatora dostępu oraz wycinania pobierz:\n",
    "\n",
    "- drugi element\n",
    "- przedostatni element\n",
    "- elementy od trzeciego do siódmego (włącznie) \n",
    "- co trzeci element\n",
    "- co drugi element licząc od końca"
   ]
  },
  {
   "cell_type": "code",
   "execution_count": 231,
   "id": "f99043ac",
   "metadata": {},
   "outputs": [],
   "source": [
    "tupla = (1, 2, 3, 4, 5, 6, 7, 8, 9, 10)"
   ]
  },
  {
   "cell_type": "code",
   "execution_count": 232,
   "id": "cdb9a6bd",
   "metadata": {},
   "outputs": [
    {
     "data": {
      "text/plain": [
       "2"
      ]
     },
     "execution_count": 232,
     "metadata": {},
     "output_type": "execute_result"
    }
   ],
   "source": [
    "tupla[1]"
   ]
  },
  {
   "cell_type": "code",
   "execution_count": 233,
   "id": "ade93937",
   "metadata": {},
   "outputs": [
    {
     "data": {
      "text/plain": [
       "9"
      ]
     },
     "execution_count": 233,
     "metadata": {},
     "output_type": "execute_result"
    }
   ],
   "source": [
    "tupla[-2]"
   ]
  },
  {
   "cell_type": "code",
   "execution_count": 234,
   "id": "640a8f8f",
   "metadata": {},
   "outputs": [
    {
     "data": {
      "text/plain": [
       "(3, 4, 5, 6, 7)"
      ]
     },
     "execution_count": 234,
     "metadata": {},
     "output_type": "execute_result"
    }
   ],
   "source": [
    "tupla[2:7]"
   ]
  },
  {
   "cell_type": "code",
   "execution_count": 235,
   "id": "ae38a28b",
   "metadata": {},
   "outputs": [
    {
     "data": {
      "text/plain": [
       "(1, 4, 7, 10)"
      ]
     },
     "execution_count": 235,
     "metadata": {},
     "output_type": "execute_result"
    }
   ],
   "source": [
    "tupla[::3]"
   ]
  },
  {
   "cell_type": "code",
   "execution_count": 236,
   "id": "c9eec6d9",
   "metadata": {},
   "outputs": [
    {
     "data": {
      "text/plain": [
       "(10, 8, 6, 4, 2)"
      ]
     },
     "execution_count": 236,
     "metadata": {},
     "output_type": "execute_result"
    }
   ],
   "source": [
    "tupla[::-2]"
   ]
  },
  {
   "cell_type": "code",
   "execution_count": 239,
   "id": "80971d34",
   "metadata": {},
   "outputs": [],
   "source": [
    "x = tuple() # ()"
   ]
  },
  {
   "cell_type": "code",
   "execution_count": 238,
   "id": "1ce13a67",
   "metadata": {},
   "outputs": [
    {
     "data": {
      "text/plain": [
       "tuple"
      ]
     },
     "execution_count": 238,
     "metadata": {},
     "output_type": "execute_result"
    }
   ],
   "source": [
    "type(x)"
   ]
  },
  {
   "cell_type": "code",
   "execution_count": 240,
   "id": "93fa9141",
   "metadata": {},
   "outputs": [],
   "source": [
    "x = (1)"
   ]
  },
  {
   "cell_type": "code",
   "execution_count": 241,
   "id": "8380b022",
   "metadata": {},
   "outputs": [
    {
     "data": {
      "text/plain": [
       "int"
      ]
     },
     "execution_count": 241,
     "metadata": {},
     "output_type": "execute_result"
    }
   ],
   "source": [
    "type(x)"
   ]
  },
  {
   "cell_type": "code",
   "execution_count": 242,
   "id": "28233d5a",
   "metadata": {},
   "outputs": [
    {
     "data": {
      "text/plain": [
       "tuple"
      ]
     },
     "execution_count": 242,
     "metadata": {},
     "output_type": "execute_result"
    }
   ],
   "source": [
    "x = (1,)\n",
    "type(x)"
   ]
  },
  {
   "cell_type": "code",
   "execution_count": 243,
   "id": "90c4b908",
   "metadata": {},
   "outputs": [
    {
     "data": {
      "text/plain": [
       "(1,)"
      ]
     },
     "execution_count": 243,
     "metadata": {},
     "output_type": "execute_result"
    }
   ],
   "source": [
    "x"
   ]
  },
  {
   "cell_type": "code",
   "execution_count": 244,
   "id": "f4e14df9",
   "metadata": {},
   "outputs": [
    {
     "data": {
      "text/plain": [
       "[1, 2, 3]"
      ]
     },
     "execution_count": 244,
     "metadata": {},
     "output_type": "execute_result"
    }
   ],
   "source": [
    "[1, 2, 3, ]"
   ]
  },
  {
   "cell_type": "code",
   "execution_count": 245,
   "id": "51849c47",
   "metadata": {},
   "outputs": [
    {
     "data": {
      "text/plain": [
       "[1, 2, 3, 4, 5, 6, 7, 8, 9, 10]"
      ]
     },
     "execution_count": 245,
     "metadata": {},
     "output_type": "execute_result"
    }
   ],
   "source": [
    "list(tupla)"
   ]
  },
  {
   "cell_type": "code",
   "execution_count": 246,
   "id": "43e35e0b",
   "metadata": {},
   "outputs": [
    {
     "data": {
      "text/plain": [
       "(1, 2, 3)"
      ]
     },
     "execution_count": 246,
     "metadata": {},
     "output_type": "execute_result"
    }
   ],
   "source": [
    "tuple([1, 2, 3, ])"
   ]
  },
  {
   "cell_type": "code",
   "execution_count": 247,
   "id": "2933bbc8",
   "metadata": {},
   "outputs": [],
   "source": [
    "lista = [1, 2]\n"
   ]
  },
  {
   "cell_type": "code",
   "execution_count": 248,
   "id": "4473b77c",
   "metadata": {},
   "outputs": [],
   "source": [
    "lista.append(3)"
   ]
  },
  {
   "cell_type": "code",
   "execution_count": 249,
   "id": "2d1981b9",
   "metadata": {},
   "outputs": [
    {
     "data": {
      "text/plain": [
       "[1, 2, 3]"
      ]
     },
     "execution_count": 249,
     "metadata": {},
     "output_type": "execute_result"
    }
   ],
   "source": [
    "lista"
   ]
  },
  {
   "cell_type": "code",
   "execution_count": 251,
   "id": "3f4545a0",
   "metadata": {},
   "outputs": [],
   "source": [
    "lista.insert(1, 4)"
   ]
  },
  {
   "cell_type": "code",
   "execution_count": 252,
   "id": "a720512d",
   "metadata": {},
   "outputs": [
    {
     "data": {
      "text/plain": [
       "[1, 4, 2, 3]"
      ]
     },
     "execution_count": 252,
     "metadata": {},
     "output_type": "execute_result"
    }
   ],
   "source": [
    "lista"
   ]
  },
  {
   "cell_type": "code",
   "execution_count": 253,
   "id": "6a377c46",
   "metadata": {},
   "outputs": [],
   "source": [
    "lista.pop?"
   ]
  },
  {
   "cell_type": "code",
   "execution_count": 254,
   "id": "ee14c468",
   "metadata": {},
   "outputs": [
    {
     "data": {
      "text/plain": [
       "3"
      ]
     },
     "execution_count": 254,
     "metadata": {},
     "output_type": "execute_result"
    }
   ],
   "source": [
    "lista.pop()"
   ]
  },
  {
   "cell_type": "code",
   "execution_count": 255,
   "id": "a1ac55ae",
   "metadata": {},
   "outputs": [
    {
     "data": {
      "text/plain": [
       "[1, 4, 2]"
      ]
     },
     "execution_count": 255,
     "metadata": {},
     "output_type": "execute_result"
    }
   ],
   "source": [
    "lista"
   ]
  },
  {
   "cell_type": "code",
   "execution_count": 256,
   "id": "6130ae2e",
   "metadata": {},
   "outputs": [],
   "source": [
    "lista.extend?"
   ]
  },
  {
   "cell_type": "code",
   "execution_count": 257,
   "id": "b7dcb346",
   "metadata": {},
   "outputs": [],
   "source": [
    "lista.extend([4, 5, 6])"
   ]
  },
  {
   "cell_type": "code",
   "execution_count": 258,
   "id": "e12492b8",
   "metadata": {},
   "outputs": [
    {
     "data": {
      "text/plain": [
       "[1, 4, 2, 4, 5, 6]"
      ]
     },
     "execution_count": 258,
     "metadata": {},
     "output_type": "execute_result"
    }
   ],
   "source": [
    "lista"
   ]
  },
  {
   "cell_type": "code",
   "execution_count": 259,
   "id": "b8b7f67d",
   "metadata": {},
   "outputs": [
    {
     "data": {
      "text/plain": [
       "[1, 4, 2, 4, 5, 6, 7, 8]"
      ]
     },
     "execution_count": 259,
     "metadata": {},
     "output_type": "execute_result"
    }
   ],
   "source": [
    "lista + [7,8]"
   ]
  },
  {
   "cell_type": "code",
   "execution_count": 260,
   "id": "0a631f31",
   "metadata": {},
   "outputs": [
    {
     "data": {
      "text/plain": [
       "[1, 4, 2, 4, 5, 6]"
      ]
     },
     "execution_count": 260,
     "metadata": {},
     "output_type": "execute_result"
    }
   ],
   "source": [
    "lista"
   ]
  },
  {
   "cell_type": "code",
   "execution_count": 267,
   "id": "32e0e28f",
   "metadata": {},
   "outputs": [
    {
     "data": {
      "text/plain": [
       "3"
      ]
     },
     "execution_count": 267,
     "metadata": {},
     "output_type": "execute_result"
    }
   ],
   "source": [
    "lista.index(4,lista.index(4)+1)\n"
   ]
  },
  {
   "cell_type": "code",
   "execution_count": 266,
   "id": "6e6bb143",
   "metadata": {},
   "outputs": [
    {
     "data": {
      "text/plain": [
       "1"
      ]
     },
     "execution_count": 266,
     "metadata": {},
     "output_type": "execute_result"
    }
   ],
   "source": [
    "lista.index(4, 1)"
   ]
  },
  {
   "cell_type": "markdown",
   "id": "cd49d6f3",
   "metadata": {},
   "source": [
    "### range\n"
   ]
  },
  {
   "cell_type": "code",
   "execution_count": 270,
   "id": "0ca73468",
   "metadata": {},
   "outputs": [
    {
     "data": {
      "text/plain": [
       "[0, 1, 2, 3, 4, 5, 6, 7, 8, 9]"
      ]
     },
     "execution_count": 270,
     "metadata": {},
     "output_type": "execute_result"
    }
   ],
   "source": [
    "list(range(10))"
   ]
  },
  {
   "cell_type": "code",
   "execution_count": 271,
   "id": "b64ae4fa",
   "metadata": {},
   "outputs": [
    {
     "data": {
      "text/plain": [
       "[5, 6, 7, 8, 9, 10, 11, 12, 13, 14, 15]"
      ]
     },
     "execution_count": 271,
     "metadata": {},
     "output_type": "execute_result"
    }
   ],
   "source": [
    "list(range(5, 16))"
   ]
  },
  {
   "cell_type": "code",
   "execution_count": 273,
   "id": "9f360f05",
   "metadata": {},
   "outputs": [
    {
     "data": {
      "text/plain": [
       "[5, 8, 11, 14]"
      ]
     },
     "execution_count": 273,
     "metadata": {},
     "output_type": "execute_result"
    }
   ],
   "source": [
    "list(range(5, 16, 3))"
   ]
  },
  {
   "cell_type": "markdown",
   "id": "eb63d6fd",
   "metadata": {},
   "source": [
    "## Petla for"
   ]
  },
  {
   "cell_type": "code",
   "execution_count": 274,
   "id": "9de810e6",
   "metadata": {},
   "outputs": [
    {
     "name": "stdout",
     "output_type": "stream",
     "text": [
      "1\n",
      "4\n",
      "2\n",
      "4\n",
      "5\n",
      "6\n"
     ]
    }
   ],
   "source": [
    "for el in lista:\n",
    "    print(el)"
   ]
  },
  {
   "cell_type": "code",
   "execution_count": 288,
   "id": "8df09aef",
   "metadata": {},
   "outputs": [
    {
     "name": "stdout",
     "output_type": "stream",
     "text": [
      "1\n",
      "4\n",
      "9\n",
      "16\n",
      "25\n"
     ]
    }
   ],
   "source": [
    "for i in range(1, 6):\n",
    "    print(i ** 2)"
   ]
  },
  {
   "cell_type": "code",
   "execution_count": null,
   "id": "f0e5a5b5",
   "metadata": {},
   "outputs": [],
   "source": []
  },
  {
   "cell_type": "code",
   "execution_count": 281,
   "id": "a6b86ba8",
   "metadata": {},
   "outputs": [],
   "source": [
    "a, b = 1, 2"
   ]
  },
  {
   "cell_type": "code",
   "execution_count": 282,
   "id": "6d7115fb",
   "metadata": {},
   "outputs": [
    {
     "ename": "ValueError",
     "evalue": "not enough values to unpack (expected 3, got 2)",
     "output_type": "error",
     "traceback": [
      "\u001b[1;31m---------------------------------------------------------------------------\u001b[0m",
      "\u001b[1;31mValueError\u001b[0m                                Traceback (most recent call last)",
      "\u001b[1;32mC:\\Users\\SZB345~1\\AppData\\Local\\Temp/ipykernel_11844/1121104675.py\u001b[0m in \u001b[0;36m<module>\u001b[1;34m\u001b[0m\n\u001b[1;32m----> 1\u001b[1;33m \u001b[0ma\u001b[0m\u001b[1;33m,\u001b[0m \u001b[0mb\u001b[0m\u001b[1;33m,\u001b[0m \u001b[0mc\u001b[0m \u001b[1;33m=\u001b[0m \u001b[1;36m1\u001b[0m\u001b[1;33m,\u001b[0m \u001b[1;36m2\u001b[0m\u001b[1;33m\u001b[0m\u001b[1;33m\u001b[0m\u001b[0m\n\u001b[0m",
      "\u001b[1;31mValueError\u001b[0m: not enough values to unpack (expected 3, got 2)"
     ]
    }
   ],
   "source": [
    "a, b, c = 1, 2"
   ]
  },
  {
   "cell_type": "code",
   "execution_count": 284,
   "id": "e611835b",
   "metadata": {},
   "outputs": [
    {
     "name": "stdout",
     "output_type": "stream",
     "text": [
      "3\n",
      "7\n",
      "11\n"
     ]
    }
   ],
   "source": [
    "xxx = [(1, 2), (3, 4), (5, 6)]\n",
    "\n",
    "for a, b in xxx:\n",
    "    print(a + b)"
   ]
  },
  {
   "cell_type": "code",
   "execution_count": 287,
   "id": "96f566a6",
   "metadata": {},
   "outputs": [
    {
     "name": "stdout",
     "output_type": "stream",
     "text": [
      "3 1\n",
      "4 4\n",
      "5 2\n",
      "6 4\n",
      "7 5\n",
      "8 6\n"
     ]
    }
   ],
   "source": [
    "for i, el in enumerate(lista, start=3):\n",
    "    print(i, el)"
   ]
  },
  {
   "cell_type": "markdown",
   "id": "155414ae",
   "metadata": {},
   "source": [
    "#### Zadanie 09\n",
    "\n",
    "Napisz program obliczający średnią wartość z podanych przez użytkownika liczba. Do przechowywania liczb użyj listy. Pozwól na wprowadzenie maksymalnie 10 liczb. Skorzystaj z funkcji wbudowanej sum() i len()"
   ]
  },
  {
   "cell_type": "code",
   "execution_count": 316,
   "id": "fc59d6ba",
   "metadata": {},
   "outputs": [
    {
     "name": "stdout",
     "output_type": "stream",
     "text": [
      "Podaj liczbe lub k by zakonczyc: 1\n",
      "Podaj liczbe lub k by zakonczyc: 2\n",
      "Podaj liczbe lub k by zakonczyc: k\n",
      "1.5\n"
     ]
    }
   ],
   "source": [
    "#%%writefile zadanie_09.py\n",
    "dane = []\n",
    "\n",
    "for i in range(10):\n",
    "    operacja = input(\"Podaj liczbe lub k by zakonczyc: \")\n",
    "    if operacja == \"k\":\n",
    "        break\n",
    "    liczba = int(operacja)\n",
    "    dane.append(liczba)\n",
    "    \n",
    "print(sum(dane) / len(dane))\n"
   ]
  },
  {
   "cell_type": "code",
   "execution_count": 291,
   "id": "2aa8fd48",
   "metadata": {},
   "outputs": [],
   "source": [
    "print?"
   ]
  },
  {
   "cell_type": "markdown",
   "id": "f8dc29ed",
   "metadata": {},
   "source": [
    "#### Zadanie 10\n",
    "Napisz program wypisujący na konsolę tabliczkę mnożenia dla liczb od 0 do 9 w postaci tabelki.\n",
    "\n",
    "           0    1    2    3    4    5    6    7    8    9\n",
    "\n",
    "    0      0    0    0    0    0    0    0    0    0    0\n",
    "    1      0    1    2    3    4    5    6    7    8    9\n",
    "    2      0    2    4    6    8   10   12   14   16   18\n",
    "    3      0    3    6    9   12   15   18   21   24   27\n",
    "    4      0    4    8   12   16   20   24   28   32   36\n",
    "    5      0    5   10   15   20   25   30   35   40   45\n",
    "    6      0    6   12   18   24   30   36   42   48   54\n",
    "    7      0    7   14   21   28   35   42   49   56   63\n",
    "    8      0    8   16   24   32   40   48   56   64   72\n",
    "    9      0    9   18   27   36   45   54   63   72   81"
   ]
  },
  {
   "cell_type": "code",
   "execution_count": 315,
   "id": "609a2407",
   "metadata": {},
   "outputs": [
    {
     "name": "stdout",
     "output_type": "stream",
     "text": [
      "         0    1    2    3    4    5    6    7    8    9\n",
      "\n",
      "0        0    0    0    0    0    0    0    0    0    0\n",
      "1        0    1    2    3    4    5    6    7    8    9\n",
      "2        0    2    4    6    8   10   12   14   16   18\n",
      "3        0    3    6    9   12   15   18   21   24   27\n",
      "4        0    4    8   12   16   20   24   28   32   36\n",
      "5        0    5   10   15   20   25   30   35   40   45\n",
      "6        0    6   12   18   24   30   36   42   48   54\n",
      "7        0    7   14   21   28   35   42   49   56   63\n",
      "8        0    8   16   24   32   40   48   56   64   72\n",
      "9        0    9   18   27   36   45   54   63   72   81\n"
     ]
    }
   ],
   "source": [
    "#%%writefile zadanie_10.py\n",
    "print(\"     \", end=\"\")\n",
    "for i in range(10):\n",
    "    print(f\"{i:5}\", end=\"\")\n",
    "print()\n",
    "print()\n",
    "\n",
    "for i in range(10):\n",
    "    print(f\"{i}    \", end=\"\")\n",
    "    for j in range(10):\n",
    "        print(f\"{i * j:5}\", end=\"\")\n",
    "    print()"
   ]
  },
  {
   "cell_type": "code",
   "execution_count": 306,
   "id": "c203e94f",
   "metadata": {},
   "outputs": [],
   "source": [
    "print?"
   ]
  },
  {
   "cell_type": "markdown",
   "id": "78bcd720",
   "metadata": {},
   "source": [
    "#### Zadanie 11\n",
    "\n",
    "Napisz program zamieniający miejscami w zadanej liście liczb element największy z najmniejszym."
   ]
  },
  {
   "cell_type": "code",
   "execution_count": 310,
   "id": "b4ec4020",
   "metadata": {},
   "outputs": [
    {
     "data": {
      "text/plain": [
       "[2, 3, 10, 5, 8, 1, 7]"
      ]
     },
     "execution_count": 310,
     "metadata": {},
     "output_type": "execute_result"
    }
   ],
   "source": [
    "lista = [2, 3, 1, 5, 8, 10, 7]\n",
    "\n",
    "i_min = 0\n",
    "i_max = 0\n",
    "\n",
    "for i, v in enumerate(lista):\n",
    "    if v < lista[i_min]:\n",
    "        i_min = i\n",
    "    \n",
    "    if v > lista[i_max]:\n",
    "        i_max = i\n",
    "\n",
    "# temp = lista[i_max]\n",
    "# lista[i_max] = lista[i_min]\n",
    "# lista[i_min] = temp\n",
    "lista[i_min], lista[i_max] = lista[i_max], lista[i_min]\n",
    "\n",
    "lista"
   ]
  },
  {
   "cell_type": "code",
   "execution_count": 311,
   "id": "314025fa",
   "metadata": {},
   "outputs": [],
   "source": [
    "a, b = 1, 2\n",
    "\n",
    "a, b = b, a\n",
    "a, b = 2, 1"
   ]
  },
  {
   "cell_type": "code",
   "execution_count": 312,
   "id": "151bc539",
   "metadata": {},
   "outputs": [
    {
     "name": "stdout",
     "output_type": "stream",
     "text": [
      "(0, 2)\n",
      "(1, 3)\n",
      "(2, 1)\n",
      "(3, 5)\n",
      "(4, 8)\n",
      "(5, 10)\n",
      "(6, 7)\n"
     ]
    }
   ],
   "source": [
    "lista = [2, 3, 1, 5, 8, 10, 7]\n",
    "\n",
    "\n",
    "for x in enumerate(lista):\n",
    "    print(x)"
   ]
  },
  {
   "cell_type": "code",
   "execution_count": 313,
   "id": "25aa4844",
   "metadata": {},
   "outputs": [
    {
     "name": "stdout",
     "output_type": "stream",
     "text": [
      "(0, 2)\n",
      "(1, 3)\n",
      "(2, 1)\n",
      "(3, 5)\n",
      "(4, 8)\n",
      "(5, 10)\n",
      "(6, 7)\n"
     ]
    }
   ],
   "source": [
    "i = 0\n",
    "for el in lista:\n",
    "    print((i, el))\n",
    "    i += 1"
   ]
  },
  {
   "cell_type": "markdown",
   "id": "d9cc5374",
   "metadata": {},
   "source": [
    "### napisy"
   ]
  },
  {
   "cell_type": "code",
   "execution_count": 319,
   "id": "f41ab3bb",
   "metadata": {},
   "outputs": [
    {
     "data": {
      "text/plain": [
       "'Aam oa'"
      ]
     },
     "execution_count": 319,
     "metadata": {},
     "output_type": "execute_result"
    }
   ],
   "source": [
    "napis = \"Ala ma kota\"\n",
    "\n",
    "napis[::2]"
   ]
  },
  {
   "cell_type": "code",
   "execution_count": 320,
   "id": "bf3731bf",
   "metadata": {},
   "outputs": [
    {
     "name": "stdout",
     "output_type": "stream",
     "text": [
      "A\n",
      "L\n",
      "A\n",
      " \n",
      "M\n",
      "A\n",
      " \n",
      "K\n",
      "O\n",
      "T\n",
      "A\n"
     ]
    }
   ],
   "source": [
    "for litera in napis:\n",
    "    print(litera.upper())"
   ]
  },
  {
   "cell_type": "markdown",
   "id": "b59daad9",
   "metadata": {},
   "source": [
    "#### Zadanie 11\n",
    "\n",
    "Napisz program zliczający liczbę znaków w podanym przez użytkownika napisie pomiędzy nawiasami <>. Nawiasy mogę wystąpić tylko raz.\n",
    "\n",
    "    Ala ma <kota>, a kot ma Alę\n",
    "    4\n",
    "    \n",
    "    Ala ma <kota>, a <kot> ma Alę\n",
    "    7"
   ]
  },
  {
   "cell_type": "code",
   "execution_count": 323,
   "id": "8991d66b",
   "metadata": {},
   "outputs": [
    {
     "name": "stdout",
     "output_type": "stream",
     "text": [
      "7\n"
     ]
    }
   ],
   "source": [
    "text = \"Ala ma <kota>, a <kot> ma Alę\"\n",
    "\n",
    "licznik = 0\n",
    "zliczaj = False\n",
    "\n",
    "for znak in text:\n",
    "    if znak == \"<\":\n",
    "        zliczaj=True\n",
    "    elif znak == \">\":\n",
    "        zliczaj=False\n",
    "    elif zliczaj:\n",
    "        licznik += 1\n",
    "        \n",
    "print(licznik)"
   ]
  },
  {
   "cell_type": "markdown",
   "id": "4c2f7cd2",
   "metadata": {},
   "source": [
    "#### Zadanie 12 (opt)\n",
    "\n",
    "Napisz program zliczający liczbę wystąpień samogłosek (a, e, i, o, u, y) w podanym przez użytkownika napisie.\n",
    "\n"
   ]
  },
  {
   "cell_type": "code",
   "execution_count": 325,
   "id": "3ce2690c",
   "metadata": {},
   "outputs": [
    {
     "name": "stdout",
     "output_type": "stream",
     "text": [
      "9\n"
     ]
    }
   ],
   "source": [
    "SAMOGLOSKI = \"aeiouy\"\n",
    "licznik = 0\n",
    "for znak in text.lower():\n",
    "    if znak in SAMOGLOSKI:\n",
    "        licznik += 1\n",
    "print(licznik)"
   ]
  },
  {
   "cell_type": "code",
   "execution_count": 326,
   "id": "b3f1a7c3",
   "metadata": {},
   "outputs": [
    {
     "data": {
      "text/plain": [
       "True"
      ]
     },
     "execution_count": 326,
     "metadata": {},
     "output_type": "execute_result"
    }
   ],
   "source": [
    "\"Ala\" in text"
   ]
  },
  {
   "cell_type": "markdown",
   "id": "d356fd56",
   "metadata": {},
   "source": [
    "### Słownik\n",
    "\n",
    "dict()\n",
    "{}\n",
    "{klucz: wartosc}\n",
    "\n"
   ]
  },
  {
   "cell_type": "code",
   "execution_count": 327,
   "id": "1abb43dc",
   "metadata": {},
   "outputs": [
    {
     "data": {
      "text/plain": [
       "{'a': 1, 'b': 2, 1: 'a'}"
      ]
     },
     "execution_count": 327,
     "metadata": {},
     "output_type": "execute_result"
    }
   ],
   "source": [
    "slownik = {\"a\": 1, \"b\": 2, 1: \"a\"}\n",
    "slownik"
   ]
  },
  {
   "cell_type": "code",
   "execution_count": 328,
   "id": "e76f83f8",
   "metadata": {},
   "outputs": [
    {
     "ename": "SyntaxError",
     "evalue": "expression cannot contain assignment, perhaps you meant \"==\"? (Temp/ipykernel_11844/2742704339.py, line 1)",
     "output_type": "error",
     "traceback": [
      "\u001b[1;36m  File \u001b[1;32m\"C:\\Users\\SZB345~1\\AppData\\Local\\Temp/ipykernel_11844/2742704339.py\"\u001b[1;36m, line \u001b[1;32m1\u001b[0m\n\u001b[1;33m    slownik2 = dict(a=1, b=2, 1='a')\u001b[0m\n\u001b[1;37m                              ^\u001b[0m\n\u001b[1;31mSyntaxError\u001b[0m\u001b[1;31m:\u001b[0m expression cannot contain assignment, perhaps you meant \"==\"?\n"
     ]
    }
   ],
   "source": [
    "slownik2 = dict(a=1, b=2, 1='a')"
   ]
  },
  {
   "cell_type": "code",
   "execution_count": 330,
   "id": "ca67273d",
   "metadata": {},
   "outputs": [
    {
     "data": {
      "text/plain": [
       "{'a': 1, 'b': 2}"
      ]
     },
     "execution_count": 330,
     "metadata": {},
     "output_type": "execute_result"
    }
   ],
   "source": [
    "slownik2 = dict(a=1, b=2)\n",
    "slownik2\n"
   ]
  },
  {
   "cell_type": "code",
   "execution_count": 331,
   "id": "f0e95840",
   "metadata": {},
   "outputs": [
    {
     "data": {
      "text/plain": [
       "1"
      ]
     },
     "execution_count": 331,
     "metadata": {},
     "output_type": "execute_result"
    }
   ],
   "source": [
    "slownik2['a']"
   ]
  },
  {
   "cell_type": "code",
   "execution_count": 332,
   "id": "9eb0b8ef",
   "metadata": {},
   "outputs": [],
   "source": [
    "slownik2[1] = 'a'"
   ]
  },
  {
   "cell_type": "code",
   "execution_count": 333,
   "id": "1f208b44",
   "metadata": {},
   "outputs": [
    {
     "data": {
      "text/plain": [
       "{'a': 1, 'b': 2, 1: 'a'}"
      ]
     },
     "execution_count": 333,
     "metadata": {},
     "output_type": "execute_result"
    }
   ],
   "source": [
    "slownik2"
   ]
  },
  {
   "cell_type": "code",
   "execution_count": 334,
   "id": "74205ceb",
   "metadata": {},
   "outputs": [],
   "source": [
    "slownik3 = dict((('a', 1), ('b', 2), (1, 'a')))"
   ]
  },
  {
   "cell_type": "code",
   "execution_count": 335,
   "id": "1c1efb09",
   "metadata": {},
   "outputs": [
    {
     "data": {
      "text/plain": [
       "{'a': 1, 'b': 2, 1: 'a'}"
      ]
     },
     "execution_count": 335,
     "metadata": {},
     "output_type": "execute_result"
    }
   ],
   "source": [
    "slownik3"
   ]
  },
  {
   "cell_type": "code",
   "execution_count": 336,
   "id": "ed75fc29",
   "metadata": {},
   "outputs": [
    {
     "data": {
      "text/plain": [
       "dict_keys(['a', 'b', 1])"
      ]
     },
     "execution_count": 336,
     "metadata": {},
     "output_type": "execute_result"
    }
   ],
   "source": [
    "slownik3.keys()"
   ]
  },
  {
   "cell_type": "code",
   "execution_count": 337,
   "id": "c591a534",
   "metadata": {},
   "outputs": [
    {
     "data": {
      "text/plain": [
       "dict_values([1, 2, 'a'])"
      ]
     },
     "execution_count": 337,
     "metadata": {},
     "output_type": "execute_result"
    }
   ],
   "source": [
    "slownik3.values()"
   ]
  },
  {
   "cell_type": "code",
   "execution_count": 338,
   "id": "ec458e3e",
   "metadata": {},
   "outputs": [
    {
     "data": {
      "text/plain": [
       "dict_items([('a', 1), ('b', 2), (1, 'a')])"
      ]
     },
     "execution_count": 338,
     "metadata": {},
     "output_type": "execute_result"
    }
   ],
   "source": [
    "slownik3.items()"
   ]
  },
  {
   "cell_type": "code",
   "execution_count": 339,
   "id": "8c609dd8",
   "metadata": {},
   "outputs": [
    {
     "ename": "KeyError",
     "evalue": "'x'",
     "output_type": "error",
     "traceback": [
      "\u001b[1;31m---------------------------------------------------------------------------\u001b[0m",
      "\u001b[1;31mKeyError\u001b[0m                                  Traceback (most recent call last)",
      "\u001b[1;32mC:\\Users\\SZB345~1\\AppData\\Local\\Temp/ipykernel_11844/1469910641.py\u001b[0m in \u001b[0;36m<module>\u001b[1;34m\u001b[0m\n\u001b[1;32m----> 1\u001b[1;33m \u001b[0mslownik3\u001b[0m\u001b[1;33m[\u001b[0m\u001b[1;34m'x'\u001b[0m\u001b[1;33m]\u001b[0m\u001b[1;33m\u001b[0m\u001b[1;33m\u001b[0m\u001b[0m\n\u001b[0m",
      "\u001b[1;31mKeyError\u001b[0m: 'x'"
     ]
    }
   ],
   "source": [
    "slownik3['x']"
   ]
  },
  {
   "cell_type": "code",
   "execution_count": 340,
   "id": "4f06abac",
   "metadata": {},
   "outputs": [],
   "source": [
    "if 'x' in slownik3:\n",
    "    v = slownik3['x']"
   ]
  },
  {
   "cell_type": "code",
   "execution_count": 341,
   "id": "69173e9e",
   "metadata": {},
   "outputs": [
    {
     "name": "stdout",
     "output_type": "stream",
     "text": [
      "a\n",
      "b\n",
      "1\n"
     ]
    }
   ],
   "source": [
    "for k in slownik3:\n",
    "    print(k)"
   ]
  },
  {
   "cell_type": "code",
   "execution_count": 342,
   "id": "547e1aef",
   "metadata": {},
   "outputs": [],
   "source": [
    "v = slownik3.get('x')"
   ]
  },
  {
   "cell_type": "code",
   "execution_count": 344,
   "id": "74a16895",
   "metadata": {},
   "outputs": [
    {
     "data": {
      "text/plain": [
       "True"
      ]
     },
     "execution_count": 344,
     "metadata": {},
     "output_type": "execute_result"
    }
   ],
   "source": [
    "v is None"
   ]
  },
  {
   "cell_type": "code",
   "execution_count": 345,
   "id": "2946e052",
   "metadata": {},
   "outputs": [],
   "source": [
    "v = slownik3.get('x', 0)"
   ]
  },
  {
   "cell_type": "code",
   "execution_count": 346,
   "id": "e037bd8d",
   "metadata": {},
   "outputs": [
    {
     "data": {
      "text/plain": [
       "0"
      ]
     },
     "execution_count": 346,
     "metadata": {},
     "output_type": "execute_result"
    }
   ],
   "source": [
    "v"
   ]
  },
  {
   "cell_type": "code",
   "execution_count": 347,
   "id": "8af257e9",
   "metadata": {},
   "outputs": [
    {
     "data": {
      "text/plain": [
       "'aeiouy'"
      ]
     },
     "execution_count": 347,
     "metadata": {},
     "output_type": "execute_result"
    }
   ],
   "source": [
    "SAMOGLOSKI"
   ]
  },
  {
   "cell_type": "code",
   "execution_count": 348,
   "id": "3f9e9259",
   "metadata": {},
   "outputs": [],
   "source": [
    "licznik_samoglosek = {}"
   ]
  },
  {
   "cell_type": "code",
   "execution_count": 350,
   "id": "2142932f",
   "metadata": {},
   "outputs": [],
   "source": [
    "for znak in text.lower():\n",
    "    if znak in SAMOGLOSKI:\n",
    "        licznik_samoglosek[znak] =  licznik_samoglosek.get(znak, 0) + 1\n",
    "        "
   ]
  },
  {
   "cell_type": "code",
   "execution_count": 351,
   "id": "a7eeb453",
   "metadata": {},
   "outputs": [
    {
     "data": {
      "text/plain": [
       "['__class__',\n",
       " '__class_getitem__',\n",
       " '__contains__',\n",
       " '__delattr__',\n",
       " '__delitem__',\n",
       " '__dir__',\n",
       " '__doc__',\n",
       " '__eq__',\n",
       " '__format__',\n",
       " '__ge__',\n",
       " '__getattribute__',\n",
       " '__getitem__',\n",
       " '__gt__',\n",
       " '__hash__',\n",
       " '__init__',\n",
       " '__init_subclass__',\n",
       " '__ior__',\n",
       " '__iter__',\n",
       " '__le__',\n",
       " '__len__',\n",
       " '__lt__',\n",
       " '__ne__',\n",
       " '__new__',\n",
       " '__or__',\n",
       " '__reduce__',\n",
       " '__reduce_ex__',\n",
       " '__repr__',\n",
       " '__reversed__',\n",
       " '__ror__',\n",
       " '__setattr__',\n",
       " '__setitem__',\n",
       " '__sizeof__',\n",
       " '__str__',\n",
       " '__subclasshook__',\n",
       " 'clear',\n",
       " 'copy',\n",
       " 'fromkeys',\n",
       " 'get',\n",
       " 'items',\n",
       " 'keys',\n",
       " 'pop',\n",
       " 'popitem',\n",
       " 'setdefault',\n",
       " 'update',\n",
       " 'values']"
      ]
     },
     "execution_count": 351,
     "metadata": {},
     "output_type": "execute_result"
    }
   ],
   "source": [
    "dir(licznik_samoglosek)"
   ]
  },
  {
   "cell_type": "code",
   "execution_count": 354,
   "id": "04194463",
   "metadata": {},
   "outputs": [
    {
     "data": {
      "text/plain": [
       "14"
      ]
     },
     "execution_count": 354,
     "metadata": {},
     "output_type": "execute_result"
    }
   ],
   "source": [
    "licznik_samoglosek.pop('a')"
   ]
  },
  {
   "cell_type": "code",
   "execution_count": 355,
   "id": "4667dae0",
   "metadata": {},
   "outputs": [
    {
     "data": {
      "text/plain": [
       "{'o': 4}"
      ]
     },
     "execution_count": 355,
     "metadata": {},
     "output_type": "execute_result"
    }
   ],
   "source": [
    "licznik_samoglosek"
   ]
  },
  {
   "cell_type": "code",
   "execution_count": 357,
   "id": "2ef705ed",
   "metadata": {},
   "outputs": [],
   "source": [
    "licznik_samoglosek.popitem?"
   ]
  },
  {
   "cell_type": "markdown",
   "id": "1d4df1c3",
   "metadata": {},
   "source": [
    "#### Zadanie 12\n",
    "\n",
    "Napisz program wyliczający kwotę należną za zakupiony towar na podstawie podanej przez użytkownika wagi i nazwy produktu. \n",
    "Do przechowywania informacji o cenie za kilogram danego produktu użyj słownika. Wypisz wszystkie dostępne produkty w sklepie.\n",
    "\n",
    "\n",
    "    W naszym sklepiej oferujemy:\n",
    "        - marchew   - 1.23 PLN\n",
    "        - cebula    - 0.56 PLN\n",
    "        - ziemniaki - 1.11 PLN\n",
    "        \n",
    "    Co chcesz kupic?\n",
    "    marchew\n",
    "    \n",
    "    ile chesz kupić? 1\n",
    "    Cena: 1.23\n",
    "        \n"
   ]
  },
  {
   "cell_type": "code",
   "execution_count": 361,
   "id": "de304bd3",
   "metadata": {},
   "outputs": [
    {
     "name": "stdout",
     "output_type": "stream",
     "text": [
      "Oferta\n",
      " - marchew              - 1.23 PLN\n",
      " - cebula               - 0.56 PLN\n",
      " - ziemniaki            - 1.11 PLN\n",
      "Co chcesz kupić? cebula\n",
      "Ile? 2\n",
      "Należność: 1.12\n"
     ]
    }
   ],
   "source": [
    "produkty = {\n",
    "    \"marchew\": 1.23,\n",
    "    \"cebula\": 0.56,\n",
    "    \"ziemniaki\": 1.11,\n",
    "}\n",
    "\n",
    "print(\"Oferta\")\n",
    "# for produkt in produkty\n",
    "for produkt, cena in produkty.items():\n",
    "    print(f\" - {produkt:20} - {cena:3.2f} PLN\")\n",
    "\n",
    "pr = input(\"Co chcesz kupić? \")\n",
    "ile = float(input(\"Ile? \"))\n",
    "\n",
    "cena = ile * produkty[pr]\n",
    "\n",
    "print(\"Należność:\", cena)"
   ]
  },
  {
   "attachments": {
    "image.png": {
     "image/png": "[encoded data removed]"
    }
   },
   "cell_type": "markdown",
   "id": "654c22cb",
   "metadata": {},
   "source": [
    "### Zbiór - set\n",
    "\n",
    "set()\n",
    "\n",
    "{1, 2}\n",
    "\n",
    "- unikalne wartosci\n",
    "- brak porzadku\n",
    "\n",
    "![image.png](attachment:image.png)"
   ]
  },
  {
   "cell_type": "code",
   "execution_count": 362,
   "id": "15da0d64",
   "metadata": {},
   "outputs": [],
   "source": [
    "A = {1, 2, 3, 4}\n",
    "B = {3, 4, 5, 6}"
   ]
  },
  {
   "cell_type": "code",
   "execution_count": 363,
   "id": "f1217c00",
   "metadata": {},
   "outputs": [
    {
     "data": {
      "text/plain": [
       "{1, 2, 3, 4, 5, 6}"
      ]
     },
     "execution_count": 363,
     "metadata": {},
     "output_type": "execute_result"
    }
   ],
   "source": [
    "# suma\n",
    "\n",
    "A | B"
   ]
  },
  {
   "cell_type": "code",
   "execution_count": 364,
   "id": "0833b27b",
   "metadata": {},
   "outputs": [
    {
     "data": {
      "text/plain": [
       "{1, 2}"
      ]
     },
     "execution_count": 364,
     "metadata": {},
     "output_type": "execute_result"
    }
   ],
   "source": [
    "# różnica\n",
    "\n",
    "A - B"
   ]
  },
  {
   "cell_type": "code",
   "execution_count": 365,
   "id": "040f38cc",
   "metadata": {},
   "outputs": [
    {
     "data": {
      "text/plain": [
       "{3, 4}"
      ]
     },
     "execution_count": 365,
     "metadata": {},
     "output_type": "execute_result"
    }
   ],
   "source": [
    "# iloczyn (część wspólna)\n",
    "\n",
    "A & B"
   ]
  },
  {
   "cell_type": "code",
   "execution_count": 366,
   "id": "e377c4f5",
   "metadata": {},
   "outputs": [
    {
     "data": {
      "text/plain": [
       "{1, 2, 5, 6}"
      ]
     },
     "execution_count": 366,
     "metadata": {},
     "output_type": "execute_result"
    }
   ],
   "source": [
    "# różnica symetryczna\n",
    "A ^ B"
   ]
  },
  {
   "cell_type": "code",
   "execution_count": 367,
   "id": "db9e3195",
   "metadata": {},
   "outputs": [],
   "source": [
    "zbior = set() # pusty zbior\n",
    "\n",
    "zbior.add(1)"
   ]
  },
  {
   "cell_type": "code",
   "execution_count": 368,
   "id": "9a0ef6a9",
   "metadata": {},
   "outputs": [],
   "source": [
    "zbior.add('a')"
   ]
  },
  {
   "cell_type": "code",
   "execution_count": 369,
   "id": "bacc2abb",
   "metadata": {},
   "outputs": [],
   "source": [
    "zbior.add((1, 2))"
   ]
  },
  {
   "cell_type": "code",
   "execution_count": 370,
   "id": "4ee5da8b",
   "metadata": {},
   "outputs": [
    {
     "ename": "TypeError",
     "evalue": "unhashable type: 'list'",
     "output_type": "error",
     "traceback": [
      "\u001b[1;31m---------------------------------------------------------------------------\u001b[0m",
      "\u001b[1;31mTypeError\u001b[0m                                 Traceback (most recent call last)",
      "\u001b[1;32mC:\\Users\\SZB345~1\\AppData\\Local\\Temp/ipykernel_11844/1879852738.py\u001b[0m in \u001b[0;36m<module>\u001b[1;34m\u001b[0m\n\u001b[1;32m----> 1\u001b[1;33m \u001b[0mzbior\u001b[0m\u001b[1;33m.\u001b[0m\u001b[0madd\u001b[0m\u001b[1;33m(\u001b[0m\u001b[1;33m[\u001b[0m\u001b[1;36m1\u001b[0m\u001b[1;33m,\u001b[0m \u001b[1;36m2\u001b[0m\u001b[1;33m]\u001b[0m\u001b[1;33m)\u001b[0m\u001b[1;33m\u001b[0m\u001b[1;33m\u001b[0m\u001b[0m\n\u001b[0m",
      "\u001b[1;31mTypeError\u001b[0m: unhashable type: 'list'"
     ]
    }
   ],
   "source": [
    "zbior.add([1, 2])"
   ]
  },
  {
   "cell_type": "code",
   "execution_count": 371,
   "id": "bfb9b2b2",
   "metadata": {},
   "outputs": [
    {
     "data": {
      "text/plain": [
       "{(1, 2), 1, 'a'}"
      ]
     },
     "execution_count": 371,
     "metadata": {},
     "output_type": "execute_result"
    }
   ],
   "source": [
    "zbior\n"
   ]
  },
  {
   "cell_type": "code",
   "execution_count": 372,
   "id": "a268b66b",
   "metadata": {},
   "outputs": [],
   "source": [
    "zbior.add(1)"
   ]
  },
  {
   "cell_type": "code",
   "execution_count": 373,
   "id": "829e8e04",
   "metadata": {},
   "outputs": [
    {
     "data": {
      "text/plain": [
       "{(1, 2), 1, 'a'}"
      ]
     },
     "execution_count": 373,
     "metadata": {},
     "output_type": "execute_result"
    }
   ],
   "source": [
    "zbior"
   ]
  },
  {
   "cell_type": "code",
   "execution_count": 374,
   "id": "7861e7b7",
   "metadata": {},
   "outputs": [
    {
     "data": {
      "text/plain": [
       "{1, 2, 3, 4}"
      ]
     },
     "execution_count": 374,
     "metadata": {},
     "output_type": "execute_result"
    }
   ],
   "source": [
    "lista = [1, 1, 1, 2, 2, 2, 1, 1, 4, 3]\n",
    "\n",
    "set(lista)"
   ]
  },
  {
   "cell_type": "code",
   "execution_count": 375,
   "id": "9803274d",
   "metadata": {},
   "outputs": [
    {
     "data": {
      "text/plain": [
       "True"
      ]
     },
     "execution_count": 375,
     "metadata": {},
     "output_type": "execute_result"
    }
   ],
   "source": [
    "1 in zbior"
   ]
  },
  {
   "cell_type": "code",
   "execution_count": 376,
   "id": "c6759ca2",
   "metadata": {},
   "outputs": [
    {
     "name": "stdout",
     "output_type": "stream",
     "text": [
      "1\n",
      "(1, 2)\n",
      "a\n"
     ]
    }
   ],
   "source": [
    "for el in zbior:\n",
    "    print(el)"
   ]
  },
  {
   "cell_type": "code",
   "execution_count": 378,
   "id": "a2903d64",
   "metadata": {},
   "outputs": [
    {
     "data": {
      "text/plain": [
       "['__and__',\n",
       " '__class__',\n",
       " '__class_getitem__',\n",
       " '__contains__',\n",
       " '__delattr__',\n",
       " '__dir__',\n",
       " '__doc__',\n",
       " '__eq__',\n",
       " '__format__',\n",
       " '__ge__',\n",
       " '__getattribute__',\n",
       " '__gt__',\n",
       " '__hash__',\n",
       " '__iand__',\n",
       " '__init__',\n",
       " '__init_subclass__',\n",
       " '__ior__',\n",
       " '__isub__',\n",
       " '__iter__',\n",
       " '__ixor__',\n",
       " '__le__',\n",
       " '__len__',\n",
       " '__lt__',\n",
       " '__ne__',\n",
       " '__new__',\n",
       " '__or__',\n",
       " '__rand__',\n",
       " '__reduce__',\n",
       " '__reduce_ex__',\n",
       " '__repr__',\n",
       " '__ror__',\n",
       " '__rsub__',\n",
       " '__rxor__',\n",
       " '__setattr__',\n",
       " '__sizeof__',\n",
       " '__str__',\n",
       " '__sub__',\n",
       " '__subclasshook__',\n",
       " '__xor__',\n",
       " 'add',\n",
       " 'clear',\n",
       " 'copy',\n",
       " 'difference',\n",
       " 'difference_update',\n",
       " 'discard',\n",
       " 'intersection',\n",
       " 'intersection_update',\n",
       " 'isdisjoint',\n",
       " 'issubset',\n",
       " 'issuperset',\n",
       " 'pop',\n",
       " 'remove',\n",
       " 'symmetric_difference',\n",
       " 'symmetric_difference_update',\n",
       " 'union',\n",
       " 'update']"
      ]
     },
     "execution_count": 378,
     "metadata": {},
     "output_type": "execute_result"
    }
   ],
   "source": [
    "dir(zbior)"
   ]
  },
  {
   "cell_type": "markdown",
   "id": "f7b323ce",
   "metadata": {},
   "source": [
    "#### Zadanie 14\n",
    "\n",
    "Napisz program zliczający liczbę unikalnych liczb wprowadzonych przez użytkownika. Sprawdź jak dużo z tych liczb jest liczbami parzystymi w zakresie 0-100 - w tym celu skorzystaj z operatora iloczynu.\n",
    "\n",
    "1\n",
    "2\n",
    "1\n",
    "2\n",
    "1\n",
    "2\n",
    "\n",
    "range, set, input"
   ]
  },
  {
   "cell_type": "code",
   "execution_count": null,
   "id": "e00a3149",
   "metadata": {},
   "outputs": [],
   "source": []
  }
 ],
 "metadata": {
  "kernelspec": {
   "display_name": "Python 3 (ipykernel)",
   "language": "python",
   "name": "python3"
  },
  "language_info": {
   "codemirror_mode": {
    "name": "ipython",
    "version": 3
   },
   "file_extension": ".py",
   "mimetype": "text/x-python",
   "name": "python",
   "nbconvert_exporter": "python",
   "pygments_lexer": "ipython3",
   "version": "3.10.1"
  }
 },
 "nbformat": 4,
 "nbformat_minor": 5
}
