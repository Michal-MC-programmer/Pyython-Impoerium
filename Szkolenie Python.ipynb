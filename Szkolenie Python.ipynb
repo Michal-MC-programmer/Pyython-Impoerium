{
 "cells": [
  {
   "cell_type": "markdown",
   "id": "cfff1385",
   "metadata": {},
   "source": [
    "# Podstawy\n",
    "\n",
    "## Markdown\n",
    "\n",
    "```\n",
    "# H1 \n",
    "## H2\n",
    "```\n",
    "\n",
    "## GIT\n",
    "\n",
    "    git init - inicjalizacja pustego repo\n",
    "    \n",
    "    Po utworzeniu polecenia\n",
    "    (git remote add origin <adres>)\n",
    "    (git config --global user.email \"email\")\n",
    "    (git config --global user.name \"name\")\n",
    "    (git config --list)\n",
    "    \n",
    "    Najczestsze polecenia\n",
    "    git status\n",
    "    git add <nazwa pliku>\n",
    "    git commit -m \"message\" # tworzenie rewizji\n",
    "    git push origin master  # wysyla zmiany do zdalnego repo\n",
    "    \n",
    "    git branch  # sprawdza galaz\n",
    "    \n",
    "\n",
    "    git pull origin master  # sciaga zmiany ze zdalnego repo\n",
    "    \n",
    "    git clone <adres>\n",
    "    \n",
    "## Podstawowe typy\n",
    "\n",
    "### int - liczby całkowite\n"
   ]
  },
  {
   "cell_type": "code",
   "execution_count": 2,
   "id": "4e1f716d",
   "metadata": {},
   "outputs": [
    {
     "data": {
      "text/plain": [
       "100000000"
      ]
     },
     "execution_count": 2,
     "metadata": {},
     "output_type": "execute_result"
    }
   ],
   "source": [
    "1\n",
    "2\n",
    "\n",
    "10000\n",
    "100_000_000  # separator pomocniczy"
   ]
  },
  {
   "cell_type": "code",
   "execution_count": 3,
   "id": "69894c32",
   "metadata": {},
   "outputs": [
    {
     "data": {
      "text/plain": [
       "0"
      ]
     },
     "execution_count": 3,
     "metadata": {},
     "output_type": "execute_result"
    }
   ],
   "source": [
    "int()"
   ]
  },
  {
   "cell_type": "code",
   "execution_count": 4,
   "id": "8f665c6f",
   "metadata": {},
   "outputs": [
    {
     "data": {
      "text/plain": [
       "100"
      ]
     },
     "execution_count": 4,
     "metadata": {},
     "output_type": "execute_result"
    }
   ],
   "source": [
    "int(\"100\")"
   ]
  },
  {
   "cell_type": "code",
   "execution_count": 5,
   "id": "5c99efa4",
   "metadata": {},
   "outputs": [
    {
     "data": {
      "text/plain": [
       "str"
      ]
     },
     "execution_count": 5,
     "metadata": {},
     "output_type": "execute_result"
    }
   ],
   "source": [
    "type(\"100\")"
   ]
  },
  {
   "cell_type": "code",
   "execution_count": 6,
   "id": "b3e212af",
   "metadata": {},
   "outputs": [
    {
     "data": {
      "text/plain": [
       "int"
      ]
     },
     "execution_count": 6,
     "metadata": {},
     "output_type": "execute_result"
    }
   ],
   "source": [
    "type(int(\"100\"))"
   ]
  },
  {
   "cell_type": "code",
   "execution_count": 7,
   "id": "c48bc2bc",
   "metadata": {},
   "outputs": [
    {
     "data": {
      "text/plain": [
       "2"
      ]
     },
     "execution_count": 7,
     "metadata": {},
     "output_type": "execute_result"
    }
   ],
   "source": [
    "int(2.7)"
   ]
  },
  {
   "cell_type": "code",
   "execution_count": 9,
   "id": "6e7d2524",
   "metadata": {},
   "outputs": [
    {
     "ename": "ValueError",
     "evalue": "invalid literal for int() with base 10: '2.7'",
     "output_type": "error",
     "traceback": [
      "\u001b[1;31m---------------------------------------------------------------------------\u001b[0m",
      "\u001b[1;31mValueError\u001b[0m                                Traceback (most recent call last)",
      "\u001b[1;32mC:\\Users\\SZB345~1\\AppData\\Local\\Temp/ipykernel_4196/4095753669.py\u001b[0m in \u001b[0;36m<module>\u001b[1;34m\u001b[0m\n\u001b[1;32m----> 1\u001b[1;33m \u001b[0mint\u001b[0m\u001b[1;33m(\u001b[0m\u001b[1;34m\"2.7\"\u001b[0m\u001b[1;33m)\u001b[0m\u001b[1;33m\u001b[0m\u001b[1;33m\u001b[0m\u001b[0m\n\u001b[0m",
      "\u001b[1;31mValueError\u001b[0m: invalid literal for int() with base 10: '2.7'"
     ]
    }
   ],
   "source": [
    "int(\"2.7\")"
   ]
  },
  {
   "cell_type": "markdown",
   "id": "bf20e9f5",
   "metadata": {},
   "source": [
    "### float - liczby zmiennoprzecinkowe\n",
    "\n",
    "float"
   ]
  },
  {
   "cell_type": "code",
   "execution_count": 10,
   "id": "cbbfc536",
   "metadata": {},
   "outputs": [
    {
     "data": {
      "text/plain": [
       "1.0"
      ]
     },
     "execution_count": 10,
     "metadata": {},
     "output_type": "execute_result"
    }
   ],
   "source": [
    "float(1)"
   ]
  },
  {
   "cell_type": "code",
   "execution_count": 11,
   "id": "6907752a",
   "metadata": {},
   "outputs": [
    {
     "data": {
      "text/plain": [
       "False"
      ]
     },
     "execution_count": 11,
     "metadata": {},
     "output_type": "execute_result"
    }
   ],
   "source": [
    "0.1 + 0.1 + 0.1 == 0.3"
   ]
  },
  {
   "cell_type": "markdown",
   "id": "97274334",
   "metadata": {},
   "source": [
    "#### Operatory\n",
    "\n",
    "    + dodawanie\n",
    "    - odejmowanie\n",
    "    * mnożenie\n",
    "    / dzielenie\n",
    "    // dzielenie calkowite\n",
    "    % modulo - reszta z dzielenia\n",
    "    ** operator potegowania"
   ]
  },
  {
   "cell_type": "code",
   "execution_count": 12,
   "id": "41fbd185",
   "metadata": {},
   "outputs": [
    {
     "data": {
      "text/plain": [
       "3.3333333333333335"
      ]
     },
     "execution_count": 12,
     "metadata": {},
     "output_type": "execute_result"
    }
   ],
   "source": [
    "10 / 3"
   ]
  },
  {
   "cell_type": "code",
   "execution_count": 13,
   "id": "a5422974",
   "metadata": {},
   "outputs": [
    {
     "data": {
      "text/plain": [
       "3"
      ]
     },
     "execution_count": 13,
     "metadata": {},
     "output_type": "execute_result"
    }
   ],
   "source": [
    "10 // 3"
   ]
  },
  {
   "cell_type": "code",
   "execution_count": 14,
   "id": "9a21357c",
   "metadata": {},
   "outputs": [
    {
     "data": {
      "text/plain": [
       "1"
      ]
     },
     "execution_count": 14,
     "metadata": {},
     "output_type": "execute_result"
    }
   ],
   "source": [
    "10 % 3"
   ]
  },
  {
   "cell_type": "code",
   "execution_count": 15,
   "id": "5264cd0a",
   "metadata": {},
   "outputs": [
    {
     "data": {
      "text/plain": [
       "9"
      ]
     },
     "execution_count": 15,
     "metadata": {},
     "output_type": "execute_result"
    }
   ],
   "source": [
    "3 ** 2"
   ]
  },
  {
   "cell_type": "code",
   "execution_count": 16,
   "id": "789c130f",
   "metadata": {},
   "outputs": [
    {
     "data": {
      "text/plain": [
       "3.0"
      ]
     },
     "execution_count": 16,
     "metadata": {},
     "output_type": "execute_result"
    }
   ],
   "source": [
    "9 ** 0.5"
   ]
  },
  {
   "cell_type": "markdown",
   "id": "68fccaae",
   "metadata": {},
   "source": [
    "#### Zadanie\n",
    "W sesji interaktywnego środowiska interpretera oblicz następujące wartości:\n",
    "\n",
    "* pole trójkąta o podstawie 10 i wysokości 5\n",
    "* pole koła o promieniu 7\n",
    "* pole trapezu o długości podstaw 3 i 9 oraz wysokości 6.5 \n",
    "* objętość kuli o promieniu 7/8"
   ]
  },
  {
   "cell_type": "code",
   "execution_count": 1,
   "id": "88e3e011",
   "metadata": {},
   "outputs": [
    {
     "data": {
      "text/plain": [
       "25.0"
      ]
     },
     "execution_count": 1,
     "metadata": {},
     "output_type": "execute_result"
    }
   ],
   "source": [
    "0.5 * 10 * 5"
   ]
  },
  {
   "cell_type": "code",
   "execution_count": 2,
   "id": "d9a65b88",
   "metadata": {},
   "outputs": [],
   "source": [
    "import math"
   ]
  },
  {
   "cell_type": "code",
   "execution_count": 4,
   "id": "282abfd2",
   "metadata": {},
   "outputs": [
    {
     "data": {
      "text/plain": [
       "153.93804002589985"
      ]
     },
     "execution_count": 4,
     "metadata": {},
     "output_type": "execute_result"
    }
   ],
   "source": [
    "math.pi * 7 ** 2"
   ]
  },
  {
   "cell_type": "code",
   "execution_count": 5,
   "id": "b8608651",
   "metadata": {},
   "outputs": [
    {
     "data": {
      "text/plain": [
       "39.0"
      ]
     },
     "execution_count": 5,
     "metadata": {},
     "output_type": "execute_result"
    }
   ],
   "source": [
    "(3 + 9) * 6.5 / 2"
   ]
  },
  {
   "cell_type": "code",
   "execution_count": 7,
   "id": "9d8be686",
   "metadata": {},
   "outputs": [
    {
     "data": {
      "text/plain": [
       "2.806162187972133"
      ]
     },
     "execution_count": 7,
     "metadata": {},
     "output_type": "execute_result"
    }
   ],
   "source": [
    "(4 * math.pi * (7/8) ** 3) / 3"
   ]
  },
  {
   "cell_type": "markdown",
   "id": "837b1e6b",
   "metadata": {},
   "source": [
    "#### Zasady PEP8\n",
    "\n",
    "https://www.python.org/dev/peps/pep-0008/\n",
    "\n",
    "flake8\n",
    "\n",
    "black"
   ]
  },
  {
   "cell_type": "markdown",
   "id": "fc26ddc6",
   "metadata": {},
   "source": [
    "### bool\n",
    "\n",
    "False/True"
   ]
  },
  {
   "cell_type": "code",
   "execution_count": 8,
   "id": "2e51d119",
   "metadata": {},
   "outputs": [
    {
     "data": {
      "text/plain": [
       "False"
      ]
     },
     "execution_count": 8,
     "metadata": {},
     "output_type": "execute_result"
    }
   ],
   "source": [
    "False"
   ]
  },
  {
   "cell_type": "code",
   "execution_count": 9,
   "id": "3badfb7c",
   "metadata": {},
   "outputs": [
    {
     "data": {
      "text/plain": [
       "True"
      ]
     },
     "execution_count": 9,
     "metadata": {},
     "output_type": "execute_result"
    }
   ],
   "source": [
    "True"
   ]
  },
  {
   "cell_type": "markdown",
   "id": "eb3b2242",
   "metadata": {},
   "source": [
    "#### Operatory porównania\n",
    "    \n",
    "    ==\n",
    "    !=\n",
    "    <\n",
    "    <=\n",
    "    >\n",
    "    >=\n",
    "    \n",
    "    inne operatory, które zwrócą wartość True/ False, to\n",
    "    \n",
    "    in\n",
    "    is"
   ]
  },
  {
   "cell_type": "code",
   "execution_count": 11,
   "id": "11e5c097",
   "metadata": {},
   "outputs": [
    {
     "data": {
      "text/plain": [
       "True"
      ]
     },
     "execution_count": 11,
     "metadata": {},
     "output_type": "execute_result"
    }
   ],
   "source": [
    "1 * 2 == 6 / 3"
   ]
  },
  {
   "cell_type": "code",
   "execution_count": 12,
   "id": "8771f648",
   "metadata": {},
   "outputs": [
    {
     "data": {
      "text/plain": [
       "False"
      ]
     },
     "execution_count": 12,
     "metadata": {},
     "output_type": "execute_result"
    }
   ],
   "source": [
    "1 * 2 == 3 / 2"
   ]
  },
  {
   "cell_type": "markdown",
   "id": "c0ba38eb",
   "metadata": {},
   "source": [
    "#### Operatory logiczne\n",
    "\n",
    "    and - koniunkcja\n",
    "    or - alternatywa\n",
    "    not - negacja"
   ]
  },
  {
   "cell_type": "code",
   "execution_count": 13,
   "id": "3f4693c7",
   "metadata": {},
   "outputs": [
    {
     "data": {
      "text/plain": [
       "True"
      ]
     },
     "execution_count": 13,
     "metadata": {},
     "output_type": "execute_result"
    }
   ],
   "source": [
    "False or True"
   ]
  },
  {
   "cell_type": "code",
   "execution_count": 14,
   "id": "29a76cf8",
   "metadata": {},
   "outputs": [
    {
     "data": {
      "text/plain": [
       "False"
      ]
     },
     "execution_count": 14,
     "metadata": {},
     "output_type": "execute_result"
    }
   ],
   "source": [
    "False and True"
   ]
  },
  {
   "cell_type": "code",
   "execution_count": 15,
   "id": "f012d7ba",
   "metadata": {},
   "outputs": [
    {
     "data": {
      "text/plain": [
       "True"
      ]
     },
     "execution_count": 15,
     "metadata": {},
     "output_type": "execute_result"
    }
   ],
   "source": [
    "not False"
   ]
  },
  {
   "cell_type": "code",
   "execution_count": 16,
   "id": "7a343e0d",
   "metadata": {},
   "outputs": [
    {
     "data": {
      "text/plain": [
       "True"
      ]
     },
     "execution_count": 16,
     "metadata": {},
     "output_type": "execute_result"
    }
   ],
   "source": [
    "1 * 2 == 3 / 2 or 3 > 2"
   ]
  },
  {
   "cell_type": "code",
   "execution_count": 17,
   "id": "0c108ade",
   "metadata": {},
   "outputs": [
    {
     "data": {
      "text/plain": [
       "False"
      ]
     },
     "execution_count": 17,
     "metadata": {},
     "output_type": "execute_result"
    }
   ],
   "source": [
    "1 * 2 == 3 / 2 and 3 > 2"
   ]
  },
  {
   "cell_type": "code",
   "execution_count": 18,
   "id": "772ab53e",
   "metadata": {},
   "outputs": [
    {
     "data": {
      "text/plain": [
       "True"
      ]
     },
     "execution_count": 18,
     "metadata": {},
     "output_type": "execute_result"
    }
   ],
   "source": [
    "1 == 1.0"
   ]
  },
  {
   "cell_type": "code",
   "execution_count": 19,
   "id": "f9db9225",
   "metadata": {},
   "outputs": [
    {
     "data": {
      "text/plain": [
       "False"
      ]
     },
     "execution_count": 19,
     "metadata": {},
     "output_type": "execute_result"
    }
   ],
   "source": [
    "1 == \"1\""
   ]
  },
  {
   "cell_type": "code",
   "execution_count": 20,
   "id": "dc8d2697",
   "metadata": {},
   "outputs": [
    {
     "data": {
      "text/plain": [
       "True"
      ]
     },
     "execution_count": 20,
     "metadata": {},
     "output_type": "execute_result"
    }
   ],
   "source": [
    "1 == True"
   ]
  },
  {
   "cell_type": "code",
   "execution_count": 21,
   "id": "2892f474",
   "metadata": {},
   "outputs": [
    {
     "data": {
      "text/plain": [
       "2"
      ]
     },
     "execution_count": 21,
     "metadata": {},
     "output_type": "execute_result"
    }
   ],
   "source": [
    "1 + True"
   ]
  },
  {
   "cell_type": "code",
   "execution_count": 22,
   "id": "a520c143",
   "metadata": {},
   "outputs": [
    {
     "name": "stderr",
     "output_type": "stream",
     "text": [
      "<>:1: SyntaxWarning: \"is\" with a literal. Did you mean \"==\"?\n",
      "<>:1: SyntaxWarning: \"is\" with a literal. Did you mean \"==\"?\n",
      "C:\\Users\\SZB345~1\\AppData\\Local\\Temp/ipykernel_11844/3482963539.py:1: SyntaxWarning: \"is\" with a literal. Did you mean \"==\"?\n",
      "  1 is True\n"
     ]
    },
    {
     "data": {
      "text/plain": [
       "False"
      ]
     },
     "execution_count": 22,
     "metadata": {},
     "output_type": "execute_result"
    }
   ],
   "source": [
    "1 is True"
   ]
  },
  {
   "cell_type": "code",
   "execution_count": 23,
   "id": "7c844d78",
   "metadata": {},
   "outputs": [
    {
     "data": {
      "text/plain": [
       "3035582890224"
      ]
     },
     "execution_count": 23,
     "metadata": {},
     "output_type": "execute_result"
    }
   ],
   "source": [
    "id(1)"
   ]
  },
  {
   "cell_type": "code",
   "execution_count": 24,
   "id": "85f445f2",
   "metadata": {},
   "outputs": [
    {
     "data": {
      "text/plain": [
       "140725254495080"
      ]
     },
     "execution_count": 24,
     "metadata": {},
     "output_type": "execute_result"
    }
   ],
   "source": [
    "id(True)"
   ]
  },
  {
   "cell_type": "code",
   "execution_count": 25,
   "id": "7e9f2403",
   "metadata": {},
   "outputs": [
    {
     "data": {
      "text/plain": [
       "0"
      ]
     },
     "execution_count": 25,
     "metadata": {},
     "output_type": "execute_result"
    }
   ],
   "source": [
    "int(False)"
   ]
  },
  {
   "cell_type": "code",
   "execution_count": 130,
   "id": "b8aa23b7",
   "metadata": {},
   "outputs": [
    {
     "data": {
      "text/plain": [
       "0.0"
      ]
     },
     "execution_count": 130,
     "metadata": {},
     "output_type": "execute_result"
    }
   ],
   "source": [
    "float(False)"
   ]
  },
  {
   "cell_type": "code",
   "execution_count": 134,
   "id": "8035c4e6",
   "metadata": {},
   "outputs": [
    {
     "data": {
      "text/plain": [
       "3.033054890961142e+17"
      ]
     },
     "execution_count": 134,
     "metadata": {},
     "output_type": "execute_result"
    }
   ],
   "source": [
    "56.0 ** 10"
   ]
  },
  {
   "cell_type": "code",
   "execution_count": 135,
   "id": "e92a6a5b",
   "metadata": {},
   "outputs": [
    {
     "data": {
      "text/plain": [
       "123"
      ]
     },
     "execution_count": 135,
     "metadata": {},
     "output_type": "execute_result"
    }
   ],
   "source": [
    "123"
   ]
  },
  {
   "cell_type": "code",
   "execution_count": 140,
   "id": "747bdb14",
   "metadata": {},
   "outputs": [
    {
     "data": {
      "text/plain": [
       "43"
      ]
     },
     "execution_count": 140,
     "metadata": {},
     "output_type": "execute_result"
    }
   ],
   "source": [
    "0b101011"
   ]
  },
  {
   "cell_type": "code",
   "execution_count": 141,
   "id": "15b2ca8d",
   "metadata": {},
   "outputs": [
    {
     "data": {
      "text/plain": [
       "4095"
      ]
     },
     "execution_count": 141,
     "metadata": {},
     "output_type": "execute_result"
    }
   ],
   "source": [
    "0xfff"
   ]
  },
  {
   "cell_type": "code",
   "execution_count": 142,
   "id": "cb6ce863",
   "metadata": {},
   "outputs": [
    {
     "data": {
      "text/plain": [
       "511"
      ]
     },
     "execution_count": 142,
     "metadata": {},
     "output_type": "execute_result"
    }
   ],
   "source": [
    "0o777"
   ]
  },
  {
   "cell_type": "code",
   "execution_count": 143,
   "id": "19ad07bf",
   "metadata": {},
   "outputs": [
    {
     "name": "stdout",
     "output_type": "stream",
     "text": [
      "Help on class int in module builtins:\n",
      "\n",
      "class int(object)\n",
      " |  int([x]) -> integer\n",
      " |  int(x, base=10) -> integer\n",
      " |  \n",
      " |  Convert a number or string to an integer, or return 0 if no arguments\n",
      " |  are given.  If x is a number, return x.__int__().  For floating point\n",
      " |  numbers, this truncates towards zero.\n",
      " |  \n",
      " |  If x is not a number or if base is given, then x must be a string,\n",
      " |  bytes, or bytearray instance representing an integer literal in the\n",
      " |  given base.  The literal can be preceded by '+' or '-' and be surrounded\n",
      " |  by whitespace.  The base defaults to 10.  Valid bases are 0 and 2-36.\n",
      " |  Base 0 means to interpret the base from the string as an integer literal.\n",
      " |  >>> int('0b100', base=0)\n",
      " |  4\n",
      " |  \n",
      " |  Built-in subclasses:\n",
      " |      bool\n",
      " |  \n",
      " |  Methods defined here:\n",
      " |  \n",
      " |  __abs__(self, /)\n",
      " |      abs(self)\n",
      " |  \n",
      " |  __add__(self, value, /)\n",
      " |      Return self+value.\n",
      " |  \n",
      " |  __and__(self, value, /)\n",
      " |      Return self&value.\n",
      " |  \n",
      " |  __bool__(self, /)\n",
      " |      self != 0\n",
      " |  \n",
      " |  __ceil__(...)\n",
      " |      Ceiling of an Integral returns itself.\n",
      " |  \n",
      " |  __divmod__(self, value, /)\n",
      " |      Return divmod(self, value).\n",
      " |  \n",
      " |  __eq__(self, value, /)\n",
      " |      Return self==value.\n",
      " |  \n",
      " |  __float__(self, /)\n",
      " |      float(self)\n",
      " |  \n",
      " |  __floor__(...)\n",
      " |      Flooring an Integral returns itself.\n",
      " |  \n",
      " |  __floordiv__(self, value, /)\n",
      " |      Return self//value.\n",
      " |  \n",
      " |  __format__(self, format_spec, /)\n",
      " |      Default object formatter.\n",
      " |  \n",
      " |  __ge__(self, value, /)\n",
      " |      Return self>=value.\n",
      " |  \n",
      " |  __getattribute__(self, name, /)\n",
      " |      Return getattr(self, name).\n",
      " |  \n",
      " |  __getnewargs__(self, /)\n",
      " |  \n",
      " |  __gt__(self, value, /)\n",
      " |      Return self>value.\n",
      " |  \n",
      " |  __hash__(self, /)\n",
      " |      Return hash(self).\n",
      " |  \n",
      " |  __index__(self, /)\n",
      " |      Return self converted to an integer, if self is suitable for use as an index into a list.\n",
      " |  \n",
      " |  __int__(self, /)\n",
      " |      int(self)\n",
      " |  \n",
      " |  __invert__(self, /)\n",
      " |      ~self\n",
      " |  \n",
      " |  __le__(self, value, /)\n",
      " |      Return self<=value.\n",
      " |  \n",
      " |  __lshift__(self, value, /)\n",
      " |      Return self<<value.\n",
      " |  \n",
      " |  __lt__(self, value, /)\n",
      " |      Return self<value.\n",
      " |  \n",
      " |  __mod__(self, value, /)\n",
      " |      Return self%value.\n",
      " |  \n",
      " |  __mul__(self, value, /)\n",
      " |      Return self*value.\n",
      " |  \n",
      " |  __ne__(self, value, /)\n",
      " |      Return self!=value.\n",
      " |  \n",
      " |  __neg__(self, /)\n",
      " |      -self\n",
      " |  \n",
      " |  __or__(self, value, /)\n",
      " |      Return self|value.\n",
      " |  \n",
      " |  __pos__(self, /)\n",
      " |      +self\n",
      " |  \n",
      " |  __pow__(self, value, mod=None, /)\n",
      " |      Return pow(self, value, mod).\n",
      " |  \n",
      " |  __radd__(self, value, /)\n",
      " |      Return value+self.\n",
      " |  \n",
      " |  __rand__(self, value, /)\n",
      " |      Return value&self.\n",
      " |  \n",
      " |  __rdivmod__(self, value, /)\n",
      " |      Return divmod(value, self).\n",
      " |  \n",
      " |  __repr__(self, /)\n",
      " |      Return repr(self).\n",
      " |  \n",
      " |  __rfloordiv__(self, value, /)\n",
      " |      Return value//self.\n",
      " |  \n",
      " |  __rlshift__(self, value, /)\n",
      " |      Return value<<self.\n",
      " |  \n",
      " |  __rmod__(self, value, /)\n",
      " |      Return value%self.\n",
      " |  \n",
      " |  __rmul__(self, value, /)\n",
      " |      Return value*self.\n",
      " |  \n",
      " |  __ror__(self, value, /)\n",
      " |      Return value|self.\n",
      " |  \n",
      " |  __round__(...)\n",
      " |      Rounding an Integral returns itself.\n",
      " |      \n",
      " |      Rounding with an ndigits argument also returns an integer.\n",
      " |  \n",
      " |  __rpow__(self, value, mod=None, /)\n",
      " |      Return pow(value, self, mod).\n",
      " |  \n",
      " |  __rrshift__(self, value, /)\n",
      " |      Return value>>self.\n",
      " |  \n",
      " |  __rshift__(self, value, /)\n",
      " |      Return self>>value.\n",
      " |  \n",
      " |  __rsub__(self, value, /)\n",
      " |      Return value-self.\n",
      " |  \n",
      " |  __rtruediv__(self, value, /)\n",
      " |      Return value/self.\n",
      " |  \n",
      " |  __rxor__(self, value, /)\n",
      " |      Return value^self.\n",
      " |  \n",
      " |  __sizeof__(self, /)\n",
      " |      Returns size in memory, in bytes.\n",
      " |  \n",
      " |  __sub__(self, value, /)\n",
      " |      Return self-value.\n",
      " |  \n",
      " |  __truediv__(self, value, /)\n",
      " |      Return self/value.\n",
      " |  \n",
      " |  __trunc__(...)\n",
      " |      Truncating an Integral returns itself.\n",
      " |  \n",
      " |  __xor__(self, value, /)\n",
      " |      Return self^value.\n",
      " |  \n",
      " |  as_integer_ratio(self, /)\n",
      " |      Return integer ratio.\n",
      " |      \n",
      " |      Return a pair of integers, whose ratio is exactly equal to the original int\n",
      " |      and with a positive denominator.\n",
      " |      \n",
      " |      >>> (10).as_integer_ratio()\n",
      " |      (10, 1)\n",
      " |      >>> (-10).as_integer_ratio()\n",
      " |      (-10, 1)\n",
      " |      >>> (0).as_integer_ratio()\n",
      " |      (0, 1)\n",
      " |  \n",
      " |  bit_count(self, /)\n",
      " |      Number of ones in the binary representation of the absolute value of self.\n",
      " |      \n",
      " |      Also known as the population count.\n",
      " |      \n",
      " |      >>> bin(13)\n",
      " |      '0b1101'\n",
      " |      >>> (13).bit_count()\n",
      " |      3\n",
      " |  \n",
      " |  bit_length(self, /)\n",
      " |      Number of bits necessary to represent self in binary.\n",
      " |      \n",
      " |      >>> bin(37)\n",
      " |      '0b100101'\n",
      " |      >>> (37).bit_length()\n",
      " |      6\n",
      " |  \n",
      " |  conjugate(...)\n",
      " |      Returns self, the complex conjugate of any int.\n",
      " |  \n",
      " |  to_bytes(self, /, length, byteorder, *, signed=False)\n",
      " |      Return an array of bytes representing an integer.\n",
      " |      \n",
      " |      length\n",
      " |        Length of bytes object to use.  An OverflowError is raised if the\n",
      " |        integer is not representable with the given number of bytes.\n",
      " |      byteorder\n",
      " |        The byte order used to represent the integer.  If byteorder is 'big',\n",
      " |        the most significant byte is at the beginning of the byte array.  If\n",
      " |        byteorder is 'little', the most significant byte is at the end of the\n",
      " |        byte array.  To request the native byte order of the host system, use\n",
      " |        `sys.byteorder' as the byte order value.\n",
      " |      signed\n",
      " |        Determines whether two's complement is used to represent the integer.\n",
      " |        If signed is False and a negative integer is given, an OverflowError\n",
      " |        is raised.\n",
      " |  \n",
      " |  ----------------------------------------------------------------------\n",
      " |  Class methods defined here:\n",
      " |  \n",
      " |  from_bytes(bytes, byteorder, *, signed=False) from builtins.type\n",
      " |      Return the integer represented by the given array of bytes.\n",
      " |      \n",
      " |      bytes\n",
      " |        Holds the array of bytes to convert.  The argument must either\n",
      " |        support the buffer protocol or be an iterable object producing bytes.\n",
      " |        Bytes and bytearray are examples of built-in objects that support the\n",
      " |        buffer protocol.\n",
      " |      byteorder\n",
      " |        The byte order used to represent the integer.  If byteorder is 'big',\n",
      " |        the most significant byte is at the beginning of the byte array.  If\n",
      " |        byteorder is 'little', the most significant byte is at the end of the\n",
      " |        byte array.  To request the native byte order of the host system, use\n",
      " |        `sys.byteorder' as the byte order value.\n",
      " |      signed\n",
      " |        Indicates whether two's complement is used to represent the integer.\n",
      " |  \n",
      " |  ----------------------------------------------------------------------\n",
      " |  Static methods defined here:\n",
      " |  \n",
      " |  __new__(*args, **kwargs) from builtins.type\n",
      " |      Create and return a new object.  See help(type) for accurate signature.\n",
      " |  \n",
      " |  ----------------------------------------------------------------------\n",
      " |  Data descriptors defined here:\n",
      " |  \n",
      " |  denominator\n",
      " |      the denominator of a rational number in lowest terms\n",
      " |  \n",
      " |  imag\n",
      " |      the imaginary part of a complex number\n",
      " |  \n",
      " |  numerator\n",
      " |      the numerator of a rational number in lowest terms\n",
      " |  \n",
      " |  real\n",
      " |      the real part of a complex number\n",
      "\n"
     ]
    }
   ],
   "source": [
    "help(int)"
   ]
  },
  {
   "cell_type": "code",
   "execution_count": 144,
   "id": "f2887b40",
   "metadata": {},
   "outputs": [
    {
     "data": {
      "text/plain": [
       "26"
      ]
     },
     "execution_count": 144,
     "metadata": {},
     "output_type": "execute_result"
    }
   ],
   "source": [
    "int('222', base=3)"
   ]
  },
  {
   "cell_type": "markdown",
   "id": "9d4dbfa0",
   "metadata": {},
   "source": [
    "### complex"
   ]
  },
  {
   "cell_type": "code",
   "execution_count": 127,
   "id": "214f4e69",
   "metadata": {},
   "outputs": [
    {
     "data": {
      "text/plain": [
       "0j"
      ]
     },
     "execution_count": 127,
     "metadata": {},
     "output_type": "execute_result"
    }
   ],
   "source": [
    "complex()"
   ]
  },
  {
   "cell_type": "code",
   "execution_count": 129,
   "id": "78f572f1",
   "metadata": {},
   "outputs": [
    {
     "data": {
      "text/plain": [
       "(3+7j)"
      ]
     },
     "execution_count": 129,
     "metadata": {},
     "output_type": "execute_result"
    }
   ],
   "source": [
    "1 + 3j + 2 + 4j"
   ]
  },
  {
   "cell_type": "markdown",
   "id": "698e5b38",
   "metadata": {},
   "source": [
    "### str - napis"
   ]
  },
  {
   "cell_type": "code",
   "execution_count": null,
   "id": "01e4a8e5",
   "metadata": {},
   "outputs": [],
   "source": []
  },
  {
   "cell_type": "code",
   "execution_count": 27,
   "id": "62b6c0cd",
   "metadata": {},
   "outputs": [
    {
     "data": {
      "text/plain": [
       "'to jest napis'"
      ]
     },
     "execution_count": 27,
     "metadata": {},
     "output_type": "execute_result"
    }
   ],
   "source": [
    "\"to jest napis\""
   ]
  },
  {
   "cell_type": "code",
   "execution_count": 28,
   "id": "cfe87c0f",
   "metadata": {},
   "outputs": [
    {
     "data": {
      "text/plain": [
       "'to jest napis'"
      ]
     },
     "execution_count": 28,
     "metadata": {},
     "output_type": "execute_result"
    }
   ],
   "source": [
    "'to jest napis'"
   ]
  },
  {
   "cell_type": "code",
   "execution_count": 29,
   "id": "31c83cec",
   "metadata": {},
   "outputs": [
    {
     "data": {
      "text/plain": [
       "\"to 'jest' napis\""
      ]
     },
     "execution_count": 29,
     "metadata": {},
     "output_type": "execute_result"
    }
   ],
   "source": [
    "\"to 'jest' napis\""
   ]
  },
  {
   "cell_type": "code",
   "execution_count": 30,
   "id": "47765124",
   "metadata": {},
   "outputs": [
    {
     "data": {
      "text/plain": [
       "'to \"jest\" napis'"
      ]
     },
     "execution_count": 30,
     "metadata": {},
     "output_type": "execute_result"
    }
   ],
   "source": [
    "'to \"jest\" napis'"
   ]
  },
  {
   "cell_type": "code",
   "execution_count": 31,
   "id": "a9b6ed14",
   "metadata": {},
   "outputs": [
    {
     "data": {
      "text/plain": [
       "'to \"jest\" napis'"
      ]
     },
     "execution_count": 31,
     "metadata": {},
     "output_type": "execute_result"
    }
   ],
   "source": [
    "\"to \\\"jest\\\" napis\""
   ]
  },
  {
   "cell_type": "code",
   "execution_count": 32,
   "id": "68765132",
   "metadata": {},
   "outputs": [
    {
     "ename": "SyntaxError",
     "evalue": "invalid syntax (Temp/ipykernel_11844/739905611.py, line 1)",
     "output_type": "error",
     "traceback": [
      "\u001b[1;36m  File \u001b[1;32m\"C:\\Users\\SZB345~1\\AppData\\Local\\Temp/ipykernel_11844/739905611.py\"\u001b[1;36m, line \u001b[1;32m1\u001b[0m\n\u001b[1;33m    \"to \"jest\" napis\"\u001b[0m\n\u001b[1;37m         ^\u001b[0m\n\u001b[1;31mSyntaxError\u001b[0m\u001b[1;31m:\u001b[0m invalid syntax\n"
     ]
    }
   ],
   "source": [
    "\"to \"jest\" napis\""
   ]
  },
  {
   "cell_type": "code",
   "execution_count": 33,
   "id": "a66ae25b",
   "metadata": {},
   "outputs": [
    {
     "data": {
      "text/plain": [
       "'napisnapis1'"
      ]
     },
     "execution_count": 33,
     "metadata": {},
     "output_type": "execute_result"
    }
   ],
   "source": [
    "\"napis\" + \"napis1\""
   ]
  },
  {
   "cell_type": "code",
   "execution_count": 36,
   "id": "2091d4d0",
   "metadata": {},
   "outputs": [
    {
     "data": {
      "text/plain": [
       "'linia 1\\nlinia 2'"
      ]
     },
     "execution_count": 36,
     "metadata": {},
     "output_type": "execute_result"
    }
   ],
   "source": [
    "'linia 1\\n' + 'linia 2' "
   ]
  },
  {
   "cell_type": "code",
   "execution_count": 37,
   "id": "39cfaee3",
   "metadata": {},
   "outputs": [
    {
     "name": "stdout",
     "output_type": "stream",
     "text": [
      "linia 1\n",
      "linia 2\n"
     ]
    }
   ],
   "source": [
    "print('linia 1\\n' + 'linia 2')"
   ]
  },
  {
   "cell_type": "code",
   "execution_count": 38,
   "id": "747fda17",
   "metadata": {},
   "outputs": [
    {
     "data": {
      "text/plain": [
       "'\\nlinia1\\nlinia2\\n'"
      ]
     },
     "execution_count": 38,
     "metadata": {},
     "output_type": "execute_result"
    }
   ],
   "source": [
    "'''\n",
    "linia1\n",
    "linia2\n",
    "'''"
   ]
  },
  {
   "cell_type": "code",
   "execution_count": 39,
   "id": "591ce3be",
   "metadata": {},
   "outputs": [
    {
     "data": {
      "text/plain": [
       "'\\nlinia1\\nlinia2\\n'"
      ]
     },
     "execution_count": 39,
     "metadata": {},
     "output_type": "execute_result"
    }
   ],
   "source": [
    "\"\"\"\n",
    "linia1\n",
    "linia2\n",
    "\"\"\""
   ]
  },
  {
   "cell_type": "markdown",
   "id": "52cfa887",
   "metadata": {},
   "source": [
    "### Zmienne\n",
    "\n",
    "Typowanie dynamiczne ( w odróżnieniu od statycznego)\n"
   ]
  },
  {
   "cell_type": "code",
   "execution_count": 40,
   "id": "7d86129a",
   "metadata": {},
   "outputs": [],
   "source": [
    "a = 1  # komentarz\n",
    "a = 2.3 # komentowanie blokow ctrl + /\n",
    "a = \"a\"\n",
    "\n",
    "\"\"\"\n",
    "To czasem tez jest uwazane za komentarz\n",
    "\"\"\""
   ]
  },
  {
   "cell_type": "code",
   "execution_count": 41,
   "id": "3242b3c2",
   "metadata": {},
   "outputs": [],
   "source": [
    "a: str = \"New\""
   ]
  },
  {
   "cell_type": "markdown",
   "id": "683eccbd",
   "metadata": {},
   "source": [
    "mypy -  http://mypy-lang.org/"
   ]
  },
  {
   "cell_type": "markdown",
   "id": "39716d9f",
   "metadata": {},
   "source": [
    "nazwy zmiennych piszemy malymi literami\n",
    "moga to byc litery cyfry i znak podkreslenia\n",
    "\n",
    "\n",
    "    Dobre nazwy\n",
    "    nazwa_zmiennej\n",
    "    _nazwa_zmiennej\n",
    "    ser_1\n",
    "    \n",
    "    \n",
    "    zle nazwy:\n",
    "    \n",
    "    bledy:\n",
    "    1nazwa\n",
    "    nazwa.1\n",
    "    \n",
    "    zla praktyka:\n",
    "    nazwaZmiennej\n",
    "    NazwaZmiennej\n",
    "    \n",
    "    "
   ]
  },
  {
   "cell_type": "code",
   "execution_count": 42,
   "id": "2b6cdd59",
   "metadata": {},
   "outputs": [],
   "source": [
    "zmienna = \"napis\"\n",
    "x = zmienna"
   ]
  },
  {
   "cell_type": "code",
   "execution_count": 43,
   "id": "0add6e44",
   "metadata": {},
   "outputs": [
    {
     "data": {
      "text/plain": [
       "True"
      ]
     },
     "execution_count": 43,
     "metadata": {},
     "output_type": "execute_result"
    }
   ],
   "source": [
    "x == zmienna"
   ]
  },
  {
   "cell_type": "code",
   "execution_count": 44,
   "id": "1392a7ba",
   "metadata": {},
   "outputs": [
    {
     "data": {
      "text/plain": [
       "True"
      ]
     },
     "execution_count": 44,
     "metadata": {},
     "output_type": "execute_result"
    }
   ],
   "source": [
    "x is zmienna"
   ]
  },
  {
   "cell_type": "code",
   "execution_count": 45,
   "id": "f36f5316",
   "metadata": {},
   "outputs": [
    {
     "data": {
      "text/plain": [
       "3035680511792"
      ]
     },
     "execution_count": 45,
     "metadata": {},
     "output_type": "execute_result"
    }
   ],
   "source": [
    "id(x)"
   ]
  },
  {
   "cell_type": "code",
   "execution_count": 46,
   "id": "bd1855e6",
   "metadata": {},
   "outputs": [
    {
     "data": {
      "text/plain": [
       "3035680511792"
      ]
     },
     "execution_count": 46,
     "metadata": {},
     "output_type": "execute_result"
    }
   ],
   "source": [
    "id(zmienna)"
   ]
  },
  {
   "cell_type": "code",
   "execution_count": 47,
   "id": "de3370b2",
   "metadata": {},
   "outputs": [],
   "source": [
    "zmienna2 = \"napis dluższy\"\n",
    "x = zmienna2\n"
   ]
  },
  {
   "cell_type": "code",
   "execution_count": 48,
   "id": "ab9df37a",
   "metadata": {},
   "outputs": [
    {
     "data": {
      "text/plain": [
       "True"
      ]
     },
     "execution_count": 48,
     "metadata": {},
     "output_type": "execute_result"
    }
   ],
   "source": [
    "zmienna2 == x"
   ]
  },
  {
   "cell_type": "code",
   "execution_count": 49,
   "id": "9035cc24",
   "metadata": {},
   "outputs": [
    {
     "data": {
      "text/plain": [
       "True"
      ]
     },
     "execution_count": 49,
     "metadata": {},
     "output_type": "execute_result"
    }
   ],
   "source": [
    "zmienna2 is x"
   ]
  },
  {
   "cell_type": "code",
   "execution_count": 50,
   "id": "a5b95151",
   "metadata": {},
   "outputs": [
    {
     "data": {
      "text/plain": [
       "3035680511792"
      ]
     },
     "execution_count": 50,
     "metadata": {},
     "output_type": "execute_result"
    }
   ],
   "source": [
    "zmienna3 = \"napis\"\n",
    "id(zmienna3)"
   ]
  },
  {
   "cell_type": "code",
   "execution_count": 51,
   "id": "1314b5f7",
   "metadata": {},
   "outputs": [],
   "source": [
    "zmienna4 = \"napis dluższy\""
   ]
  },
  {
   "cell_type": "code",
   "execution_count": 52,
   "id": "8c0dfcfb",
   "metadata": {},
   "outputs": [
    {
     "data": {
      "text/plain": [
       "True"
      ]
     },
     "execution_count": 52,
     "metadata": {},
     "output_type": "execute_result"
    }
   ],
   "source": [
    "zmienna2 == zmienna4"
   ]
  },
  {
   "cell_type": "code",
   "execution_count": 53,
   "id": "5e657168",
   "metadata": {},
   "outputs": [
    {
     "data": {
      "text/plain": [
       "False"
      ]
     },
     "execution_count": 53,
     "metadata": {},
     "output_type": "execute_result"
    }
   ],
   "source": [
    "zmienna2 is zmienna4"
   ]
  },
  {
   "cell_type": "code",
   "execution_count": 54,
   "id": "9e50d6d0",
   "metadata": {},
   "outputs": [
    {
     "data": {
      "text/plain": [
       "3035681112560"
      ]
     },
     "execution_count": 54,
     "metadata": {},
     "output_type": "execute_result"
    }
   ],
   "source": [
    "id(zmienna2)"
   ]
  },
  {
   "cell_type": "code",
   "execution_count": 55,
   "id": "ed245cd2",
   "metadata": {},
   "outputs": [
    {
     "data": {
      "text/plain": [
       "3035681113120"
      ]
     },
     "execution_count": 55,
     "metadata": {},
     "output_type": "execute_result"
    }
   ],
   "source": [
    "id(zmienna4)"
   ]
  },
  {
   "cell_type": "code",
   "execution_count": 56,
   "id": "3a6288f0",
   "metadata": {},
   "outputs": [
    {
     "data": {
      "text/plain": [
       "True"
      ]
     },
     "execution_count": 56,
     "metadata": {},
     "output_type": "execute_result"
    }
   ],
   "source": [
    "a = 1\n",
    "b = 1\n",
    "\n",
    "a is b"
   ]
  },
  {
   "cell_type": "code",
   "execution_count": 57,
   "id": "dcfff145",
   "metadata": {},
   "outputs": [
    {
     "data": {
      "text/plain": [
       "False"
      ]
     },
     "execution_count": 57,
     "metadata": {},
     "output_type": "execute_result"
    }
   ],
   "source": [
    "a = 10000001\n",
    "b = 10000001\n",
    "\n",
    "a is b"
   ]
  },
  {
   "cell_type": "markdown",
   "id": "a58e2133",
   "metadata": {},
   "source": [
    "#### Funkcja print\n",
    "\n"
   ]
  },
  {
   "cell_type": "code",
   "execution_count": 58,
   "id": "cca2cd20",
   "metadata": {},
   "outputs": [
    {
     "name": "stdout",
     "output_type": "stream",
     "text": [
      "Help on built-in function print in module builtins:\n",
      "\n",
      "print(...)\n",
      "    print(value, ..., sep=' ', end='\\n', file=sys.stdout, flush=False)\n",
      "    \n",
      "    Prints the values to a stream, or to sys.stdout by default.\n",
      "    Optional keyword arguments:\n",
      "    file:  a file-like object (stream); defaults to the current sys.stdout.\n",
      "    sep:   string inserted between values, default a space.\n",
      "    end:   string appended after the last value, default a newline.\n",
      "    flush: whether to forcibly flush the stream.\n",
      "\n"
     ]
    }
   ],
   "source": [
    "help(print)"
   ]
  },
  {
   "cell_type": "code",
   "execution_count": 59,
   "id": "5017cd7e",
   "metadata": {},
   "outputs": [
    {
     "name": "stdout",
     "output_type": "stream",
     "text": [
      "\n"
     ]
    }
   ],
   "source": [
    "print()"
   ]
  },
  {
   "cell_type": "code",
   "execution_count": 60,
   "id": "60520b98",
   "metadata": {},
   "outputs": [
    {
     "name": "stdout",
     "output_type": "stream",
     "text": [
      "1 2 3 4\n"
     ]
    }
   ],
   "source": [
    "print(1, 2, 3, 4)"
   ]
  },
  {
   "cell_type": "code",
   "execution_count": 65,
   "id": "4aaaa0f6",
   "metadata": {},
   "outputs": [
    {
     "name": "stdout",
     "output_type": "stream",
     "text": [
      "1 2 3 4\n"
     ]
    }
   ],
   "source": [
    "print(1, 2, \"3\", 4)"
   ]
  },
  {
   "cell_type": "code",
   "execution_count": 70,
   "id": "85f6aef5",
   "metadata": {},
   "outputs": [
    {
     "name": "stdout",
     "output_type": "stream",
     "text": [
      "1\n"
     ]
    }
   ],
   "source": [
    "print(str(1))"
   ]
  },
  {
   "cell_type": "code",
   "execution_count": 73,
   "id": "c1720524",
   "metadata": {},
   "outputs": [
    {
     "name": "stdout",
     "output_type": "stream",
     "text": [
      "10\n",
      "20\n"
     ]
    }
   ],
   "source": [
    "print(10)\n",
    "print(20)"
   ]
  },
  {
   "cell_type": "code",
   "execution_count": 76,
   "id": "2aa3bd32",
   "metadata": {},
   "outputs": [
    {
     "name": "stdout",
     "output_type": "stream",
     "text": [
      "10-20\n"
     ]
    }
   ],
   "source": [
    "print(10, end=\"-\")\n",
    "print(20)"
   ]
  },
  {
   "cell_type": "code",
   "execution_count": 78,
   "id": "689b9a20",
   "metadata": {},
   "outputs": [
    {
     "name": "stdout",
     "output_type": "stream",
     "text": [
      "1:2:3:4\n"
     ]
    }
   ],
   "source": [
    "print(1, 2, 3, 4, sep=\":\")"
   ]
  },
  {
   "cell_type": "code",
   "execution_count": 79,
   "id": "d8138828",
   "metadata": {},
   "outputs": [
    {
     "ename": "SyntaxError",
     "evalue": "positional argument follows keyword argument (Temp/ipykernel_11844/1238163101.py, line 1)",
     "output_type": "error",
     "traceback": [
      "\u001b[1;36m  File \u001b[1;32m\"C:\\Users\\SZB345~1\\AppData\\Local\\Temp/ipykernel_11844/1238163101.py\"\u001b[1;36m, line \u001b[1;32m1\u001b[0m\n\u001b[1;33m    print(end=\"-\", 1)\u001b[0m\n\u001b[1;37m                    ^\u001b[0m\n\u001b[1;31mSyntaxError\u001b[0m\u001b[1;31m:\u001b[0m positional argument follows keyword argument\n"
     ]
    }
   ],
   "source": [
    "print(end=\"-\", 1)  # kolejnosc ma znaczenie"
   ]
  },
  {
   "cell_type": "markdown",
   "id": "713abc3a",
   "metadata": {},
   "source": [
    "#### input"
   ]
  },
  {
   "cell_type": "code",
   "execution_count": 80,
   "id": "d19325c5",
   "metadata": {},
   "outputs": [
    {
     "name": "stdout",
     "output_type": "stream",
     "text": [
      "10\n"
     ]
    }
   ],
   "source": [
    "x = input()"
   ]
  },
  {
   "cell_type": "code",
   "execution_count": 81,
   "id": "9580961a",
   "metadata": {},
   "outputs": [
    {
     "data": {
      "text/plain": [
       "'10'"
      ]
     },
     "execution_count": 81,
     "metadata": {},
     "output_type": "execute_result"
    }
   ],
   "source": [
    "x"
   ]
  },
  {
   "cell_type": "code",
   "execution_count": 82,
   "id": "a6896a76",
   "metadata": {},
   "outputs": [
    {
     "name": "stdout",
     "output_type": "stream",
     "text": [
      "Wciśnij jakiś klawisz\n"
     ]
    },
    {
     "data": {
      "text/plain": [
       "''"
      ]
     },
     "execution_count": 82,
     "metadata": {},
     "output_type": "execute_result"
    }
   ],
   "source": [
    "input(\"Wciśnij jakiś klawisz\")"
   ]
  },
  {
   "cell_type": "code",
   "execution_count": 83,
   "id": "30491c8c",
   "metadata": {},
   "outputs": [
    {
     "ename": "TypeError",
     "evalue": "can only concatenate str (not \"int\") to str",
     "output_type": "error",
     "traceback": [
      "\u001b[1;31m---------------------------------------------------------------------------\u001b[0m",
      "\u001b[1;31mTypeError\u001b[0m                                 Traceback (most recent call last)",
      "\u001b[1;32mC:\\Users\\SZB345~1\\AppData\\Local\\Temp/ipykernel_11844/1824700092.py\u001b[0m in \u001b[0;36m<module>\u001b[1;34m\u001b[0m\n\u001b[0;32m      1\u001b[0m \u001b[1;31m# x to napis\u001b[0m\u001b[1;33m\u001b[0m\u001b[1;33m\u001b[0m\u001b[0m\n\u001b[0;32m      2\u001b[0m \u001b[1;33m\u001b[0m\u001b[0m\n\u001b[1;32m----> 3\u001b[1;33m \u001b[0mx\u001b[0m \u001b[1;33m+\u001b[0m \u001b[1;36m1\u001b[0m\u001b[1;33m\u001b[0m\u001b[1;33m\u001b[0m\u001b[0m\n\u001b[0m",
      "\u001b[1;31mTypeError\u001b[0m: can only concatenate str (not \"int\") to str"
     ]
    }
   ],
   "source": [
    "# x to napis\n",
    "# typowanie silne - python nie robi za nas konwersji\n",
    "x + 1"
   ]
  },
  {
   "cell_type": "code",
   "execution_count": 84,
   "id": "1a88930c",
   "metadata": {},
   "outputs": [
    {
     "data": {
      "text/plain": [
       "11"
      ]
     },
     "execution_count": 84,
     "metadata": {},
     "output_type": "execute_result"
    }
   ],
   "source": [
    "int(x) + 1"
   ]
  },
  {
   "cell_type": "code",
   "execution_count": 87,
   "id": "574d7fae",
   "metadata": {},
   "outputs": [
    {
     "data": {
      "text/plain": [
       "'101'"
      ]
     },
     "execution_count": 87,
     "metadata": {},
     "output_type": "execute_result"
    }
   ],
   "source": [
    "x + str(1)"
   ]
  },
  {
   "cell_type": "code",
   "execution_count": 88,
   "id": "847d3a68",
   "metadata": {},
   "outputs": [
    {
     "name": "stdout",
     "output_type": "stream",
     "text": [
      "Help on method raw_input in module ipykernel.kernelbase:\n",
      "\n",
      "raw_input(prompt='') method of ipykernel.ipkernel.IPythonKernel instance\n",
      "    Forward raw_input to frontends\n",
      "    \n",
      "    Raises\n",
      "    ------\n",
      "    StdinNotImplementedError if active frontend doesn't support stdin.\n",
      "\n"
     ]
    }
   ],
   "source": [
    "help(input)"
   ]
  },
  {
   "cell_type": "markdown",
   "id": "8718d41b",
   "metadata": {},
   "source": [
    "#### Zadanie 01\n",
    "\n",
    "Korzystając z przypisywania wartości do zmiennych napisz program obliczający pole trapezu o długości podstaw 3 i 9 oraz wysokości 6.5.\n",
    "\n",
    "#### Zadanie 02\n",
    "\n",
    "Napisz program wyliczający kwotę należną za zakupiony towar na podstawie ceny za kilogram oraz liczby zakupionych kilogramów. Do przechowywania informacji o cenie oraz liczbie kilogramów użyj zmiennych. Wypisz wszystkie informacj na konsolę. Przykładowy komunikat programu:\n",
    "\n",
    "    Cena za kg: 10.0  (# print)\n",
    "    Waga: 2.5         (# input)\n",
    "    Należność: 25.0"
   ]
  },
  {
   "cell_type": "code",
   "execution_count": 100,
   "id": "d0b69887",
   "metadata": {},
   "outputs": [
    {
     "name": "stdout",
     "output_type": "stream",
     "text": [
      "Ser:                   Cheddarxxxxxxx                   - cena  12.50\n",
      "Ser:                       Gouda                        - cena   9.23\n"
     ]
    }
   ],
   "source": [
    "nazwa_1 = \"Cheddarxxxxxxx\"\n",
    "cena_1 = 12.5\n",
    "\n",
    "nazwa_2 = \"Gouda\"\n",
    "cena_2 = 9.23\n",
    "\n",
    "template = \"Ser: {:^50} - cena {:6.2f}\"\n",
    "\n",
    "print(template.format(nazwa_1, cena_1))\n",
    "print(template.format(nazwa_2, cena_2))"
   ]
  },
  {
   "cell_type": "code",
   "execution_count": 101,
   "id": "fdd277c1",
   "metadata": {},
   "outputs": [],
   "source": [
    "t1 =  f\"Ser: {nazwa_1:^50} - cena {cena_1:6.2f}\"\n"
   ]
  },
  {
   "cell_type": "code",
   "execution_count": 102,
   "id": "33ff81ed",
   "metadata": {},
   "outputs": [
    {
     "data": {
      "text/plain": [
       "'Ser:                   Cheddarxxxxxxx                   - cena  12.50'"
      ]
     },
     "execution_count": 102,
     "metadata": {},
     "output_type": "execute_result"
    }
   ],
   "source": [
    "t1"
   ]
  },
  {
   "cell_type": "code",
   "execution_count": 104,
   "id": "1d67bed4",
   "metadata": {},
   "outputs": [
    {
     "data": {
      "text/plain": [
       "'Ser Cheddarxxxxxxx:10 12.50'"
      ]
     },
     "execution_count": 104,
     "metadata": {},
     "output_type": "execute_result"
    }
   ],
   "source": [
    "\"Ser %s %.2f\" % (nazwa_1, cena_1)"
   ]
  },
  {
   "cell_type": "markdown",
   "id": "1d45be3d",
   "metadata": {},
   "source": [
    "#### Zadanie 03\n",
    "\n",
    "Napisz program obliczający koszt przejazdu z miasta A do B na podstawie podanej przez użytkownika liczby kilometrów, ceny paliwa oraz spalania. Zapytaj użytkownika także o nazwy miejscowości. Przykładowe komunikat programu:\n",
    "\n",
    "     Miasto A: Warszawa\n",
    "     Miasto B: Gdańsk\n",
    "     Dystans Warszawa‐Gdańsk: 420\n",
    "     Cena paliwa: 4.55\n",
    "     Spalanie na 100 km: 5.5\n",
    "     Koszt przejazdu Warszawa‐Gdańsk to 105 PLN"
   ]
  },
  {
   "cell_type": "markdown",
   "id": "cf0b3044",
   "metadata": {},
   "source": [
    "## Wyrażenie warunkowe\n",
    "\n",
    "1. najprostsze uzycie\n",
    "\n",
    "    if warunek:\n",
    "       <blok kodu>\n",
    "    \n",
    "    <kolejny blok kodu>\n",
    "    \n",
    "2. else\n",
    "    \n",
    "    \n",
    "    if warunek:\n",
    "       <blok kodu>\n",
    "    else:\n",
    "       <blok kodu>\n",
    "   \n",
    "   \n",
    "           \n",
    "           "
   ]
  },
  {
   "cell_type": "code",
   "execution_count": 113,
   "id": "cb2c5916",
   "metadata": {},
   "outputs": [
    {
     "name": "stdout",
     "output_type": "stream",
     "text": [
      "Większy niż 10\n",
      "12\n",
      "Cos tam dalej sie dzieje\n"
     ]
    }
   ],
   "source": [
    "x = 12\n",
    "\n",
    "if x > 10: \n",
    "    print(\"Większy niż 10\")\n",
    "    print(x)\n",
    "else:\n",
    "    print(\"else\")\n",
    "    if x % 2 == 0:\n",
    "        print(\"parzysty\")\n",
    "    \n",
    "print(\"Cos tam dalej sie dzieje\")\n"
   ]
  },
  {
   "cell_type": "code",
   "execution_count": 114,
   "id": "90d59a44",
   "metadata": {},
   "outputs": [
    {
     "name": "stdout",
     "output_type": "stream",
     "text": [
      "Większy niż 10\n",
      "12\n",
      "Cos tam dalej sie dzieje\n"
     ]
    }
   ],
   "source": [
    "x = 12\n",
    "\n",
    "if x > 10: \n",
    "    print(\"Większy niż 10\")\n",
    "    print(x)\n",
    "elif x % 2 == 0:\n",
    "    print(\"Parzysty\")\n",
    "elif x % 3 == 0:\n",
    "    print(\"podzielne przez 3\")\n",
    "else:\n",
    "    print(\"else\")\n",
    "\n",
    "    \n",
    "print(\"Cos tam dalej sie dzieje\")\n"
   ]
  },
  {
   "cell_type": "code",
   "execution_count": 115,
   "id": "54179c49",
   "metadata": {},
   "outputs": [
    {
     "name": "stdout",
     "output_type": "stream",
     "text": [
      "Większy niż 10\n",
      "12\n",
      "Parzysty\n",
      "podzielne przez 3\n",
      "Cos tam dalej sie dzieje\n"
     ]
    }
   ],
   "source": [
    "x = 12\n",
    "\n",
    "if x > 10: \n",
    "    print(\"Większy niż 10\")\n",
    "    print(x)\n",
    "    \n",
    "if x % 2 == 0:\n",
    "    print(\"Parzysty\")\n",
    "\n",
    "\n",
    "if x % 3 == 0:\n",
    "    print(\"podzielne przez 3\")\n",
    "else:\n",
    "    print(\"else\")\n",
    "\n",
    "    \n",
    "print(\"Cos tam dalej sie dzieje\")"
   ]
  },
  {
   "cell_type": "code",
   "execution_count": 117,
   "id": "63e3ad3c",
   "metadata": {},
   "outputs": [
    {
     "data": {
      "text/plain": [
       "True"
      ]
     },
     "execution_count": 117,
     "metadata": {},
     "output_type": "execute_result"
    }
   ],
   "source": [
    "1 > 0 or 1 / 0"
   ]
  },
  {
   "cell_type": "code",
   "execution_count": 118,
   "id": "abc621c4",
   "metadata": {},
   "outputs": [
    {
     "data": {
      "text/plain": [
       "False"
      ]
     },
     "execution_count": 118,
     "metadata": {},
     "output_type": "execute_result"
    }
   ],
   "source": [
    "1 < 0 and 1 / 0"
   ]
  },
  {
   "cell_type": "markdown",
   "id": "224b5a59",
   "metadata": {},
   "source": [
    "#### Zadanie 04\n",
    "\n",
    "Napisz program, który sprawdzi pełnoletność osoby na podstawie roku jej urodzenia. Przykładowy komunikat programu:\n",
    "\n",
    "    Podaj rok urodzenia: 1980\n",
    "    Jesteś pełnoletni!\n",
    "    \n",
    "    Podaj rok urodzenia: 2012\n",
    "    Nie jeste pełnoletni!"
   ]
  },
  {
   "cell_type": "code",
   "execution_count": 119,
   "id": "6e30decb",
   "metadata": {},
   "outputs": [],
   "source": [
    "import datetime\n",
    "\n",
    "t = datetime.datetime.now()"
   ]
  },
  {
   "cell_type": "code",
   "execution_count": 120,
   "id": "34b76830",
   "metadata": {},
   "outputs": [
    {
     "data": {
      "text/plain": [
       "datetime.datetime(2021, 12, 15, 12, 52, 11, 527911)"
      ]
     },
     "execution_count": 120,
     "metadata": {},
     "output_type": "execute_result"
    }
   ],
   "source": [
    "t"
   ]
  },
  {
   "cell_type": "code",
   "execution_count": 121,
   "id": "158745e2",
   "metadata": {},
   "outputs": [
    {
     "data": {
      "text/plain": [
       "['__add__',\n",
       " '__class__',\n",
       " '__delattr__',\n",
       " '__dir__',\n",
       " '__doc__',\n",
       " '__eq__',\n",
       " '__format__',\n",
       " '__ge__',\n",
       " '__getattribute__',\n",
       " '__gt__',\n",
       " '__hash__',\n",
       " '__init__',\n",
       " '__init_subclass__',\n",
       " '__le__',\n",
       " '__lt__',\n",
       " '__ne__',\n",
       " '__new__',\n",
       " '__radd__',\n",
       " '__reduce__',\n",
       " '__reduce_ex__',\n",
       " '__repr__',\n",
       " '__rsub__',\n",
       " '__setattr__',\n",
       " '__sizeof__',\n",
       " '__str__',\n",
       " '__sub__',\n",
       " '__subclasshook__',\n",
       " 'astimezone',\n",
       " 'combine',\n",
       " 'ctime',\n",
       " 'date',\n",
       " 'day',\n",
       " 'dst',\n",
       " 'fold',\n",
       " 'fromisocalendar',\n",
       " 'fromisoformat',\n",
       " 'fromordinal',\n",
       " 'fromtimestamp',\n",
       " 'hour',\n",
       " 'isocalendar',\n",
       " 'isoformat',\n",
       " 'isoweekday',\n",
       " 'max',\n",
       " 'microsecond',\n",
       " 'min',\n",
       " 'minute',\n",
       " 'month',\n",
       " 'now',\n",
       " 'replace',\n",
       " 'resolution',\n",
       " 'second',\n",
       " 'strftime',\n",
       " 'strptime',\n",
       " 'time',\n",
       " 'timestamp',\n",
       " 'timetuple',\n",
       " 'timetz',\n",
       " 'today',\n",
       " 'toordinal',\n",
       " 'tzinfo',\n",
       " 'tzname',\n",
       " 'utcfromtimestamp',\n",
       " 'utcnow',\n",
       " 'utcoffset',\n",
       " 'utctimetuple',\n",
       " 'weekday',\n",
       " 'year']"
      ]
     },
     "execution_count": 121,
     "metadata": {},
     "output_type": "execute_result"
    }
   ],
   "source": [
    "dir(t)"
   ]
  },
  {
   "cell_type": "code",
   "execution_count": 123,
   "id": "2014eae7",
   "metadata": {},
   "outputs": [
    {
     "data": {
      "text/plain": [
       "2"
      ]
     },
     "execution_count": 123,
     "metadata": {},
     "output_type": "execute_result"
    }
   ],
   "source": [
    "t.weekday()"
   ]
  },
  {
   "attachments": {
    "image.png": {
     "image/png": "[encoded data removed]"
    }
   },
   "cell_type": "markdown",
   "id": "1d831952",
   "metadata": {},
   "source": [
    "#### Zadanie 05\n",
    "\n",
    "Napisz program, który na podstawie pozycji gracza (x, y) na planszy w przedziale od 0 do 100 wyświetli jego przybliżone położenie (centrum, prawy górny róg, górna krawędź, ...) lub informację o pozycji poza planszą. Przyjmij wartość 10 jako margines krawędzi. Przykładowy komunikat programu:\n",
    "\n",
    "     Podaj pozycję gracza X: 95\n",
    "     Podaj pozycję gracza Y: 95\n",
    "     Gracz znajduje się w prawym górnym rogu.\n",
    "     \n",
    "![image.png](attachment:image.png)"
   ]
  },
  {
   "cell_type": "code",
   "execution_count": 146,
   "id": "d07277aa",
   "metadata": {},
   "outputs": [
    {
     "data": {
      "text/plain": [
       "False"
      ]
     },
     "execution_count": 146,
     "metadata": {},
     "output_type": "execute_result"
    }
   ],
   "source": [
    "x = 2\n",
    "\n",
    "5 < x < 15"
   ]
  },
  {
   "cell_type": "markdown",
   "id": "7f0f3da6",
   "metadata": {},
   "source": [
    "## pętla while\n",
    "\n",
    "\n",
    "    while <warunek>:\n",
    "        <blok kodu>\n",
    "\n",
    "\n",
    "    while <warunek>:\n",
    "        <blok kodu>\n",
    "    else:\n",
    "        <blok kodu>"
   ]
  },
  {
   "cell_type": "code",
   "execution_count": 147,
   "id": "ae3fb8f5",
   "metadata": {},
   "outputs": [
    {
     "name": "stdout",
     "output_type": "stream",
     "text": [
      "10\n",
      "9\n",
      "8\n",
      "7\n",
      "6\n",
      "5\n",
      "4\n",
      "3\n",
      "2\n",
      "1\n"
     ]
    }
   ],
   "source": [
    "x = 10\n",
    "\n",
    "while x > 0:\n",
    "    print(x)\n",
    "    x = x - 1 # x -= 1\n"
   ]
  },
  {
   "cell_type": "code",
   "execution_count": 150,
   "id": "73c9c441",
   "metadata": {},
   "outputs": [
    {
     "name": "stdout",
     "output_type": "stream",
     "text": [
      "10\n",
      "8\n",
      "6\n",
      "4\n",
      "2\n",
      "Pętla skończona\n"
     ]
    }
   ],
   "source": [
    "x = 10\n",
    "\n",
    "while x > 0:\n",
    "    if x % 2 != 0:\n",
    "        x -= 1\n",
    "        continue\n",
    "    print(x)\n",
    "    x -= 1\n",
    "else:\n",
    "    print(\"Pętla skończona\")"
   ]
  },
  {
   "cell_type": "code",
   "execution_count": 152,
   "id": "e55df5d3",
   "metadata": {},
   "outputs": [
    {
     "name": "stdout",
     "output_type": "stream",
     "text": [
      "10\n",
      "9\n",
      "8\n",
      "7\n",
      "6\n",
      "5\n"
     ]
    }
   ],
   "source": [
    "x = 10\n",
    "\n",
    "while x > 0:\n",
    "    if x == 4:\n",
    "        break\n",
    "    print(x)\n",
    "    x -= 1\n",
    "else:\n",
    "    print(\"Pętla skończona skończona bez użycua break\")"
   ]
  },
  {
   "cell_type": "code",
   "execution_count": 153,
   "id": "a82203fd",
   "metadata": {},
   "outputs": [
    {
     "name": "stdout",
     "output_type": "stream",
     "text": [
      "Podaj liczbe lub k by zakonczyc1\n",
      "Podaj liczbe lub k by zakonczyc2\n",
      "Podaj liczbe lub k by zakonczyc3\n",
      "Podaj liczbe lub k by zakonczyc4\n",
      "Podaj liczbe lub k by zakonczyc5\n",
      "Podaj liczbe lub k by zakonczyc6\n",
      "Podaj liczbe lub k by zakonczyck\n",
      "21\n"
     ]
    }
   ],
   "source": [
    "suma = 0\n",
    "while True:\n",
    "    polecenie = input(\"Podaj liczbe lub k by zakonczyc\")\n",
    "    if polecenie == \"k\": break\n",
    "    suma += int(polecenie)\n",
    "\n",
    "print(suma)\n",
    "    \n",
    "        "
   ]
  },
  {
   "cell_type": "markdown",
   "id": "764185ac",
   "metadata": {},
   "source": [
    "#### Zadanie 06\n",
    "\n",
    "Napisz program obliczający kwadrat 100 pierwszych liczba całkowitych i wypisujący wyniki na konsolę.\n",
    "\n",
    "#### Zadanie 07\n",
    "\n",
    "Napisz program obliczający średnią wartość temperatury w danym tygodniu na podstawie temperatur wprowadzonych przez użytkownika.\n",
    "\n",
    "#### Zadanie 08\n",
    "\n",
    "Napisz program wyświetlający minimalną oraz maksymalną liczbę z wszystkich liczb wprowadzonych przez użytkownika. Daj użytkownikowi możliwość zakończenia wprowadzania liczb odpowiednią komendą. Zadbaj o obsłużenie przypadku gdy użytkownik nie wprowadzi żadnej liczby.\n",
    "\n",
    "#### Zadanie 09 (opcjonalnie)\n",
    "\n",
    "Napisz grę polegającą na poszukiwaniu skarbu na dwuwymiarowej planszy o rozmiarach 10 na 10. Użytkownik może wprowadzać komendy zmieniające położenie postaci. Po każdym ruchu użytkownik powinien otrzymywać informację o tym czy zmierza dobrym kierunku. Wyjcie poza planszę oznacza koniec gry. Po znalezieniu skarbu wypisz liczbę ruchów wykorzystanych przez użytkownika na dojście do celu. \n",
    "\n",
    "Dodatkowo: po wykonaniu większej liczby kroków niż minimalna wartość x 2, umieść skarb w nowym miejscu z prawdopodobieństwem 1/5 nie podawaj graczowi wskazówki po wykonaniu kroku\n",
    "\n",
    "    import random \n",
    "\n",
    "    los = random.randint(1, 5)\n"
   ]
  },
  {
   "cell_type": "markdown",
   "id": "c7e3b39e",
   "metadata": {},
   "source": [
    "## Kolekcje\n",
    "\n",
    "### tuple - krotka"
   ]
  },
  {
   "cell_type": "code",
   "execution_count": 154,
   "id": "4a4cd20d",
   "metadata": {},
   "outputs": [],
   "source": [
    "dane = (1, 2, 3, \"4\", (1, 2, 3))"
   ]
  },
  {
   "cell_type": "code",
   "execution_count": 155,
   "id": "7585cdbd",
   "metadata": {},
   "outputs": [
    {
     "data": {
      "text/plain": [
       "tuple"
      ]
     },
     "execution_count": 155,
     "metadata": {},
     "output_type": "execute_result"
    }
   ],
   "source": [
    "type(dane)"
   ]
  },
  {
   "cell_type": "code",
   "execution_count": 156,
   "id": "9e9124a0",
   "metadata": {},
   "outputs": [
    {
     "data": {
      "text/plain": [
       "['__add__',\n",
       " '__class__',\n",
       " '__class_getitem__',\n",
       " '__contains__',\n",
       " '__delattr__',\n",
       " '__dir__',\n",
       " '__doc__',\n",
       " '__eq__',\n",
       " '__format__',\n",
       " '__ge__',\n",
       " '__getattribute__',\n",
       " '__getitem__',\n",
       " '__getnewargs__',\n",
       " '__gt__',\n",
       " '__hash__',\n",
       " '__init__',\n",
       " '__init_subclass__',\n",
       " '__iter__',\n",
       " '__le__',\n",
       " '__len__',\n",
       " '__lt__',\n",
       " '__mul__',\n",
       " '__ne__',\n",
       " '__new__',\n",
       " '__reduce__',\n",
       " '__reduce_ex__',\n",
       " '__repr__',\n",
       " '__rmul__',\n",
       " '__setattr__',\n",
       " '__sizeof__',\n",
       " '__str__',\n",
       " '__subclasshook__',\n",
       " 'count',\n",
       " 'index']"
      ]
     },
     "execution_count": 156,
     "metadata": {},
     "output_type": "execute_result"
    }
   ],
   "source": [
    "dir(dane)"
   ]
  },
  {
   "cell_type": "code",
   "execution_count": 157,
   "id": "ff7f9f8a",
   "metadata": {},
   "outputs": [
    {
     "data": {
      "text/plain": [
       "3"
      ]
     },
     "execution_count": 157,
     "metadata": {},
     "output_type": "execute_result"
    }
   ],
   "source": [
    "dane.index(\"4\")"
   ]
  },
  {
   "cell_type": "code",
   "execution_count": 158,
   "id": "ddf19b96",
   "metadata": {},
   "outputs": [
    {
     "data": {
      "text/plain": [
       "1"
      ]
     },
     "execution_count": 158,
     "metadata": {},
     "output_type": "execute_result"
    }
   ],
   "source": [
    "dane.count(2)"
   ]
  },
  {
   "cell_type": "code",
   "execution_count": 159,
   "id": "c30ea751",
   "metadata": {},
   "outputs": [
    {
     "data": {
      "text/plain": [
       "0"
      ]
     },
     "execution_count": 159,
     "metadata": {},
     "output_type": "execute_result"
    }
   ],
   "source": [
    "dane.count(100)"
   ]
  },
  {
   "cell_type": "code",
   "execution_count": 160,
   "id": "5770fa12",
   "metadata": {},
   "outputs": [
    {
     "ename": "ValueError",
     "evalue": "tuple.index(x): x not in tuple",
     "output_type": "error",
     "traceback": [
      "\u001b[1;31m---------------------------------------------------------------------------\u001b[0m",
      "\u001b[1;31mValueError\u001b[0m                                Traceback (most recent call last)",
      "\u001b[1;32mC:\\Users\\SZB345~1\\AppData\\Local\\Temp/ipykernel_11844/397406526.py\u001b[0m in \u001b[0;36m<module>\u001b[1;34m\u001b[0m\n\u001b[1;32m----> 1\u001b[1;33m \u001b[0mdane\u001b[0m\u001b[1;33m.\u001b[0m\u001b[0mindex\u001b[0m\u001b[1;33m(\u001b[0m\u001b[1;36m100\u001b[0m\u001b[1;33m)\u001b[0m\u001b[1;33m\u001b[0m\u001b[1;33m\u001b[0m\u001b[0m\n\u001b[0m",
      "\u001b[1;31mValueError\u001b[0m: tuple.index(x): x not in tuple"
     ]
    }
   ],
   "source": [
    "dane.index(100)"
   ]
  },
  {
   "cell_type": "code",
   "execution_count": 161,
   "id": "82323097",
   "metadata": {},
   "outputs": [
    {
     "data": {
      "text/plain": [
       "(1, 2, 3, '4', (1, 2, 3))"
      ]
     },
     "execution_count": 161,
     "metadata": {},
     "output_type": "execute_result"
    }
   ],
   "source": [
    "dane"
   ]
  },
  {
   "cell_type": "code",
   "execution_count": 162,
   "id": "21880ddd",
   "metadata": {},
   "outputs": [
    {
     "data": {
      "text/plain": [
       "(1, 2, 3)"
      ]
     },
     "execution_count": 162,
     "metadata": {},
     "output_type": "execute_result"
    }
   ],
   "source": [
    "(1, 2, 3)\n",
    "#0, 1, 2 - indexy\n"
   ]
  },
  {
   "cell_type": "code",
   "execution_count": 163,
   "id": "541008e1",
   "metadata": {},
   "outputs": [
    {
     "data": {
      "text/plain": [
       "'4'"
      ]
     },
     "execution_count": 163,
     "metadata": {},
     "output_type": "execute_result"
    }
   ],
   "source": [
    "# wybieranie z tupli\n",
    "\n",
    "dane[3]"
   ]
  },
  {
   "cell_type": "code",
   "execution_count": 164,
   "id": "13b4cc37",
   "metadata": {},
   "outputs": [
    {
     "data": {
      "text/plain": [
       "(1, 2, 3)"
      ]
     },
     "execution_count": 164,
     "metadata": {},
     "output_type": "execute_result"
    }
   ],
   "source": [
    "dane[4]"
   ]
  },
  {
   "cell_type": "code",
   "execution_count": 165,
   "id": "debef50e",
   "metadata": {},
   "outputs": [
    {
     "data": {
      "text/plain": [
       "1"
      ]
     },
     "execution_count": 165,
     "metadata": {},
     "output_type": "execute_result"
    }
   ],
   "source": [
    "dane[4][0]\n",
    "#(1, 2, 3)[0]"
   ]
  },
  {
   "cell_type": "code",
   "execution_count": 166,
   "id": "27ccab07",
   "metadata": {},
   "outputs": [
    {
     "data": {
      "text/plain": [
       "(1, 2, 3)"
      ]
     },
     "execution_count": 166,
     "metadata": {},
     "output_type": "execute_result"
    }
   ],
   "source": [
    "dane[-1]"
   ]
  },
  {
   "cell_type": "code",
   "execution_count": 167,
   "id": "f1bee049",
   "metadata": {},
   "outputs": [
    {
     "data": {
      "text/plain": [
       "'4'"
      ]
     },
     "execution_count": 167,
     "metadata": {},
     "output_type": "execute_result"
    }
   ],
   "source": [
    "dane[-2]"
   ]
  },
  {
   "cell_type": "code",
   "execution_count": 168,
   "id": "d2e93a2a",
   "metadata": {},
   "outputs": [
    {
     "data": {
      "text/plain": [
       "5"
      ]
     },
     "execution_count": 168,
     "metadata": {},
     "output_type": "execute_result"
    }
   ],
   "source": [
    "len(dane)"
   ]
  },
  {
   "cell_type": "code",
   "execution_count": 169,
   "id": "43bce13b",
   "metadata": {},
   "outputs": [
    {
     "data": {
      "text/plain": [
       "(1, 2, 3, '4', (1, 2, 3))"
      ]
     },
     "execution_count": 169,
     "metadata": {},
     "output_type": "execute_result"
    }
   ],
   "source": [
    "dane"
   ]
  },
  {
   "cell_type": "code",
   "execution_count": 178,
   "id": "a003f6e8",
   "metadata": {},
   "outputs": [
    {
     "data": {
      "text/plain": [
       "(4, 5, 6)"
      ]
     },
     "execution_count": 178,
     "metadata": {},
     "output_type": "execute_result"
    }
   ],
   "source": [
    "\n",
    "# Slicing\n",
    "\n",
    "       # 0  1  2  3  4  5  6  7  8  9\n",
    "dane2 = (1, 2, 3, 4, 5, 6, 7, 8, 9, 10)\n",
    "\n",
    "dane2[3:6]\n"
   ]
  },
  {
   "cell_type": "code",
   "execution_count": 171,
   "id": "080b0993",
   "metadata": {},
   "outputs": [
    {
     "data": {
      "text/plain": [
       "(5, 6, 7, 8, 9, 10)"
      ]
     },
     "execution_count": 171,
     "metadata": {},
     "output_type": "execute_result"
    }
   ],
   "source": [
    "dane2[4:]"
   ]
  },
  {
   "cell_type": "code",
   "execution_count": 174,
   "id": "780ca27d",
   "metadata": {},
   "outputs": [
    {
     "data": {
      "text/plain": [
       "(5, 6, 7, 8, 9)"
      ]
     },
     "execution_count": 174,
     "metadata": {},
     "output_type": "execute_result"
    }
   ],
   "source": [
    "dane2[4:-1]"
   ]
  },
  {
   "cell_type": "code",
   "execution_count": 176,
   "id": "79dbee92",
   "metadata": {},
   "outputs": [
    {
     "data": {
      "text/plain": [
       "(3, 6, 9)"
      ]
     },
     "execution_count": 176,
     "metadata": {},
     "output_type": "execute_result"
    }
   ],
   "source": [
    "dane2[2::3]"
   ]
  },
  {
   "cell_type": "code",
   "execution_count": 177,
   "id": "afa1f6ae",
   "metadata": {},
   "outputs": [
    {
     "data": {
      "text/plain": [
       "(10, 9, 8, 7, 6, 5, 4, 3, 2, 1)"
      ]
     },
     "execution_count": 177,
     "metadata": {},
     "output_type": "execute_result"
    }
   ],
   "source": [
    "dane2[::-1]"
   ]
  },
  {
   "cell_type": "markdown",
   "id": "5537d86a",
   "metadata": {},
   "source": [
    "#### tupla jest niemutowalna\n",
    "\n",
    "nie dodam do niej elementy\n",
    "nie usune z niej elementu\n",
    "\n",
    "moge utworzyc nowa tuple na podstawie starej"
   ]
  },
  {
   "cell_type": "code",
   "execution_count": 217,
   "id": "4bc436cf",
   "metadata": {},
   "outputs": [
    {
     "data": {
      "text/plain": [
       "(1, 2, 3, 3, 4, 5)"
      ]
     },
     "execution_count": 217,
     "metadata": {},
     "output_type": "execute_result"
    }
   ],
   "source": [
    "x = (1, 2, 3) + (3, 4, 5)\n",
    "x"
   ]
  },
  {
   "cell_type": "code",
   "execution_count": null,
   "id": "1e7b389e",
   "metadata": {},
   "outputs": [],
   "source": [
    "x[]"
   ]
  },
  {
   "cell_type": "markdown",
   "id": "1dfa1c45",
   "metadata": {},
   "source": [
    "### List - lista"
   ]
  },
  {
   "cell_type": "code",
   "execution_count": 180,
   "id": "3016879a",
   "metadata": {},
   "outputs": [],
   "source": [
    "lista = [1, 2, 3, 4, 5]"
   ]
  },
  {
   "cell_type": "code",
   "execution_count": 181,
   "id": "a59434e9",
   "metadata": {},
   "outputs": [
    {
     "data": {
      "text/plain": [
       "['__add__',\n",
       " '__class__',\n",
       " '__class_getitem__',\n",
       " '__contains__',\n",
       " '__delattr__',\n",
       " '__delitem__',\n",
       " '__dir__',\n",
       " '__doc__',\n",
       " '__eq__',\n",
       " '__format__',\n",
       " '__ge__',\n",
       " '__getattribute__',\n",
       " '__getitem__',\n",
       " '__gt__',\n",
       " '__hash__',\n",
       " '__iadd__',\n",
       " '__imul__',\n",
       " '__init__',\n",
       " '__init_subclass__',\n",
       " '__iter__',\n",
       " '__le__',\n",
       " '__len__',\n",
       " '__lt__',\n",
       " '__mul__',\n",
       " '__ne__',\n",
       " '__new__',\n",
       " '__reduce__',\n",
       " '__reduce_ex__',\n",
       " '__repr__',\n",
       " '__reversed__',\n",
       " '__rmul__',\n",
       " '__setattr__',\n",
       " '__setitem__',\n",
       " '__sizeof__',\n",
       " '__str__',\n",
       " '__subclasshook__',\n",
       " 'append',\n",
       " 'clear',\n",
       " 'copy',\n",
       " 'count',\n",
       " 'extend',\n",
       " 'index',\n",
       " 'insert',\n",
       " 'pop',\n",
       " 'remove',\n",
       " 'reverse',\n",
       " 'sort']"
      ]
     },
     "execution_count": 181,
     "metadata": {},
     "output_type": "execute_result"
    }
   ],
   "source": [
    "dir(lista)"
   ]
  },
  {
   "cell_type": "code",
   "execution_count": 183,
   "id": "8f23b513",
   "metadata": {},
   "outputs": [],
   "source": [
    "x = lista.append(6)"
   ]
  },
  {
   "cell_type": "code",
   "execution_count": 185,
   "id": "2d4fe01a",
   "metadata": {},
   "outputs": [
    {
     "data": {
      "text/plain": [
       "True"
      ]
     },
     "execution_count": 185,
     "metadata": {},
     "output_type": "execute_result"
    }
   ],
   "source": [
    "x is None"
   ]
  },
  {
   "cell_type": "code",
   "execution_count": 186,
   "id": "18c3661b",
   "metadata": {},
   "outputs": [
    {
     "name": "stdout",
     "output_type": "stream",
     "text": [
      "10\n"
     ]
    },
    {
     "data": {
      "text/plain": [
       "True"
      ]
     },
     "execution_count": 186,
     "metadata": {},
     "output_type": "execute_result"
    }
   ],
   "source": [
    "x = print(\"10\")\n",
    "x is None"
   ]
  },
  {
   "cell_type": "code",
   "execution_count": 187,
   "id": "c08d0897",
   "metadata": {},
   "outputs": [
    {
     "data": {
      "text/plain": [
       "[1, 2, 3, 4, 5, 6, 6]"
      ]
     },
     "execution_count": 187,
     "metadata": {},
     "output_type": "execute_result"
    }
   ],
   "source": [
    "lista"
   ]
  },
  {
   "cell_type": "code",
   "execution_count": 188,
   "id": "9f8aefe6",
   "metadata": {},
   "outputs": [],
   "source": [
    "lista.reverse()"
   ]
  },
  {
   "cell_type": "code",
   "execution_count": 189,
   "id": "9658a80b",
   "metadata": {},
   "outputs": [
    {
     "data": {
      "text/plain": [
       "[6, 6, 5, 4, 3, 2, 1]"
      ]
     },
     "execution_count": 189,
     "metadata": {},
     "output_type": "execute_result"
    }
   ],
   "source": [
    "lista"
   ]
  },
  {
   "cell_type": "code",
   "execution_count": 190,
   "id": "59e1d554",
   "metadata": {},
   "outputs": [
    {
     "data": {
      "text/plain": [
       "(1, 2, 3, '4', (1, 2, 3))"
      ]
     },
     "execution_count": 190,
     "metadata": {},
     "output_type": "execute_result"
    }
   ],
   "source": [
    "dane"
   ]
  },
  {
   "cell_type": "code",
   "execution_count": 191,
   "id": "65321082",
   "metadata": {},
   "outputs": [],
   "source": [
    "dane_lista = list(dane)"
   ]
  },
  {
   "cell_type": "code",
   "execution_count": 192,
   "id": "7d0f345e",
   "metadata": {},
   "outputs": [
    {
     "data": {
      "text/plain": [
       "[1, 2, 3, '4', (1, 2, 3)]"
      ]
     },
     "execution_count": 192,
     "metadata": {},
     "output_type": "execute_result"
    }
   ],
   "source": [
    "dane_lista"
   ]
  },
  {
   "cell_type": "code",
   "execution_count": 193,
   "id": "59bc6890",
   "metadata": {},
   "outputs": [],
   "source": [
    "x = [1, 2, 3]\n",
    "y = x"
   ]
  },
  {
   "cell_type": "code",
   "execution_count": 194,
   "id": "24193d8d",
   "metadata": {},
   "outputs": [
    {
     "data": {
      "text/plain": [
       "[1, 2, 3]"
      ]
     },
     "execution_count": 194,
     "metadata": {},
     "output_type": "execute_result"
    }
   ],
   "source": [
    "x"
   ]
  },
  {
   "cell_type": "code",
   "execution_count": 195,
   "id": "cfec3149",
   "metadata": {},
   "outputs": [],
   "source": [
    "x.append(4)"
   ]
  },
  {
   "cell_type": "code",
   "execution_count": 196,
   "id": "c6e4e781",
   "metadata": {},
   "outputs": [
    {
     "data": {
      "text/plain": [
       "[1, 2, 3, 4]"
      ]
     },
     "execution_count": 196,
     "metadata": {},
     "output_type": "execute_result"
    }
   ],
   "source": [
    "x"
   ]
  },
  {
   "cell_type": "code",
   "execution_count": 197,
   "id": "6ad70523",
   "metadata": {},
   "outputs": [
    {
     "data": {
      "text/plain": [
       "[1, 2, 3, 4]"
      ]
     },
     "execution_count": 197,
     "metadata": {},
     "output_type": "execute_result"
    }
   ],
   "source": [
    "y"
   ]
  },
  {
   "cell_type": "code",
   "execution_count": 198,
   "id": "2224c6bc",
   "metadata": {},
   "outputs": [
    {
     "data": {
      "text/plain": [
       "3035689467648"
      ]
     },
     "execution_count": 198,
     "metadata": {},
     "output_type": "execute_result"
    }
   ],
   "source": [
    "id(x)"
   ]
  },
  {
   "cell_type": "code",
   "execution_count": 199,
   "id": "ec63b149",
   "metadata": {},
   "outputs": [
    {
     "data": {
      "text/plain": [
       "3035689467648"
      ]
     },
     "execution_count": 199,
     "metadata": {},
     "output_type": "execute_result"
    }
   ],
   "source": [
    "id(y)"
   ]
  },
  {
   "cell_type": "code",
   "execution_count": 200,
   "id": "9bfbd392",
   "metadata": {},
   "outputs": [],
   "source": [
    "y.append(7)"
   ]
  },
  {
   "cell_type": "code",
   "execution_count": 201,
   "id": "d3950c2d",
   "metadata": {},
   "outputs": [
    {
     "data": {
      "text/plain": [
       "[1, 2, 3, 4, 7]"
      ]
     },
     "execution_count": 201,
     "metadata": {},
     "output_type": "execute_result"
    }
   ],
   "source": [
    "x"
   ]
  },
  {
   "cell_type": "code",
   "execution_count": 202,
   "id": "2fca3e45",
   "metadata": {},
   "outputs": [],
   "source": [
    "y = x.copy() # y = x[:]\n",
    "\n"
   ]
  },
  {
   "cell_type": "code",
   "execution_count": 203,
   "id": "166ff882",
   "metadata": {},
   "outputs": [],
   "source": [
    "x.append(8)"
   ]
  },
  {
   "cell_type": "code",
   "execution_count": 204,
   "id": "b13e7768",
   "metadata": {},
   "outputs": [
    {
     "data": {
      "text/plain": [
       "[1, 2, 3, 4, 7, 8]"
      ]
     },
     "execution_count": 204,
     "metadata": {},
     "output_type": "execute_result"
    }
   ],
   "source": [
    "x"
   ]
  },
  {
   "cell_type": "code",
   "execution_count": 205,
   "id": "e81c061d",
   "metadata": {},
   "outputs": [
    {
     "data": {
      "text/plain": [
       "[1, 2, 3, 4, 7]"
      ]
     },
     "execution_count": 205,
     "metadata": {},
     "output_type": "execute_result"
    }
   ],
   "source": [
    "y"
   ]
  },
  {
   "cell_type": "code",
   "execution_count": 206,
   "id": "8b313ee4",
   "metadata": {},
   "outputs": [],
   "source": [
    "a = [1, 2]\n",
    "b = [3, 4, a]\n",
    "\n",
    "c = b.copy()"
   ]
  },
  {
   "cell_type": "code",
   "execution_count": 207,
   "id": "8a530bf8",
   "metadata": {},
   "outputs": [
    {
     "data": {
      "text/plain": [
       "[3, 4, [1, 2]]"
      ]
     },
     "execution_count": 207,
     "metadata": {},
     "output_type": "execute_result"
    }
   ],
   "source": [
    "c"
   ]
  },
  {
   "cell_type": "code",
   "execution_count": 208,
   "id": "fcb22458",
   "metadata": {},
   "outputs": [],
   "source": [
    "a.append(1)"
   ]
  },
  {
   "cell_type": "code",
   "execution_count": 209,
   "id": "b590b807",
   "metadata": {},
   "outputs": [
    {
     "data": {
      "text/plain": [
       "[3, 4, [1, 2, 1]]"
      ]
     },
     "execution_count": 209,
     "metadata": {},
     "output_type": "execute_result"
    }
   ],
   "source": [
    "b"
   ]
  },
  {
   "cell_type": "code",
   "execution_count": 210,
   "id": "b5bad610",
   "metadata": {},
   "outputs": [
    {
     "data": {
      "text/plain": [
       "[3, 4, [1, 2, 1]]"
      ]
     },
     "execution_count": 210,
     "metadata": {},
     "output_type": "execute_result"
    }
   ],
   "source": [
    "c"
   ]
  },
  {
   "cell_type": "code",
   "execution_count": 211,
   "id": "151c6bfe",
   "metadata": {},
   "outputs": [],
   "source": [
    "import copy\n",
    "\n",
    "c = copy.deepcopy(b)"
   ]
  },
  {
   "cell_type": "code",
   "execution_count": 212,
   "id": "25fb2e42",
   "metadata": {},
   "outputs": [
    {
     "data": {
      "text/plain": [
       "[3, 4, [1, 2, 1]]"
      ]
     },
     "execution_count": 212,
     "metadata": {},
     "output_type": "execute_result"
    }
   ],
   "source": [
    "c"
   ]
  },
  {
   "cell_type": "code",
   "execution_count": 213,
   "id": "5a06fc5a",
   "metadata": {},
   "outputs": [],
   "source": [
    "a.append(7)"
   ]
  },
  {
   "cell_type": "code",
   "execution_count": 214,
   "id": "36f1a5e2",
   "metadata": {},
   "outputs": [
    {
     "data": {
      "text/plain": [
       "[3, 4, [1, 2, 1, 7]]"
      ]
     },
     "execution_count": 214,
     "metadata": {},
     "output_type": "execute_result"
    }
   ],
   "source": [
    "b"
   ]
  },
  {
   "cell_type": "code",
   "execution_count": 215,
   "id": "76f49c25",
   "metadata": {},
   "outputs": [
    {
     "data": {
      "text/plain": [
       "[3, 4, [1, 2, 1]]"
      ]
     },
     "execution_count": 215,
     "metadata": {},
     "output_type": "execute_result"
    }
   ],
   "source": [
    "c"
   ]
  },
  {
   "cell_type": "code",
   "execution_count": 226,
   "id": "798cb52f",
   "metadata": {},
   "outputs": [],
   "source": [
    "funkcje = (print, input, dir, int, float)"
   ]
  },
  {
   "cell_type": "code",
   "execution_count": 229,
   "id": "aba7437f",
   "metadata": {},
   "outputs": [
    {
     "data": {
      "text/plain": [
       "0"
      ]
     },
     "execution_count": 229,
     "metadata": {},
     "output_type": "execute_result"
    }
   ],
   "source": [
    "funkcje[3]()  # int()"
   ]
  },
  {
   "cell_type": "code",
   "execution_count": 220,
   "id": "f7b4c763",
   "metadata": {},
   "outputs": [],
   "source": [
    "print = 10"
   ]
  },
  {
   "cell_type": "code",
   "execution_count": 221,
   "id": "a641e8de",
   "metadata": {},
   "outputs": [
    {
     "data": {
      "text/plain": [
       "10"
      ]
     },
     "execution_count": 221,
     "metadata": {},
     "output_type": "execute_result"
    }
   ],
   "source": [
    "print"
   ]
  },
  {
   "cell_type": "code",
   "execution_count": 224,
   "id": "2f5c9af7",
   "metadata": {},
   "outputs": [],
   "source": [
    "print = __builtins__.print"
   ]
  },
  {
   "cell_type": "code",
   "execution_count": 225,
   "id": "4d15add6",
   "metadata": {},
   "outputs": [
    {
     "data": {
      "text/plain": [
       "['ArithmeticError',\n",
       " 'AssertionError',\n",
       " 'AttributeError',\n",
       " 'BaseException',\n",
       " 'BlockingIOError',\n",
       " 'BrokenPipeError',\n",
       " 'BufferError',\n",
       " 'BytesWarning',\n",
       " 'ChildProcessError',\n",
       " 'ConnectionAbortedError',\n",
       " 'ConnectionError',\n",
       " 'ConnectionRefusedError',\n",
       " 'ConnectionResetError',\n",
       " 'DeprecationWarning',\n",
       " 'EOFError',\n",
       " 'Ellipsis',\n",
       " 'EncodingWarning',\n",
       " 'EnvironmentError',\n",
       " 'Exception',\n",
       " 'False',\n",
       " 'FileExistsError',\n",
       " 'FileNotFoundError',\n",
       " 'FloatingPointError',\n",
       " 'FutureWarning',\n",
       " 'GeneratorExit',\n",
       " 'IOError',\n",
       " 'ImportError',\n",
       " 'ImportWarning',\n",
       " 'IndentationError',\n",
       " 'IndexError',\n",
       " 'InterruptedError',\n",
       " 'IsADirectoryError',\n",
       " 'KeyError',\n",
       " 'KeyboardInterrupt',\n",
       " 'LookupError',\n",
       " 'MemoryError',\n",
       " 'ModuleNotFoundError',\n",
       " 'NameError',\n",
       " 'None',\n",
       " 'NotADirectoryError',\n",
       " 'NotImplemented',\n",
       " 'NotImplementedError',\n",
       " 'OSError',\n",
       " 'OverflowError',\n",
       " 'PendingDeprecationWarning',\n",
       " 'PermissionError',\n",
       " 'ProcessLookupError',\n",
       " 'RecursionError',\n",
       " 'ReferenceError',\n",
       " 'ResourceWarning',\n",
       " 'RuntimeError',\n",
       " 'RuntimeWarning',\n",
       " 'StopAsyncIteration',\n",
       " 'StopIteration',\n",
       " 'SyntaxError',\n",
       " 'SyntaxWarning',\n",
       " 'SystemError',\n",
       " 'SystemExit',\n",
       " 'TabError',\n",
       " 'TimeoutError',\n",
       " 'True',\n",
       " 'TypeError',\n",
       " 'UnboundLocalError',\n",
       " 'UnicodeDecodeError',\n",
       " 'UnicodeEncodeError',\n",
       " 'UnicodeError',\n",
       " 'UnicodeTranslateError',\n",
       " 'UnicodeWarning',\n",
       " 'UserWarning',\n",
       " 'ValueError',\n",
       " 'Warning',\n",
       " 'WindowsError',\n",
       " 'ZeroDivisionError',\n",
       " '__IPYTHON__',\n",
       " '__build_class__',\n",
       " '__debug__',\n",
       " '__doc__',\n",
       " '__import__',\n",
       " '__loader__',\n",
       " '__name__',\n",
       " '__package__',\n",
       " '__spec__',\n",
       " 'abs',\n",
       " 'aiter',\n",
       " 'all',\n",
       " 'anext',\n",
       " 'any',\n",
       " 'ascii',\n",
       " 'bin',\n",
       " 'bool',\n",
       " 'breakpoint',\n",
       " 'bytearray',\n",
       " 'bytes',\n",
       " 'callable',\n",
       " 'chr',\n",
       " 'classmethod',\n",
       " 'compile',\n",
       " 'complex',\n",
       " 'copyright',\n",
       " 'credits',\n",
       " 'delattr',\n",
       " 'dict',\n",
       " 'dir',\n",
       " 'display',\n",
       " 'divmod',\n",
       " 'enumerate',\n",
       " 'eval',\n",
       " 'exec',\n",
       " 'execfile',\n",
       " 'filter',\n",
       " 'float',\n",
       " 'format',\n",
       " 'frozenset',\n",
       " 'get_ipython',\n",
       " 'getattr',\n",
       " 'globals',\n",
       " 'hasattr',\n",
       " 'hash',\n",
       " 'help',\n",
       " 'hex',\n",
       " 'id',\n",
       " 'input',\n",
       " 'int',\n",
       " 'isinstance',\n",
       " 'issubclass',\n",
       " 'iter',\n",
       " 'len',\n",
       " 'license',\n",
       " 'list',\n",
       " 'locals',\n",
       " 'map',\n",
       " 'max',\n",
       " 'memoryview',\n",
       " 'min',\n",
       " 'next',\n",
       " 'object',\n",
       " 'oct',\n",
       " 'open',\n",
       " 'ord',\n",
       " 'pow',\n",
       " 'print',\n",
       " 'property',\n",
       " 'range',\n",
       " 'repr',\n",
       " 'reversed',\n",
       " 'round',\n",
       " 'runfile',\n",
       " 'set',\n",
       " 'setattr',\n",
       " 'slice',\n",
       " 'sorted',\n",
       " 'staticmethod',\n",
       " 'str',\n",
       " 'sum',\n",
       " 'super',\n",
       " 'tuple',\n",
       " 'type',\n",
       " 'vars',\n",
       " 'zip']"
      ]
     },
     "execution_count": 225,
     "metadata": {},
     "output_type": "execute_result"
    }
   ],
   "source": [
    "dir(__builtins__)"
   ]
  },
  {
   "cell_type": "code",
   "execution_count": 230,
   "id": "840b4ad6",
   "metadata": {},
   "outputs": [],
   "source": [
    "# przestrzen globalna\n",
    "\n",
    "\n"
   ]
  },
  {
   "cell_type": "markdown",
   "id": "efcd7172",
   "metadata": {},
   "source": [
    "#### Zadanie 09\n",
    "\n",
    "W sesji interaktywnego środowiska interpretera stwórz tuplę zawierającą 10 różnych liczb całkowitych. Korzystając z operatora dostępu oraz wycinania pobierz:\n",
    "\n",
    "- drugi element\n",
    "- przedostatni element\n",
    "- elementy od trzeciego do siódmego (włącznie) \n",
    "- co trzeci element\n",
    "- co drugi element licząc od końca"
   ]
  },
  {
   "cell_type": "code",
   "execution_count": 231,
   "id": "4076c8a9",
   "metadata": {},
   "outputs": [],
   "source": [
    "tupla = (1, 2, 3, 4, 5, 6, 7, 8, 9, 10)"
   ]
  },
  {
   "cell_type": "code",
   "execution_count": 232,
   "id": "db430f41",
   "metadata": {},
   "outputs": [
    {
     "data": {
      "text/plain": [
       "2"
      ]
     },
     "execution_count": 232,
     "metadata": {},
     "output_type": "execute_result"
    }
   ],
   "source": [
    "tupla[1]"
   ]
  },
  {
   "cell_type": "code",
   "execution_count": 233,
   "id": "423aa0c2",
   "metadata": {},
   "outputs": [
    {
     "data": {
      "text/plain": [
       "9"
      ]
     },
     "execution_count": 233,
     "metadata": {},
     "output_type": "execute_result"
    }
   ],
   "source": [
    "tupla[-2]"
   ]
  },
  {
   "cell_type": "code",
   "execution_count": 234,
   "id": "b7213d2a",
   "metadata": {},
   "outputs": [
    {
     "data": {
      "text/plain": [
       "(3, 4, 5, 6, 7)"
      ]
     },
     "execution_count": 234,
     "metadata": {},
     "output_type": "execute_result"
    }
   ],
   "source": [
    "tupla[2:7]"
   ]
  },
  {
   "cell_type": "code",
   "execution_count": 235,
   "id": "e1dd8d4d",
   "metadata": {},
   "outputs": [
    {
     "data": {
      "text/plain": [
       "(1, 4, 7, 10)"
      ]
     },
     "execution_count": 235,
     "metadata": {},
     "output_type": "execute_result"
    }
   ],
   "source": [
    "tupla[::3]"
   ]
  },
  {
   "cell_type": "code",
   "execution_count": 236,
   "id": "9f1b6f63",
   "metadata": {},
   "outputs": [
    {
     "data": {
      "text/plain": [
       "(10, 8, 6, 4, 2)"
      ]
     },
     "execution_count": 236,
     "metadata": {},
     "output_type": "execute_result"
    }
   ],
   "source": [
    "tupla[::-2]"
   ]
  },
  {
   "cell_type": "code",
   "execution_count": 239,
   "id": "5dddcb68",
   "metadata": {},
   "outputs": [],
   "source": [
    "x = tuple() # ()"
   ]
  },
  {
   "cell_type": "code",
   "execution_count": 238,
   "id": "874cafae",
   "metadata": {},
   "outputs": [
    {
     "data": {
      "text/plain": [
       "tuple"
      ]
     },
     "execution_count": 238,
     "metadata": {},
     "output_type": "execute_result"
    }
   ],
   "source": [
    "type(x)"
   ]
  },
  {
   "cell_type": "code",
   "execution_count": 240,
   "id": "a281ae9c",
   "metadata": {},
   "outputs": [],
   "source": [
    "x = (1)"
   ]
  },
  {
   "cell_type": "code",
   "execution_count": 241,
   "id": "9487e333",
   "metadata": {},
   "outputs": [
    {
     "data": {
      "text/plain": [
       "int"
      ]
     },
     "execution_count": 241,
     "metadata": {},
     "output_type": "execute_result"
    }
   ],
   "source": [
    "type(x)"
   ]
  },
  {
   "cell_type": "code",
   "execution_count": 242,
   "id": "0d2d21d6",
   "metadata": {},
   "outputs": [
    {
     "data": {
      "text/plain": [
       "tuple"
      ]
     },
     "execution_count": 242,
     "metadata": {},
     "output_type": "execute_result"
    }
   ],
   "source": [
    "x = (1,)\n",
    "type(x)"
   ]
  },
  {
   "cell_type": "code",
   "execution_count": 243,
   "id": "d4996ea9",
   "metadata": {},
   "outputs": [
    {
     "data": {
      "text/plain": [
       "(1,)"
      ]
     },
     "execution_count": 243,
     "metadata": {},
     "output_type": "execute_result"
    }
   ],
   "source": [
    "x"
   ]
  },
  {
   "cell_type": "code",
   "execution_count": 244,
   "id": "655529a2",
   "metadata": {},
   "outputs": [
    {
     "data": {
      "text/plain": [
       "[1, 2, 3]"
      ]
     },
     "execution_count": 244,
     "metadata": {},
     "output_type": "execute_result"
    }
   ],
   "source": [
    "[1, 2, 3, ]"
   ]
  },
  {
   "cell_type": "code",
   "execution_count": 245,
   "id": "482dbdbc",
   "metadata": {},
   "outputs": [
    {
     "data": {
      "text/plain": [
       "[1, 2, 3, 4, 5, 6, 7, 8, 9, 10]"
      ]
     },
     "execution_count": 245,
     "metadata": {},
     "output_type": "execute_result"
    }
   ],
   "source": [
    "list(tupla)"
   ]
  },
  {
   "cell_type": "code",
   "execution_count": 246,
   "id": "1facca06",
   "metadata": {},
   "outputs": [
    {
     "data": {
      "text/plain": [
       "(1, 2, 3)"
      ]
     },
     "execution_count": 246,
     "metadata": {},
     "output_type": "execute_result"
    }
   ],
   "source": [
    "tuple([1, 2, 3, ])"
   ]
  },
  {
   "cell_type": "code",
   "execution_count": 247,
   "id": "25737f37",
   "metadata": {},
   "outputs": [],
   "source": [
    "lista = [1, 2]\n"
   ]
  },
  {
   "cell_type": "code",
   "execution_count": 248,
   "id": "46f8e8de",
   "metadata": {},
   "outputs": [],
   "source": [
    "lista.append(3)"
   ]
  },
  {
   "cell_type": "code",
   "execution_count": 249,
   "id": "a0603f16",
   "metadata": {},
   "outputs": [
    {
     "data": {
      "text/plain": [
       "[1, 2, 3]"
      ]
     },
     "execution_count": 249,
     "metadata": {},
     "output_type": "execute_result"
    }
   ],
   "source": [
    "lista"
   ]
  },
  {
   "cell_type": "code",
   "execution_count": 251,
   "id": "74022715",
   "metadata": {},
   "outputs": [],
   "source": [
    "lista.insert(1, 4)"
   ]
  },
  {
   "cell_type": "code",
   "execution_count": 252,
   "id": "2ed0f03a",
   "metadata": {},
   "outputs": [
    {
     "data": {
      "text/plain": [
       "[1, 4, 2, 3]"
      ]
     },
     "execution_count": 252,
     "metadata": {},
     "output_type": "execute_result"
    }
   ],
   "source": [
    "lista"
   ]
  },
  {
   "cell_type": "code",
   "execution_count": 253,
   "id": "dddd0710",
   "metadata": {},
   "outputs": [],
   "source": [
    "lista.pop?"
   ]
  },
  {
   "cell_type": "code",
   "execution_count": 254,
   "id": "fba758c7",
   "metadata": {},
   "outputs": [
    {
     "data": {
      "text/plain": [
       "3"
      ]
     },
     "execution_count": 254,
     "metadata": {},
     "output_type": "execute_result"
    }
   ],
   "source": [
    "lista.pop()"
   ]
  },
  {
   "cell_type": "code",
   "execution_count": 255,
   "id": "0ea5fea7",
   "metadata": {},
   "outputs": [
    {
     "data": {
      "text/plain": [
       "[1, 4, 2]"
      ]
     },
     "execution_count": 255,
     "metadata": {},
     "output_type": "execute_result"
    }
   ],
   "source": [
    "lista"
   ]
  },
  {
   "cell_type": "code",
   "execution_count": 256,
   "id": "778c06ea",
   "metadata": {},
   "outputs": [],
   "source": [
    "lista.extend?"
   ]
  },
  {
   "cell_type": "code",
   "execution_count": 257,
   "id": "ccfed5b2",
   "metadata": {},
   "outputs": [],
   "source": [
    "lista.extend([4, 5, 6])"
   ]
  },
  {
   "cell_type": "code",
   "execution_count": 258,
   "id": "37263a22",
   "metadata": {},
   "outputs": [
    {
     "data": {
      "text/plain": [
       "[1, 4, 2, 4, 5, 6]"
      ]
     },
     "execution_count": 258,
     "metadata": {},
     "output_type": "execute_result"
    }
   ],
   "source": [
    "lista"
   ]
  },
  {
   "cell_type": "code",
   "execution_count": 259,
   "id": "ed82c0f2",
   "metadata": {},
   "outputs": [
    {
     "data": {
      "text/plain": [
       "[1, 4, 2, 4, 5, 6, 7, 8]"
      ]
     },
     "execution_count": 259,
     "metadata": {},
     "output_type": "execute_result"
    }
   ],
   "source": [
    "lista + [7,8]"
   ]
  },
  {
   "cell_type": "code",
   "execution_count": 260,
   "id": "6bd06acb",
   "metadata": {},
   "outputs": [
    {
     "data": {
      "text/plain": [
       "[1, 4, 2, 4, 5, 6]"
      ]
     },
     "execution_count": 260,
     "metadata": {},
     "output_type": "execute_result"
    }
   ],
   "source": [
    "lista"
   ]
  },
  {
   "cell_type": "code",
   "execution_count": 267,
   "id": "0d9c485d",
   "metadata": {},
   "outputs": [
    {
     "data": {
      "text/plain": [
       "3"
      ]
     },
     "execution_count": 267,
     "metadata": {},
     "output_type": "execute_result"
    }
   ],
   "source": [
    "lista.index(4,lista.index(4)+1)\n"
   ]
  },
  {
   "cell_type": "code",
   "execution_count": 266,
   "id": "da6d2589",
   "metadata": {},
   "outputs": [
    {
     "data": {
      "text/plain": [
       "1"
      ]
     },
     "execution_count": 266,
     "metadata": {},
     "output_type": "execute_result"
    }
   ],
   "source": [
    "lista.index(4, 1)"
   ]
  },
  {
   "cell_type": "markdown",
   "id": "d543d254",
   "metadata": {},
   "source": [
    "### range\n"
   ]
  },
  {
   "cell_type": "code",
   "execution_count": 270,
   "id": "a92734b7",
   "metadata": {},
   "outputs": [
    {
     "data": {
      "text/plain": [
       "[0, 1, 2, 3, 4, 5, 6, 7, 8, 9]"
      ]
     },
     "execution_count": 270,
     "metadata": {},
     "output_type": "execute_result"
    }
   ],
   "source": [
    "list(range(10))"
   ]
  },
  {
   "cell_type": "code",
   "execution_count": 271,
   "id": "5a78fe2c",
   "metadata": {},
   "outputs": [
    {
     "data": {
      "text/plain": [
       "[5, 6, 7, 8, 9, 10, 11, 12, 13, 14, 15]"
      ]
     },
     "execution_count": 271,
     "metadata": {},
     "output_type": "execute_result"
    }
   ],
   "source": [
    "list(range(5, 16))"
   ]
  },
  {
   "cell_type": "code",
   "execution_count": 273,
   "id": "292e0b79",
   "metadata": {},
   "outputs": [
    {
     "data": {
      "text/plain": [
       "[5, 8, 11, 14]"
      ]
     },
     "execution_count": 273,
     "metadata": {},
     "output_type": "execute_result"
    }
   ],
   "source": [
    "list(range(5, 16, 3))"
   ]
  },
  {
   "cell_type": "markdown",
   "id": "ebe55637",
   "metadata": {},
   "source": [
    "## Petla for"
   ]
  },
  {
   "cell_type": "code",
   "execution_count": 274,
   "id": "8318f771",
   "metadata": {},
   "outputs": [
    {
     "name": "stdout",
     "output_type": "stream",
     "text": [
      "1\n",
      "4\n",
      "2\n",
      "4\n",
      "5\n",
      "6\n"
     ]
    }
   ],
   "source": [
    "for el in lista:\n",
    "    print(el)"
   ]
  },
  {
   "cell_type": "code",
   "execution_count": 288,
   "id": "12ed70a8",
   "metadata": {},
   "outputs": [
    {
     "name": "stdout",
     "output_type": "stream",
     "text": [
      "1\n",
      "4\n",
      "9\n",
      "16\n",
      "25\n"
     ]
    }
   ],
   "source": [
    "for i in range(1, 6):\n",
    "    print(i ** 2)"
   ]
  },
  {
   "cell_type": "code",
   "execution_count": null,
   "id": "ef631df5",
   "metadata": {},
   "outputs": [],
   "source": []
  },
  {
   "cell_type": "code",
   "execution_count": 281,
   "id": "ff5d043c",
   "metadata": {},
   "outputs": [],
   "source": [
    "a, b = 1, 2"
   ]
  },
  {
   "cell_type": "code",
   "execution_count": 282,
   "id": "a39b3051",
   "metadata": {},
   "outputs": [
    {
     "ename": "ValueError",
     "evalue": "not enough values to unpack (expected 3, got 2)",
     "output_type": "error",
     "traceback": [
      "\u001b[1;31m---------------------------------------------------------------------------\u001b[0m",
      "\u001b[1;31mValueError\u001b[0m                                Traceback (most recent call last)",
      "\u001b[1;32mC:\\Users\\SZB345~1\\AppData\\Local\\Temp/ipykernel_11844/1121104675.py\u001b[0m in \u001b[0;36m<module>\u001b[1;34m\u001b[0m\n\u001b[1;32m----> 1\u001b[1;33m \u001b[0ma\u001b[0m\u001b[1;33m,\u001b[0m \u001b[0mb\u001b[0m\u001b[1;33m,\u001b[0m \u001b[0mc\u001b[0m \u001b[1;33m=\u001b[0m \u001b[1;36m1\u001b[0m\u001b[1;33m,\u001b[0m \u001b[1;36m2\u001b[0m\u001b[1;33m\u001b[0m\u001b[1;33m\u001b[0m\u001b[0m\n\u001b[0m",
      "\u001b[1;31mValueError\u001b[0m: not enough values to unpack (expected 3, got 2)"
     ]
    }
   ],
   "source": [
    "a, b, c = 1, 2"
   ]
  },
  {
   "cell_type": "code",
   "execution_count": 284,
   "id": "260cf9b7",
   "metadata": {},
   "outputs": [
    {
     "name": "stdout",
     "output_type": "stream",
     "text": [
      "3\n",
      "7\n",
      "11\n"
     ]
    }
   ],
   "source": [
    "xxx = [(1, 2), (3, 4), (5, 6)]\n",
    "\n",
    "for a, b in xxx:\n",
    "    print(a + b)"
   ]
  },
  {
   "cell_type": "code",
   "execution_count": 287,
   "id": "ec80a017",
   "metadata": {},
   "outputs": [
    {
     "name": "stdout",
     "output_type": "stream",
     "text": [
      "3 1\n",
      "4 4\n",
      "5 2\n",
      "6 4\n",
      "7 5\n",
      "8 6\n"
     ]
    }
   ],
   "source": [
    "for i, el in enumerate(lista, start=3):\n",
    "    print(i, el)"
   ]
  },
  {
   "cell_type": "markdown",
   "id": "a62b58fd",
   "metadata": {},
   "source": [
    "#### Zadanie 09\n",
    "\n",
    "Napisz program obliczający średnią wartość z podanych przez użytkownika liczba. Do przechowywania liczb użyj listy. Pozwól na wprowadzenie maksymalnie 10 liczb. Skorzystaj z funkcji wbudowanej sum() i len()"
   ]
  },
  {
   "cell_type": "code",
   "execution_count": 316,
   "id": "d464433b",
   "metadata": {},
   "outputs": [
    {
     "name": "stdout",
     "output_type": "stream",
     "text": [
      "Podaj liczbe lub k by zakonczyc: 1\n",
      "Podaj liczbe lub k by zakonczyc: 2\n",
      "Podaj liczbe lub k by zakonczyc: k\n",
      "1.5\n"
     ]
    }
   ],
   "source": [
    "#%%writefile zadanie_09.py\n",
    "dane = []\n",
    "\n",
    "for i in range(10):\n",
    "    operacja = input(\"Podaj liczbe lub k by zakonczyc: \")\n",
    "    if operacja == \"k\":\n",
    "        break\n",
    "    liczba = int(operacja)\n",
    "    dane.append(liczba)\n",
    "    \n",
    "print(sum(dane) / len(dane))\n"
   ]
  },
  {
   "cell_type": "code",
   "execution_count": 291,
   "id": "4cac0fce",
   "metadata": {},
   "outputs": [],
   "source": [
    "print?"
   ]
  },
  {
   "cell_type": "markdown",
   "id": "d8dff9d9",
   "metadata": {},
   "source": [
    "#### Zadanie 10\n",
    "Napisz program wypisujący na konsolę tabliczkę mnożenia dla liczb od 0 do 9 w postaci tabelki.\n",
    "\n",
    "           0    1    2    3    4    5    6    7    8    9\n",
    "\n",
    "    0      0    0    0    0    0    0    0    0    0    0\n",
    "    1      0    1    2    3    4    5    6    7    8    9\n",
    "    2      0    2    4    6    8   10   12   14   16   18\n",
    "    3      0    3    6    9   12   15   18   21   24   27\n",
    "    4      0    4    8   12   16   20   24   28   32   36\n",
    "    5      0    5   10   15   20   25   30   35   40   45\n",
    "    6      0    6   12   18   24   30   36   42   48   54\n",
    "    7      0    7   14   21   28   35   42   49   56   63\n",
    "    8      0    8   16   24   32   40   48   56   64   72\n",
    "    9      0    9   18   27   36   45   54   63   72   81"
   ]
  },
  {
   "cell_type": "code",
   "execution_count": 315,
   "id": "27dbba42",
   "metadata": {},
   "outputs": [
    {
     "name": "stdout",
     "output_type": "stream",
     "text": [
      "         0    1    2    3    4    5    6    7    8    9\n",
      "\n",
      "0        0    0    0    0    0    0    0    0    0    0\n",
      "1        0    1    2    3    4    5    6    7    8    9\n",
      "2        0    2    4    6    8   10   12   14   16   18\n",
      "3        0    3    6    9   12   15   18   21   24   27\n",
      "4        0    4    8   12   16   20   24   28   32   36\n",
      "5        0    5   10   15   20   25   30   35   40   45\n",
      "6        0    6   12   18   24   30   36   42   48   54\n",
      "7        0    7   14   21   28   35   42   49   56   63\n",
      "8        0    8   16   24   32   40   48   56   64   72\n",
      "9        0    9   18   27   36   45   54   63   72   81\n"
     ]
    }
   ],
   "source": [
    "#%%writefile zadanie_10.py\n",
    "print(\"     \", end=\"\")\n",
    "for i in range(10):\n",
    "    print(f\"{i:5}\", end=\"\")\n",
    "print()\n",
    "print()\n",
    "\n",
    "for i in range(10):\n",
    "    print(f\"{i}    \", end=\"\")\n",
    "    for j in range(10):\n",
    "        print(f\"{i * j:5}\", end=\"\")\n",
    "    print()"
   ]
  },
  {
   "cell_type": "code",
   "execution_count": 306,
   "id": "34fab40d",
   "metadata": {},
   "outputs": [],
   "source": [
    "print?"
   ]
  },
  {
   "cell_type": "markdown",
   "id": "7065f9e7",
   "metadata": {},
   "source": [
    "#### Zadanie 11\n",
    "\n",
    "Napisz program zamieniający miejscami w zadanej liście liczb element największy z najmniejszym."
   ]
  },
  {
   "cell_type": "code",
   "execution_count": 310,
   "id": "c3a705ef",
   "metadata": {},
   "outputs": [
    {
     "data": {
      "text/plain": [
       "[2, 3, 10, 5, 8, 1, 7]"
      ]
     },
     "execution_count": 310,
     "metadata": {},
     "output_type": "execute_result"
    }
   ],
   "source": [
    "lista = [2, 3, 1, 5, 8, 10, 7]\n",
    "\n",
    "i_min = 0\n",
    "i_max = 0\n",
    "\n",
    "for i, v in enumerate(lista):\n",
    "    if v < lista[i_min]:\n",
    "        i_min = i\n",
    "    \n",
    "    if v > lista[i_max]:\n",
    "        i_max = i\n",
    "\n",
    "# temp = lista[i_max]\n",
    "# lista[i_max] = lista[i_min]\n",
    "# lista[i_min] = temp\n",
    "lista[i_min], lista[i_max] = lista[i_max], lista[i_min]\n",
    "\n",
    "lista"
   ]
  },
  {
   "cell_type": "code",
   "execution_count": 311,
   "id": "272fec72",
   "metadata": {},
   "outputs": [],
   "source": [
    "a, b = 1, 2\n",
    "\n",
    "a, b = b, a\n",
    "a, b = 2, 1"
   ]
  },
  {
   "cell_type": "code",
   "execution_count": 312,
   "id": "72a0c2b4",
   "metadata": {},
   "outputs": [
    {
     "name": "stdout",
     "output_type": "stream",
     "text": [
      "(0, 2)\n",
      "(1, 3)\n",
      "(2, 1)\n",
      "(3, 5)\n",
      "(4, 8)\n",
      "(5, 10)\n",
      "(6, 7)\n"
     ]
    }
   ],
   "source": [
    "lista = [2, 3, 1, 5, 8, 10, 7]\n",
    "\n",
    "\n",
    "for x in enumerate(lista):\n",
    "    print(x)"
   ]
  },
  {
   "cell_type": "code",
   "execution_count": 313,
   "id": "6efc2418",
   "metadata": {},
   "outputs": [
    {
     "name": "stdout",
     "output_type": "stream",
     "text": [
      "(0, 2)\n",
      "(1, 3)\n",
      "(2, 1)\n",
      "(3, 5)\n",
      "(4, 8)\n",
      "(5, 10)\n",
      "(6, 7)\n"
     ]
    }
   ],
   "source": [
    "i = 0\n",
    "for el in lista:\n",
    "    print((i, el))\n",
    "    i += 1"
   ]
  },
  {
   "cell_type": "markdown",
   "id": "b2442268",
   "metadata": {},
   "source": [
    "### napisy"
   ]
  },
  {
   "cell_type": "code",
   "execution_count": 319,
   "id": "ff1d90a3",
   "metadata": {},
   "outputs": [
    {
     "data": {
      "text/plain": [
       "'Aam oa'"
      ]
     },
     "execution_count": 319,
     "metadata": {},
     "output_type": "execute_result"
    }
   ],
   "source": [
    "napis = \"Ala ma kota\"\n",
    "\n",
    "napis[::2]"
   ]
  },
  {
   "cell_type": "code",
   "execution_count": 320,
   "id": "14a86965",
   "metadata": {},
   "outputs": [
    {
     "name": "stdout",
     "output_type": "stream",
     "text": [
      "A\n",
      "L\n",
      "A\n",
      " \n",
      "M\n",
      "A\n",
      " \n",
      "K\n",
      "O\n",
      "T\n",
      "A\n"
     ]
    }
   ],
   "source": [
    "for litera in napis:\n",
    "    print(litera.upper())"
   ]
  },
  {
   "cell_type": "markdown",
   "id": "7114e84d",
   "metadata": {},
   "source": [
    "#### Zadanie 11\n",
    "\n",
    "Napisz program zliczający liczbę znaków w podanym przez użytkownika napisie pomiędzy nawiasami <>. Nawiasy mogę wystąpić tylko raz.\n",
    "\n",
    "    Ala ma <kota>, a kot ma Alę\n",
    "    4\n",
    "    \n",
    "    Ala ma <kota>, a <kot> ma Alę\n",
    "    7"
   ]
  },
  {
   "cell_type": "code",
   "execution_count": 323,
   "id": "86a70860",
   "metadata": {},
   "outputs": [
    {
     "name": "stdout",
     "output_type": "stream",
     "text": [
      "7\n"
     ]
    }
   ],
   "source": [
    "text = \"Ala ma <kota>, a <kot> ma Alę\"\n",
    "\n",
    "licznik = 0\n",
    "zliczaj = False\n",
    "\n",
    "for znak in text:\n",
    "    if znak == \"<\":\n",
    "        zliczaj=True\n",
    "    elif znak == \">\":\n",
    "        zliczaj=False\n",
    "    elif zliczaj:\n",
    "        licznik += 1\n",
    "        \n",
    "print(licznik)"
   ]
  },
  {
   "cell_type": "markdown",
   "id": "41affc55",
   "metadata": {},
   "source": [
    "#### Zadanie 12 (opt)\n",
    "\n",
    "Napisz program zliczający liczbę wystąpień samogłosek (a, e, i, o, u, y) w podanym przez użytkownika napisie.\n",
    "\n"
   ]
  },
  {
   "cell_type": "code",
   "execution_count": 325,
   "id": "4204c045",
   "metadata": {},
   "outputs": [
    {
     "name": "stdout",
     "output_type": "stream",
     "text": [
      "9\n"
     ]
    }
   ],
   "source": [
    "SAMOGLOSKI = \"aeiouy\"\n",
    "licznik = 0\n",
    "for znak in text.lower():\n",
    "    if znak in SAMOGLOSKI:\n",
    "        licznik += 1\n",
    "print(licznik)"
   ]
  },
  {
   "cell_type": "code",
   "execution_count": 326,
   "id": "9daebbc9",
   "metadata": {},
   "outputs": [
    {
     "data": {
      "text/plain": [
       "True"
      ]
     },
     "execution_count": 326,
     "metadata": {},
     "output_type": "execute_result"
    }
   ],
   "source": [
    "\"Ala\" in text"
   ]
  },
  {
   "cell_type": "markdown",
   "id": "de279a93",
   "metadata": {},
   "source": [
    "### Słownik\n",
    "\n",
    "dict()\n",
    "{}\n",
    "{klucz: wartosc}\n",
    "\n"
   ]
  },
  {
   "cell_type": "code",
   "execution_count": 327,
   "id": "065e94d4",
   "metadata": {},
   "outputs": [
    {
     "data": {
      "text/plain": [
       "{'a': 1, 'b': 2, 1: 'a'}"
      ]
     },
     "execution_count": 327,
     "metadata": {},
     "output_type": "execute_result"
    }
   ],
   "source": [
    "slownik = {\"a\": 1, \"b\": 2, 1: \"a\"}\n",
    "slownik"
   ]
  },
  {
   "cell_type": "code",
   "execution_count": 328,
   "id": "9024ee11",
   "metadata": {},
   "outputs": [
    {
     "ename": "SyntaxError",
     "evalue": "expression cannot contain assignment, perhaps you meant \"==\"? (Temp/ipykernel_11844/2742704339.py, line 1)",
     "output_type": "error",
     "traceback": [
      "\u001b[1;36m  File \u001b[1;32m\"C:\\Users\\SZB345~1\\AppData\\Local\\Temp/ipykernel_11844/2742704339.py\"\u001b[1;36m, line \u001b[1;32m1\u001b[0m\n\u001b[1;33m    slownik2 = dict(a=1, b=2, 1='a')\u001b[0m\n\u001b[1;37m                              ^\u001b[0m\n\u001b[1;31mSyntaxError\u001b[0m\u001b[1;31m:\u001b[0m expression cannot contain assignment, perhaps you meant \"==\"?\n"
     ]
    }
   ],
   "source": [
    "slownik2 = dict(a=1, b=2, 1='a')"
   ]
  },
  {
   "cell_type": "code",
   "execution_count": 330,
   "id": "84684485",
   "metadata": {},
   "outputs": [
    {
     "data": {
      "text/plain": [
       "{'a': 1, 'b': 2}"
      ]
     },
     "execution_count": 330,
     "metadata": {},
     "output_type": "execute_result"
    }
   ],
   "source": [
    "slownik2 = dict(a=1, b=2)\n",
    "slownik2\n"
   ]
  },
  {
   "cell_type": "code",
   "execution_count": 331,
   "id": "92ad7ce4",
   "metadata": {},
   "outputs": [
    {
     "data": {
      "text/plain": [
       "1"
      ]
     },
     "execution_count": 331,
     "metadata": {},
     "output_type": "execute_result"
    }
   ],
   "source": [
    "slownik2['a']"
   ]
  },
  {
   "cell_type": "code",
   "execution_count": 332,
   "id": "7d3edede",
   "metadata": {},
   "outputs": [],
   "source": [
    "slownik2[1] = 'a'"
   ]
  },
  {
   "cell_type": "code",
   "execution_count": 333,
   "id": "683d7273",
   "metadata": {},
   "outputs": [
    {
     "data": {
      "text/plain": [
       "{'a': 1, 'b': 2, 1: 'a'}"
      ]
     },
     "execution_count": 333,
     "metadata": {},
     "output_type": "execute_result"
    }
   ],
   "source": [
    "slownik2"
   ]
  },
  {
   "cell_type": "code",
   "execution_count": 334,
   "id": "cd85d9ec",
   "metadata": {},
   "outputs": [],
   "source": [
    "slownik3 = dict((('a', 1), ('b', 2), (1, 'a')))"
   ]
  },
  {
   "cell_type": "code",
   "execution_count": 335,
   "id": "da8fef12",
   "metadata": {},
   "outputs": [
    {
     "data": {
      "text/plain": [
       "{'a': 1, 'b': 2, 1: 'a'}"
      ]
     },
     "execution_count": 335,
     "metadata": {},
     "output_type": "execute_result"
    }
   ],
   "source": [
    "slownik3"
   ]
  },
  {
   "cell_type": "code",
   "execution_count": 336,
   "id": "bc4421a3",
   "metadata": {},
   "outputs": [
    {
     "data": {
      "text/plain": [
       "dict_keys(['a', 'b', 1])"
      ]
     },
     "execution_count": 336,
     "metadata": {},
     "output_type": "execute_result"
    }
   ],
   "source": [
    "slownik3.keys()"
   ]
  },
  {
   "cell_type": "code",
   "execution_count": 337,
   "id": "4c94b26b",
   "metadata": {},
   "outputs": [
    {
     "data": {
      "text/plain": [
       "dict_values([1, 2, 'a'])"
      ]
     },
     "execution_count": 337,
     "metadata": {},
     "output_type": "execute_result"
    }
   ],
   "source": [
    "slownik3.values()"
   ]
  },
  {
   "cell_type": "code",
   "execution_count": 338,
   "id": "0f27640f",
   "metadata": {},
   "outputs": [
    {
     "data": {
      "text/plain": [
       "dict_items([('a', 1), ('b', 2), (1, 'a')])"
      ]
     },
     "execution_count": 338,
     "metadata": {},
     "output_type": "execute_result"
    }
   ],
   "source": [
    "slownik3.items()"
   ]
  },
  {
   "cell_type": "code",
   "execution_count": 339,
   "id": "1e60ffcc",
   "metadata": {},
   "outputs": [
    {
     "ename": "KeyError",
     "evalue": "'x'",
     "output_type": "error",
     "traceback": [
      "\u001b[1;31m---------------------------------------------------------------------------\u001b[0m",
      "\u001b[1;31mKeyError\u001b[0m                                  Traceback (most recent call last)",
      "\u001b[1;32mC:\\Users\\SZB345~1\\AppData\\Local\\Temp/ipykernel_11844/1469910641.py\u001b[0m in \u001b[0;36m<module>\u001b[1;34m\u001b[0m\n\u001b[1;32m----> 1\u001b[1;33m \u001b[0mslownik3\u001b[0m\u001b[1;33m[\u001b[0m\u001b[1;34m'x'\u001b[0m\u001b[1;33m]\u001b[0m\u001b[1;33m\u001b[0m\u001b[1;33m\u001b[0m\u001b[0m\n\u001b[0m",
      "\u001b[1;31mKeyError\u001b[0m: 'x'"
     ]
    }
   ],
   "source": [
    "slownik3['x']"
   ]
  },
  {
   "cell_type": "code",
   "execution_count": 340,
   "id": "13c691b8",
   "metadata": {},
   "outputs": [],
   "source": [
    "if 'x' in slownik3:\n",
    "    v = slownik3['x']"
   ]
  },
  {
   "cell_type": "code",
   "execution_count": 341,
   "id": "4b7105f6",
   "metadata": {},
   "outputs": [
    {
     "name": "stdout",
     "output_type": "stream",
     "text": [
      "a\n",
      "b\n",
      "1\n"
     ]
    }
   ],
   "source": [
    "for k in slownik3:\n",
    "    print(k)"
   ]
  },
  {
   "cell_type": "code",
   "execution_count": 342,
   "id": "295406a7",
   "metadata": {},
   "outputs": [],
   "source": [
    "v = slownik3.get('x')"
   ]
  },
  {
   "cell_type": "code",
   "execution_count": 344,
   "id": "6557c978",
   "metadata": {},
   "outputs": [
    {
     "data": {
      "text/plain": [
       "True"
      ]
     },
     "execution_count": 344,
     "metadata": {},
     "output_type": "execute_result"
    }
   ],
   "source": [
    "v is None"
   ]
  },
  {
   "cell_type": "code",
   "execution_count": 345,
   "id": "ec72ca10",
   "metadata": {},
   "outputs": [],
   "source": [
    "v = slownik3.get('x', 0)"
   ]
  },
  {
   "cell_type": "code",
   "execution_count": 346,
   "id": "0993b0d2",
   "metadata": {},
   "outputs": [
    {
     "data": {
      "text/plain": [
       "0"
      ]
     },
     "execution_count": 346,
     "metadata": {},
     "output_type": "execute_result"
    }
   ],
   "source": [
    "v"
   ]
  },
  {
   "cell_type": "code",
   "execution_count": 347,
   "id": "ba661b19",
   "metadata": {},
   "outputs": [
    {
     "data": {
      "text/plain": [
       "'aeiouy'"
      ]
     },
     "execution_count": 347,
     "metadata": {},
     "output_type": "execute_result"
    }
   ],
   "source": [
    "SAMOGLOSKI"
   ]
  },
  {
   "cell_type": "code",
   "execution_count": 348,
   "id": "34473b27",
   "metadata": {},
   "outputs": [],
   "source": [
    "licznik_samoglosek = {}"
   ]
  },
  {
   "cell_type": "code",
   "execution_count": 350,
   "id": "f79116e2",
   "metadata": {},
   "outputs": [],
   "source": [
    "for znak in text.lower():\n",
    "    if znak in SAMOGLOSKI:\n",
    "        licznik_samoglosek[znak] =  licznik_samoglosek.get(znak, 0) + 1\n",
    "        "
   ]
  },
  {
   "cell_type": "code",
   "execution_count": 351,
   "id": "fffaa6a7",
   "metadata": {},
   "outputs": [
    {
     "data": {
      "text/plain": [
       "['__class__',\n",
       " '__class_getitem__',\n",
       " '__contains__',\n",
       " '__delattr__',\n",
       " '__delitem__',\n",
       " '__dir__',\n",
       " '__doc__',\n",
       " '__eq__',\n",
       " '__format__',\n",
       " '__ge__',\n",
       " '__getattribute__',\n",
       " '__getitem__',\n",
       " '__gt__',\n",
       " '__hash__',\n",
       " '__init__',\n",
       " '__init_subclass__',\n",
       " '__ior__',\n",
       " '__iter__',\n",
       " '__le__',\n",
       " '__len__',\n",
       " '__lt__',\n",
       " '__ne__',\n",
       " '__new__',\n",
       " '__or__',\n",
       " '__reduce__',\n",
       " '__reduce_ex__',\n",
       " '__repr__',\n",
       " '__reversed__',\n",
       " '__ror__',\n",
       " '__setattr__',\n",
       " '__setitem__',\n",
       " '__sizeof__',\n",
       " '__str__',\n",
       " '__subclasshook__',\n",
       " 'clear',\n",
       " 'copy',\n",
       " 'fromkeys',\n",
       " 'get',\n",
       " 'items',\n",
       " 'keys',\n",
       " 'pop',\n",
       " 'popitem',\n",
       " 'setdefault',\n",
       " 'update',\n",
       " 'values']"
      ]
     },
     "execution_count": 351,
     "metadata": {},
     "output_type": "execute_result"
    }
   ],
   "source": [
    "dir(licznik_samoglosek)"
   ]
  },
  {
   "cell_type": "code",
   "execution_count": 354,
   "id": "41ef7437",
   "metadata": {},
   "outputs": [
    {
     "data": {
      "text/plain": [
       "14"
      ]
     },
     "execution_count": 354,
     "metadata": {},
     "output_type": "execute_result"
    }
   ],
   "source": [
    "licznik_samoglosek.pop('a')"
   ]
  },
  {
   "cell_type": "code",
   "execution_count": 355,
   "id": "36e46771",
   "metadata": {},
   "outputs": [
    {
     "data": {
      "text/plain": [
       "{'o': 4}"
      ]
     },
     "execution_count": 355,
     "metadata": {},
     "output_type": "execute_result"
    }
   ],
   "source": [
    "licznik_samoglosek"
   ]
  },
  {
   "cell_type": "code",
   "execution_count": 357,
   "id": "0bf17517",
   "metadata": {},
   "outputs": [],
   "source": [
    "licznik_samoglosek.popitem?"
   ]
  },
  {
   "cell_type": "markdown",
   "id": "81e1981f",
   "metadata": {},
   "source": [
    "#### Zadanie 12\n",
    "\n",
    "Napisz program wyliczający kwotę należną za zakupiony towar na podstawie podanej przez użytkownika wagi i nazwy produktu. \n",
    "Do przechowywania informacji o cenie za kilogram danego produktu użyj słownika. Wypisz wszystkie dostępne produkty w sklepie.\n",
    "\n",
    "\n",
    "    W naszym sklepiej oferujemy:\n",
    "        - marchew   - 1.23 PLN\n",
    "        - cebula    - 0.56 PLN\n",
    "        - ziemniaki - 1.11 PLN\n",
    "        \n",
    "    Co chcesz kupic?\n",
    "    marchew\n",
    "    \n",
    "    ile chesz kupić? 1\n",
    "    Cena: 1.23\n",
    "        \n"
   ]
  },
  {
   "cell_type": "code",
   "execution_count": 361,
   "id": "1f8ef036",
   "metadata": {},
   "outputs": [
    {
     "name": "stdout",
     "output_type": "stream",
     "text": [
      "Oferta\n",
      " - marchew              - 1.23 PLN\n",
      " - cebula               - 0.56 PLN\n",
      " - ziemniaki            - 1.11 PLN\n",
      "Co chcesz kupić? cebula\n",
      "Ile? 2\n",
      "Należność: 1.12\n"
     ]
    }
   ],
   "source": [
    "produkty = {\n",
    "    \"marchew\": 1.23,\n",
    "    \"cebula\": 0.56,\n",
    "    \"ziemniaki\": 1.11,\n",
    "}\n",
    "\n",
    "print(\"Oferta\")\n",
    "# for produkt in produkty\n",
    "for produkt, cena in produkty.items():\n",
    "    print(f\" - {produkt:20} - {cena:3.2f} PLN\")\n",
    "\n",
    "pr = input(\"Co chcesz kupić? \")\n",
    "ile = float(input(\"Ile? \"))\n",
    "\n",
    "cena = ile * produkty[pr]\n",
    "\n",
    "print(\"Należność:\", cena)"
   ]
  },
  {
   "attachments": {
    "image.png": {
     "image/png": "[encoded data removed]"
    }
   },
   "cell_type": "markdown",
   "id": "bc0029b2",
   "metadata": {},
   "source": [
    "### Zbiór - set\n",
    "\n",
    "set()\n",
    "\n",
    "{1, 2}\n",
    "\n",
    "- unikalne wartosci\n",
    "- brak porzadku\n",
    "\n",
    "![image.png](attachment:image.png)"
   ]
  },
  {
   "cell_type": "code",
   "execution_count": 362,
   "id": "d63269f3",
   "metadata": {},
   "outputs": [],
   "source": [
    "A = {1, 2, 3, 4}\n",
    "B = {3, 4, 5, 6}"
   ]
  },
  {
   "cell_type": "code",
   "execution_count": 363,
   "id": "120e76a9",
   "metadata": {},
   "outputs": [
    {
     "data": {
      "text/plain": [
       "{1, 2, 3, 4, 5, 6}"
      ]
     },
     "execution_count": 363,
     "metadata": {},
     "output_type": "execute_result"
    }
   ],
   "source": [
    "# suma\n",
    "\n",
    "A | B"
   ]
  },
  {
   "cell_type": "code",
   "execution_count": 364,
   "id": "1cfe7b0d",
   "metadata": {},
   "outputs": [
    {
     "data": {
      "text/plain": [
       "{1, 2}"
      ]
     },
     "execution_count": 364,
     "metadata": {},
     "output_type": "execute_result"
    }
   ],
   "source": [
    "# różnica\n",
    "\n",
    "A - B"
   ]
  },
  {
   "cell_type": "code",
   "execution_count": 365,
   "id": "298fd916",
   "metadata": {},
   "outputs": [
    {
     "data": {
      "text/plain": [
       "{3, 4}"
      ]
     },
     "execution_count": 365,
     "metadata": {},
     "output_type": "execute_result"
    }
   ],
   "source": [
    "# iloczyn (część wspólna)\n",
    "\n",
    "A & B"
   ]
  },
  {
   "cell_type": "code",
   "execution_count": 366,
   "id": "9158ff21",
   "metadata": {},
   "outputs": [
    {
     "data": {
      "text/plain": [
       "{1, 2, 5, 6}"
      ]
     },
     "execution_count": 366,
     "metadata": {},
     "output_type": "execute_result"
    }
   ],
   "source": [
    "# różnica symetryczna\n",
    "A ^ B"
   ]
  },
  {
   "cell_type": "code",
   "execution_count": 367,
   "id": "21b17f91",
   "metadata": {},
   "outputs": [],
   "source": [
    "zbior = set() # pusty zbior\n",
    "\n",
    "zbior.add(1)"
   ]
  },
  {
   "cell_type": "code",
   "execution_count": 368,
   "id": "e6ef4f1c",
   "metadata": {},
   "outputs": [],
   "source": [
    "zbior.add('a')"
   ]
  },
  {
   "cell_type": "code",
   "execution_count": 369,
   "id": "3d303f31",
   "metadata": {},
   "outputs": [],
   "source": [
    "zbior.add((1, 2))"
   ]
  },
  {
   "cell_type": "code",
   "execution_count": 370,
   "id": "540fc329",
   "metadata": {},
   "outputs": [
    {
     "ename": "TypeError",
     "evalue": "unhashable type: 'list'",
     "output_type": "error",
     "traceback": [
      "\u001b[1;31m---------------------------------------------------------------------------\u001b[0m",
      "\u001b[1;31mTypeError\u001b[0m                                 Traceback (most recent call last)",
      "\u001b[1;32mC:\\Users\\SZB345~1\\AppData\\Local\\Temp/ipykernel_11844/1879852738.py\u001b[0m in \u001b[0;36m<module>\u001b[1;34m\u001b[0m\n\u001b[1;32m----> 1\u001b[1;33m \u001b[0mzbior\u001b[0m\u001b[1;33m.\u001b[0m\u001b[0madd\u001b[0m\u001b[1;33m(\u001b[0m\u001b[1;33m[\u001b[0m\u001b[1;36m1\u001b[0m\u001b[1;33m,\u001b[0m \u001b[1;36m2\u001b[0m\u001b[1;33m]\u001b[0m\u001b[1;33m)\u001b[0m\u001b[1;33m\u001b[0m\u001b[1;33m\u001b[0m\u001b[0m\n\u001b[0m",
      "\u001b[1;31mTypeError\u001b[0m: unhashable type: 'list'"
     ]
    }
   ],
   "source": [
    "zbior.add([1, 2])"
   ]
  },
  {
   "cell_type": "code",
   "execution_count": 371,
   "id": "0ba4af11",
   "metadata": {},
   "outputs": [
    {
     "data": {
      "text/plain": [
       "{(1, 2), 1, 'a'}"
      ]
     },
     "execution_count": 371,
     "metadata": {},
     "output_type": "execute_result"
    }
   ],
   "source": [
    "zbior\n"
   ]
  },
  {
   "cell_type": "code",
   "execution_count": 372,
   "id": "5bf9bf4d",
   "metadata": {},
   "outputs": [],
   "source": [
    "zbior.add(1)"
   ]
  },
  {
   "cell_type": "code",
   "execution_count": 373,
   "id": "d40b0fed",
   "metadata": {},
   "outputs": [
    {
     "data": {
      "text/plain": [
       "{(1, 2), 1, 'a'}"
      ]
     },
     "execution_count": 373,
     "metadata": {},
     "output_type": "execute_result"
    }
   ],
   "source": [
    "zbior"
   ]
  },
  {
   "cell_type": "code",
   "execution_count": 374,
   "id": "ad01df8d",
   "metadata": {},
   "outputs": [
    {
     "data": {
      "text/plain": [
       "{1, 2, 3, 4}"
      ]
     },
     "execution_count": 374,
     "metadata": {},
     "output_type": "execute_result"
    }
   ],
   "source": [
    "lista = [1, 1, 1, 2, 2, 2, 1, 1, 4, 3]\n",
    "\n",
    "set(lista)"
   ]
  },
  {
   "cell_type": "code",
   "execution_count": 375,
   "id": "54502072",
   "metadata": {},
   "outputs": [
    {
     "data": {
      "text/plain": [
       "True"
      ]
     },
     "execution_count": 375,
     "metadata": {},
     "output_type": "execute_result"
    }
   ],
   "source": [
    "1 in zbior"
   ]
  },
  {
   "cell_type": "code",
   "execution_count": 376,
   "id": "bbf76f8a",
   "metadata": {},
   "outputs": [
    {
     "name": "stdout",
     "output_type": "stream",
     "text": [
      "1\n",
      "(1, 2)\n",
      "a\n"
     ]
    }
   ],
   "source": [
    "for el in zbior:\n",
    "    print(el)"
   ]
  },
  {
   "cell_type": "code",
   "execution_count": 378,
   "id": "88511267",
   "metadata": {
    "collapsed": true
   },
   "outputs": [
    {
     "data": {
      "text/plain": [
       "['__and__',\n",
       " '__class__',\n",
       " '__class_getitem__',\n",
       " '__contains__',\n",
       " '__delattr__',\n",
       " '__dir__',\n",
       " '__doc__',\n",
       " '__eq__',\n",
       " '__format__',\n",
       " '__ge__',\n",
       " '__getattribute__',\n",
       " '__gt__',\n",
       " '__hash__',\n",
       " '__iand__',\n",
       " '__init__',\n",
       " '__init_subclass__',\n",
       " '__ior__',\n",
       " '__isub__',\n",
       " '__iter__',\n",
       " '__ixor__',\n",
       " '__le__',\n",
       " '__len__',\n",
       " '__lt__',\n",
       " '__ne__',\n",
       " '__new__',\n",
       " '__or__',\n",
       " '__rand__',\n",
       " '__reduce__',\n",
       " '__reduce_ex__',\n",
       " '__repr__',\n",
       " '__ror__',\n",
       " '__rsub__',\n",
       " '__rxor__',\n",
       " '__setattr__',\n",
       " '__sizeof__',\n",
       " '__str__',\n",
       " '__sub__',\n",
       " '__subclasshook__',\n",
       " '__xor__',\n",
       " 'add',\n",
       " 'clear',\n",
       " 'copy',\n",
       " 'difference',\n",
       " 'difference_update',\n",
       " 'discard',\n",
       " 'intersection',\n",
       " 'intersection_update',\n",
       " 'isdisjoint',\n",
       " 'issubset',\n",
       " 'issuperset',\n",
       " 'pop',\n",
       " 'remove',\n",
       " 'symmetric_difference',\n",
       " 'symmetric_difference_update',\n",
       " 'union',\n",
       " 'update']"
      ]
     },
     "execution_count": 378,
     "metadata": {},
     "output_type": "execute_result"
    }
   ],
   "source": [
    "dir(zbior)"
   ]
  },
  {
   "cell_type": "markdown",
   "id": "50a5c5d8",
   "metadata": {},
   "source": [
    "#### Zadanie 14\n",
    "\n",
    "Napisz program zliczający liczbę unikalnych liczb wprowadzonych przez użytkownika. Sprawdź jak dużo z tych liczb jest liczbami parzystymi w zakresie 0-100 - w tym celu skorzystaj z operatora iloczynu.\n",
    "\n",
    "1\n",
    "2\n",
    "1\n",
    "2\n",
    "1\n",
    "2\n",
    "\n",
    "range, set, input"
   ]
  },
  {
   "cell_type": "code",
   "execution_count": 379,
   "id": "bb0475a9",
   "metadata": {},
   "outputs": [],
   "source": [
    "dane = \"1 2 3 1 2 3 12 4 5 19 28 37 102 736 2\"\n",
    "\n",
    "dane = dane.split()"
   ]
  },
  {
   "cell_type": "code",
   "execution_count": 381,
   "id": "2fb61a07",
   "metadata": {},
   "outputs": [
    {
     "data": {
      "text/plain": [
       "[1, 2, 3, 1, 2, 3, 12, 4, 5, 19, 28, 37, 102, 736, 2]"
      ]
     },
     "execution_count": 381,
     "metadata": {},
     "output_type": "execute_result"
    }
   ],
   "source": [
    "dane2 = []\n",
    "for d in dane:\n",
    "    dane2.append(int(d))\n",
    "\n",
    "dane2"
   ]
  },
  {
   "cell_type": "code",
   "execution_count": 382,
   "id": "cd2b8774",
   "metadata": {},
   "outputs": [],
   "source": [
    "map?"
   ]
  },
  {
   "cell_type": "code",
   "execution_count": 384,
   "id": "0976700b",
   "metadata": {},
   "outputs": [
    {
     "data": {
      "text/plain": [
       "[1, 2, 3, 1, 2, 3, 12, 4, 5, 19, 28, 37, 102, 736, 2]"
      ]
     },
     "execution_count": 384,
     "metadata": {},
     "output_type": "execute_result"
    }
   ],
   "source": [
    "list(map(int, dane))"
   ]
  },
  {
   "cell_type": "code",
   "execution_count": 391,
   "id": "35184ac6",
   "metadata": {},
   "outputs": [],
   "source": [
    "dane = [int(x) for x in dane]"
   ]
  },
  {
   "cell_type": "code",
   "execution_count": 392,
   "id": "074fe528",
   "metadata": {},
   "outputs": [],
   "source": [
    "unique = set(dane)\n",
    "\n",
    "parzyste_0_100 = set(range(2, 101, 2))\n"
   ]
  },
  {
   "cell_type": "code",
   "execution_count": 393,
   "id": "5f97cb45",
   "metadata": {},
   "outputs": [
    {
     "data": {
      "text/plain": [
       "{1, 2, 3, 4, 5, 12, 19, 28, 37, 102, 736}"
      ]
     },
     "execution_count": 393,
     "metadata": {},
     "output_type": "execute_result"
    }
   ],
   "source": [
    "unique"
   ]
  },
  {
   "cell_type": "code",
   "execution_count": 394,
   "id": "ba031df6",
   "metadata": {},
   "outputs": [
    {
     "data": {
      "text/plain": [
       "11"
      ]
     },
     "execution_count": 394,
     "metadata": {},
     "output_type": "execute_result"
    }
   ],
   "source": [
    "len(unique)"
   ]
  },
  {
   "cell_type": "code",
   "execution_count": 396,
   "id": "b2d81044",
   "metadata": {},
   "outputs": [
    {
     "data": {
      "text/plain": [
       "4"
      ]
     },
     "execution_count": 396,
     "metadata": {},
     "output_type": "execute_result"
    }
   ],
   "source": [
    "len(unique & parzyste_0_100)"
   ]
  },
  {
   "cell_type": "markdown",
   "id": "04d0610c",
   "metadata": {},
   "source": [
    "#### Zadanie 15\n",
    "\n",
    "Napisz program, który posortuje liczby w tablicy przy wykorzystaniu algorytmu “sortowanie przez wybieranie”."
   ]
  },
  {
   "cell_type": "code",
   "execution_count": 399,
   "id": "b0daf270",
   "metadata": {},
   "outputs": [
    {
     "name": "stdout",
     "output_type": "stream",
     "text": [
      "[1, 2, 3, 4, 5]\n"
     ]
    }
   ],
   "source": [
    "liczby = [5, 2, 1, 4, 3]\n",
    "\n",
    "for i in range(len(liczby)):\n",
    "    i_min = i\n",
    "    for j in range(i+1, len(liczby)):\n",
    "        if liczby[j] < liczby[i_min]:\n",
    "            i_min = j\n",
    "    liczby[i], liczby[i_min] = liczby[i_min], liczby[i]\n",
    "\n",
    "print(liczby)"
   ]
  },
  {
   "cell_type": "markdown",
   "id": "2b0a17ea",
   "metadata": {},
   "source": [
    "### Wyrażenia listowe i podobne"
   ]
  },
  {
   "cell_type": "code",
   "execution_count": 400,
   "id": "bc2df8a1",
   "metadata": {},
   "outputs": [
    {
     "data": {
      "text/plain": [
       "[0, 1, 2, 3, 4, 5, 6, 7, 8, 9]"
      ]
     },
     "execution_count": 400,
     "metadata": {},
     "output_type": "execute_result"
    }
   ],
   "source": [
    "[x for x in range(10)]"
   ]
  },
  {
   "cell_type": "code",
   "execution_count": 401,
   "id": "fa7941c7",
   "metadata": {},
   "outputs": [
    {
     "data": {
      "text/plain": [
       "[0, 1, 4, 9, 16, 25, 36, 49, 64, 81]"
      ]
     },
     "execution_count": 401,
     "metadata": {},
     "output_type": "execute_result"
    }
   ],
   "source": [
    "[x ** 2 for x in range(10)]"
   ]
  },
  {
   "cell_type": "code",
   "execution_count": 404,
   "id": "c5ddfa46",
   "metadata": {},
   "outputs": [
    {
     "data": {
      "text/plain": [
       "[1, 9, 25, 49, 81]"
      ]
     },
     "execution_count": 404,
     "metadata": {},
     "output_type": "execute_result"
    }
   ],
   "source": [
    "[x ** 2 for x in range(10) if x % 2 != 0]"
   ]
  },
  {
   "cell_type": "code",
   "execution_count": 405,
   "id": "d71da785",
   "metadata": {},
   "outputs": [
    {
     "data": {
      "text/plain": [
       "[[0, 0, 0, 0, 0, 0, 0, 0, 0, 0],\n",
       " [0, 1, 2, 3, 4, 5, 6, 7, 8, 9],\n",
       " [0, 2, 4, 6, 8, 10, 12, 14, 16, 18],\n",
       " [0, 3, 6, 9, 12, 15, 18, 21, 24, 27],\n",
       " [0, 4, 8, 12, 16, 20, 24, 28, 32, 36],\n",
       " [0, 5, 10, 15, 20, 25, 30, 35, 40, 45],\n",
       " [0, 6, 12, 18, 24, 30, 36, 42, 48, 54],\n",
       " [0, 7, 14, 21, 28, 35, 42, 49, 56, 63],\n",
       " [0, 8, 16, 24, 32, 40, 48, 56, 64, 72],\n",
       " [0, 9, 18, 27, 36, 45, 54, 63, 72, 81]]"
      ]
     },
     "execution_count": 405,
     "metadata": {},
     "output_type": "execute_result"
    }
   ],
   "source": [
    "[[x * j for x in range(10)] for j in range(10)]"
   ]
  },
  {
   "cell_type": "code",
   "execution_count": 406,
   "id": "dc6b8d78",
   "metadata": {},
   "outputs": [
    {
     "data": {
      "text/plain": [
       "{0, 1, 2, 3, 4, 5, 6, 7, 8, 9}"
      ]
     },
     "execution_count": 406,
     "metadata": {},
     "output_type": "execute_result"
    }
   ],
   "source": [
    "{x for x in range(10)}"
   ]
  },
  {
   "cell_type": "code",
   "execution_count": 407,
   "id": "4cccb911",
   "metadata": {},
   "outputs": [
    {
     "data": {
      "text/plain": [
       "{0: 0, 1: 1, 2: 8, 3: 27, 4: 64, 5: 125, 6: 216, 7: 343, 8: 512, 9: 729}"
      ]
     },
     "execution_count": 407,
     "metadata": {},
     "output_type": "execute_result"
    }
   ],
   "source": [
    "{x: x**3 for x in range(10)}"
   ]
  },
  {
   "cell_type": "code",
   "execution_count": 408,
   "id": "d294fd2d",
   "metadata": {},
   "outputs": [
    {
     "data": {
      "text/plain": [
       "<generator object <genexpr> at 0x000002C2CD5D2110>"
      ]
     },
     "execution_count": 408,
     "metadata": {},
     "output_type": "execute_result"
    }
   ],
   "source": [
    "(x for x in range(10))  # wyrazenie generatorowe"
   ]
  },
  {
   "cell_type": "markdown",
   "id": "019c9eca",
   "metadata": {},
   "source": [
    "#### Zadanie 16\n",
    "\n",
    "Wyrażenia listowe i inne\n",
    "W sesji interaktywnego środowiska stwórz następujące struktury danych korzystając ze skróconej wersji zapisu:\n",
    "\n",
    "* listę zawierającą liczby zmiennoprzecinkowe od 0.0 do 1.0 z krokiem 0.1\n",
    "* zbiór tupli zawierających 3 elementy - daną liczbę, jej kwadrat i jej sześcian - w przedziale od -10 do 10\n",
    "* słownik mapujący napisy na ich długość powstały ze zbioru napisów"
   ]
  },
  {
   "cell_type": "code",
   "execution_count": 410,
   "id": "44d2a7eb",
   "metadata": {},
   "outputs": [
    {
     "data": {
      "text/plain": [
       "[0.0, 0.1, 0.2, 0.3, 0.4, 0.5, 0.6, 0.7, 0.8, 0.9, 1.0]"
      ]
     },
     "execution_count": 410,
     "metadata": {},
     "output_type": "execute_result"
    }
   ],
   "source": [
    "[x/10 for x in range(11)]"
   ]
  },
  {
   "cell_type": "markdown",
   "id": "a31e8f3a",
   "metadata": {},
   "source": [
    "# Funkcje"
   ]
  },
  {
   "cell_type": "code",
   "execution_count": 411,
   "id": "a71a0499",
   "metadata": {},
   "outputs": [],
   "source": [
    "def nazwa_funkcji():\n",
    "    ... # cialo funkcji"
   ]
  },
  {
   "cell_type": "code",
   "execution_count": 412,
   "id": "05a1d8e9",
   "metadata": {},
   "outputs": [],
   "source": [
    "nazwa_funkcji()"
   ]
  },
  {
   "cell_type": "code",
   "execution_count": 413,
   "id": "c6770012",
   "metadata": {},
   "outputs": [],
   "source": [
    "def hello_world():\n",
    "    return \"Hello World\"\n",
    "\n"
   ]
  },
  {
   "cell_type": "code",
   "execution_count": 414,
   "id": "b937b26d",
   "metadata": {},
   "outputs": [
    {
     "data": {
      "text/plain": [
       "'Hello World'"
      ]
     },
     "execution_count": 414,
     "metadata": {},
     "output_type": "execute_result"
    }
   ],
   "source": [
    "hello_world()"
   ]
  },
  {
   "cell_type": "code",
   "execution_count": 416,
   "id": "2a1fbbeb",
   "metadata": {},
   "outputs": [],
   "source": [
    "def hello(text):\n",
    "    return \"Hello \" + text"
   ]
  },
  {
   "cell_type": "code",
   "execution_count": 417,
   "id": "424af99b",
   "metadata": {},
   "outputs": [
    {
     "data": {
      "text/plain": [
       "'Hello Rafał'"
      ]
     },
     "execution_count": 417,
     "metadata": {},
     "output_type": "execute_result"
    }
   ],
   "source": [
    "hello(\"Rafał\")"
   ]
  },
  {
   "cell_type": "code",
   "execution_count": 418,
   "id": "42ce3ae0",
   "metadata": {},
   "outputs": [
    {
     "ename": "TypeError",
     "evalue": "hello() missing 1 required positional argument: 'text'",
     "output_type": "error",
     "traceback": [
      "\u001b[1;31m---------------------------------------------------------------------------\u001b[0m",
      "\u001b[1;31mTypeError\u001b[0m                                 Traceback (most recent call last)",
      "\u001b[1;32mC:\\Users\\SZB345~1\\AppData\\Local\\Temp/ipykernel_11844/2674044599.py\u001b[0m in \u001b[0;36m<module>\u001b[1;34m\u001b[0m\n\u001b[1;32m----> 1\u001b[1;33m \u001b[0mhello\u001b[0m\u001b[1;33m(\u001b[0m\u001b[1;33m)\u001b[0m\u001b[1;33m\u001b[0m\u001b[1;33m\u001b[0m\u001b[0m\n\u001b[0m",
      "\u001b[1;31mTypeError\u001b[0m: hello() missing 1 required positional argument: 'text'"
     ]
    }
   ],
   "source": [
    "hello()"
   ]
  },
  {
   "cell_type": "code",
   "execution_count": 419,
   "id": "4649cae0",
   "metadata": {},
   "outputs": [
    {
     "data": {
      "text/plain": [
       "3"
      ]
     },
     "execution_count": 419,
     "metadata": {},
     "output_type": "execute_result"
    }
   ],
   "source": [
    "def sumator(a, b):\n",
    "    return a + b\n",
    "\n",
    "sumator(1, 2)"
   ]
  },
  {
   "cell_type": "code",
   "execution_count": 420,
   "id": "940147c8",
   "metadata": {},
   "outputs": [
    {
     "ename": "TypeError",
     "evalue": "sumator() missing 1 required positional argument: 'b'",
     "output_type": "error",
     "traceback": [
      "\u001b[1;31m---------------------------------------------------------------------------\u001b[0m",
      "\u001b[1;31mTypeError\u001b[0m                                 Traceback (most recent call last)",
      "\u001b[1;32mC:\\Users\\SZB345~1\\AppData\\Local\\Temp/ipykernel_11844/2714852031.py\u001b[0m in \u001b[0;36m<module>\u001b[1;34m\u001b[0m\n\u001b[1;32m----> 1\u001b[1;33m \u001b[0msumator\u001b[0m\u001b[1;33m(\u001b[0m\u001b[1;36m1\u001b[0m\u001b[1;33m)\u001b[0m\u001b[1;33m\u001b[0m\u001b[1;33m\u001b[0m\u001b[0m\n\u001b[0m\u001b[0;32m      2\u001b[0m \u001b[0msumator\u001b[0m\u001b[1;33m(\u001b[0m\u001b[1;36m1\u001b[0m\u001b[1;33m,\u001b[0m \u001b[1;36m2\u001b[0m\u001b[1;33m,\u001b[0m \u001b[1;36m3\u001b[0m\u001b[1;33m)\u001b[0m\u001b[1;33m\u001b[0m\u001b[1;33m\u001b[0m\u001b[0m\n",
      "\u001b[1;31mTypeError\u001b[0m: sumator() missing 1 required positional argument: 'b'"
     ]
    }
   ],
   "source": [
    "sumator(1)\n",
    "sumator(1, 2, 3)"
   ]
  },
  {
   "cell_type": "code",
   "execution_count": 421,
   "id": "f600339e",
   "metadata": {},
   "outputs": [
    {
     "data": {
      "text/plain": [
       "'Hello World'"
      ]
     },
     "execution_count": 421,
     "metadata": {},
     "output_type": "execute_result"
    }
   ],
   "source": [
    "def hello(text=\"World\"):\n",
    "    return \"Hello \" + text\n",
    "\n",
    "hello()"
   ]
  },
  {
   "cell_type": "code",
   "execution_count": 422,
   "id": "97dab433",
   "metadata": {},
   "outputs": [
    {
     "data": {
      "text/plain": [
       "'Hello Rafał'"
      ]
     },
     "execution_count": 422,
     "metadata": {},
     "output_type": "execute_result"
    }
   ],
   "source": [
    "hello(\"Rafał\")"
   ]
  },
  {
   "cell_type": "code",
   "execution_count": 425,
   "id": "2390654e",
   "metadata": {},
   "outputs": [
    {
     "data": {
      "text/plain": [
       "'Hello Paweł'"
      ]
     },
     "execution_count": 425,
     "metadata": {},
     "output_type": "execute_result"
    }
   ],
   "source": [
    "def hello(imie, nazwisko=\"\"):\n",
    "    if nazwisko:\n",
    "        text = f\"Hello {imie} {nazwisko}\"\n",
    "    else:\n",
    "        text = f\"Hello {imie}\"\n",
    "    return text\n",
    "\n",
    "hello(\"Paweł\")"
   ]
  },
  {
   "cell_type": "code",
   "execution_count": 426,
   "id": "5a2ae29e",
   "metadata": {},
   "outputs": [
    {
     "data": {
      "text/plain": [
       "'Hello Paweł Biała'"
      ]
     },
     "execution_count": 426,
     "metadata": {},
     "output_type": "execute_result"
    }
   ],
   "source": [
    "hello(\"Paweł\", \"Biała\")"
   ]
  },
  {
   "cell_type": "code",
   "execution_count": 427,
   "id": "2ceaca1c",
   "metadata": {},
   "outputs": [
    {
     "data": {
      "text/plain": [
       "'Hello Rafał'"
      ]
     },
     "execution_count": 427,
     "metadata": {},
     "output_type": "execute_result"
    }
   ],
   "source": [
    "hello(imie=\"Rafał\")"
   ]
  },
  {
   "cell_type": "code",
   "execution_count": 428,
   "id": "14e7a0da",
   "metadata": {},
   "outputs": [
    {
     "data": {
      "text/plain": [
       "'Hello Rafał Korzeniewski'"
      ]
     },
     "execution_count": 428,
     "metadata": {},
     "output_type": "execute_result"
    }
   ],
   "source": [
    "hello(imie=\"Rafał\", nazwisko=\"Korzeniewski\")"
   ]
  },
  {
   "cell_type": "code",
   "execution_count": 429,
   "id": "d756db84",
   "metadata": {},
   "outputs": [
    {
     "data": {
      "text/plain": [
       "'Hello Rafał Korzeniewski'"
      ]
     },
     "execution_count": 429,
     "metadata": {},
     "output_type": "execute_result"
    }
   ],
   "source": [
    "hello(nazwisko=\"Korzeniewski\", imie=\"Rafał\")"
   ]
  },
  {
   "cell_type": "markdown",
   "id": "8c72dae1",
   "metadata": {},
   "source": [
    "#### Zadanie 17\n",
    "\n",
    "Napisz funkcję sprawdzającą, czy dane liczba jest liczbą pierwszą. Przykład użycia:\n",
    "\n",
    "    >>> czy_jest_pierwsza(10)\n",
    "    False\n",
    "    >>> czy_jest_pierwsza(17)\n",
    "    True"
   ]
  },
  {
   "cell_type": "code",
   "execution_count": 444,
   "id": "c9febb42",
   "metadata": {},
   "outputs": [],
   "source": [
    "def czy_jest_pierwsza(liczba):\n",
    "    if liczba == 1: return False\n",
    "    for i in range(2, liczba):\n",
    "        if liczba % i == 0:\n",
    "            return False\n",
    "    return True\n",
    "        \n",
    "    \n",
    "    \n",
    "assert czy_jest_pierwsza(2) is True\n",
    "assert czy_jest_pierwsza(3) is True\n",
    "assert czy_jest_pierwsza(11) is True\n",
    "assert czy_jest_pierwsza(6) is False\n",
    "\n",
    "# czy_jest_pierwsza(1)\n",
    "assert czy_jest_pierwsza(1) is False"
   ]
  },
  {
   "cell_type": "code",
   "execution_count": 433,
   "id": "84459bb1",
   "metadata": {},
   "outputs": [
    {
     "ename": "AssertionError",
     "evalue": "",
     "output_type": "error",
     "traceback": [
      "\u001b[1;31m---------------------------------------------------------------------------\u001b[0m",
      "\u001b[1;31mAssertionError\u001b[0m                            Traceback (most recent call last)",
      "\u001b[1;32mC:\\Users\\SZB345~1\\AppData\\Local\\Temp/ipykernel_11844/351952524.py\u001b[0m in \u001b[0;36m<module>\u001b[1;34m\u001b[0m\n\u001b[1;32m----> 1\u001b[1;33m \u001b[1;32massert\u001b[0m \u001b[1;36m1\u001b[0m \u001b[1;33m==\u001b[0m \u001b[1;36m0\u001b[0m\u001b[1;33m\u001b[0m\u001b[1;33m\u001b[0m\u001b[0m\n\u001b[0m",
      "\u001b[1;31mAssertionError\u001b[0m: "
     ]
    }
   ],
   "source": [
    "assert 1 == 0"
   ]
  },
  {
   "cell_type": "markdown",
   "id": "b7a24f9b",
   "metadata": {},
   "source": [
    "#### Zadanie 18\n",
    "\n",
    "Napisz funkcję zwracającą zbiór wszystkich znaków występujących w napisie więcej niż zadana liczba razy. Przykład użycia:\n",
    "\n",
    "    >>> wiecej_niz('ala ma kota a kot ma ale', 3)\n",
    "    {'a', ' '}\n",
    "    \n",
    "    >>> wiecej_niz('ala ma kota a kot ma ale', 6)\n",
    "\n",
    "{'a'}"
   ]
  },
  {
   "cell_type": "code",
   "execution_count": 454,
   "id": "f0c41888",
   "metadata": {},
   "outputs": [],
   "source": [
    "def wiecej_niz(text: str, prog: int) -> set:\n",
    "    \"\"\"Zwraca zbior znakow wystepujacych w text wiece niz prog razy\n",
    "    >>> wiecej_niz(\"\", 4)\n",
    "    {}\n",
    "    \"\"\"\n",
    "    result = set()\n",
    "    for znak in set(text):\n",
    "        if text.count(znak) > prog:\n",
    "            result.add(znak)\n",
    "    return result\n",
    "\n",
    "\n",
    "assert wiecej_niz(\"\", 4) == set()\n",
    "assert wiecej_niz(\"aaa\", 1) == {\"a\"}"
   ]
  },
  {
   "cell_type": "markdown",
   "id": "207a23b6",
   "metadata": {},
   "source": [
    "help(wiecej_niz)"
   ]
  },
  {
   "cell_type": "markdown",
   "id": "973f224a",
   "metadata": {},
   "source": [
    "### pytest\n",
    "\n",
    "    pip install pytest\n",
    "    \n",
    "    uzycie\n",
    "    \n",
    "    $ pytest \n",
    "    \n",
    "    $ pytest nazwa_modulu"
   ]
  },
  {
   "cell_type": "code",
   "execution_count": 456,
   "id": "031e398f",
   "metadata": {},
   "outputs": [
    {
     "name": "stdout",
     "output_type": "stream",
     "text": [
      " Volume in drive C has no label.\n",
      " Volume Serial Number is C810-6CAC\n",
      "\n",
      " Directory of C:\\Users\\Szkolenie_03\\imperiumpythonbootcamp\n",
      "\n",
      "16.12.2021  13:56    <DIR>          .\n",
      "16.12.2021  13:56    <DIR>          ..\n",
      "15.12.2021  11:03                40 .gitignore\n",
      "16.12.2021  13:55    <DIR>          .idea\n",
      "15.12.2021  09:44    <DIR>          .ipynb_checkpoints\n",
      "15.12.2021  11:12    <DIR>          .mypy_cache\n",
      "15.12.2021  13:50               141 debugger_przyklad.py\n",
      "15.12.2021  09:43             9˙596 dzien_1.md\n",
      "16.12.2021  08:13             8˙896 dzien_2.md\n",
      "15.12.2021  11:20                53 hello_world.py\n",
      "15.12.2021  10:47                21 hello_world.py.bak\n",
      "16.12.2021  10:54               238 slownik_example.py\n",
      "16.12.2021  13:56           188˙442 Szkolenie Python.ipynb\n",
      "15.12.2021  12:03               247 zadanie_02.py\n",
      "15.12.2021  12:26               334 zadanie_03.py\n",
      "15.12.2021  12:51               246 zadanie_04.py\n",
      "15.12.2021  13:26               431 zadanie_05.py\n",
      "15.12.2021  13:59                61 zadanie_06.py\n",
      "15.12.2021  14:12               199 zadanie_07.py\n",
      "15.12.2021  14:50               667 zadanie_08.py\n",
      "16.12.2021  10:13               222 zadanie_09.py\n",
      "16.12.2021  09:39               221 zadanie_10.py\n",
      "16.12.2021  12:32               246 zadanie_15.py\n",
      "15.12.2021  11:28                62 zadanie_zmienne_01.py\n",
      "              19 File(s)        210˙363 bytes\n",
      "               5 Dir(s)  78˙602˙829˙824 bytes free\n"
     ]
    }
   ],
   "source": [
    "!dir"
   ]
  },
  {
   "cell_type": "code",
   "execution_count": 457,
   "id": "b0369ae9",
   "metadata": {},
   "outputs": [],
   "source": [
    "def foo(a, b, k=1, j=2):\n",
    "    pass\n",
    "\n"
   ]
  },
  {
   "cell_type": "code",
   "execution_count": 458,
   "id": "9e7fe208",
   "metadata": {},
   "outputs": [],
   "source": [
    "foo(1, 2)"
   ]
  },
  {
   "cell_type": "code",
   "execution_count": 459,
   "id": "96c9f389",
   "metadata": {},
   "outputs": [
    {
     "name": "stdout",
     "output_type": "stream",
     "text": [
      "()\n",
      "(1, 2, 3, 4)\n"
     ]
    }
   ],
   "source": [
    "def foo(*args):\n",
    "    print(args)\n",
    "    \n",
    "foo()\n",
    "foo(1, 2, 3, 4)"
   ]
  },
  {
   "cell_type": "code",
   "execution_count": 462,
   "id": "783d593b",
   "metadata": {},
   "outputs": [],
   "source": [
    "def foo(a, b, *args): pass\n",
    "\n"
   ]
  },
  {
   "cell_type": "code",
   "execution_count": 464,
   "id": "09c4faa8",
   "metadata": {},
   "outputs": [],
   "source": [
    "def foo(a, b, *args, x='a'): pass"
   ]
  },
  {
   "cell_type": "code",
   "execution_count": 466,
   "id": "67afb412",
   "metadata": {},
   "outputs": [],
   "source": [
    "def foo(a, b, x='a', *args):\n",
    "    print(a, b, x, args)"
   ]
  },
  {
   "cell_type": "code",
   "execution_count": 467,
   "id": "6286ccc2",
   "metadata": {},
   "outputs": [
    {
     "name": "stdout",
     "output_type": "stream",
     "text": [
      "1 2 a ()\n"
     ]
    }
   ],
   "source": [
    "foo(1, 2)"
   ]
  },
  {
   "cell_type": "code",
   "execution_count": 468,
   "id": "d9acf3bd",
   "metadata": {},
   "outputs": [
    {
     "name": "stdout",
     "output_type": "stream",
     "text": [
      "1 2 3 ()\n"
     ]
    }
   ],
   "source": [
    "foo(1, 2, 3)"
   ]
  },
  {
   "cell_type": "code",
   "execution_count": 469,
   "id": "2d024c9b",
   "metadata": {},
   "outputs": [
    {
     "name": "stdout",
     "output_type": "stream",
     "text": [
      "1 2 3 (4, 5, 6)\n"
     ]
    }
   ],
   "source": [
    "foo(1, 2, 3, 4, 5, 6)"
   ]
  },
  {
   "cell_type": "code",
   "execution_count": 470,
   "id": "244f40e0",
   "metadata": {},
   "outputs": [],
   "source": [
    "def foo(x=a): pass"
   ]
  },
  {
   "cell_type": "code",
   "execution_count": 471,
   "id": "4a5d4b1f",
   "metadata": {},
   "outputs": [
    {
     "data": {
      "text/plain": [
       "2"
      ]
     },
     "execution_count": 471,
     "metadata": {},
     "output_type": "execute_result"
    }
   ],
   "source": [
    "a"
   ]
  },
  {
   "cell_type": "code",
   "execution_count": 472,
   "id": "585d6dda",
   "metadata": {},
   "outputs": [
    {
     "data": {
      "text/plain": [
       "(2,)"
      ]
     },
     "execution_count": 472,
     "metadata": {},
     "output_type": "execute_result"
    }
   ],
   "source": [
    "foo.__defaults__"
   ]
  },
  {
   "cell_type": "code",
   "execution_count": 473,
   "id": "bd073c7a",
   "metadata": {},
   "outputs": [],
   "source": [
    "del a"
   ]
  },
  {
   "cell_type": "code",
   "execution_count": 474,
   "id": "eeeb6d54",
   "metadata": {},
   "outputs": [
    {
     "ename": "NameError",
     "evalue": "name 'a' is not defined",
     "output_type": "error",
     "traceback": [
      "\u001b[1;31m---------------------------------------------------------------------------\u001b[0m",
      "\u001b[1;31mNameError\u001b[0m                                 Traceback (most recent call last)",
      "\u001b[1;32mC:\\Users\\SZB345~1\\AppData\\Local\\Temp/ipykernel_11844/2167009006.py\u001b[0m in \u001b[0;36m<module>\u001b[1;34m\u001b[0m\n\u001b[1;32m----> 1\u001b[1;33m \u001b[0ma\u001b[0m\u001b[1;33m\u001b[0m\u001b[1;33m\u001b[0m\u001b[0m\n\u001b[0m",
      "\u001b[1;31mNameError\u001b[0m: name 'a' is not defined"
     ]
    }
   ],
   "source": [
    "a"
   ]
  },
  {
   "cell_type": "code",
   "execution_count": 476,
   "id": "e3a246e5",
   "metadata": {},
   "outputs": [
    {
     "ename": "SyntaxError",
     "evalue": "invalid syntax (Temp/ipykernel_11844/337924746.py, line 1)",
     "output_type": "error",
     "traceback": [
      "\u001b[1;36m  File \u001b[1;32m\"C:\\Users\\SZB345~1\\AppData\\Local\\Temp/ipykernel_11844/337924746.py\"\u001b[1;36m, line \u001b[1;32m1\u001b[0m\n\u001b[1;33m    def foo('a'): pass\u001b[0m\n\u001b[1;37m            ^\u001b[0m\n\u001b[1;31mSyntaxError\u001b[0m\u001b[1;31m:\u001b[0m invalid syntax\n"
     ]
    }
   ],
   "source": [
    "def foo('a'): pass"
   ]
  },
  {
   "cell_type": "code",
   "execution_count": 477,
   "id": "52144c59",
   "metadata": {},
   "outputs": [],
   "source": [
    "def foo(a, b, *args, **kwargs):\n",
    "    print(a, b, args, kwargs)\n",
    "    \n",
    "    "
   ]
  },
  {
   "cell_type": "code",
   "execution_count": 478,
   "id": "4e00a0d2",
   "metadata": {},
   "outputs": [
    {
     "name": "stdout",
     "output_type": "stream",
     "text": [
      "1 2 () {}\n"
     ]
    }
   ],
   "source": [
    "foo(1, 2)"
   ]
  },
  {
   "cell_type": "code",
   "execution_count": 479,
   "id": "9aa9b888",
   "metadata": {},
   "outputs": [
    {
     "name": "stdout",
     "output_type": "stream",
     "text": [
      "1 2 () {'k': 10}\n"
     ]
    }
   ],
   "source": [
    "foo(1, 2, k=10)"
   ]
  },
  {
   "cell_type": "code",
   "execution_count": 480,
   "id": "11482552",
   "metadata": {},
   "outputs": [
    {
     "name": "stdout",
     "output_type": "stream",
     "text": [
      "1 2 (3, 4) {'x': 10, 'y': 20}\n"
     ]
    }
   ],
   "source": [
    "foo(1, 2, 3, 4, x=10, y=20)"
   ]
  },
  {
   "cell_type": "code",
   "execution_count": 488,
   "id": "cc6e30d8",
   "metadata": {},
   "outputs": [],
   "source": [
    "a, b, *_ = 1, 2, 3, 4, 5, 6 "
   ]
  },
  {
   "cell_type": "code",
   "execution_count": 489,
   "id": "4cce4916",
   "metadata": {},
   "outputs": [],
   "source": [
    "a, b, *args = 1, 2, 3, 4, 5, 6 "
   ]
  },
  {
   "cell_type": "code",
   "execution_count": 484,
   "id": "db2ffebd",
   "metadata": {},
   "outputs": [
    {
     "data": {
      "text/plain": [
       "(1, 2)"
      ]
     },
     "execution_count": 484,
     "metadata": {},
     "output_type": "execute_result"
    }
   ],
   "source": [
    "a, b"
   ]
  },
  {
   "cell_type": "code",
   "execution_count": 485,
   "id": "760463a8",
   "metadata": {},
   "outputs": [
    {
     "data": {
      "text/plain": [
       "[3, 4, 5, 6]"
      ]
     },
     "execution_count": 485,
     "metadata": {},
     "output_type": "execute_result"
    }
   ],
   "source": [
    "_"
   ]
  },
  {
   "cell_type": "code",
   "execution_count": 486,
   "id": "25f32b1d",
   "metadata": {},
   "outputs": [],
   "source": [
    "_ = print\n"
   ]
  },
  {
   "cell_type": "code",
   "execution_count": 487,
   "id": "ba747b1e",
   "metadata": {},
   "outputs": [
    {
     "name": "stdout",
     "output_type": "stream",
     "text": [
      "10\n"
     ]
    }
   ],
   "source": [
    "_(\"10\")"
   ]
  },
  {
   "cell_type": "code",
   "execution_count": 498,
   "id": "e54fd1c9",
   "metadata": {},
   "outputs": [],
   "source": [
    "def sumator(a, b, print_result=False):\n",
    "    result = a + b\n",
    "    if print_result: \n",
    "        print(\"wejscie: \", a, b, \"print_result: \", print_result)\n",
    "        print(\"wynik: \", result)\n",
    "    return result"
   ]
  },
  {
   "cell_type": "code",
   "execution_count": 499,
   "id": "0105a241",
   "metadata": {},
   "outputs": [
    {
     "name": "stdout",
     "output_type": "stream",
     "text": [
      "wejscie:  1 2 print_result:  1\n",
      "wynik:  3\n",
      "wejscie:  1 2 print_result:  1\n",
      "wynik:  3\n"
     ]
    },
    {
     "data": {
      "text/plain": [
       "3"
      ]
     },
     "execution_count": 499,
     "metadata": {},
     "output_type": "execute_result"
    }
   ],
   "source": [
    "sumator(1, 2, 1)\n",
    "sumator(1, 2, print_result=1)"
   ]
  },
  {
   "cell_type": "code",
   "execution_count": 500,
   "id": "b7ed917f",
   "metadata": {},
   "outputs": [],
   "source": [
    "def sumator(a, b, *, print_result=False):\n",
    "    result = a + b\n",
    "    if print_result: \n",
    "        print(\"wejscie: \", a, b, \"print_result: \", print_result)\n",
    "        print(\"wynik: \", result)\n",
    "    return result\n"
   ]
  },
  {
   "cell_type": "code",
   "execution_count": 501,
   "id": "5da968ba",
   "metadata": {},
   "outputs": [
    {
     "ename": "TypeError",
     "evalue": "sumator() takes 2 positional arguments but 3 were given",
     "output_type": "error",
     "traceback": [
      "\u001b[1;31m---------------------------------------------------------------------------\u001b[0m",
      "\u001b[1;31mTypeError\u001b[0m                                 Traceback (most recent call last)",
      "\u001b[1;32mC:\\Users\\SZB345~1\\AppData\\Local\\Temp/ipykernel_11844/2844898615.py\u001b[0m in \u001b[0;36m<module>\u001b[1;34m\u001b[0m\n\u001b[1;32m----> 1\u001b[1;33m \u001b[0msumator\u001b[0m\u001b[1;33m(\u001b[0m\u001b[1;36m1\u001b[0m\u001b[1;33m,\u001b[0m \u001b[1;36m2\u001b[0m\u001b[1;33m,\u001b[0m \u001b[1;36m1\u001b[0m\u001b[1;33m)\u001b[0m\u001b[1;33m\u001b[0m\u001b[1;33m\u001b[0m\u001b[0m\n\u001b[0m",
      "\u001b[1;31mTypeError\u001b[0m: sumator() takes 2 positional arguments but 3 were given"
     ]
    }
   ],
   "source": [
    "sumator(1, 2, 1)"
   ]
  },
  {
   "cell_type": "code",
   "execution_count": 502,
   "id": "0adf5553",
   "metadata": {},
   "outputs": [
    {
     "name": "stdout",
     "output_type": "stream",
     "text": [
      "wejscie:  1 2 print_result:  1\n",
      "wynik:  3\n"
     ]
    },
    {
     "data": {
      "text/plain": [
       "3"
      ]
     },
     "execution_count": 502,
     "metadata": {},
     "output_type": "execute_result"
    }
   ],
   "source": [
    "sumator(1, 2, print_result=1)"
   ]
  },
  {
   "cell_type": "markdown",
   "id": "de5ad6dd",
   "metadata": {},
   "source": [
    "#### Zadanie 19\n",
    "\n",
    "Napisz funkcję obliczającą liczbę znaków w zadanym napisie pomiędzy zadanymi znakami. Znaki, pomiędzy którymi ma odbywać się zliczanie, powinny być argumentami z wartościami domyślnymi - odpowiednio < i >. Nawiasy mogę być zagnieżdżone i mogą wystąpić wiele razy. Znaki pomiędzy zagnieżdżonymi nawiasami liczone są zgodnie z poziomem zagnieżdżenia. Przykład użycia:\n",
    "\n",
    "    >>> policz_znaki('ala ma <kota> a kot ma ale')\n",
    "    4\n",
    "    >>> policz_znaki('ala [kota [a kot]] ma [ale]', '[', ']')\n",
    "    18\n",
    "    >>> policz_znaki('a <a<a<a>>>')\n",
    "    6\n",
    "    \n",
    "        \n",
    "    >>> policz_znaki('a <a<a<a>>>', \"(\", \")\")\n",
    "    0\n",
    "\n",
    "    >>> policz_znaki(\"<a>\") \n",
    "    1\n",
    "    \n",
    "    >>> policz_znaki(\"<<a>>\") \n",
    "    2\n",
    "    \n",
    "    >>> policz_znaki(\"<<a>a>\") \n",
    "    3"
   ]
  },
  {
   "cell_type": "markdown",
   "id": "301fd53e",
   "metadata": {},
   "source": [
    "### rekurencja\n",
    "\n",
    "\n",
    "5! = 5 * 4!\n",
    "\n",
    "n! = n*(n-1)!\n",
    "\n",
    "0! = 1\n",
    "\n",
    "\n",
    "\n"
   ]
  },
  {
   "cell_type": "code",
   "execution_count": 505,
   "id": "1675d0af",
   "metadata": {},
   "outputs": [
    {
     "name": "stdout",
     "output_type": "stream",
     "text": [
      "120\n"
     ]
    }
   ],
   "source": [
    "def silnia(n):\n",
    "    \n",
    "    if n == 0:\n",
    "        return 1\n",
    "    else:\n",
    "        return n * silnia(n-1)\n",
    "\n",
    "print(silnia(5))\n"
   ]
  },
  {
   "cell_type": "code",
   "execution_count": null,
   "id": "1b896f20",
   "metadata": {},
   "outputs": [
    {
     "name": "stdout",
     "output_type": "stream",
     "text": [
      "1\n",
      "2\n",
      "3\n",
      "4\n",
      "5\n",
      "6\n",
      "7\n",
      "8\n",
      "9\n",
      "10\n",
      "11\n",
      "12\n",
      "13\n",
      "14\n",
      "15\n",
      "16\n",
      "17\n",
      "18\n",
      "19\n",
      "20\n",
      "21\n",
      "22\n",
      "23\n",
      "24\n",
      "25\n",
      "26\n",
      "27\n",
      "28\n",
      "29\n",
      "30\n",
      "31\n",
      "32\n",
      "33\n",
      "34\n",
      "35\n",
      "36\n",
      "37\n",
      "38\n",
      "39\n",
      "40\n",
      "41\n",
      "42\n",
      "43\n",
      "44\n",
      "45\n",
      "46\n",
      "47\n",
      "48\n",
      "49\n",
      "50\n",
      "51\n",
      "52\n",
      "53\n",
      "54\n",
      "55\n",
      "56\n",
      "57\n",
      "58\n",
      "59\n",
      "60\n",
      "61\n",
      "62\n",
      "63\n",
      "64\n",
      "65\n",
      "66\n",
      "67\n",
      "68\n",
      "69\n",
      "70\n",
      "71\n",
      "72\n",
      "73\n",
      "74\n",
      "75\n",
      "76\n",
      "77\n",
      "78\n",
      "79\n",
      "80\n",
      "81\n",
      "82\n",
      "83\n",
      "84\n",
      "85\n",
      "86\n",
      "87\n",
      "88\n",
      "89\n",
      "90\n",
      "91\n",
      "92\n",
      "93\n",
      "94\n",
      "95\n",
      "96\n",
      "97\n",
      "98\n",
      "99\n",
      "100\n",
      "101\n",
      "102\n",
      "103\n",
      "104\n",
      "105\n",
      "106\n",
      "107\n",
      "108\n",
      "109\n",
      "110\n",
      "111\n",
      "112\n",
      "113\n",
      "114\n",
      "115\n",
      "116\n",
      "117\n",
      "118\n",
      "119\n",
      "120\n",
      "121\n",
      "122\n",
      "123\n",
      "124\n",
      "125\n",
      "126\n",
      "127\n",
      "128\n",
      "129\n",
      "130\n",
      "131\n",
      "132\n",
      "133\n",
      "134\n",
      "135\n",
      "136\n",
      "137\n",
      "138\n",
      "139\n",
      "140\n",
      "141\n",
      "142\n",
      "143\n",
      "144\n",
      "145\n",
      "146\n",
      "147\n",
      "148\n",
      "149\n",
      "150\n",
      "151\n",
      "152\n",
      "153\n",
      "154\n",
      "155\n",
      "156\n",
      "157\n",
      "158\n",
      "159\n",
      "160\n",
      "161\n",
      "162\n",
      "163\n",
      "164\n",
      "165\n",
      "166\n",
      "167\n",
      "168\n",
      "169\n",
      "170\n",
      "171\n",
      "172\n",
      "173\n",
      "174\n",
      "175\n",
      "176\n",
      "177\n",
      "178\n",
      "179\n",
      "180\n",
      "181\n",
      "182\n",
      "183\n",
      "184\n",
      "185\n",
      "186\n",
      "187\n",
      "188\n",
      "189\n",
      "190\n",
      "191\n",
      "192\n",
      "193\n",
      "194\n",
      "195\n",
      "196\n",
      "197\n",
      "198\n",
      "199\n",
      "200\n",
      "201\n",
      "202\n",
      "203\n",
      "204\n",
      "205\n",
      "206\n",
      "207\n",
      "208\n",
      "209\n",
      "210\n",
      "211\n",
      "212\n",
      "213\n",
      "214\n",
      "215\n",
      "216\n",
      "217\n",
      "218\n",
      "219\n",
      "220\n",
      "221\n",
      "222\n",
      "223\n",
      "224\n",
      "225\n",
      "226\n",
      "227\n",
      "228\n",
      "229\n",
      "230\n",
      "231\n",
      "232\n",
      "233\n",
      "234\n",
      "235\n",
      "236\n",
      "237\n",
      "238\n",
      "239\n",
      "240\n",
      "241\n",
      "242\n",
      "243\n",
      "244\n",
      "245\n",
      "246\n",
      "247\n",
      "248\n",
      "249\n",
      "250\n",
      "251\n",
      "252\n",
      "253\n",
      "254\n",
      "255\n",
      "256\n",
      "257\n",
      "258\n",
      "259\n",
      "260\n",
      "261\n",
      "262\n",
      "263\n",
      "264\n",
      "265\n",
      "266\n",
      "267\n",
      "268\n",
      "269\n",
      "270\n",
      "271\n",
      "272\n",
      "273\n",
      "274\n",
      "275\n",
      "276\n",
      "277\n",
      "278\n",
      "279\n",
      "280\n",
      "281\n",
      "282\n",
      "283\n",
      "284\n",
      "285\n",
      "286\n",
      "287\n",
      "288\n",
      "289\n",
      "290\n",
      "291\n",
      "292\n",
      "293\n",
      "294\n",
      "295\n",
      "296\n",
      "297\n",
      "298\n",
      "299\n",
      "300\n",
      "301\n",
      "302\n",
      "303\n",
      "304\n",
      "305\n",
      "306\n",
      "307\n",
      "308\n",
      "309\n",
      "310\n",
      "311\n",
      "312\n",
      "313\n",
      "314\n",
      "315\n",
      "316\n",
      "317\n",
      "318\n",
      "319\n",
      "320\n",
      "321\n",
      "322\n",
      "323\n",
      "324\n",
      "325\n",
      "326\n",
      "327\n",
      "328\n",
      "329\n",
      "330\n",
      "331\n",
      "332\n",
      "333\n",
      "334\n",
      "335\n",
      "336\n",
      "337\n",
      "338\n",
      "339\n",
      "340\n",
      "341\n",
      "342\n",
      "343\n",
      "344\n",
      "345\n",
      "346\n",
      "347\n",
      "348\n",
      "349\n",
      "350\n",
      "351\n",
      "352\n",
      "353\n",
      "354\n",
      "355\n",
      "356\n",
      "357\n",
      "358\n",
      "359\n",
      "360\n",
      "361\n",
      "362\n",
      "363\n",
      "364\n",
      "365\n",
      "366\n",
      "367\n",
      "368\n",
      "369\n",
      "370\n",
      "371\n",
      "372\n",
      "373\n",
      "374\n",
      "375\n",
      "376\n",
      "377\n",
      "378\n",
      "379\n",
      "380\n",
      "381\n",
      "382\n",
      "383\n",
      "384\n",
      "385\n",
      "386\n",
      "387\n",
      "388\n",
      "389\n",
      "390\n",
      "391\n",
      "392\n",
      "393\n",
      "394\n",
      "395\n",
      "396\n",
      "397\n",
      "398\n",
      "399\n",
      "400\n",
      "401\n",
      "402\n",
      "403\n",
      "404\n",
      "405\n",
      "406\n",
      "407\n",
      "408\n",
      "409\n",
      "410\n",
      "411\n",
      "412\n",
      "413\n",
      "414\n",
      "415\n",
      "416\n",
      "417\n",
      "418\n",
      "419\n",
      "420\n",
      "421\n",
      "422\n",
      "423\n",
      "424\n",
      "425\n",
      "426\n",
      "427\n",
      "428\n",
      "429\n",
      "430\n",
      "431\n",
      "432\n",
      "433\n",
      "434\n",
      "435\n",
      "436\n",
      "437\n",
      "438\n",
      "439\n",
      "440\n",
      "441\n",
      "442\n",
      "443\n",
      "444\n",
      "445\n",
      "446\n",
      "447\n",
      "448\n",
      "449\n",
      "450\n",
      "451\n",
      "452\n",
      "453\n",
      "454\n",
      "455\n",
      "456\n",
      "457\n",
      "458\n",
      "459\n",
      "460\n",
      "461\n",
      "462\n",
      "463\n",
      "464\n",
      "465\n",
      "466\n",
      "467\n",
      "468\n",
      "469\n",
      "470\n",
      "471\n",
      "472\n",
      "473\n",
      "474\n",
      "475\n",
      "476\n",
      "477\n",
      "478\n",
      "479\n",
      "480\n",
      "481\n",
      "482\n",
      "483\n",
      "484\n",
      "485\n",
      "486\n",
      "487\n",
      "488\n",
      "489\n",
      "490\n",
      "491\n",
      "492\n",
      "493\n",
      "494\n",
      "495\n",
      "496\n",
      "497\n",
      "498\n",
      "499\n",
      "500\n",
      "501\n",
      "502\n",
      "503\n",
      "504\n",
      "505\n",
      "506\n",
      "507\n",
      "508\n",
      "509\n",
      "510\n",
      "511\n",
      "512\n",
      "513\n",
      "514\n",
      "515\n",
      "516\n",
      "517\n",
      "518\n",
      "519\n",
      "520\n",
      "521\n",
      "522\n",
      "523\n",
      "524\n",
      "525\n",
      "526\n",
      "527\n",
      "528\n",
      "529\n",
      "530\n",
      "531\n",
      "532\n",
      "533\n",
      "534\n",
      "535\n",
      "536\n",
      "537\n",
      "538\n",
      "539\n",
      "540\n",
      "541\n",
      "542\n",
      "543\n",
      "544\n",
      "545\n",
      "546\n",
      "547\n",
      "548\n",
      "549\n",
      "550\n",
      "551\n",
      "552\n",
      "553\n",
      "554\n",
      "555\n",
      "556\n",
      "557\n",
      "558\n",
      "559\n",
      "560\n",
      "561\n",
      "562\n",
      "563\n",
      "564\n",
      "565\n",
      "566\n",
      "567\n",
      "568\n",
      "569\n",
      "570\n",
      "571\n",
      "572\n",
      "573\n",
      "574\n",
      "575\n",
      "576\n",
      "577\n",
      "578\n",
      "579\n",
      "580\n",
      "581\n",
      "582\n",
      "583\n",
      "584\n",
      "585\n",
      "586\n",
      "587\n",
      "588\n",
      "589\n",
      "590\n",
      "591\n",
      "592\n",
      "593\n",
      "594\n",
      "595\n",
      "596\n",
      "597\n",
      "598\n",
      "599\n",
      "600\n",
      "601\n",
      "602\n",
      "603\n",
      "604\n",
      "605\n",
      "606\n",
      "607\n",
      "608\n",
      "609\n",
      "610\n",
      "611\n",
      "612\n",
      "613\n",
      "614\n",
      "615\n",
      "616\n",
      "617\n",
      "618\n",
      "619\n",
      "620\n",
      "621\n",
      "622\n",
      "623\n",
      "624\n",
      "625\n",
      "626\n",
      "627\n",
      "628\n",
      "629\n",
      "630\n",
      "631\n",
      "632\n",
      "633\n",
      "634\n",
      "635\n",
      "636\n",
      "637\n",
      "638\n",
      "639\n",
      "640\n",
      "641\n",
      "642\n",
      "643\n",
      "644\n",
      "645\n",
      "646\n",
      "647\n",
      "648\n",
      "649\n",
      "650\n",
      "651\n",
      "652\n",
      "653\n",
      "654\n",
      "655\n",
      "656\n",
      "657\n",
      "658\n",
      "659\n",
      "660\n",
      "661\n",
      "662\n",
      "663\n",
      "664\n",
      "665\n",
      "666\n",
      "667\n",
      "668\n",
      "669\n",
      "670\n",
      "671\n",
      "672\n",
      "673\n",
      "674\n",
      "675\n",
      "676\n",
      "677\n",
      "678\n",
      "679\n",
      "680\n",
      "681\n",
      "682\n",
      "683\n",
      "684\n",
      "685\n",
      "686\n",
      "687\n",
      "688\n",
      "689\n",
      "690\n",
      "691\n",
      "692\n",
      "693\n",
      "694\n",
      "695\n",
      "696\n",
      "697\n",
      "698\n",
      "699\n",
      "700\n",
      "701\n",
      "702\n",
      "703\n",
      "704\n",
      "705\n",
      "706\n",
      "707\n",
      "708\n",
      "709\n",
      "710\n",
      "711\n",
      "712\n",
      "713\n",
      "714\n",
      "715\n",
      "716\n",
      "717\n",
      "718\n",
      "719\n",
      "720\n",
      "721\n",
      "722\n",
      "723\n",
      "724\n",
      "725\n",
      "726\n",
      "727\n",
      "728\n",
      "729\n",
      "730\n",
      "731\n",
      "732\n",
      "733\n",
      "734\n",
      "735\n",
      "736\n",
      "737\n",
      "738\n",
      "739\n",
      "740\n",
      "741\n",
      "742\n",
      "743\n",
      "744\n",
      "745\n",
      "746\n",
      "747\n",
      "748\n",
      "749\n",
      "750\n",
      "751\n",
      "752\n",
      "753\n",
      "754\n",
      "755\n",
      "756\n",
      "757\n",
      "758\n",
      "759\n",
      "760\n",
      "761\n",
      "762\n",
      "763\n",
      "764\n",
      "765\n",
      "766\n",
      "767\n",
      "768\n",
      "769\n",
      "770\n",
      "771\n",
      "772\n",
      "773\n",
      "774\n",
      "775\n",
      "776\n",
      "777\n",
      "778\n",
      "779\n",
      "780\n",
      "781\n",
      "782\n",
      "783\n",
      "784\n",
      "785\n",
      "786\n",
      "787\n",
      "788\n",
      "789\n",
      "790\n",
      "791\n",
      "792\n",
      "793\n",
      "794\n",
      "795\n",
      "796\n",
      "797\n",
      "798\n",
      "799\n",
      "800\n",
      "801\n",
      "802\n",
      "803\n",
      "804\n",
      "805\n",
      "806\n",
      "807\n",
      "808\n",
      "809\n",
      "810\n",
      "811\n",
      "812\n",
      "813\n",
      "814\n",
      "815\n",
      "816\n",
      "817\n",
      "818\n",
      "819\n",
      "820\n",
      "821\n",
      "822\n",
      "823\n",
      "824\n",
      "825\n",
      "826\n",
      "827\n",
      "828\n",
      "829\n",
      "830\n",
      "831\n",
      "832\n",
      "833\n",
      "834\n",
      "835\n",
      "836\n",
      "837\n",
      "838\n",
      "839\n",
      "840\n",
      "841\n",
      "842\n",
      "843\n",
      "844\n",
      "845\n",
      "846\n",
      "847\n",
      "848\n",
      "849\n",
      "850\n",
      "851\n",
      "852\n",
      "853\n",
      "854\n",
      "855\n",
      "856\n",
      "857\n",
      "858\n",
      "859\n",
      "860\n",
      "861\n",
      "862\n",
      "863\n",
      "864\n",
      "865\n",
      "866\n",
      "867\n",
      "868\n",
      "869\n",
      "870\n",
      "871\n",
      "872\n",
      "873\n",
      "874\n",
      "875\n",
      "876\n",
      "877\n",
      "878\n",
      "879\n",
      "880\n",
      "881\n",
      "882\n",
      "883\n",
      "884\n",
      "885\n",
      "886\n",
      "887\n",
      "888\n",
      "889\n",
      "890\n",
      "891\n",
      "892\n",
      "893\n",
      "894\n",
      "895\n",
      "896\n",
      "897\n",
      "898\n",
      "899\n",
      "900\n",
      "901\n",
      "902\n",
      "903\n",
      "904\n",
      "905\n",
      "906\n",
      "907\n",
      "908\n",
      "909\n",
      "910\n",
      "911\n",
      "912\n",
      "913\n",
      "914\n",
      "915\n",
      "916\n",
      "917\n",
      "918\n",
      "919\n",
      "920\n",
      "921\n",
      "922\n",
      "923\n",
      "924\n",
      "925\n",
      "926\n",
      "927\n",
      "928\n",
      "929\n",
      "930\n",
      "931\n",
      "932\n",
      "933\n",
      "934\n",
      "935\n",
      "936\n",
      "937\n",
      "938\n",
      "939\n",
      "940\n",
      "941\n",
      "942\n",
      "943\n",
      "944\n",
      "945\n",
      "946\n",
      "947\n",
      "948\n",
      "949\n",
      "950\n",
      "951\n",
      "952\n",
      "953\n",
      "954\n",
      "955\n",
      "956\n",
      "957\n",
      "958\n",
      "959\n",
      "960\n",
      "961\n",
      "962\n",
      "963\n",
      "964\n",
      "965\n",
      "966\n",
      "967\n",
      "968\n",
      "969\n",
      "970\n",
      "971\n",
      "972\n",
      "973\n",
      "974\n",
      "975\n",
      "976\n",
      "977\n",
      "978\n",
      "979\n",
      "980\n",
      "981\n",
      "982\n",
      "983\n",
      "984\n",
      "985\n",
      "986\n",
      "987\n",
      "988\n",
      "989\n",
      "990\n",
      "991\n",
      "992\n",
      "993\n",
      "994\n",
      "995\n",
      "996\n",
      "997\n",
      "998\n",
      "999\n",
      "1000\n",
      "1001\n",
      "1002\n",
      "1003\n",
      "1004\n",
      "1005\n",
      "1006\n",
      "1007\n",
      "1008\n",
      "1009\n",
      "1010\n",
      "1011\n",
      "1012\n",
      "1013\n",
      "1014\n",
      "1015\n",
      "1016\n",
      "1017\n",
      "1018\n",
      "1019\n",
      "1020\n",
      "1021\n",
      "1022\n",
      "1023\n",
      "1024\n",
      "1025\n",
      "1026\n",
      "1027\n",
      "1028\n",
      "1029\n",
      "1030\n",
      "1031\n",
      "1032\n",
      "1033\n",
      "1034\n",
      "1035\n",
      "1036\n",
      "1037\n",
      "1038\n",
      "1039\n",
      "1040\n",
      "1041\n",
      "1042\n",
      "1043\n",
      "1044\n",
      "1045\n",
      "1046\n",
      "1047\n",
      "1048\n",
      "1049\n",
      "1050\n",
      "1051\n",
      "1052\n",
      "1053\n",
      "1054\n",
      "1055\n",
      "1056\n",
      "1057\n",
      "1058\n",
      "1059\n",
      "1060\n",
      "1061\n",
      "1062\n",
      "1063\n",
      "1064\n",
      "1065\n",
      "1066\n",
      "1067\n",
      "1068\n",
      "1069\n",
      "1070\n",
      "1071\n",
      "1072\n",
      "1073\n",
      "1074\n",
      "1075\n",
      "1076\n",
      "1077\n",
      "1078\n",
      "1079\n",
      "1080\n",
      "1081\n",
      "1082\n",
      "1083\n",
      "1084\n",
      "1085\n",
      "1086\n",
      "1087\n",
      "1088\n",
      "1089\n",
      "1090\n",
      "1091\n",
      "1092\n",
      "1093\n",
      "1094\n",
      "1095\n",
      "1096\n",
      "1097\n",
      "1098\n",
      "1099\n",
      "1100\n",
      "1101\n",
      "1102\n",
      "1103\n",
      "1104\n",
      "1105\n",
      "1106\n",
      "1107\n",
      "1108\n",
      "1109\n",
      "1110\n",
      "1111\n",
      "1112\n",
      "1113\n",
      "1114\n",
      "1115\n",
      "1116\n",
      "1117\n",
      "1118\n",
      "1119\n",
      "1120\n",
      "1121\n",
      "1122\n",
      "1123\n",
      "1124\n",
      "1125\n",
      "1126\n",
      "1127\n",
      "1128\n",
      "1129\n",
      "1130\n",
      "1131\n",
      "1132\n",
      "1133\n",
      "1134\n",
      "1135\n",
      "1136\n",
      "1137\n",
      "1138\n",
      "1139\n",
      "1140\n",
      "1141\n",
      "1142\n",
      "1143\n",
      "1144\n",
      "1145\n",
      "1146\n",
      "1147\n",
      "1148\n",
      "1149\n",
      "1150\n",
      "1151\n",
      "1152\n",
      "1153\n",
      "1154\n",
      "1155\n",
      "1156\n",
      "1157\n",
      "1158\n",
      "1159\n",
      "1160\n",
      "1161\n",
      "1162\n",
      "1163\n",
      "1164\n",
      "1165\n",
      "1166\n",
      "1167\n",
      "1168\n",
      "1169\n",
      "1170\n",
      "1171\n",
      "1172\n",
      "1173\n",
      "1174\n",
      "1175\n",
      "1176\n",
      "1177\n",
      "1178\n",
      "1179\n",
      "1180\n",
      "1181\n",
      "1182\n",
      "1183\n",
      "1184\n",
      "1185\n",
      "1186\n",
      "1187\n",
      "1188\n",
      "1189\n",
      "1190\n",
      "1191\n",
      "1192\n",
      "1193\n",
      "1194\n",
      "1195\n",
      "1196\n",
      "1197\n",
      "1198\n",
      "1199\n",
      "1200\n",
      "1201\n",
      "1202\n",
      "1203\n",
      "1204\n",
      "1205\n",
      "1206\n",
      "1207\n",
      "1208\n",
      "1209\n",
      "1210\n",
      "1211\n",
      "1212\n",
      "1213\n",
      "1214\n",
      "1215\n",
      "1216\n",
      "1217\n",
      "1218\n",
      "1219\n",
      "1220\n",
      "1221\n",
      "1222\n",
      "1223\n",
      "1224\n",
      "1225\n",
      "1226\n",
      "1227\n",
      "1228\n",
      "1229\n",
      "1230\n",
      "1231\n",
      "1232\n",
      "1233\n",
      "1234\n",
      "1235\n",
      "1236\n",
      "1237\n",
      "1238\n",
      "1239\n",
      "1240\n",
      "1241\n",
      "1242\n",
      "1243\n",
      "1244\n",
      "1245\n",
      "1246\n",
      "1247\n",
      "1248\n",
      "1249\n",
      "1250\n",
      "1251\n",
      "1252\n",
      "1253\n",
      "1254\n",
      "1255\n",
      "1256\n",
      "1257\n",
      "1258\n",
      "1259\n",
      "1260\n",
      "1261\n",
      "1262\n",
      "1263\n",
      "1264\n",
      "1265\n",
      "1266\n",
      "1267\n",
      "1268\n",
      "1269\n",
      "1270\n",
      "1271\n",
      "1272\n",
      "1273\n",
      "1274\n",
      "1275\n",
      "1276\n",
      "1277\n",
      "1278\n",
      "1279\n",
      "1280\n",
      "1281\n",
      "1282\n",
      "1283\n",
      "1284\n",
      "1285\n",
      "1286\n",
      "1287\n",
      "1288\n",
      "1289\n",
      "1290\n",
      "1291\n",
      "1292\n",
      "1293\n",
      "1294\n",
      "1295\n",
      "1296\n",
      "1297\n",
      "1298\n",
      "1299\n",
      "1300\n",
      "1301\n",
      "1302\n",
      "1303\n",
      "1304\n",
      "1305\n",
      "1306\n",
      "1307\n",
      "1308\n",
      "1309\n",
      "1310\n",
      "1311\n",
      "1312\n",
      "1313\n",
      "1314\n",
      "1315\n",
      "1316\n",
      "1317\n",
      "1318\n",
      "1319\n",
      "1320\n",
      "1321\n",
      "1322\n",
      "1323\n",
      "1324\n",
      "1325\n",
      "1326\n",
      "1327\n",
      "1328\n",
      "1329\n",
      "1330\n",
      "1331\n",
      "1332\n",
      "1333\n",
      "1334\n",
      "1335\n",
      "1336\n",
      "1337\n",
      "1338\n",
      "1339\n",
      "1340\n",
      "1341\n",
      "1342\n",
      "1343\n",
      "1344\n",
      "1345\n",
      "1346\n",
      "1347\n",
      "1348\n",
      "1349\n",
      "1350\n",
      "1351\n",
      "1352\n",
      "1353\n",
      "1354\n",
      "1355\n",
      "1356\n",
      "1357\n",
      "1358\n",
      "1359\n",
      "1360\n",
      "1361\n",
      "1362\n",
      "1363\n",
      "1364\n",
      "1365\n",
      "1366\n",
      "1367\n",
      "1368\n",
      "1369\n",
      "1370\n",
      "1371\n",
      "1372\n",
      "1373\n",
      "1374\n",
      "1375\n",
      "1376\n",
      "1377\n",
      "1378\n",
      "1379\n",
      "1380\n",
      "1381\n",
      "1382\n",
      "1383\n",
      "1384\n",
      "1385\n",
      "1386\n",
      "1387\n",
      "1388\n",
      "1389\n",
      "1390\n",
      "1391\n",
      "1392\n",
      "1393\n",
      "1394\n",
      "1395\n",
      "1396\n",
      "1397\n",
      "1398\n",
      "1399\n",
      "1400\n",
      "1401\n",
      "1402\n",
      "1403\n",
      "1404\n",
      "1405\n",
      "1406\n",
      "1407\n",
      "1408\n",
      "1409\n",
      "1410\n",
      "1411\n",
      "1412\n",
      "1413\n",
      "1414\n",
      "1415\n",
      "1416\n",
      "1417\n",
      "1418\n",
      "1419\n",
      "1420\n",
      "1421\n",
      "1422\n",
      "1423\n",
      "1424\n",
      "1425\n",
      "1426\n",
      "1427\n",
      "1428\n",
      "1429\n",
      "1430\n",
      "1431\n",
      "1432\n",
      "1433\n",
      "1434\n",
      "1435\n",
      "1436\n",
      "1437\n",
      "1438\n",
      "1439\n",
      "1440\n",
      "1441\n",
      "1442\n",
      "1443\n",
      "1444\n",
      "1445\n",
      "1446\n",
      "1447\n",
      "1448\n",
      "1449\n",
      "1450\n",
      "1451\n",
      "1452\n",
      "1453\n",
      "1454\n",
      "1455\n",
      "1456\n",
      "1457\n",
      "1458\n",
      "1459\n",
      "1460\n",
      "1461\n",
      "1462\n",
      "1463\n",
      "1464\n",
      "1465\n",
      "1466\n",
      "1467\n",
      "1468\n",
      "1469\n",
      "1470\n",
      "1471\n",
      "1472\n",
      "1473\n",
      "1474\n",
      "1475\n",
      "1476\n",
      "1477\n",
      "1478\n",
      "1479\n",
      "1480\n",
      "1481\n",
      "1482\n",
      "1483\n",
      "1484\n",
      "1485\n",
      "1486\n",
      "1487\n",
      "1488\n",
      "1489\n",
      "1490\n",
      "1491\n",
      "1492\n",
      "1493\n",
      "1494\n",
      "1495\n",
      "1496\n",
      "1497\n",
      "1498\n",
      "1499\n",
      "1500\n",
      "1501\n",
      "1502\n",
      "1503\n",
      "1504\n",
      "1505\n",
      "1506\n",
      "1507\n",
      "1508\n",
      "1509\n",
      "1510\n",
      "1511\n",
      "1512\n",
      "1513\n",
      "1514\n",
      "1515\n",
      "1516\n",
      "1517\n",
      "1518\n",
      "1519\n",
      "1520\n",
      "1521\n",
      "1522\n",
      "1523\n",
      "1524\n",
      "1525\n",
      "1526\n",
      "1527\n",
      "1528\n",
      "1529\n",
      "1530\n",
      "1531\n",
      "1532\n",
      "1533\n",
      "1534\n",
      "1535\n",
      "1536\n",
      "1537\n",
      "1538\n",
      "1539\n",
      "1540\n",
      "1541\n",
      "1542\n",
      "1543\n",
      "1544\n",
      "1545\n",
      "1546\n",
      "1547\n",
      "1548\n",
      "1549\n",
      "1550\n",
      "1551\n",
      "1552\n",
      "1553\n",
      "1554\n",
      "1555\n",
      "1556\n",
      "1557\n",
      "1558\n",
      "1559\n",
      "1560\n",
      "1561\n",
      "1562\n",
      "1563\n",
      "1564\n",
      "1565\n",
      "1566\n",
      "1567\n",
      "1568\n",
      "1569\n",
      "1570\n",
      "1571\n",
      "1572\n",
      "1573\n",
      "1574\n",
      "1575\n",
      "1576\n",
      "1577\n",
      "1578\n",
      "1579\n",
      "1580\n",
      "1581\n",
      "1582\n",
      "1583\n",
      "1584\n",
      "1585\n",
      "1586\n",
      "1587\n",
      "1588\n",
      "1589\n",
      "1590\n",
      "1591\n",
      "1592\n",
      "1593\n",
      "1594\n",
      "1595\n",
      "1596\n",
      "1597\n",
      "1598\n",
      "1599\n",
      "1600\n",
      "1601\n",
      "1602\n",
      "1603"
     ]
    }
   ],
   "source": [
    "def counter(n):\n",
    "    print(n)\n",
    "    counter(n+1)\n",
    "    \n",
    "counter(1)"
   ]
  },
  {
   "cell_type": "code",
   "execution_count": 1,
   "id": "be67ff62",
   "metadata": {},
   "outputs": [
    {
     "data": {
      "text/plain": [
       "1"
      ]
     },
     "execution_count": 1,
     "metadata": {},
     "output_type": "execute_result"
    }
   ],
   "source": [
    "1"
   ]
  },
  {
   "cell_type": "code",
   "execution_count": 2,
   "id": "c1849dae",
   "metadata": {},
   "outputs": [
    {
     "data": {
      "text/plain": [
       "['a3', 'b0', 'c1']"
      ]
     },
     "execution_count": 2,
     "metadata": {},
     "output_type": "execute_result"
    }
   ],
   "source": [
    "lista = [\"c1\", \"b0\", \"a3\"]\n",
    "sorted(lista)\n"
   ]
  },
  {
   "cell_type": "code",
   "execution_count": 3,
   "id": "8e39e926",
   "metadata": {},
   "outputs": [],
   "source": [
    "sorted?"
   ]
  },
  {
   "cell_type": "code",
   "execution_count": 5,
   "id": "72cf17f0",
   "metadata": {},
   "outputs": [
    {
     "data": {
      "text/plain": [
       "['b0', 'c1', 'a3']"
      ]
     },
     "execution_count": 5,
     "metadata": {},
     "output_type": "execute_result"
    }
   ],
   "source": [
    "def second(x): return x[1]\n",
    "\n",
    "sorted(lista, key=second)"
   ]
  },
  {
   "cell_type": "code",
   "execution_count": 6,
   "id": "33979ec4",
   "metadata": {},
   "outputs": [
    {
     "data": {
      "text/plain": [
       "['b0', 'c1', 'a3']"
      ]
     },
     "execution_count": 6,
     "metadata": {},
     "output_type": "execute_result"
    }
   ],
   "source": [
    "sorted(lista, key=lambda x: x[1])"
   ]
  },
  {
   "cell_type": "code",
   "execution_count": 7,
   "id": "90c8998c",
   "metadata": {},
   "outputs": [],
   "source": [
    "sec = lambda x: x[1]"
   ]
  },
  {
   "cell_type": "code",
   "execution_count": 9,
   "id": "b1eba8ad",
   "metadata": {},
   "outputs": [
    {
     "data": {
      "text/plain": [
       "'2'"
      ]
     },
     "execution_count": 9,
     "metadata": {},
     "output_type": "execute_result"
    }
   ],
   "source": [
    "sec(\"a2\")"
   ]
  },
  {
   "cell_type": "code",
   "execution_count": 10,
   "id": "f2b6e7dd",
   "metadata": {},
   "outputs": [
    {
     "data": {
      "text/plain": [
       "'2'"
      ]
     },
     "execution_count": 10,
     "metadata": {},
     "output_type": "execute_result"
    }
   ],
   "source": [
    "(lambda x: x[1])('a2')"
   ]
  },
  {
   "cell_type": "code",
   "execution_count": 11,
   "id": "33e07140",
   "metadata": {},
   "outputs": [
    {
     "data": {
      "text/plain": [
       "function"
      ]
     },
     "execution_count": 11,
     "metadata": {},
     "output_type": "execute_result"
    }
   ],
   "source": [
    "type(sec)"
   ]
  },
  {
   "cell_type": "code",
   "execution_count": 12,
   "id": "0f345abb",
   "metadata": {},
   "outputs": [
    {
     "data": {
      "text/plain": [
       "function"
      ]
     },
     "execution_count": 12,
     "metadata": {},
     "output_type": "execute_result"
    }
   ],
   "source": [
    "type(second)"
   ]
  },
  {
   "cell_type": "code",
   "execution_count": 13,
   "id": "40ca217c",
   "metadata": {},
   "outputs": [
    {
     "data": {
      "text/plain": [
       "<function __main__.<lambda>(x)>"
      ]
     },
     "execution_count": 13,
     "metadata": {},
     "output_type": "execute_result"
    }
   ],
   "source": [
    "sec"
   ]
  },
  {
   "cell_type": "code",
   "execution_count": 14,
   "id": "98e4fb1e",
   "metadata": {},
   "outputs": [
    {
     "data": {
      "text/plain": [
       "<function __main__.second(x)>"
      ]
     },
     "execution_count": 14,
     "metadata": {},
     "output_type": "execute_result"
    }
   ],
   "source": [
    "second"
   ]
  },
  {
   "cell_type": "code",
   "execution_count": 15,
   "id": "03b9c92c",
   "metadata": {},
   "outputs": [],
   "source": [
    "third = lambda x: x[2]\n",
    "\n"
   ]
  },
  {
   "cell_type": "code",
   "execution_count": 16,
   "id": "2d12fcd7",
   "metadata": {},
   "outputs": [
    {
     "data": {
      "text/plain": [
       "<function __main__.<lambda>(x)>"
      ]
     },
     "execution_count": 16,
     "metadata": {},
     "output_type": "execute_result"
    }
   ],
   "source": [
    "third"
   ]
  },
  {
   "cell_type": "code",
   "execution_count": 17,
   "id": "4c7bfe7c",
   "metadata": {},
   "outputs": [
    {
     "data": {
      "text/plain": [
       "2402256936608"
      ]
     },
     "execution_count": 17,
     "metadata": {},
     "output_type": "execute_result"
    }
   ],
   "source": [
    "id(third)"
   ]
  },
  {
   "cell_type": "code",
   "execution_count": 18,
   "id": "32ce2d0c",
   "metadata": {},
   "outputs": [
    {
     "data": {
      "text/plain": [
       "2402255592256"
      ]
     },
     "execution_count": 18,
     "metadata": {},
     "output_type": "execute_result"
    }
   ],
   "source": [
    "id(sec)"
   ]
  },
  {
   "cell_type": "markdown",
   "id": "cca2a78a",
   "metadata": {},
   "source": [
    "# Jupyter notebook\n",
    "\n",
    "    $ pip install jupyter\n",
    "\n",
    "    $ jupyter notebook"
   ]
  },
  {
   "cell_type": "code",
   "execution_count": null,
   "id": "ac694501",
   "metadata": {},
   "outputs": [],
   "source": []
  }
 ],
 "metadata": {
  "kernelspec": {
   "display_name": "Python 3 (ipykernel)",
   "language": "python",
   "name": "python3"
  },
  "language_info": {
   "codemirror_mode": {
    "name": "ipython",
    "version": 3
   },
   "file_extension": ".py",
   "mimetype": "text/x-python",
   "name": "python",
   "nbconvert_exporter": "python",
   "pygments_lexer": "ipython3",
   "version": "3.10.1"
  }
 },
 "nbformat": 4,
 "nbformat_minor": 5
}
