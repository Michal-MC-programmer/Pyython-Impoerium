{
 "cells": [
  {
   "cell_type": "markdown",
   "id": "cfff1385",
   "metadata": {},
   "source": [
    "# Podstawy\n",
    "\n",
    "## Markdown\n",
    "\n",
    "```\n",
    "# H1 \n",
    "## H2\n",
    "```\n",
    "\n",
    "## GIT\n",
    "\n",
    "    git init - inicjalizacja pustego repo\n",
    "    \n",
    "    Po utworzeniu polecenia\n",
    "    (git remote add origin <adres>)\n",
    "    (git config --global user.email \"email\")\n",
    "    (git config --global user.name \"name\")\n",
    "    (git config --list)\n",
    "    \n",
    "    Najczestsze polecenia\n",
    "    git status\n",
    "    git add <nazwa pliku>\n",
    "    git commit -m \"message\" # tworzenie rewizji\n",
    "    git push origin master  # wysyla zmiany do zdalnego repo\n",
    "    \n",
    "    git branch  # sprawdza galaz\n",
    "    \n",
    "\n",
    "    git pull origin master  # sciaga zmiany ze zdalnego repo\n",
    "    \n",
    "    git clone <adres>\n",
    "    \n",
    "## Podstawowe typy\n",
    "\n",
    "### int - liczby całkowite\n"
   ]
  },
  {
   "cell_type": "code",
   "execution_count": 2,
   "id": "4e1f716d",
   "metadata": {},
   "outputs": [
    {
     "data": {
      "text/plain": [
       "100000000"
      ]
     },
     "execution_count": 2,
     "metadata": {},
     "output_type": "execute_result"
    }
   ],
   "source": [
    "1\n",
    "2\n",
    "\n",
    "10000\n",
    "100_000_000  # separator pomocniczy"
   ]
  },
  {
   "cell_type": "code",
   "execution_count": 3,
   "id": "69894c32",
   "metadata": {},
   "outputs": [
    {
     "data": {
      "text/plain": [
       "0"
      ]
     },
     "execution_count": 3,
     "metadata": {},
     "output_type": "execute_result"
    }
   ],
   "source": [
    "int()"
   ]
  },
  {
   "cell_type": "code",
   "execution_count": 4,
   "id": "8f665c6f",
   "metadata": {},
   "outputs": [
    {
     "data": {
      "text/plain": [
       "100"
      ]
     },
     "execution_count": 4,
     "metadata": {},
     "output_type": "execute_result"
    }
   ],
   "source": [
    "int(\"100\")"
   ]
  },
  {
   "cell_type": "code",
   "execution_count": 5,
   "id": "5c99efa4",
   "metadata": {},
   "outputs": [
    {
     "data": {
      "text/plain": [
       "str"
      ]
     },
     "execution_count": 5,
     "metadata": {},
     "output_type": "execute_result"
    }
   ],
   "source": [
    "type(\"100\")"
   ]
  },
  {
   "cell_type": "code",
   "execution_count": 6,
   "id": "b3e212af",
   "metadata": {},
   "outputs": [
    {
     "data": {
      "text/plain": [
       "int"
      ]
     },
     "execution_count": 6,
     "metadata": {},
     "output_type": "execute_result"
    }
   ],
   "source": [
    "type(int(\"100\"))"
   ]
  },
  {
   "cell_type": "code",
   "execution_count": 7,
   "id": "c48bc2bc",
   "metadata": {},
   "outputs": [
    {
     "data": {
      "text/plain": [
       "2"
      ]
     },
     "execution_count": 7,
     "metadata": {},
     "output_type": "execute_result"
    }
   ],
   "source": [
    "int(2.7)"
   ]
  },
  {
   "cell_type": "code",
   "execution_count": 9,
   "id": "6e7d2524",
   "metadata": {},
   "outputs": [
    {
     "ename": "ValueError",
     "evalue": "invalid literal for int() with base 10: '2.7'",
     "output_type": "error",
     "traceback": [
      "\u001b[1;31m---------------------------------------------------------------------------\u001b[0m",
      "\u001b[1;31mValueError\u001b[0m                                Traceback (most recent call last)",
      "\u001b[1;32mC:\\Users\\SZB345~1\\AppData\\Local\\Temp/ipykernel_4196/4095753669.py\u001b[0m in \u001b[0;36m<module>\u001b[1;34m\u001b[0m\n\u001b[1;32m----> 1\u001b[1;33m \u001b[0mint\u001b[0m\u001b[1;33m(\u001b[0m\u001b[1;34m\"2.7\"\u001b[0m\u001b[1;33m)\u001b[0m\u001b[1;33m\u001b[0m\u001b[1;33m\u001b[0m\u001b[0m\n\u001b[0m",
      "\u001b[1;31mValueError\u001b[0m: invalid literal for int() with base 10: '2.7'"
     ]
    }
   ],
   "source": [
    "int(\"2.7\")"
   ]
  },
  {
   "cell_type": "markdown",
   "id": "bf20e9f5",
   "metadata": {},
   "source": [
    "### float - liczby zmiennoprzecinkowe\n",
    "\n",
    "float"
   ]
  },
  {
   "cell_type": "code",
   "execution_count": 10,
   "id": "cbbfc536",
   "metadata": {},
   "outputs": [
    {
     "data": {
      "text/plain": [
       "1.0"
      ]
     },
     "execution_count": 10,
     "metadata": {},
     "output_type": "execute_result"
    }
   ],
   "source": [
    "float(1)"
   ]
  },
  {
   "cell_type": "code",
   "execution_count": 11,
   "id": "6907752a",
   "metadata": {},
   "outputs": [
    {
     "data": {
      "text/plain": [
       "False"
      ]
     },
     "execution_count": 11,
     "metadata": {},
     "output_type": "execute_result"
    }
   ],
   "source": [
    "0.1 + 0.1 + 0.1 == 0.3"
   ]
  },
  {
   "cell_type": "markdown",
   "id": "97274334",
   "metadata": {},
   "source": [
    "#### Operatory\n",
    "\n",
    "    + dodawanie\n",
    "    - odejmowanie\n",
    "    * mnożenie\n",
    "    / dzielenie\n",
    "    // dzielenie calkowite\n",
    "    % modulo - reszta z dzielenia\n",
    "    ** operator potegowania"
   ]
  },
  {
   "cell_type": "code",
   "execution_count": 12,
   "id": "41fbd185",
   "metadata": {},
   "outputs": [
    {
     "data": {
      "text/plain": [
       "3.3333333333333335"
      ]
     },
     "execution_count": 12,
     "metadata": {},
     "output_type": "execute_result"
    }
   ],
   "source": [
    "10 / 3"
   ]
  },
  {
   "cell_type": "code",
   "execution_count": 13,
   "id": "a5422974",
   "metadata": {},
   "outputs": [
    {
     "data": {
      "text/plain": [
       "3"
      ]
     },
     "execution_count": 13,
     "metadata": {},
     "output_type": "execute_result"
    }
   ],
   "source": [
    "10 // 3"
   ]
  },
  {
   "cell_type": "code",
   "execution_count": 14,
   "id": "9a21357c",
   "metadata": {},
   "outputs": [
    {
     "data": {
      "text/plain": [
       "1"
      ]
     },
     "execution_count": 14,
     "metadata": {},
     "output_type": "execute_result"
    }
   ],
   "source": [
    "10 % 3"
   ]
  },
  {
   "cell_type": "code",
   "execution_count": 15,
   "id": "5264cd0a",
   "metadata": {},
   "outputs": [
    {
     "data": {
      "text/plain": [
       "9"
      ]
     },
     "execution_count": 15,
     "metadata": {},
     "output_type": "execute_result"
    }
   ],
   "source": [
    "3 ** 2"
   ]
  },
  {
   "cell_type": "code",
   "execution_count": 16,
   "id": "789c130f",
   "metadata": {},
   "outputs": [
    {
     "data": {
      "text/plain": [
       "3.0"
      ]
     },
     "execution_count": 16,
     "metadata": {},
     "output_type": "execute_result"
    }
   ],
   "source": [
    "9 ** 0.5"
   ]
  },
  {
   "cell_type": "markdown",
   "id": "68fccaae",
   "metadata": {},
   "source": [
    "#### Zadanie\n",
    "W sesji interaktywnego środowiska interpretera oblicz następujące wartości:\n",
    "\n",
    "* pole trójkąta o podstawie 10 i wysokości 5\n",
    "* pole koła o promieniu 7\n",
    "* pole trapezu o długości podstaw 3 i 9 oraz wysokości 6.5 \n",
    "* objętość kuli o promieniu 7/8"
   ]
  },
  {
   "cell_type": "code",
   "execution_count": 1,
   "id": "88e3e011",
   "metadata": {},
   "outputs": [
    {
     "data": {
      "text/plain": [
       "25.0"
      ]
     },
     "execution_count": 1,
     "metadata": {},
     "output_type": "execute_result"
    }
   ],
   "source": [
    "0.5 * 10 * 5"
   ]
  },
  {
   "cell_type": "code",
   "execution_count": 2,
   "id": "90ced442",
   "metadata": {},
   "outputs": [],
   "source": [
    "import math"
   ]
  },
  {
   "cell_type": "code",
   "execution_count": 4,
   "id": "7f30b5c8",
   "metadata": {},
   "outputs": [
    {
     "data": {
      "text/plain": [
       "153.93804002589985"
      ]
     },
     "execution_count": 4,
     "metadata": {},
     "output_type": "execute_result"
    }
   ],
   "source": [
    "math.pi * 7 ** 2"
   ]
  },
  {
   "cell_type": "code",
   "execution_count": 5,
   "id": "6a769f77",
   "metadata": {},
   "outputs": [
    {
     "data": {
      "text/plain": [
       "39.0"
      ]
     },
     "execution_count": 5,
     "metadata": {},
     "output_type": "execute_result"
    }
   ],
   "source": [
    "(3 + 9) * 6.5 / 2"
   ]
  },
  {
   "cell_type": "code",
   "execution_count": 7,
   "id": "2f53196c",
   "metadata": {},
   "outputs": [
    {
     "data": {
      "text/plain": [
       "2.806162187972133"
      ]
     },
     "execution_count": 7,
     "metadata": {},
     "output_type": "execute_result"
    }
   ],
   "source": [
    "(4 * math.pi * (7/8) ** 3) / 3"
   ]
  },
  {
   "cell_type": "markdown",
   "id": "c2e0cb2f",
   "metadata": {},
   "source": [
    "#### Zasady PEP8\n",
    "\n",
    "https://www.python.org/dev/peps/pep-0008/\n",
    "\n",
    "flake8\n",
    "\n",
    "black"
   ]
  },
  {
   "cell_type": "markdown",
   "id": "146d07b9",
   "metadata": {},
   "source": [
    "### bool\n",
    "\n",
    "False/True"
   ]
  },
  {
   "cell_type": "code",
   "execution_count": 8,
   "id": "1926a4cd",
   "metadata": {},
   "outputs": [
    {
     "data": {
      "text/plain": [
       "False"
      ]
     },
     "execution_count": 8,
     "metadata": {},
     "output_type": "execute_result"
    }
   ],
   "source": [
    "False"
   ]
  },
  {
   "cell_type": "code",
   "execution_count": 9,
   "id": "e9c01da4",
   "metadata": {},
   "outputs": [
    {
     "data": {
      "text/plain": [
       "True"
      ]
     },
     "execution_count": 9,
     "metadata": {},
     "output_type": "execute_result"
    }
   ],
   "source": [
    "True"
   ]
  },
  {
   "cell_type": "markdown",
   "id": "0945a01f",
   "metadata": {},
   "source": [
    "#### Operatory porównania\n",
    "    \n",
    "    ==\n",
    "    !=\n",
    "    <\n",
    "    <=\n",
    "    >\n",
    "    >=\n",
    "    \n",
    "    inne operatory, które zwrócą wartość True/ False, to\n",
    "    \n",
    "    in\n",
    "    is"
   ]
  },
  {
   "cell_type": "code",
   "execution_count": 11,
   "id": "6d430d41",
   "metadata": {},
   "outputs": [
    {
     "data": {
      "text/plain": [
       "True"
      ]
     },
     "execution_count": 11,
     "metadata": {},
     "output_type": "execute_result"
    }
   ],
   "source": [
    "1 * 2 == 6 / 3"
   ]
  },
  {
   "cell_type": "code",
   "execution_count": 12,
   "id": "70898565",
   "metadata": {},
   "outputs": [
    {
     "data": {
      "text/plain": [
       "False"
      ]
     },
     "execution_count": 12,
     "metadata": {},
     "output_type": "execute_result"
    }
   ],
   "source": [
    "1 * 2 == 3 / 2"
   ]
  },
  {
   "cell_type": "markdown",
   "id": "1179452d",
   "metadata": {},
   "source": [
    "#### Operatory logiczne\n",
    "\n",
    "    and - koniunkcja\n",
    "    or - alternatywa\n",
    "    not - negacja"
   ]
  },
  {
   "cell_type": "code",
   "execution_count": 13,
   "id": "aa934c8b",
   "metadata": {},
   "outputs": [
    {
     "data": {
      "text/plain": [
       "True"
      ]
     },
     "execution_count": 13,
     "metadata": {},
     "output_type": "execute_result"
    }
   ],
   "source": [
    "False or True"
   ]
  },
  {
   "cell_type": "code",
   "execution_count": 14,
   "id": "a47811dd",
   "metadata": {},
   "outputs": [
    {
     "data": {
      "text/plain": [
       "False"
      ]
     },
     "execution_count": 14,
     "metadata": {},
     "output_type": "execute_result"
    }
   ],
   "source": [
    "False and True"
   ]
  },
  {
   "cell_type": "code",
   "execution_count": 15,
   "id": "4e8e406e",
   "metadata": {},
   "outputs": [
    {
     "data": {
      "text/plain": [
       "True"
      ]
     },
     "execution_count": 15,
     "metadata": {},
     "output_type": "execute_result"
    }
   ],
   "source": [
    "not False"
   ]
  },
  {
   "cell_type": "code",
   "execution_count": 16,
   "id": "40753e0e",
   "metadata": {},
   "outputs": [
    {
     "data": {
      "text/plain": [
       "True"
      ]
     },
     "execution_count": 16,
     "metadata": {},
     "output_type": "execute_result"
    }
   ],
   "source": [
    "1 * 2 == 3 / 2 or 3 > 2"
   ]
  },
  {
   "cell_type": "code",
   "execution_count": 17,
   "id": "c319c4fb",
   "metadata": {},
   "outputs": [
    {
     "data": {
      "text/plain": [
       "False"
      ]
     },
     "execution_count": 17,
     "metadata": {},
     "output_type": "execute_result"
    }
   ],
   "source": [
    "1 * 2 == 3 / 2 and 3 > 2"
   ]
  },
  {
   "cell_type": "code",
   "execution_count": 18,
   "id": "86506e2a",
   "metadata": {},
   "outputs": [
    {
     "data": {
      "text/plain": [
       "True"
      ]
     },
     "execution_count": 18,
     "metadata": {},
     "output_type": "execute_result"
    }
   ],
   "source": [
    "1 == 1.0"
   ]
  },
  {
   "cell_type": "code",
   "execution_count": 19,
   "id": "0ef41bfb",
   "metadata": {},
   "outputs": [
    {
     "data": {
      "text/plain": [
       "False"
      ]
     },
     "execution_count": 19,
     "metadata": {},
     "output_type": "execute_result"
    }
   ],
   "source": [
    "1 == \"1\""
   ]
  },
  {
   "cell_type": "code",
   "execution_count": 20,
   "id": "bf98640d",
   "metadata": {},
   "outputs": [
    {
     "data": {
      "text/plain": [
       "True"
      ]
     },
     "execution_count": 20,
     "metadata": {},
     "output_type": "execute_result"
    }
   ],
   "source": [
    "1 == True"
   ]
  },
  {
   "cell_type": "code",
   "execution_count": 21,
   "id": "5f05f22b",
   "metadata": {},
   "outputs": [
    {
     "data": {
      "text/plain": [
       "2"
      ]
     },
     "execution_count": 21,
     "metadata": {},
     "output_type": "execute_result"
    }
   ],
   "source": [
    "1 + True"
   ]
  },
  {
   "cell_type": "code",
   "execution_count": 22,
   "id": "9519817a",
   "metadata": {},
   "outputs": [
    {
     "name": "stderr",
     "output_type": "stream",
     "text": [
      "<>:1: SyntaxWarning: \"is\" with a literal. Did you mean \"==\"?\n",
      "<>:1: SyntaxWarning: \"is\" with a literal. Did you mean \"==\"?\n",
      "C:\\Users\\SZB345~1\\AppData\\Local\\Temp/ipykernel_11844/3482963539.py:1: SyntaxWarning: \"is\" with a literal. Did you mean \"==\"?\n",
      "  1 is True\n"
     ]
    },
    {
     "data": {
      "text/plain": [
       "False"
      ]
     },
     "execution_count": 22,
     "metadata": {},
     "output_type": "execute_result"
    }
   ],
   "source": [
    "1 is True"
   ]
  },
  {
   "cell_type": "code",
   "execution_count": 23,
   "id": "1f7c7040",
   "metadata": {},
   "outputs": [
    {
     "data": {
      "text/plain": [
       "3035582890224"
      ]
     },
     "execution_count": 23,
     "metadata": {},
     "output_type": "execute_result"
    }
   ],
   "source": [
    "id(1)"
   ]
  },
  {
   "cell_type": "code",
   "execution_count": 24,
   "id": "40332fd2",
   "metadata": {},
   "outputs": [
    {
     "data": {
      "text/plain": [
       "140725254495080"
      ]
     },
     "execution_count": 24,
     "metadata": {},
     "output_type": "execute_result"
    }
   ],
   "source": [
    "id(True)"
   ]
  },
  {
   "cell_type": "code",
   "execution_count": 25,
   "id": "c2db3164",
   "metadata": {},
   "outputs": [
    {
     "data": {
      "text/plain": [
       "0"
      ]
     },
     "execution_count": 25,
     "metadata": {},
     "output_type": "execute_result"
    }
   ],
   "source": [
    "int(False)"
   ]
  },
  {
   "cell_type": "code",
   "execution_count": 130,
   "id": "01f73de0",
   "metadata": {},
   "outputs": [
    {
     "data": {
      "text/plain": [
       "0.0"
      ]
     },
     "execution_count": 130,
     "metadata": {},
     "output_type": "execute_result"
    }
   ],
   "source": [
    "float(False)"
   ]
  },
  {
   "cell_type": "code",
   "execution_count": 134,
   "id": "e96eaecb",
   "metadata": {},
   "outputs": [
    {
     "data": {
      "text/plain": [
       "3.033054890961142e+17"
      ]
     },
     "execution_count": 134,
     "metadata": {},
     "output_type": "execute_result"
    }
   ],
   "source": [
    "56.0 ** 10"
   ]
  },
  {
   "cell_type": "code",
   "execution_count": 135,
   "id": "bd8e4ca1",
   "metadata": {},
   "outputs": [
    {
     "data": {
      "text/plain": [
       "123"
      ]
     },
     "execution_count": 135,
     "metadata": {},
     "output_type": "execute_result"
    }
   ],
   "source": [
    "123"
   ]
  },
  {
   "cell_type": "code",
   "execution_count": 140,
   "id": "b63153e1",
   "metadata": {},
   "outputs": [
    {
     "data": {
      "text/plain": [
       "43"
      ]
     },
     "execution_count": 140,
     "metadata": {},
     "output_type": "execute_result"
    }
   ],
   "source": [
    "0b101011"
   ]
  },
  {
   "cell_type": "code",
   "execution_count": 141,
   "id": "7ca20d9f",
   "metadata": {},
   "outputs": [
    {
     "data": {
      "text/plain": [
       "4095"
      ]
     },
     "execution_count": 141,
     "metadata": {},
     "output_type": "execute_result"
    }
   ],
   "source": [
    "0xfff"
   ]
  },
  {
   "cell_type": "code",
   "execution_count": 142,
   "id": "aef8e5c8",
   "metadata": {},
   "outputs": [
    {
     "data": {
      "text/plain": [
       "511"
      ]
     },
     "execution_count": 142,
     "metadata": {},
     "output_type": "execute_result"
    }
   ],
   "source": [
    "0o777"
   ]
  },
  {
   "cell_type": "code",
   "execution_count": 143,
   "id": "118abdf6",
   "metadata": {},
   "outputs": [
    {
     "name": "stdout",
     "output_type": "stream",
     "text": [
      "Help on class int in module builtins:\n",
      "\n",
      "class int(object)\n",
      " |  int([x]) -> integer\n",
      " |  int(x, base=10) -> integer\n",
      " |  \n",
      " |  Convert a number or string to an integer, or return 0 if no arguments\n",
      " |  are given.  If x is a number, return x.__int__().  For floating point\n",
      " |  numbers, this truncates towards zero.\n",
      " |  \n",
      " |  If x is not a number or if base is given, then x must be a string,\n",
      " |  bytes, or bytearray instance representing an integer literal in the\n",
      " |  given base.  The literal can be preceded by '+' or '-' and be surrounded\n",
      " |  by whitespace.  The base defaults to 10.  Valid bases are 0 and 2-36.\n",
      " |  Base 0 means to interpret the base from the string as an integer literal.\n",
      " |  >>> int('0b100', base=0)\n",
      " |  4\n",
      " |  \n",
      " |  Built-in subclasses:\n",
      " |      bool\n",
      " |  \n",
      " |  Methods defined here:\n",
      " |  \n",
      " |  __abs__(self, /)\n",
      " |      abs(self)\n",
      " |  \n",
      " |  __add__(self, value, /)\n",
      " |      Return self+value.\n",
      " |  \n",
      " |  __and__(self, value, /)\n",
      " |      Return self&value.\n",
      " |  \n",
      " |  __bool__(self, /)\n",
      " |      self != 0\n",
      " |  \n",
      " |  __ceil__(...)\n",
      " |      Ceiling of an Integral returns itself.\n",
      " |  \n",
      " |  __divmod__(self, value, /)\n",
      " |      Return divmod(self, value).\n",
      " |  \n",
      " |  __eq__(self, value, /)\n",
      " |      Return self==value.\n",
      " |  \n",
      " |  __float__(self, /)\n",
      " |      float(self)\n",
      " |  \n",
      " |  __floor__(...)\n",
      " |      Flooring an Integral returns itself.\n",
      " |  \n",
      " |  __floordiv__(self, value, /)\n",
      " |      Return self//value.\n",
      " |  \n",
      " |  __format__(self, format_spec, /)\n",
      " |      Default object formatter.\n",
      " |  \n",
      " |  __ge__(self, value, /)\n",
      " |      Return self>=value.\n",
      " |  \n",
      " |  __getattribute__(self, name, /)\n",
      " |      Return getattr(self, name).\n",
      " |  \n",
      " |  __getnewargs__(self, /)\n",
      " |  \n",
      " |  __gt__(self, value, /)\n",
      " |      Return self>value.\n",
      " |  \n",
      " |  __hash__(self, /)\n",
      " |      Return hash(self).\n",
      " |  \n",
      " |  __index__(self, /)\n",
      " |      Return self converted to an integer, if self is suitable for use as an index into a list.\n",
      " |  \n",
      " |  __int__(self, /)\n",
      " |      int(self)\n",
      " |  \n",
      " |  __invert__(self, /)\n",
      " |      ~self\n",
      " |  \n",
      " |  __le__(self, value, /)\n",
      " |      Return self<=value.\n",
      " |  \n",
      " |  __lshift__(self, value, /)\n",
      " |      Return self<<value.\n",
      " |  \n",
      " |  __lt__(self, value, /)\n",
      " |      Return self<value.\n",
      " |  \n",
      " |  __mod__(self, value, /)\n",
      " |      Return self%value.\n",
      " |  \n",
      " |  __mul__(self, value, /)\n",
      " |      Return self*value.\n",
      " |  \n",
      " |  __ne__(self, value, /)\n",
      " |      Return self!=value.\n",
      " |  \n",
      " |  __neg__(self, /)\n",
      " |      -self\n",
      " |  \n",
      " |  __or__(self, value, /)\n",
      " |      Return self|value.\n",
      " |  \n",
      " |  __pos__(self, /)\n",
      " |      +self\n",
      " |  \n",
      " |  __pow__(self, value, mod=None, /)\n",
      " |      Return pow(self, value, mod).\n",
      " |  \n",
      " |  __radd__(self, value, /)\n",
      " |      Return value+self.\n",
      " |  \n",
      " |  __rand__(self, value, /)\n",
      " |      Return value&self.\n",
      " |  \n",
      " |  __rdivmod__(self, value, /)\n",
      " |      Return divmod(value, self).\n",
      " |  \n",
      " |  __repr__(self, /)\n",
      " |      Return repr(self).\n",
      " |  \n",
      " |  __rfloordiv__(self, value, /)\n",
      " |      Return value//self.\n",
      " |  \n",
      " |  __rlshift__(self, value, /)\n",
      " |      Return value<<self.\n",
      " |  \n",
      " |  __rmod__(self, value, /)\n",
      " |      Return value%self.\n",
      " |  \n",
      " |  __rmul__(self, value, /)\n",
      " |      Return value*self.\n",
      " |  \n",
      " |  __ror__(self, value, /)\n",
      " |      Return value|self.\n",
      " |  \n",
      " |  __round__(...)\n",
      " |      Rounding an Integral returns itself.\n",
      " |      \n",
      " |      Rounding with an ndigits argument also returns an integer.\n",
      " |  \n",
      " |  __rpow__(self, value, mod=None, /)\n",
      " |      Return pow(value, self, mod).\n",
      " |  \n",
      " |  __rrshift__(self, value, /)\n",
      " |      Return value>>self.\n",
      " |  \n",
      " |  __rshift__(self, value, /)\n",
      " |      Return self>>value.\n",
      " |  \n",
      " |  __rsub__(self, value, /)\n",
      " |      Return value-self.\n",
      " |  \n",
      " |  __rtruediv__(self, value, /)\n",
      " |      Return value/self.\n",
      " |  \n",
      " |  __rxor__(self, value, /)\n",
      " |      Return value^self.\n",
      " |  \n",
      " |  __sizeof__(self, /)\n",
      " |      Returns size in memory, in bytes.\n",
      " |  \n",
      " |  __sub__(self, value, /)\n",
      " |      Return self-value.\n",
      " |  \n",
      " |  __truediv__(self, value, /)\n",
      " |      Return self/value.\n",
      " |  \n",
      " |  __trunc__(...)\n",
      " |      Truncating an Integral returns itself.\n",
      " |  \n",
      " |  __xor__(self, value, /)\n",
      " |      Return self^value.\n",
      " |  \n",
      " |  as_integer_ratio(self, /)\n",
      " |      Return integer ratio.\n",
      " |      \n",
      " |      Return a pair of integers, whose ratio is exactly equal to the original int\n",
      " |      and with a positive denominator.\n",
      " |      \n",
      " |      >>> (10).as_integer_ratio()\n",
      " |      (10, 1)\n",
      " |      >>> (-10).as_integer_ratio()\n",
      " |      (-10, 1)\n",
      " |      >>> (0).as_integer_ratio()\n",
      " |      (0, 1)\n",
      " |  \n",
      " |  bit_count(self, /)\n",
      " |      Number of ones in the binary representation of the absolute value of self.\n",
      " |      \n",
      " |      Also known as the population count.\n",
      " |      \n",
      " |      >>> bin(13)\n",
      " |      '0b1101'\n",
      " |      >>> (13).bit_count()\n",
      " |      3\n",
      " |  \n",
      " |  bit_length(self, /)\n",
      " |      Number of bits necessary to represent self in binary.\n",
      " |      \n",
      " |      >>> bin(37)\n",
      " |      '0b100101'\n",
      " |      >>> (37).bit_length()\n",
      " |      6\n",
      " |  \n",
      " |  conjugate(...)\n",
      " |      Returns self, the complex conjugate of any int.\n",
      " |  \n",
      " |  to_bytes(self, /, length, byteorder, *, signed=False)\n",
      " |      Return an array of bytes representing an integer.\n",
      " |      \n",
      " |      length\n",
      " |        Length of bytes object to use.  An OverflowError is raised if the\n",
      " |        integer is not representable with the given number of bytes.\n",
      " |      byteorder\n",
      " |        The byte order used to represent the integer.  If byteorder is 'big',\n",
      " |        the most significant byte is at the beginning of the byte array.  If\n",
      " |        byteorder is 'little', the most significant byte is at the end of the\n",
      " |        byte array.  To request the native byte order of the host system, use\n",
      " |        `sys.byteorder' as the byte order value.\n",
      " |      signed\n",
      " |        Determines whether two's complement is used to represent the integer.\n",
      " |        If signed is False and a negative integer is given, an OverflowError\n",
      " |        is raised.\n",
      " |  \n",
      " |  ----------------------------------------------------------------------\n",
      " |  Class methods defined here:\n",
      " |  \n",
      " |  from_bytes(bytes, byteorder, *, signed=False) from builtins.type\n",
      " |      Return the integer represented by the given array of bytes.\n",
      " |      \n",
      " |      bytes\n",
      " |        Holds the array of bytes to convert.  The argument must either\n",
      " |        support the buffer protocol or be an iterable object producing bytes.\n",
      " |        Bytes and bytearray are examples of built-in objects that support the\n",
      " |        buffer protocol.\n",
      " |      byteorder\n",
      " |        The byte order used to represent the integer.  If byteorder is 'big',\n",
      " |        the most significant byte is at the beginning of the byte array.  If\n",
      " |        byteorder is 'little', the most significant byte is at the end of the\n",
      " |        byte array.  To request the native byte order of the host system, use\n",
      " |        `sys.byteorder' as the byte order value.\n",
      " |      signed\n",
      " |        Indicates whether two's complement is used to represent the integer.\n",
      " |  \n",
      " |  ----------------------------------------------------------------------\n",
      " |  Static methods defined here:\n",
      " |  \n",
      " |  __new__(*args, **kwargs) from builtins.type\n",
      " |      Create and return a new object.  See help(type) for accurate signature.\n",
      " |  \n",
      " |  ----------------------------------------------------------------------\n",
      " |  Data descriptors defined here:\n",
      " |  \n",
      " |  denominator\n",
      " |      the denominator of a rational number in lowest terms\n",
      " |  \n",
      " |  imag\n",
      " |      the imaginary part of a complex number\n",
      " |  \n",
      " |  numerator\n",
      " |      the numerator of a rational number in lowest terms\n",
      " |  \n",
      " |  real\n",
      " |      the real part of a complex number\n",
      "\n"
     ]
    }
   ],
   "source": [
    "help(int)"
   ]
  },
  {
   "cell_type": "code",
   "execution_count": 144,
   "id": "75ea192b",
   "metadata": {},
   "outputs": [
    {
     "data": {
      "text/plain": [
       "26"
      ]
     },
     "execution_count": 144,
     "metadata": {},
     "output_type": "execute_result"
    }
   ],
   "source": [
    "int('222', base=3)"
   ]
  },
  {
   "cell_type": "markdown",
   "id": "7a13398f",
   "metadata": {},
   "source": [
    "### complex"
   ]
  },
  {
   "cell_type": "code",
   "execution_count": 127,
   "id": "2f05b76c",
   "metadata": {},
   "outputs": [
    {
     "data": {
      "text/plain": [
       "0j"
      ]
     },
     "execution_count": 127,
     "metadata": {},
     "output_type": "execute_result"
    }
   ],
   "source": [
    "complex()"
   ]
  },
  {
   "cell_type": "code",
   "execution_count": 129,
   "id": "2cf0b327",
   "metadata": {},
   "outputs": [
    {
     "data": {
      "text/plain": [
       "(3+7j)"
      ]
     },
     "execution_count": 129,
     "metadata": {},
     "output_type": "execute_result"
    }
   ],
   "source": [
    "1 + 3j + 2 + 4j"
   ]
  },
  {
   "cell_type": "markdown",
   "id": "b8bff215",
   "metadata": {},
   "source": [
    "### str - napis"
   ]
  },
  {
   "cell_type": "code",
   "execution_count": null,
   "id": "c8f77aa4",
   "metadata": {},
   "outputs": [],
   "source": []
  },
  {
   "cell_type": "code",
   "execution_count": 27,
   "id": "22ddcf2c",
   "metadata": {},
   "outputs": [
    {
     "data": {
      "text/plain": [
       "'to jest napis'"
      ]
     },
     "execution_count": 27,
     "metadata": {},
     "output_type": "execute_result"
    }
   ],
   "source": [
    "\"to jest napis\""
   ]
  },
  {
   "cell_type": "code",
   "execution_count": 28,
   "id": "3deeecf5",
   "metadata": {},
   "outputs": [
    {
     "data": {
      "text/plain": [
       "'to jest napis'"
      ]
     },
     "execution_count": 28,
     "metadata": {},
     "output_type": "execute_result"
    }
   ],
   "source": [
    "'to jest napis'"
   ]
  },
  {
   "cell_type": "code",
   "execution_count": 29,
   "id": "ac68ce35",
   "metadata": {},
   "outputs": [
    {
     "data": {
      "text/plain": [
       "\"to 'jest' napis\""
      ]
     },
     "execution_count": 29,
     "metadata": {},
     "output_type": "execute_result"
    }
   ],
   "source": [
    "\"to 'jest' napis\""
   ]
  },
  {
   "cell_type": "code",
   "execution_count": 30,
   "id": "8a5dec96",
   "metadata": {},
   "outputs": [
    {
     "data": {
      "text/plain": [
       "'to \"jest\" napis'"
      ]
     },
     "execution_count": 30,
     "metadata": {},
     "output_type": "execute_result"
    }
   ],
   "source": [
    "'to \"jest\" napis'"
   ]
  },
  {
   "cell_type": "code",
   "execution_count": 31,
   "id": "0b5ac76e",
   "metadata": {},
   "outputs": [
    {
     "data": {
      "text/plain": [
       "'to \"jest\" napis'"
      ]
     },
     "execution_count": 31,
     "metadata": {},
     "output_type": "execute_result"
    }
   ],
   "source": [
    "\"to \\\"jest\\\" napis\""
   ]
  },
  {
   "cell_type": "code",
   "execution_count": 32,
   "id": "7c544220",
   "metadata": {},
   "outputs": [
    {
     "ename": "SyntaxError",
     "evalue": "invalid syntax (Temp/ipykernel_11844/739905611.py, line 1)",
     "output_type": "error",
     "traceback": [
      "\u001b[1;36m  File \u001b[1;32m\"C:\\Users\\SZB345~1\\AppData\\Local\\Temp/ipykernel_11844/739905611.py\"\u001b[1;36m, line \u001b[1;32m1\u001b[0m\n\u001b[1;33m    \"to \"jest\" napis\"\u001b[0m\n\u001b[1;37m         ^\u001b[0m\n\u001b[1;31mSyntaxError\u001b[0m\u001b[1;31m:\u001b[0m invalid syntax\n"
     ]
    }
   ],
   "source": [
    "\"to \"jest\" napis\""
   ]
  },
  {
   "cell_type": "code",
   "execution_count": 33,
   "id": "b4de4a1a",
   "metadata": {},
   "outputs": [
    {
     "data": {
      "text/plain": [
       "'napisnapis1'"
      ]
     },
     "execution_count": 33,
     "metadata": {},
     "output_type": "execute_result"
    }
   ],
   "source": [
    "\"napis\" + \"napis1\""
   ]
  },
  {
   "cell_type": "code",
   "execution_count": 36,
   "id": "ed245680",
   "metadata": {},
   "outputs": [
    {
     "data": {
      "text/plain": [
       "'linia 1\\nlinia 2'"
      ]
     },
     "execution_count": 36,
     "metadata": {},
     "output_type": "execute_result"
    }
   ],
   "source": [
    "'linia 1\\n' + 'linia 2' "
   ]
  },
  {
   "cell_type": "code",
   "execution_count": 37,
   "id": "9e0d74ac",
   "metadata": {},
   "outputs": [
    {
     "name": "stdout",
     "output_type": "stream",
     "text": [
      "linia 1\n",
      "linia 2\n"
     ]
    }
   ],
   "source": [
    "print('linia 1\\n' + 'linia 2')"
   ]
  },
  {
   "cell_type": "code",
   "execution_count": 38,
   "id": "282cae14",
   "metadata": {},
   "outputs": [
    {
     "data": {
      "text/plain": [
       "'\\nlinia1\\nlinia2\\n'"
      ]
     },
     "execution_count": 38,
     "metadata": {},
     "output_type": "execute_result"
    }
   ],
   "source": [
    "'''\n",
    "linia1\n",
    "linia2\n",
    "'''"
   ]
  },
  {
   "cell_type": "code",
   "execution_count": 39,
   "id": "d98def1d",
   "metadata": {},
   "outputs": [
    {
     "data": {
      "text/plain": [
       "'\\nlinia1\\nlinia2\\n'"
      ]
     },
     "execution_count": 39,
     "metadata": {},
     "output_type": "execute_result"
    }
   ],
   "source": [
    "\"\"\"\n",
    "linia1\n",
    "linia2\n",
    "\"\"\""
   ]
  },
  {
   "cell_type": "markdown",
   "id": "0ba46f4e",
   "metadata": {},
   "source": [
    "### Zmienne\n",
    "\n",
    "Typowanie dynamiczne ( w odróżnieniu od statycznego)\n"
   ]
  },
  {
   "cell_type": "code",
   "execution_count": 40,
   "id": "778dd73d",
   "metadata": {},
   "outputs": [],
   "source": [
    "a = 1  # komentarz\n",
    "a = 2.3 # komentowanie blokow ctrl + /\n",
    "a = \"a\"\n",
    "\n",
    "\"\"\"\n",
    "To czasem tez jest uwazane za komentarz\n",
    "\"\"\""
   ]
  },
  {
   "cell_type": "code",
   "execution_count": 41,
   "id": "f70ded31",
   "metadata": {},
   "outputs": [],
   "source": [
    "a: str = \"New\""
   ]
  },
  {
   "cell_type": "markdown",
   "id": "6d07a159",
   "metadata": {},
   "source": [
    "mypy -  http://mypy-lang.org/"
   ]
  },
  {
   "cell_type": "markdown",
   "id": "c0ffe93d",
   "metadata": {},
   "source": [
    "nazwy zmiennych piszemy malymi literami\n",
    "moga to byc litery cyfry i znak podkreslenia\n",
    "\n",
    "\n",
    "    Dobre nazwy\n",
    "    nazwa_zmiennej\n",
    "    _nazwa_zmiennej\n",
    "    ser_1\n",
    "    \n",
    "    \n",
    "    zle nazwy:\n",
    "    \n",
    "    bledy:\n",
    "    1nazwa\n",
    "    nazwa.1\n",
    "    \n",
    "    zla praktyka:\n",
    "    nazwaZmiennej\n",
    "    NazwaZmiennej\n",
    "    \n",
    "    "
   ]
  },
  {
   "cell_type": "code",
   "execution_count": 42,
   "id": "99195e23",
   "metadata": {},
   "outputs": [],
   "source": [
    "zmienna = \"napis\"\n",
    "x = zmienna"
   ]
  },
  {
   "cell_type": "code",
   "execution_count": 43,
   "id": "29618ab4",
   "metadata": {},
   "outputs": [
    {
     "data": {
      "text/plain": [
       "True"
      ]
     },
     "execution_count": 43,
     "metadata": {},
     "output_type": "execute_result"
    }
   ],
   "source": [
    "x == zmienna"
   ]
  },
  {
   "cell_type": "code",
   "execution_count": 44,
   "id": "e32037cd",
   "metadata": {},
   "outputs": [
    {
     "data": {
      "text/plain": [
       "True"
      ]
     },
     "execution_count": 44,
     "metadata": {},
     "output_type": "execute_result"
    }
   ],
   "source": [
    "x is zmienna"
   ]
  },
  {
   "cell_type": "code",
   "execution_count": 45,
   "id": "ae4528bc",
   "metadata": {},
   "outputs": [
    {
     "data": {
      "text/plain": [
       "3035680511792"
      ]
     },
     "execution_count": 45,
     "metadata": {},
     "output_type": "execute_result"
    }
   ],
   "source": [
    "id(x)"
   ]
  },
  {
   "cell_type": "code",
   "execution_count": 46,
   "id": "be8c5155",
   "metadata": {},
   "outputs": [
    {
     "data": {
      "text/plain": [
       "3035680511792"
      ]
     },
     "execution_count": 46,
     "metadata": {},
     "output_type": "execute_result"
    }
   ],
   "source": [
    "id(zmienna)"
   ]
  },
  {
   "cell_type": "code",
   "execution_count": 47,
   "id": "bfd4977f",
   "metadata": {},
   "outputs": [],
   "source": [
    "zmienna2 = \"napis dluższy\"\n",
    "x = zmienna2\n"
   ]
  },
  {
   "cell_type": "code",
   "execution_count": 48,
   "id": "d7d23ca0",
   "metadata": {},
   "outputs": [
    {
     "data": {
      "text/plain": [
       "True"
      ]
     },
     "execution_count": 48,
     "metadata": {},
     "output_type": "execute_result"
    }
   ],
   "source": [
    "zmienna2 == x"
   ]
  },
  {
   "cell_type": "code",
   "execution_count": 49,
   "id": "6b315896",
   "metadata": {},
   "outputs": [
    {
     "data": {
      "text/plain": [
       "True"
      ]
     },
     "execution_count": 49,
     "metadata": {},
     "output_type": "execute_result"
    }
   ],
   "source": [
    "zmienna2 is x"
   ]
  },
  {
   "cell_type": "code",
   "execution_count": 50,
   "id": "67f49732",
   "metadata": {},
   "outputs": [
    {
     "data": {
      "text/plain": [
       "3035680511792"
      ]
     },
     "execution_count": 50,
     "metadata": {},
     "output_type": "execute_result"
    }
   ],
   "source": [
    "zmienna3 = \"napis\"\n",
    "id(zmienna3)"
   ]
  },
  {
   "cell_type": "code",
   "execution_count": 51,
   "id": "b0223b09",
   "metadata": {},
   "outputs": [],
   "source": [
    "zmienna4 = \"napis dluższy\""
   ]
  },
  {
   "cell_type": "code",
   "execution_count": 52,
   "id": "76fd3e0c",
   "metadata": {},
   "outputs": [
    {
     "data": {
      "text/plain": [
       "True"
      ]
     },
     "execution_count": 52,
     "metadata": {},
     "output_type": "execute_result"
    }
   ],
   "source": [
    "zmienna2 == zmienna4"
   ]
  },
  {
   "cell_type": "code",
   "execution_count": 53,
   "id": "44ad1fe2",
   "metadata": {},
   "outputs": [
    {
     "data": {
      "text/plain": [
       "False"
      ]
     },
     "execution_count": 53,
     "metadata": {},
     "output_type": "execute_result"
    }
   ],
   "source": [
    "zmienna2 is zmienna4"
   ]
  },
  {
   "cell_type": "code",
   "execution_count": 54,
   "id": "63f8fbc8",
   "metadata": {},
   "outputs": [
    {
     "data": {
      "text/plain": [
       "3035681112560"
      ]
     },
     "execution_count": 54,
     "metadata": {},
     "output_type": "execute_result"
    }
   ],
   "source": [
    "id(zmienna2)"
   ]
  },
  {
   "cell_type": "code",
   "execution_count": 55,
   "id": "20c8274d",
   "metadata": {},
   "outputs": [
    {
     "data": {
      "text/plain": [
       "3035681113120"
      ]
     },
     "execution_count": 55,
     "metadata": {},
     "output_type": "execute_result"
    }
   ],
   "source": [
    "id(zmienna4)"
   ]
  },
  {
   "cell_type": "code",
   "execution_count": 56,
   "id": "623a12ad",
   "metadata": {},
   "outputs": [
    {
     "data": {
      "text/plain": [
       "True"
      ]
     },
     "execution_count": 56,
     "metadata": {},
     "output_type": "execute_result"
    }
   ],
   "source": [
    "a = 1\n",
    "b = 1\n",
    "\n",
    "a is b"
   ]
  },
  {
   "cell_type": "code",
   "execution_count": 57,
   "id": "70d31337",
   "metadata": {},
   "outputs": [
    {
     "data": {
      "text/plain": [
       "False"
      ]
     },
     "execution_count": 57,
     "metadata": {},
     "output_type": "execute_result"
    }
   ],
   "source": [
    "a = 10000001\n",
    "b = 10000001\n",
    "\n",
    "a is b"
   ]
  },
  {
   "cell_type": "markdown",
   "id": "aa647760",
   "metadata": {},
   "source": [
    "#### Funkcja print\n",
    "\n"
   ]
  },
  {
   "cell_type": "code",
   "execution_count": 58,
   "id": "2a905077",
   "metadata": {},
   "outputs": [
    {
     "name": "stdout",
     "output_type": "stream",
     "text": [
      "Help on built-in function print in module builtins:\n",
      "\n",
      "print(...)\n",
      "    print(value, ..., sep=' ', end='\\n', file=sys.stdout, flush=False)\n",
      "    \n",
      "    Prints the values to a stream, or to sys.stdout by default.\n",
      "    Optional keyword arguments:\n",
      "    file:  a file-like object (stream); defaults to the current sys.stdout.\n",
      "    sep:   string inserted between values, default a space.\n",
      "    end:   string appended after the last value, default a newline.\n",
      "    flush: whether to forcibly flush the stream.\n",
      "\n"
     ]
    }
   ],
   "source": [
    "help(print)"
   ]
  },
  {
   "cell_type": "code",
   "execution_count": 59,
   "id": "9cff330a",
   "metadata": {},
   "outputs": [
    {
     "name": "stdout",
     "output_type": "stream",
     "text": [
      "\n"
     ]
    }
   ],
   "source": [
    "print()"
   ]
  },
  {
   "cell_type": "code",
   "execution_count": 60,
   "id": "a4e7ee32",
   "metadata": {},
   "outputs": [
    {
     "name": "stdout",
     "output_type": "stream",
     "text": [
      "1 2 3 4\n"
     ]
    }
   ],
   "source": [
    "print(1, 2, 3, 4)"
   ]
  },
  {
   "cell_type": "code",
   "execution_count": 65,
   "id": "209031fc",
   "metadata": {},
   "outputs": [
    {
     "name": "stdout",
     "output_type": "stream",
     "text": [
      "1 2 3 4\n"
     ]
    }
   ],
   "source": [
    "print(1, 2, \"3\", 4)"
   ]
  },
  {
   "cell_type": "code",
   "execution_count": 70,
   "id": "ddc8cb85",
   "metadata": {},
   "outputs": [
    {
     "name": "stdout",
     "output_type": "stream",
     "text": [
      "1\n"
     ]
    }
   ],
   "source": [
    "print(str(1))"
   ]
  },
  {
   "cell_type": "code",
   "execution_count": 73,
   "id": "3a60f63c",
   "metadata": {},
   "outputs": [
    {
     "name": "stdout",
     "output_type": "stream",
     "text": [
      "10\n",
      "20\n"
     ]
    }
   ],
   "source": [
    "print(10)\n",
    "print(20)"
   ]
  },
  {
   "cell_type": "code",
   "execution_count": 76,
   "id": "00a55055",
   "metadata": {},
   "outputs": [
    {
     "name": "stdout",
     "output_type": "stream",
     "text": [
      "10-20\n"
     ]
    }
   ],
   "source": [
    "print(10, end=\"-\")\n",
    "print(20)"
   ]
  },
  {
   "cell_type": "code",
   "execution_count": 78,
   "id": "e574cb77",
   "metadata": {},
   "outputs": [
    {
     "name": "stdout",
     "output_type": "stream",
     "text": [
      "1:2:3:4\n"
     ]
    }
   ],
   "source": [
    "print(1, 2, 3, 4, sep=\":\")"
   ]
  },
  {
   "cell_type": "code",
   "execution_count": 79,
   "id": "9e9c83ec",
   "metadata": {},
   "outputs": [
    {
     "ename": "SyntaxError",
     "evalue": "positional argument follows keyword argument (Temp/ipykernel_11844/1238163101.py, line 1)",
     "output_type": "error",
     "traceback": [
      "\u001b[1;36m  File \u001b[1;32m\"C:\\Users\\SZB345~1\\AppData\\Local\\Temp/ipykernel_11844/1238163101.py\"\u001b[1;36m, line \u001b[1;32m1\u001b[0m\n\u001b[1;33m    print(end=\"-\", 1)\u001b[0m\n\u001b[1;37m                    ^\u001b[0m\n\u001b[1;31mSyntaxError\u001b[0m\u001b[1;31m:\u001b[0m positional argument follows keyword argument\n"
     ]
    }
   ],
   "source": [
    "print(end=\"-\", 1)  # kolejnosc ma znaczenie"
   ]
  },
  {
   "cell_type": "markdown",
   "id": "9fa2bca0",
   "metadata": {},
   "source": [
    "#### input"
   ]
  },
  {
   "cell_type": "code",
   "execution_count": 80,
   "id": "d0b9a217",
   "metadata": {},
   "outputs": [
    {
     "name": "stdout",
     "output_type": "stream",
     "text": [
      "10\n"
     ]
    }
   ],
   "source": [
    "x = input()"
   ]
  },
  {
   "cell_type": "code",
   "execution_count": 81,
   "id": "aba4d9da",
   "metadata": {},
   "outputs": [
    {
     "data": {
      "text/plain": [
       "'10'"
      ]
     },
     "execution_count": 81,
     "metadata": {},
     "output_type": "execute_result"
    }
   ],
   "source": [
    "x"
   ]
  },
  {
   "cell_type": "code",
   "execution_count": 82,
   "id": "4c1ac3b0",
   "metadata": {},
   "outputs": [
    {
     "name": "stdout",
     "output_type": "stream",
     "text": [
      "Wciśnij jakiś klawisz\n"
     ]
    },
    {
     "data": {
      "text/plain": [
       "''"
      ]
     },
     "execution_count": 82,
     "metadata": {},
     "output_type": "execute_result"
    }
   ],
   "source": [
    "input(\"Wciśnij jakiś klawisz\")"
   ]
  },
  {
   "cell_type": "code",
   "execution_count": 83,
   "id": "dfa54e57",
   "metadata": {},
   "outputs": [
    {
     "ename": "TypeError",
     "evalue": "can only concatenate str (not \"int\") to str",
     "output_type": "error",
     "traceback": [
      "\u001b[1;31m---------------------------------------------------------------------------\u001b[0m",
      "\u001b[1;31mTypeError\u001b[0m                                 Traceback (most recent call last)",
      "\u001b[1;32mC:\\Users\\SZB345~1\\AppData\\Local\\Temp/ipykernel_11844/1824700092.py\u001b[0m in \u001b[0;36m<module>\u001b[1;34m\u001b[0m\n\u001b[0;32m      1\u001b[0m \u001b[1;31m# x to napis\u001b[0m\u001b[1;33m\u001b[0m\u001b[1;33m\u001b[0m\u001b[0m\n\u001b[0;32m      2\u001b[0m \u001b[1;33m\u001b[0m\u001b[0m\n\u001b[1;32m----> 3\u001b[1;33m \u001b[0mx\u001b[0m \u001b[1;33m+\u001b[0m \u001b[1;36m1\u001b[0m\u001b[1;33m\u001b[0m\u001b[1;33m\u001b[0m\u001b[0m\n\u001b[0m",
      "\u001b[1;31mTypeError\u001b[0m: can only concatenate str (not \"int\") to str"
     ]
    }
   ],
   "source": [
    "# x to napis\n",
    "# typowanie silne - python nie robi za nas konwersji\n",
    "x + 1"
   ]
  },
  {
   "cell_type": "code",
   "execution_count": 84,
   "id": "fe14e746",
   "metadata": {},
   "outputs": [
    {
     "data": {
      "text/plain": [
       "11"
      ]
     },
     "execution_count": 84,
     "metadata": {},
     "output_type": "execute_result"
    }
   ],
   "source": [
    "int(x) + 1"
   ]
  },
  {
   "cell_type": "code",
   "execution_count": 87,
   "id": "6501edd5",
   "metadata": {},
   "outputs": [
    {
     "data": {
      "text/plain": [
       "'101'"
      ]
     },
     "execution_count": 87,
     "metadata": {},
     "output_type": "execute_result"
    }
   ],
   "source": [
    "x + str(1)"
   ]
  },
  {
   "cell_type": "code",
   "execution_count": 88,
   "id": "f8d3b350",
   "metadata": {},
   "outputs": [
    {
     "name": "stdout",
     "output_type": "stream",
     "text": [
      "Help on method raw_input in module ipykernel.kernelbase:\n",
      "\n",
      "raw_input(prompt='') method of ipykernel.ipkernel.IPythonKernel instance\n",
      "    Forward raw_input to frontends\n",
      "    \n",
      "    Raises\n",
      "    ------\n",
      "    StdinNotImplementedError if active frontend doesn't support stdin.\n",
      "\n"
     ]
    }
   ],
   "source": [
    "help(input)"
   ]
  },
  {
   "cell_type": "markdown",
   "id": "e995ff34",
   "metadata": {},
   "source": [
    "#### Zadanie 01\n",
    "\n",
    "Korzystając z przypisywania wartości do zmiennych napisz program obliczający pole trapezu o długości podstaw 3 i 9 oraz wysokości 6.5.\n",
    "\n",
    "#### Zadanie 02\n",
    "\n",
    "Napisz program wyliczający kwotę należną za zakupiony towar na podstawie ceny za kilogram oraz liczby zakupionych kilogramów. Do przechowywania informacji o cenie oraz liczbie kilogramów użyj zmiennych. Wypisz wszystkie informacj na konsolę. Przykładowy komunikat programu:\n",
    "\n",
    "    Cena za kg: 10.0  (# print)\n",
    "    Waga: 2.5         (# input)\n",
    "    Należność: 25.0"
   ]
  },
  {
   "cell_type": "code",
   "execution_count": 100,
   "id": "d277b5e6",
   "metadata": {},
   "outputs": [
    {
     "name": "stdout",
     "output_type": "stream",
     "text": [
      "Ser:                   Cheddarxxxxxxx                   - cena  12.50\n",
      "Ser:                       Gouda                        - cena   9.23\n"
     ]
    }
   ],
   "source": [
    "nazwa_1 = \"Cheddarxxxxxxx\"\n",
    "cena_1 = 12.5\n",
    "\n",
    "nazwa_2 = \"Gouda\"\n",
    "cena_2 = 9.23\n",
    "\n",
    "template = \"Ser: {:^50} - cena {:6.2f}\"\n",
    "\n",
    "print(template.format(nazwa_1, cena_1))\n",
    "print(template.format(nazwa_2, cena_2))"
   ]
  },
  {
   "cell_type": "code",
   "execution_count": 101,
   "id": "d5cd9317",
   "metadata": {},
   "outputs": [],
   "source": [
    "t1 =  f\"Ser: {nazwa_1:^50} - cena {cena_1:6.2f}\"\n"
   ]
  },
  {
   "cell_type": "code",
   "execution_count": 102,
   "id": "cb351966",
   "metadata": {},
   "outputs": [
    {
     "data": {
      "text/plain": [
       "'Ser:                   Cheddarxxxxxxx                   - cena  12.50'"
      ]
     },
     "execution_count": 102,
     "metadata": {},
     "output_type": "execute_result"
    }
   ],
   "source": [
    "t1"
   ]
  },
  {
   "cell_type": "code",
   "execution_count": 104,
   "id": "be1f8fa1",
   "metadata": {},
   "outputs": [
    {
     "data": {
      "text/plain": [
       "'Ser Cheddarxxxxxxx:10 12.50'"
      ]
     },
     "execution_count": 104,
     "metadata": {},
     "output_type": "execute_result"
    }
   ],
   "source": [
    "\"Ser %s %.2f\" % (nazwa_1, cena_1)"
   ]
  },
  {
   "cell_type": "markdown",
   "id": "63bfcbdb",
   "metadata": {},
   "source": [
    "#### Zadanie 03\n",
    "\n",
    "Napisz program obliczający koszt przejazdu z miasta A do B na podstawie podanej przez użytkownika liczby kilometrów, ceny paliwa oraz spalania. Zapytaj użytkownika także o nazwy miejscowości. Przykładowe komunikat programu:\n",
    "\n",
    "     Miasto A: Warszawa\n",
    "     Miasto B: Gdańsk\n",
    "     Dystans Warszawa‐Gdańsk: 420\n",
    "     Cena paliwa: 4.55\n",
    "     Spalanie na 100 km: 5.5\n",
    "     Koszt przejazdu Warszawa‐Gdańsk to 105 PLN"
   ]
  },
  {
   "cell_type": "markdown",
   "id": "1518e5b2",
   "metadata": {},
   "source": [
    "## Wyrażenie warunkowe\n",
    "\n",
    "1. najprostsze uzycie\n",
    "\n",
    "    if warunek:\n",
    "       <blok kodu>\n",
    "    \n",
    "    <kolejny blok kodu>\n",
    "    \n",
    "2. else\n",
    "    \n",
    "    \n",
    "    if warunek:\n",
    "       <blok kodu>\n",
    "    else:\n",
    "       <blok kodu>\n",
    "   \n",
    "   \n",
    "           \n",
    "           "
   ]
  },
  {
   "cell_type": "code",
   "execution_count": 113,
   "id": "5fb358bd",
   "metadata": {},
   "outputs": [
    {
     "name": "stdout",
     "output_type": "stream",
     "text": [
      "Większy niż 10\n",
      "12\n",
      "Cos tam dalej sie dzieje\n"
     ]
    }
   ],
   "source": [
    "x = 12\n",
    "\n",
    "if x > 10: \n",
    "    print(\"Większy niż 10\")\n",
    "    print(x)\n",
    "else:\n",
    "    print(\"else\")\n",
    "    if x % 2 == 0:\n",
    "        print(\"parzysty\")\n",
    "    \n",
    "print(\"Cos tam dalej sie dzieje\")\n"
   ]
  },
  {
   "cell_type": "code",
   "execution_count": 114,
   "id": "c4e6d9f5",
   "metadata": {},
   "outputs": [
    {
     "name": "stdout",
     "output_type": "stream",
     "text": [
      "Większy niż 10\n",
      "12\n",
      "Cos tam dalej sie dzieje\n"
     ]
    }
   ],
   "source": [
    "x = 12\n",
    "\n",
    "if x > 10: \n",
    "    print(\"Większy niż 10\")\n",
    "    print(x)\n",
    "elif x % 2 == 0:\n",
    "    print(\"Parzysty\")\n",
    "elif x % 3 == 0:\n",
    "    print(\"podzielne przez 3\")\n",
    "else:\n",
    "    print(\"else\")\n",
    "\n",
    "    \n",
    "print(\"Cos tam dalej sie dzieje\")\n"
   ]
  },
  {
   "cell_type": "code",
   "execution_count": 115,
   "id": "1fde610b",
   "metadata": {},
   "outputs": [
    {
     "name": "stdout",
     "output_type": "stream",
     "text": [
      "Większy niż 10\n",
      "12\n",
      "Parzysty\n",
      "podzielne przez 3\n",
      "Cos tam dalej sie dzieje\n"
     ]
    }
   ],
   "source": [
    "x = 12\n",
    "\n",
    "if x > 10: \n",
    "    print(\"Większy niż 10\")\n",
    "    print(x)\n",
    "    \n",
    "if x % 2 == 0:\n",
    "    print(\"Parzysty\")\n",
    "\n",
    "\n",
    "if x % 3 == 0:\n",
    "    print(\"podzielne przez 3\")\n",
    "else:\n",
    "    print(\"else\")\n",
    "\n",
    "    \n",
    "print(\"Cos tam dalej sie dzieje\")"
   ]
  },
  {
   "cell_type": "code",
   "execution_count": 117,
   "id": "97b4c260",
   "metadata": {},
   "outputs": [
    {
     "data": {
      "text/plain": [
       "True"
      ]
     },
     "execution_count": 117,
     "metadata": {},
     "output_type": "execute_result"
    }
   ],
   "source": [
    "1 > 0 or 1 / 0"
   ]
  },
  {
   "cell_type": "code",
   "execution_count": 118,
   "id": "42cd450f",
   "metadata": {},
   "outputs": [
    {
     "data": {
      "text/plain": [
       "False"
      ]
     },
     "execution_count": 118,
     "metadata": {},
     "output_type": "execute_result"
    }
   ],
   "source": [
    "1 < 0 and 1 / 0"
   ]
  },
  {
   "cell_type": "markdown",
   "id": "3588de5f",
   "metadata": {},
   "source": [
    "#### Zadanie 04\n",
    "\n",
    "Napisz program, który sprawdzi pełnoletność osoby na podstawie roku jej urodzenia. Przykładowy komunikat programu:\n",
    "\n",
    "    Podaj rok urodzenia: 1980\n",
    "    Jesteś pełnoletni!\n",
    "    \n",
    "    Podaj rok urodzenia: 2012\n",
    "    Nie jeste pełnoletni!"
   ]
  },
  {
   "cell_type": "code",
   "execution_count": 119,
   "id": "39d85304",
   "metadata": {},
   "outputs": [],
   "source": [
    "import datetime\n",
    "\n",
    "t = datetime.datetime.now()"
   ]
  },
  {
   "cell_type": "code",
   "execution_count": 120,
   "id": "85ee7074",
   "metadata": {},
   "outputs": [
    {
     "data": {
      "text/plain": [
       "datetime.datetime(2021, 12, 15, 12, 52, 11, 527911)"
      ]
     },
     "execution_count": 120,
     "metadata": {},
     "output_type": "execute_result"
    }
   ],
   "source": [
    "t"
   ]
  },
  {
   "cell_type": "code",
   "execution_count": 121,
   "id": "52bd3346",
   "metadata": {},
   "outputs": [
    {
     "data": {
      "text/plain": [
       "['__add__',\n",
       " '__class__',\n",
       " '__delattr__',\n",
       " '__dir__',\n",
       " '__doc__',\n",
       " '__eq__',\n",
       " '__format__',\n",
       " '__ge__',\n",
       " '__getattribute__',\n",
       " '__gt__',\n",
       " '__hash__',\n",
       " '__init__',\n",
       " '__init_subclass__',\n",
       " '__le__',\n",
       " '__lt__',\n",
       " '__ne__',\n",
       " '__new__',\n",
       " '__radd__',\n",
       " '__reduce__',\n",
       " '__reduce_ex__',\n",
       " '__repr__',\n",
       " '__rsub__',\n",
       " '__setattr__',\n",
       " '__sizeof__',\n",
       " '__str__',\n",
       " '__sub__',\n",
       " '__subclasshook__',\n",
       " 'astimezone',\n",
       " 'combine',\n",
       " 'ctime',\n",
       " 'date',\n",
       " 'day',\n",
       " 'dst',\n",
       " 'fold',\n",
       " 'fromisocalendar',\n",
       " 'fromisoformat',\n",
       " 'fromordinal',\n",
       " 'fromtimestamp',\n",
       " 'hour',\n",
       " 'isocalendar',\n",
       " 'isoformat',\n",
       " 'isoweekday',\n",
       " 'max',\n",
       " 'microsecond',\n",
       " 'min',\n",
       " 'minute',\n",
       " 'month',\n",
       " 'now',\n",
       " 'replace',\n",
       " 'resolution',\n",
       " 'second',\n",
       " 'strftime',\n",
       " 'strptime',\n",
       " 'time',\n",
       " 'timestamp',\n",
       " 'timetuple',\n",
       " 'timetz',\n",
       " 'today',\n",
       " 'toordinal',\n",
       " 'tzinfo',\n",
       " 'tzname',\n",
       " 'utcfromtimestamp',\n",
       " 'utcnow',\n",
       " 'utcoffset',\n",
       " 'utctimetuple',\n",
       " 'weekday',\n",
       " 'year']"
      ]
     },
     "execution_count": 121,
     "metadata": {},
     "output_type": "execute_result"
    }
   ],
   "source": [
    "dir(t)"
   ]
  },
  {
   "cell_type": "code",
   "execution_count": 123,
   "id": "f36aa4f7",
   "metadata": {},
   "outputs": [
    {
     "data": {
      "text/plain": [
       "2"
      ]
     },
     "execution_count": 123,
     "metadata": {},
     "output_type": "execute_result"
    }
   ],
   "source": [
    "t.weekday()"
   ]
  },
  {
   "attachments": {
    "image.png": {
     "image/png": "[encoded data removed]"
    }
   },
   "cell_type": "markdown",
   "id": "ee9a14d4",
   "metadata": {},
   "source": [
    "#### Zadanie 05\n",
    "\n",
    "Napisz program, który na podstawie pozycji gracza (x, y) na planszy w przedziale od 0 do 100 wyświetli jego przybliżone położenie (centrum, prawy górny róg, górna krawędź, ...) lub informację o pozycji poza planszą. Przyjmij wartość 10 jako margines krawędzi. Przykładowy komunikat programu:\n",
    "\n",
    "     Podaj pozycję gracza X: 95\n",
    "     Podaj pozycję gracza Y: 95\n",
    "     Gracz znajduje się w prawym górnym rogu.\n",
    "     \n",
    "![image.png](attachment:image.png)"
   ]
  },
  {
   "cell_type": "code",
   "execution_count": 146,
   "id": "9c0c1e65",
   "metadata": {},
   "outputs": [
    {
     "data": {
      "text/plain": [
       "False"
      ]
     },
     "execution_count": 146,
     "metadata": {},
     "output_type": "execute_result"
    }
   ],
   "source": [
    "x = 2\n",
    "\n",
    "5 < x < 15"
   ]
  },
  {
   "cell_type": "markdown",
   "id": "27c1bf5d",
   "metadata": {},
   "source": [
    "## pętla while\n",
    "\n",
    "\n",
    "    while <warunek>:\n",
    "        <blok kodu>\n",
    "\n",
    "\n",
    "    while <warunek>:\n",
    "        <blok kodu>\n",
    "    else:\n",
    "        <blok kodu>"
   ]
  },
  {
   "cell_type": "code",
   "execution_count": 147,
   "id": "d6707308",
   "metadata": {},
   "outputs": [
    {
     "name": "stdout",
     "output_type": "stream",
     "text": [
      "10\n",
      "9\n",
      "8\n",
      "7\n",
      "6\n",
      "5\n",
      "4\n",
      "3\n",
      "2\n",
      "1\n"
     ]
    }
   ],
   "source": [
    "x = 10\n",
    "\n",
    "while x > 0:\n",
    "    print(x)\n",
    "    x = x - 1 # x -= 1\n"
   ]
  },
  {
   "cell_type": "code",
   "execution_count": 150,
   "id": "18aa16e0",
   "metadata": {},
   "outputs": [
    {
     "name": "stdout",
     "output_type": "stream",
     "text": [
      "10\n",
      "8\n",
      "6\n",
      "4\n",
      "2\n",
      "Pętla skończona\n"
     ]
    }
   ],
   "source": [
    "x = 10\n",
    "\n",
    "while x > 0:\n",
    "    if x % 2 != 0:\n",
    "        x -= 1\n",
    "        continue\n",
    "    print(x)\n",
    "    x -= 1\n",
    "else:\n",
    "    print(\"Pętla skończona\")"
   ]
  },
  {
   "cell_type": "code",
   "execution_count": 152,
   "id": "a72c98cf",
   "metadata": {},
   "outputs": [
    {
     "name": "stdout",
     "output_type": "stream",
     "text": [
      "10\n",
      "9\n",
      "8\n",
      "7\n",
      "6\n",
      "5\n"
     ]
    }
   ],
   "source": [
    "x = 10\n",
    "\n",
    "while x > 0:\n",
    "    if x == 4:\n",
    "        break\n",
    "    print(x)\n",
    "    x -= 1\n",
    "else:\n",
    "    print(\"Pętla skończona skończona bez użycua break\")"
   ]
  },
  {
   "cell_type": "code",
   "execution_count": 153,
   "id": "35080bae",
   "metadata": {},
   "outputs": [
    {
     "name": "stdout",
     "output_type": "stream",
     "text": [
      "Podaj liczbe lub k by zakonczyc1\n",
      "Podaj liczbe lub k by zakonczyc2\n",
      "Podaj liczbe lub k by zakonczyc3\n",
      "Podaj liczbe lub k by zakonczyc4\n",
      "Podaj liczbe lub k by zakonczyc5\n",
      "Podaj liczbe lub k by zakonczyc6\n",
      "Podaj liczbe lub k by zakonczyck\n",
      "21\n"
     ]
    }
   ],
   "source": [
    "suma = 0\n",
    "while True:\n",
    "    polecenie = input(\"Podaj liczbe lub k by zakonczyc\")\n",
    "    if polecenie == \"k\": break\n",
    "    suma += int(polecenie)\n",
    "\n",
    "print(suma)\n",
    "    \n",
    "        "
   ]
  },
  {
   "cell_type": "markdown",
   "id": "f461b5ed",
   "metadata": {},
   "source": [
    "#### Zadanie 06\n",
    "\n",
    "Napisz program obliczający kwadrat 100 pierwszych liczba całkowitych i wypisujący wyniki na konsolę.\n",
    "\n",
    "#### Zadanie 07\n",
    "\n",
    "Napisz program obliczający średnią wartość temperatury w danym tygodniu na podstawie temperatur wprowadzonych przez użytkownika.\n",
    "\n",
    "#### Zadanie 08\n",
    "\n",
    "Napisz program wyświetlający minimalną oraz maksymalną liczbę z wszystkich liczb wprowadzonych przez użytkownika. Daj użytkownikowi możliwość zakończenia wprowadzania liczb odpowiednią komendą. Zadbaj o obsłużenie przypadku gdy użytkownik nie wprowadzi żadnej liczby.\n",
    "\n",
    "#### Zadanie 09 (opcjonalnie)\n",
    "\n",
    "Napisz grę polegającą na poszukiwaniu skarbu na dwuwymiarowej planszy o rozmiarach 10 na 10. Użytkownik może wprowadzać komendy zmieniające położenie postaci. Po każdym ruchu użytkownik powinien otrzymywać informację o tym czy zmierza dobrym kierunku. Wyjcie poza planszę oznacza koniec gry. Po znalezieniu skarbu wypisz liczbę ruchów wykorzystanych przez użytkownika na dojście do celu. \n",
    "\n",
    "Dodatkowo: po wykonaniu większej liczby kroków niż minimalna wartość x 2, umieść skarb w nowym miejscu z prawdopodobieństwem 1/5 nie podawaj graczowi wskazówki po wykonaniu kroku\n",
    "\n",
    "    import random \n",
    "\n",
    "    los = random.randint(1, 5)\n"
   ]
  },
  {
   "cell_type": "code",
   "execution_count": null,
   "id": "f694ef43",
   "metadata": {},
   "outputs": [],
   "source": []
  }
 ],
 "metadata": {
  "kernelspec": {
   "display_name": "Python 3 (ipykernel)",
   "language": "python",
   "name": "python3"
  },
  "language_info": {
   "codemirror_mode": {
    "name": "ipython",
    "version": 3
   },
   "file_extension": ".py",
   "mimetype": "text/x-python",
   "name": "python",
   "nbconvert_exporter": "python",
   "pygments_lexer": "ipython3",
   "version": "3.10.1"
  }
 },
 "nbformat": 4,
 "nbformat_minor": 5
}
