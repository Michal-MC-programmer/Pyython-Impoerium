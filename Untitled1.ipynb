{
 "cells": [
  {
   "cell_type": "markdown",
   "id": "35a6c0dc",
   "metadata": {},
   "source": [
    "## rekurencja cd.\n",
    "\n",
    "0! -> 1\n",
    "\n",
    "n! -> n * (n-1)!"
   ]
  },
  {
   "cell_type": "code",
   "execution_count": 1,
   "id": "03dede0b",
   "metadata": {},
   "outputs": [
    {
     "data": {
      "text/plain": [
       "120"
      ]
     },
     "execution_count": 1,
     "metadata": {},
     "output_type": "execute_result"
    }
   ],
   "source": [
    "def silnia(n):\n",
    "    if n < 1:\n",
    "        return 1\n",
    "    return n * silnia(n-1)\n",
    "\n",
    "silnia(5)"
   ]
  },
  {
   "cell_type": "code",
   "execution_count": 2,
   "id": "014a2b3e",
   "metadata": {},
   "outputs": [
    {
     "name": "stdout",
     "output_type": "stream",
     "text": [
      "{'dodawanie': 6}\n",
      "{'add': 7, 'mul': 8}\n"
     ]
    }
   ],
   "source": [
    "def suma(*args):\n",
    "    return sum(args)\n",
    "\n",
    "def mul(*args):\n",
    "    x = 1\n",
    "    for i in args:\n",
    "        x *= i\n",
    "    return x\n",
    "\n",
    "def dzialania(*args, **kwargs):\n",
    "    wynik = {}\n",
    "    for dzialanie in kwargs:\n",
    "        x = kwargs[dzialanie](*args)\n",
    "        wynik[dzialanie] = x\n",
    "    return wynik\n",
    "\n",
    "\n",
    "print(dzialania(1, 2, 3, dodawanie=suma))\n",
    "print(dzialania(1, 2, 4, add=suma, mul=mul))"
   ]
  },
  {
   "cell_type": "markdown",
   "id": "b0d30123",
   "metadata": {},
   "source": [
    "#### zadanie 21\n",
    "\n",
    "Zaimplementuj funkcję formatującą podane napisy.\n",
    "\n",
    "Przykład użycia:\n",
    "\n",
    "     >>> formatuj(\n",
    "            'koszt $cena PLN',\n",
    "            'kwota $cena brutto. Podatek $podatek %',\n",
    "            cena=10,\n",
    "            podatek=23,\n",
    "            \n",
    "            )\n",
    "    'koszt 10 PLN\\nkwota 10 brutto. Podatek 23 %'"
   ]
  },
  {
   "cell_type": "code",
   "execution_count": 3,
   "id": "c6f440be",
   "metadata": {},
   "outputs": [
    {
     "name": "stdout",
     "output_type": "stream",
     "text": [
      "('koszt $cena PLN', 'kwota $cena brutto. Podatek $podatek %')\n",
      "{'cena': 10, 'podatek': 23}\n",
      "\n",
      "koszt 10 PLN\n",
      "kwota 10 brutto. Podatek 23 %\n"
     ]
    }
   ],
   "source": [
    "def formatuj(*args, **kwargs):\n",
    "    print(args)\n",
    "    print(kwargs)\n",
    "    \n",
    "    napis = \"\"\n",
    "    for n in args:\n",
    "        napis += \"\\n\"+n\n",
    "    \n",
    "    for klucz, text in kwargs.items():\n",
    "        napis = napis.replace('$' + klucz, str(text))\n",
    "    return napis\n",
    "    \n",
    "x =formatuj(\n",
    "    'koszt $cena PLN',\n",
    "    'kwota $cena brutto. Podatek $podatek %',\n",
    "    cena=10,\n",
    "    podatek=23,\n",
    ")\n",
    "print(x)"
   ]
  },
  {
   "cell_type": "code",
   "execution_count": 4,
   "id": "6c437226",
   "metadata": {},
   "outputs": [
    {
     "data": {
      "text/plain": [
       "'podatek 10 %'"
      ]
     },
     "execution_count": 4,
     "metadata": {},
     "output_type": "execute_result"
    }
   ],
   "source": [
    "klucz = \"podatek\"\n",
    "\"podatek $podatek %\".replace('$' + klucz, str(10))"
   ]
  },
  {
   "cell_type": "code",
   "execution_count": 5,
   "id": "cddcf7d9",
   "metadata": {},
   "outputs": [
    {
     "ename": "SyntaxError",
     "evalue": "invalid syntax. Perhaps you forgot a comma? (Temp/ipykernel_8816/4284419487.py, line 10)",
     "output_type": "error",
     "traceback": [
      "\u001b[1;36m  File \u001b[1;32m\"C:\\Users\\SZB345~1\\AppData\\Local\\Temp/ipykernel_8816/4284419487.py\"\u001b[1;36m, line \u001b[1;32m10\u001b[0m\n\u001b[1;33m    \"login1\": [\"ma\"]\u001b[0m\n\u001b[1;37m              ^\u001b[0m\n\u001b[1;31mSyntaxError\u001b[0m\u001b[1;31m:\u001b[0m invalid syntax. Perhaps you forgot a comma?\n"
     ]
    }
   ],
   "source": [
    "\"ala ma kota\".replace('ma', \"x\")\n",
    "zamiany = {\n",
    "    \"ma\": \"nie ma\",\n",
    "    \"Ala\": \"Fala\"\n",
    "}\n",
    "\n",
    "ALLOWED_KEYS = [\"ma\"]\n",
    "\n",
    "user_keys = {\n",
    "    \"login1\": [\"ma\"]\n",
    "    \"login2\": [\"Ala\"]\n",
    "}\n",
    "\n",
    "def zamiana(text, **kwargs):\n",
    "    for slowo in kwargs:\n",
    "        if slowo in ALLOWED_KEYS:\n",
    "            \n",
    "            text = text.replace(slowo, kwargs[slowo])\n",
    "        \n",
    "    return text\n",
    "\n",
    "\n",
    "\n",
    "zamiana(\"Ala ma kota\", **zamiany) # -> zamiana(\"Ala ma kota\", ma=\"nie ma\", Ala=\"Fala\")\n",
    "\n",
    "\n",
    "zamiana(\"Ala ma kota\", ma=\"kocha\")"
   ]
  },
  {
   "cell_type": "code",
   "execution_count": null,
   "id": "6c5b2152",
   "metadata": {},
   "outputs": [],
   "source": [
    "list(zamiany.items())[0]"
   ]
  },
  {
   "cell_type": "code",
   "execution_count": null,
   "id": "36a7abac",
   "metadata": {},
   "outputs": [],
   "source": [
    "a, *b = 1, 2, 3, 4\n",
    "a, b"
   ]
  },
  {
   "cell_type": "code",
   "execution_count": null,
   "id": "27a69671",
   "metadata": {},
   "outputs": [],
   "source": [
    "*a, b = 1, 2, 3, 4\n",
    "a, b"
   ]
  },
  {
   "cell_type": "code",
   "execution_count": null,
   "id": "a84e8f4c",
   "metadata": {},
   "outputs": [],
   "source": [
    "a, *b, c = 1, 2, 3, 4\n",
    "a, b, c"
   ]
  },
  {
   "cell_type": "code",
   "execution_count": null,
   "id": "bb0bf16d",
   "metadata": {},
   "outputs": [],
   "source": [
    "def funkcja(a=None, b=None):\n",
    "    print(a, b)"
   ]
  },
  {
   "cell_type": "code",
   "execution_count": null,
   "id": "93508721",
   "metadata": {},
   "outputs": [],
   "source": [
    "\n",
    "slownik = {'a': 10, 'b':20}\n",
    "\n",
    "\n",
    "funkcja(**slownik)"
   ]
  },
  {
   "cell_type": "code",
   "execution_count": null,
   "id": "9d509542",
   "metadata": {},
   "outputs": [],
   "source": [
    "funkcja(a=10, b=20)"
   ]
  },
  {
   "cell_type": "code",
   "execution_count": null,
   "id": "f90e450e",
   "metadata": {},
   "outputs": [],
   "source": [
    "def foo(*args):  # foo(1, 2)\n",
    "    pass\n",
    "\n",
    "foo(a=1, b=2)"
   ]
  },
  {
   "cell_type": "code",
   "execution_count": null,
   "id": "4a648caa",
   "metadata": {},
   "outputs": [],
   "source": [
    "def bar(**kwargs): pass\n",
    "\n",
    "\n",
    "bar(1, 2)"
   ]
  },
  {
   "cell_type": "code",
   "execution_count": null,
   "id": "f36b2a9b",
   "metadata": {},
   "outputs": [],
   "source": [
    "bar(a=1, b=2)"
   ]
  },
  {
   "cell_type": "markdown",
   "id": "5c4274c4",
   "metadata": {},
   "source": [
    "#### Zadanie domowe\n",
    "\n",
    "\n",
    "Zaimplementuj funkcję przycinającą listę na podstawie podanego warunku początkowego oraz końcowego:\n",
    "Przykład użycia:\n",
    "\n",
    "    >>> przytnij(\n",
    "            data=[1, 2, 3, 4, 5, 6, 7],\n",
    "            start=lambda x: x > 3,\n",
    "            stop=lambda x: x == 6, \n",
    "    )\n",
    "    [4, 5, 6]\n",
    "    "
   ]
  },
  {
   "cell_type": "code",
   "execution_count": null,
   "id": "c02157d1",
   "metadata": {},
   "outputs": [],
   "source": [
    "def przytnij(data: list, start, stop):\n",
    "    \n",
    "    for el in data:\n",
    "        if start(el) ..."
   ]
  },
  {
   "cell_type": "markdown",
   "id": "50bc37e2",
   "metadata": {},
   "source": [
    "## Przestrzenie nazw\n",
    "\n",
    "1. przestrzen `__builtins__`\n",
    "2. przestrzen globalna\n",
    "3. przestrzen lokalna\n",
    "4. przestrzen nielokalna\n",
    "\n"
   ]
  },
  {
   "cell_type": "code",
   "execution_count": 6,
   "id": "389fd4c7",
   "metadata": {},
   "outputs": [
    {
     "data": {
      "text/plain": [
       "['ArithmeticError',\n",
       " 'AssertionError',\n",
       " 'AttributeError',\n",
       " 'BaseException',\n",
       " 'BlockingIOError',\n",
       " 'BrokenPipeError',\n",
       " 'BufferError',\n",
       " 'BytesWarning',\n",
       " 'ChildProcessError',\n",
       " 'ConnectionAbortedError',\n",
       " 'ConnectionError',\n",
       " 'ConnectionRefusedError',\n",
       " 'ConnectionResetError',\n",
       " 'DeprecationWarning',\n",
       " 'EOFError',\n",
       " 'Ellipsis',\n",
       " 'EncodingWarning',\n",
       " 'EnvironmentError',\n",
       " 'Exception',\n",
       " 'False',\n",
       " 'FileExistsError',\n",
       " 'FileNotFoundError',\n",
       " 'FloatingPointError',\n",
       " 'FutureWarning',\n",
       " 'GeneratorExit',\n",
       " 'IOError',\n",
       " 'ImportError',\n",
       " 'ImportWarning',\n",
       " 'IndentationError',\n",
       " 'IndexError',\n",
       " 'InterruptedError',\n",
       " 'IsADirectoryError',\n",
       " 'KeyError',\n",
       " 'KeyboardInterrupt',\n",
       " 'LookupError',\n",
       " 'MemoryError',\n",
       " 'ModuleNotFoundError',\n",
       " 'NameError',\n",
       " 'None',\n",
       " 'NotADirectoryError',\n",
       " 'NotImplemented',\n",
       " 'NotImplementedError',\n",
       " 'OSError',\n",
       " 'OverflowError',\n",
       " 'PendingDeprecationWarning',\n",
       " 'PermissionError',\n",
       " 'ProcessLookupError',\n",
       " 'RecursionError',\n",
       " 'ReferenceError',\n",
       " 'ResourceWarning',\n",
       " 'RuntimeError',\n",
       " 'RuntimeWarning',\n",
       " 'StopAsyncIteration',\n",
       " 'StopIteration',\n",
       " 'SyntaxError',\n",
       " 'SyntaxWarning',\n",
       " 'SystemError',\n",
       " 'SystemExit',\n",
       " 'TabError',\n",
       " 'TimeoutError',\n",
       " 'True',\n",
       " 'TypeError',\n",
       " 'UnboundLocalError',\n",
       " 'UnicodeDecodeError',\n",
       " 'UnicodeEncodeError',\n",
       " 'UnicodeError',\n",
       " 'UnicodeTranslateError',\n",
       " 'UnicodeWarning',\n",
       " 'UserWarning',\n",
       " 'ValueError',\n",
       " 'Warning',\n",
       " 'WindowsError',\n",
       " 'ZeroDivisionError',\n",
       " '__IPYTHON__',\n",
       " '__build_class__',\n",
       " '__debug__',\n",
       " '__doc__',\n",
       " '__import__',\n",
       " '__loader__',\n",
       " '__name__',\n",
       " '__package__',\n",
       " '__spec__',\n",
       " 'abs',\n",
       " 'aiter',\n",
       " 'all',\n",
       " 'anext',\n",
       " 'any',\n",
       " 'ascii',\n",
       " 'bin',\n",
       " 'bool',\n",
       " 'breakpoint',\n",
       " 'bytearray',\n",
       " 'bytes',\n",
       " 'callable',\n",
       " 'chr',\n",
       " 'classmethod',\n",
       " 'compile',\n",
       " 'complex',\n",
       " 'copyright',\n",
       " 'credits',\n",
       " 'delattr',\n",
       " 'dict',\n",
       " 'dir',\n",
       " 'display',\n",
       " 'divmod',\n",
       " 'enumerate',\n",
       " 'eval',\n",
       " 'exec',\n",
       " 'execfile',\n",
       " 'filter',\n",
       " 'float',\n",
       " 'format',\n",
       " 'frozenset',\n",
       " 'get_ipython',\n",
       " 'getattr',\n",
       " 'globals',\n",
       " 'hasattr',\n",
       " 'hash',\n",
       " 'help',\n",
       " 'hex',\n",
       " 'id',\n",
       " 'input',\n",
       " 'int',\n",
       " 'isinstance',\n",
       " 'issubclass',\n",
       " 'iter',\n",
       " 'len',\n",
       " 'license',\n",
       " 'list',\n",
       " 'locals',\n",
       " 'map',\n",
       " 'max',\n",
       " 'memoryview',\n",
       " 'min',\n",
       " 'next',\n",
       " 'object',\n",
       " 'oct',\n",
       " 'open',\n",
       " 'ord',\n",
       " 'pow',\n",
       " 'print',\n",
       " 'property',\n",
       " 'range',\n",
       " 'repr',\n",
       " 'reversed',\n",
       " 'round',\n",
       " 'runfile',\n",
       " 'set',\n",
       " 'setattr',\n",
       " 'slice',\n",
       " 'sorted',\n",
       " 'staticmethod',\n",
       " 'str',\n",
       " 'sum',\n",
       " 'super',\n",
       " 'tuple',\n",
       " 'type',\n",
       " 'vars',\n",
       " 'zip']"
      ]
     },
     "execution_count": 6,
     "metadata": {},
     "output_type": "execute_result"
    }
   ],
   "source": [
    "# ad 1\n",
    "\n",
    "dir(__builtins__)"
   ]
  },
  {
   "cell_type": "code",
   "execution_count": 7,
   "id": "ee394cb5",
   "metadata": {},
   "outputs": [],
   "source": [
    "# ad 2\n",
    "\n",
    "a = 1"
   ]
  },
  {
   "cell_type": "markdown",
   "id": "44b9b4e2",
   "metadata": {},
   "source": [
    "### domknięcie"
   ]
  },
  {
   "cell_type": "code",
   "execution_count": 8,
   "id": "7f24757f",
   "metadata": {},
   "outputs": [
    {
     "name": "stdout",
     "output_type": "stream",
     "text": [
      "8\n",
      "10\n"
     ]
    }
   ],
   "source": [
    "\n",
    "def increment_factory(step):\n",
    "\n",
    "    def wrapper(liczba):\n",
    "        return liczba + step\n",
    "\n",
    "    return wrapper\n",
    "\n",
    "incr_by_3 = increment_factory(3)\n",
    "incr_by_5 = increment_factory(5)\n",
    "print(incr_by_3(5))\n",
    "print(incr_by_5(5))"
   ]
  },
  {
   "cell_type": "markdown",
   "id": "84b25ea1",
   "metadata": {},
   "source": [
    "## Dekorator\n"
   ]
  },
  {
   "cell_type": "code",
   "execution_count": 9,
   "id": "3fbbdf4c",
   "metadata": {},
   "outputs": [
    {
     "data": {
      "text/plain": [
       "'a'"
      ]
     },
     "execution_count": 9,
     "metadata": {},
     "output_type": "execute_result"
    }
   ],
   "source": [
    "\n",
    "\n",
    "def a():\n",
    "    ...\n",
    "    \n",
    "def b():\n",
    "    ...\n",
    "    \n",
    "a()  # wywołano a\n",
    "b()  # wywołano b\n",
    "\n",
    "\n",
    "a.__name__"
   ]
  },
  {
   "cell_type": "code",
   "execution_count": 10,
   "id": "f569ac7b",
   "metadata": {},
   "outputs": [
    {
     "data": {
      "text/plain": [
       "['__annotations__',\n",
       " '__builtins__',\n",
       " '__call__',\n",
       " '__class__',\n",
       " '__closure__',\n",
       " '__code__',\n",
       " '__defaults__',\n",
       " '__delattr__',\n",
       " '__dict__',\n",
       " '__dir__',\n",
       " '__doc__',\n",
       " '__eq__',\n",
       " '__format__',\n",
       " '__ge__',\n",
       " '__get__',\n",
       " '__getattribute__',\n",
       " '__globals__',\n",
       " '__gt__',\n",
       " '__hash__',\n",
       " '__init__',\n",
       " '__init_subclass__',\n",
       " '__kwdefaults__',\n",
       " '__le__',\n",
       " '__lt__',\n",
       " '__module__',\n",
       " '__name__',\n",
       " '__ne__',\n",
       " '__new__',\n",
       " '__qualname__',\n",
       " '__reduce__',\n",
       " '__reduce_ex__',\n",
       " '__repr__',\n",
       " '__setattr__',\n",
       " '__sizeof__',\n",
       " '__str__',\n",
       " '__subclasshook__']"
      ]
     },
     "execution_count": 10,
     "metadata": {},
     "output_type": "execute_result"
    }
   ],
   "source": [
    "dir(a)"
   ]
  },
  {
   "cell_type": "code",
   "execution_count": 27,
   "id": "1c4da5bf",
   "metadata": {},
   "outputs": [],
   "source": [
    "from functools import wraps\n",
    "def call_logger(func):\n",
    "    \n",
    "    @wraps(func)\n",
    "    def wrapper(*args, **kwargs):\n",
    "        \n",
    "        result = func(*args, **kwargs)\n",
    "        print(\"Wywołano\", func.__name__)\n",
    "        return result\n",
    "    \n",
    "#     wrapper.__doc__ = func.__doc__\n",
    "#     wrapper.__name__ = func.__name__\n",
    "    return wrapper"
   ]
  },
  {
   "cell_type": "code",
   "execution_count": 12,
   "id": "c194b2a3",
   "metadata": {},
   "outputs": [],
   "source": [
    "a()"
   ]
  },
  {
   "cell_type": "code",
   "execution_count": 13,
   "id": "ef24aed8",
   "metadata": {},
   "outputs": [],
   "source": [
    "a = call_logger(a)"
   ]
  },
  {
   "cell_type": "code",
   "execution_count": 14,
   "id": "6649e8be",
   "metadata": {},
   "outputs": [
    {
     "name": "stdout",
     "output_type": "stream",
     "text": [
      "Wywołano a\n"
     ]
    }
   ],
   "source": []
  },
  {
   "cell_type": "code",
   "execution_count": 28,
   "id": "20555c2a",
   "metadata": {},
   "outputs": [
    {
     "name": "stdout",
     "output_type": "stream",
     "text": [
      "Help on function c in module __main__:\n",
      "\n",
      "c()\n",
      "    to jest docstring\n",
      "\n"
     ]
    }
   ],
   "source": [
    "@call_logger\n",
    "def c():\n",
    "    \"\"\"to jest docstring\"\"\"\n",
    "    ...\n",
    "\n",
    "help(c)"
   ]
  },
  {
   "cell_type": "code",
   "execution_count": 29,
   "id": "c6d66269",
   "metadata": {},
   "outputs": [
    {
     "data": {
      "text/plain": [
       "{'__wrapped__': <function __main__.c()>}"
      ]
     },
     "execution_count": 29,
     "metadata": {},
     "output_type": "execute_result"
    }
   ],
   "source": [
    "c.__dict__"
   ]
  },
  {
   "cell_type": "code",
   "execution_count": null,
   "id": "92a9d66c",
   "metadata": {},
   "outputs": [],
   "source": []
  },
  {
   "cell_type": "code",
   "execution_count": 17,
   "id": "a20b8ec8",
   "metadata": {},
   "outputs": [
    {
     "name": "stdout",
     "output_type": "stream",
     "text": [
      "Ala ma kota\n"
     ]
    }
   ],
   "source": [
    "print(\"Ala ma kota\")"
   ]
  },
  {
   "cell_type": "markdown",
   "id": "315a5dc9",
   "metadata": {},
   "source": [
    "#### zadanie\n",
    "\n",
    "Zaimplementuj zestaw dekoratorów otaczających zwracany przez funkcję napis tagami HTML (pogrubienie, podkreślenie,\n",
    "przekreślenie):\n",
    "Przykład użycia:\n",
    "\n",
    "    #@bold\n",
    "    @italic\n",
    "    def foo(arg):\n",
    "        return f'To jest {arg}' \n",
    "        \n",
    "    foo(\"text\")\n",
    "    \n",
    "    <i></i>"
   ]
  }
 ],
 "metadata": {
  "kernelspec": {
   "display_name": "Python 3 (ipykernel)",
   "language": "python",
   "name": "python3"
  },
  "language_info": {
   "codemirror_mode": {
    "name": "ipython",
    "version": 3
   },
   "file_extension": ".py",
   "mimetype": "text/x-python",
   "name": "python",
   "nbconvert_exporter": "python",
   "pygments_lexer": "ipython3",
   "version": "3.10.1"
  }
 },
 "nbformat": 4,
 "nbformat_minor": 5
}
