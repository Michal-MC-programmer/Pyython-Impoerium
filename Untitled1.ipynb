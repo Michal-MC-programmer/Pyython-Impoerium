{
 "cells": [
  {
   "cell_type": "markdown",
   "id": "6d152ee7",
   "metadata": {},
   "source": [
    "## rekurencja cd.\n",
    "\n",
    "0! -> 1\n",
    "\n",
    "n! -> n * (n-1)!"
   ]
  },
  {
   "cell_type": "code",
   "execution_count": 1,
   "id": "90152d85",
   "metadata": {},
   "outputs": [
    {
     "data": {
      "text/plain": [
       "120"
      ]
     },
     "execution_count": 1,
     "metadata": {},
     "output_type": "execute_result"
    }
   ],
   "source": [
    "def silnia(n):\n",
    "    if n < 1:\n",
    "        return 1\n",
    "    return n * silnia(n-1)\n",
    "\n",
    "silnia(5)"
   ]
  },
  {
   "cell_type": "code",
   "execution_count": 2,
   "id": "7a536996",
   "metadata": {},
   "outputs": [
    {
     "name": "stdout",
     "output_type": "stream",
     "text": [
      "{'dodawanie': 6}\n",
      "{'add': 7, 'mul': 8}\n"
     ]
    }
   ],
   "source": [
    "def suma(*args):\n",
    "    return sum(args)\n",
    "\n",
    "def mul(*args):\n",
    "    x = 1\n",
    "    for i in args:\n",
    "        x *= i\n",
    "    return x\n",
    "\n",
    "def dzialania(*args, **kwargs):\n",
    "    wynik = {}\n",
    "    for dzialanie in kwargs:\n",
    "        x = kwargs[dzialanie](*args)\n",
    "        wynik[dzialanie] = x\n",
    "    return wynik\n",
    "\n",
    "\n",
    "print(dzialania(1, 2, 3, dodawanie=suma))\n",
    "print(dzialania(1, 2, 4, add=suma, mul=mul))"
   ]
  },
  {
   "cell_type": "markdown",
   "id": "66b61e36",
   "metadata": {},
   "source": [
    "#### zadanie 21\n",
    "\n",
    "Zaimplementuj funkcję formatującą podane napisy.\n",
    "\n",
    "Przykład użycia:\n",
    "\n",
    "     >>> formatuj(\n",
    "            'koszt $cena PLN',\n",
    "            'kwota $cena brutto. Podatek $podatek %',\n",
    "            cena=10,\n",
    "            podatek=23,\n",
    "            \n",
    "            )\n",
    "    'koszt 10 PLN\\nkwota 10 brutto. Podatek 23 %'"
   ]
  },
  {
   "cell_type": "code",
   "execution_count": 3,
   "id": "c25c539f",
   "metadata": {},
   "outputs": [
    {
     "name": "stdout",
     "output_type": "stream",
     "text": [
      "('koszt $cena PLN', 'kwota $cena brutto. Podatek $podatek %')\n",
      "{'cena': 10, 'podatek': 23}\n",
      "\n",
      "koszt 10 PLN\n",
      "kwota 10 brutto. Podatek 23 %\n"
     ]
    }
   ],
   "source": [
    "def formatuj(*args, **kwargs):\n",
    "    print(args)\n",
    "    print(kwargs)\n",
    "    \n",
    "    napis = \"\"\n",
    "    for n in args:\n",
    "        napis += \"\\n\"+n\n",
    "    \n",
    "    for klucz, text in kwargs.items():\n",
    "        napis = napis.replace('$' + klucz, str(text))\n",
    "    return napis\n",
    "    \n",
    "x =formatuj(\n",
    "    'koszt $cena PLN',\n",
    "    'kwota $cena brutto. Podatek $podatek %',\n",
    "    cena=10,\n",
    "    podatek=23,\n",
    ")\n",
    "print(x)"
   ]
  },
  {
   "cell_type": "code",
   "execution_count": 4,
   "id": "af795243",
   "metadata": {},
   "outputs": [
    {
     "data": {
      "text/plain": [
       "'podatek 10 %'"
      ]
     },
     "execution_count": 4,
     "metadata": {},
     "output_type": "execute_result"
    }
   ],
   "source": [
    "klucz = \"podatek\"\n",
    "\"podatek $podatek %\".replace('$' + klucz, str(10))"
   ]
  },
  {
   "cell_type": "code",
   "execution_count": 5,
   "id": "77ba9f1c",
   "metadata": {},
   "outputs": [
    {
     "ename": "SyntaxError",
     "evalue": "invalid syntax. Perhaps you forgot a comma? (Temp/ipykernel_8816/4284419487.py, line 10)",
     "output_type": "error",
     "traceback": [
      "\u001b[1;36m  File \u001b[1;32m\"C:\\Users\\SZB345~1\\AppData\\Local\\Temp/ipykernel_8816/4284419487.py\"\u001b[1;36m, line \u001b[1;32m10\u001b[0m\n\u001b[1;33m    \"login1\": [\"ma\"]\u001b[0m\n\u001b[1;37m              ^\u001b[0m\n\u001b[1;31mSyntaxError\u001b[0m\u001b[1;31m:\u001b[0m invalid syntax. Perhaps you forgot a comma?\n"
     ]
    }
   ],
   "source": [
    "\"ala ma kota\".replace('ma', \"x\")\n",
    "zamiany = {\n",
    "    \"ma\": \"nie ma\",\n",
    "    \"Ala\": \"Fala\"\n",
    "}\n",
    "\n",
    "ALLOWED_KEYS = [\"ma\"]\n",
    "\n",
    "user_keys = {\n",
    "    \"login1\": [\"ma\"]\n",
    "    \"login2\": [\"Ala\"]\n",
    "}\n",
    "\n",
    "def zamiana(text, **kwargs):\n",
    "    for slowo in kwargs:\n",
    "        if slowo in ALLOWED_KEYS:\n",
    "            \n",
    "            text = text.replace(slowo, kwargs[slowo])\n",
    "        \n",
    "    return text\n",
    "\n",
    "\n",
    "\n",
    "zamiana(\"Ala ma kota\", **zamiany) # -> zamiana(\"Ala ma kota\", ma=\"nie ma\", Ala=\"Fala\")\n",
    "\n",
    "\n",
    "zamiana(\"Ala ma kota\", ma=\"kocha\")"
   ]
  },
  {
   "cell_type": "code",
   "execution_count": null,
   "id": "13395ce4",
   "metadata": {},
   "outputs": [],
   "source": [
    "list(zamiany.items())[0]"
   ]
  },
  {
   "cell_type": "code",
   "execution_count": null,
   "id": "5ca33f53",
   "metadata": {},
   "outputs": [],
   "source": [
    "a, *b = 1, 2, 3, 4\n",
    "a, b"
   ]
  },
  {
   "cell_type": "code",
   "execution_count": null,
   "id": "a448e687",
   "metadata": {},
   "outputs": [],
   "source": [
    "*a, b = 1, 2, 3, 4\n",
    "a, b"
   ]
  },
  {
   "cell_type": "code",
   "execution_count": null,
   "id": "3bec920a",
   "metadata": {},
   "outputs": [],
   "source": [
    "a, *b, c = 1, 2, 3, 4\n",
    "a, b, c"
   ]
  },
  {
   "cell_type": "code",
   "execution_count": null,
   "id": "554026b9",
   "metadata": {},
   "outputs": [],
   "source": [
    "def funkcja(a=None, b=None):\n",
    "    print(a, b)"
   ]
  },
  {
   "cell_type": "code",
   "execution_count": null,
   "id": "aba7615d",
   "metadata": {},
   "outputs": [],
   "source": [
    "\n",
    "slownik = {'a': 10, 'b':20}\n",
    "\n",
    "\n",
    "funkcja(**slownik)"
   ]
  },
  {
   "cell_type": "code",
   "execution_count": null,
   "id": "8b37a595",
   "metadata": {},
   "outputs": [],
   "source": [
    "funkcja(a=10, b=20)"
   ]
  },
  {
   "cell_type": "code",
   "execution_count": null,
   "id": "861cf2e8",
   "metadata": {},
   "outputs": [],
   "source": [
    "def foo(*args):  # foo(1, 2)\n",
    "    pass\n",
    "\n",
    "foo(a=1, b=2)"
   ]
  },
  {
   "cell_type": "code",
   "execution_count": null,
   "id": "21ea7233",
   "metadata": {},
   "outputs": [],
   "source": [
    "def bar(**kwargs): pass\n",
    "\n",
    "\n",
    "bar(1, 2)"
   ]
  },
  {
   "cell_type": "code",
   "execution_count": null,
   "id": "54b9f5f5",
   "metadata": {},
   "outputs": [],
   "source": [
    "bar(a=1, b=2)"
   ]
  },
  {
   "cell_type": "markdown",
   "id": "0293604f",
   "metadata": {},
   "source": [
    "#### Zadanie domowe\n",
    "\n",
    "\n",
    "Zaimplementuj funkcję przycinającą listę na podstawie podanego warunku początkowego oraz końcowego:\n",
    "Przykład użycia:\n",
    "\n",
    "    >>> przytnij(\n",
    "            data=[1, 2, 3, 4, 5, 6, 7],\n",
    "            start=lambda x: x > 3,\n",
    "            stop=lambda x: x == 6, \n",
    "    )\n",
    "    [4, 5, 6]\n",
    "    "
   ]
  },
  {
   "cell_type": "code",
   "execution_count": null,
   "id": "c4092268",
   "metadata": {},
   "outputs": [],
   "source": [
    "def przytnij(data: list, start, stop):\n",
    "    \n",
    "    for el in data:\n",
    "        if start(el) ..."
   ]
  },
  {
   "cell_type": "markdown",
   "id": "514f630a",
   "metadata": {},
   "source": [
    "## Przestrzenie nazw\n",
    "\n",
    "1. przestrzen `__builtins__`\n",
    "2. przestrzen globalna\n",
    "3. przestrzen lokalna\n",
    "4. przestrzen nielokalna\n",
    "\n"
   ]
  },
  {
   "cell_type": "code",
   "execution_count": 6,
   "id": "d8ddcdb3",
   "metadata": {},
   "outputs": [
    {
     "data": {
      "text/plain": [
       "['ArithmeticError',\n",
       " 'AssertionError',\n",
       " 'AttributeError',\n",
       " 'BaseException',\n",
       " 'BlockingIOError',\n",
       " 'BrokenPipeError',\n",
       " 'BufferError',\n",
       " 'BytesWarning',\n",
       " 'ChildProcessError',\n",
       " 'ConnectionAbortedError',\n",
       " 'ConnectionError',\n",
       " 'ConnectionRefusedError',\n",
       " 'ConnectionResetError',\n",
       " 'DeprecationWarning',\n",
       " 'EOFError',\n",
       " 'Ellipsis',\n",
       " 'EncodingWarning',\n",
       " 'EnvironmentError',\n",
       " 'Exception',\n",
       " 'False',\n",
       " 'FileExistsError',\n",
       " 'FileNotFoundError',\n",
       " 'FloatingPointError',\n",
       " 'FutureWarning',\n",
       " 'GeneratorExit',\n",
       " 'IOError',\n",
       " 'ImportError',\n",
       " 'ImportWarning',\n",
       " 'IndentationError',\n",
       " 'IndexError',\n",
       " 'InterruptedError',\n",
       " 'IsADirectoryError',\n",
       " 'KeyError',\n",
       " 'KeyboardInterrupt',\n",
       " 'LookupError',\n",
       " 'MemoryError',\n",
       " 'ModuleNotFoundError',\n",
       " 'NameError',\n",
       " 'None',\n",
       " 'NotADirectoryError',\n",
       " 'NotImplemented',\n",
       " 'NotImplementedError',\n",
       " 'OSError',\n",
       " 'OverflowError',\n",
       " 'PendingDeprecationWarning',\n",
       " 'PermissionError',\n",
       " 'ProcessLookupError',\n",
       " 'RecursionError',\n",
       " 'ReferenceError',\n",
       " 'ResourceWarning',\n",
       " 'RuntimeError',\n",
       " 'RuntimeWarning',\n",
       " 'StopAsyncIteration',\n",
       " 'StopIteration',\n",
       " 'SyntaxError',\n",
       " 'SyntaxWarning',\n",
       " 'SystemError',\n",
       " 'SystemExit',\n",
       " 'TabError',\n",
       " 'TimeoutError',\n",
       " 'True',\n",
       " 'TypeError',\n",
       " 'UnboundLocalError',\n",
       " 'UnicodeDecodeError',\n",
       " 'UnicodeEncodeError',\n",
       " 'UnicodeError',\n",
       " 'UnicodeTranslateError',\n",
       " 'UnicodeWarning',\n",
       " 'UserWarning',\n",
       " 'ValueError',\n",
       " 'Warning',\n",
       " 'WindowsError',\n",
       " 'ZeroDivisionError',\n",
       " '__IPYTHON__',\n",
       " '__build_class__',\n",
       " '__debug__',\n",
       " '__doc__',\n",
       " '__import__',\n",
       " '__loader__',\n",
       " '__name__',\n",
       " '__package__',\n",
       " '__spec__',\n",
       " 'abs',\n",
       " 'aiter',\n",
       " 'all',\n",
       " 'anext',\n",
       " 'any',\n",
       " 'ascii',\n",
       " 'bin',\n",
       " 'bool',\n",
       " 'breakpoint',\n",
       " 'bytearray',\n",
       " 'bytes',\n",
       " 'callable',\n",
       " 'chr',\n",
       " 'classmethod',\n",
       " 'compile',\n",
       " 'complex',\n",
       " 'copyright',\n",
       " 'credits',\n",
       " 'delattr',\n",
       " 'dict',\n",
       " 'dir',\n",
       " 'display',\n",
       " 'divmod',\n",
       " 'enumerate',\n",
       " 'eval',\n",
       " 'exec',\n",
       " 'execfile',\n",
       " 'filter',\n",
       " 'float',\n",
       " 'format',\n",
       " 'frozenset',\n",
       " 'get_ipython',\n",
       " 'getattr',\n",
       " 'globals',\n",
       " 'hasattr',\n",
       " 'hash',\n",
       " 'help',\n",
       " 'hex',\n",
       " 'id',\n",
       " 'input',\n",
       " 'int',\n",
       " 'isinstance',\n",
       " 'issubclass',\n",
       " 'iter',\n",
       " 'len',\n",
       " 'license',\n",
       " 'list',\n",
       " 'locals',\n",
       " 'map',\n",
       " 'max',\n",
       " 'memoryview',\n",
       " 'min',\n",
       " 'next',\n",
       " 'object',\n",
       " 'oct',\n",
       " 'open',\n",
       " 'ord',\n",
       " 'pow',\n",
       " 'print',\n",
       " 'property',\n",
       " 'range',\n",
       " 'repr',\n",
       " 'reversed',\n",
       " 'round',\n",
       " 'runfile',\n",
       " 'set',\n",
       " 'setattr',\n",
       " 'slice',\n",
       " 'sorted',\n",
       " 'staticmethod',\n",
       " 'str',\n",
       " 'sum',\n",
       " 'super',\n",
       " 'tuple',\n",
       " 'type',\n",
       " 'vars',\n",
       " 'zip']"
      ]
     },
     "execution_count": 6,
     "metadata": {},
     "output_type": "execute_result"
    }
   ],
   "source": [
    "# ad 1\n",
    "\n",
    "dir(__builtins__)"
   ]
  },
  {
   "cell_type": "code",
   "execution_count": 7,
   "id": "4d23f178",
   "metadata": {},
   "outputs": [],
   "source": [
    "# ad 2\n",
    "\n",
    "a = 1"
   ]
  },
  {
   "cell_type": "markdown",
   "id": "aa316591",
   "metadata": {},
   "source": [
    "### domknięcie"
   ]
  },
  {
   "cell_type": "code",
   "execution_count": 8,
   "id": "68982087",
   "metadata": {},
   "outputs": [
    {
     "name": "stdout",
     "output_type": "stream",
     "text": [
      "8\n",
      "10\n"
     ]
    }
   ],
   "source": [
    "\n",
    "def increment_factory(step):\n",
    "\n",
    "    def wrapper(liczba):\n",
    "        return liczba + step\n",
    "\n",
    "    return wrapper\n",
    "\n",
    "incr_by_3 = increment_factory(3)\n",
    "incr_by_5 = increment_factory(5)\n",
    "print(incr_by_3(5))\n",
    "print(incr_by_5(5))"
   ]
  },
  {
   "cell_type": "markdown",
   "id": "af79b0b1",
   "metadata": {},
   "source": [
    "## Dekorator\n"
   ]
  },
  {
   "cell_type": "code",
   "execution_count": 9,
   "id": "f4798f0f",
   "metadata": {},
   "outputs": [
    {
     "data": {
      "text/plain": [
       "'a'"
      ]
     },
     "execution_count": 9,
     "metadata": {},
     "output_type": "execute_result"
    }
   ],
   "source": [
    "\n",
    "\n",
    "def a():\n",
    "    ...\n",
    "    \n",
    "def b():\n",
    "    ...\n",
    "    \n",
    "a()  # wywołano a\n",
    "b()  # wywołano b\n",
    "\n",
    "\n",
    "a.__name__"
   ]
  },
  {
   "cell_type": "code",
   "execution_count": 10,
   "id": "bcd380a8",
   "metadata": {},
   "outputs": [
    {
     "data": {
      "text/plain": [
       "['__annotations__',\n",
       " '__builtins__',\n",
       " '__call__',\n",
       " '__class__',\n",
       " '__closure__',\n",
       " '__code__',\n",
       " '__defaults__',\n",
       " '__delattr__',\n",
       " '__dict__',\n",
       " '__dir__',\n",
       " '__doc__',\n",
       " '__eq__',\n",
       " '__format__',\n",
       " '__ge__',\n",
       " '__get__',\n",
       " '__getattribute__',\n",
       " '__globals__',\n",
       " '__gt__',\n",
       " '__hash__',\n",
       " '__init__',\n",
       " '__init_subclass__',\n",
       " '__kwdefaults__',\n",
       " '__le__',\n",
       " '__lt__',\n",
       " '__module__',\n",
       " '__name__',\n",
       " '__ne__',\n",
       " '__new__',\n",
       " '__qualname__',\n",
       " '__reduce__',\n",
       " '__reduce_ex__',\n",
       " '__repr__',\n",
       " '__setattr__',\n",
       " '__sizeof__',\n",
       " '__str__',\n",
       " '__subclasshook__']"
      ]
     },
     "execution_count": 10,
     "metadata": {},
     "output_type": "execute_result"
    }
   ],
   "source": [
    "dir(a)"
   ]
  },
  {
   "cell_type": "code",
   "execution_count": 27,
   "id": "eb92f3c0",
   "metadata": {},
   "outputs": [],
   "source": [
    "from functools import wraps\n",
    "def call_logger(func):\n",
    "    \n",
    "    @wraps(func)\n",
    "    def wrapper(*args, **kwargs):\n",
    "        \n",
    "        result = func(*args, **kwargs)\n",
    "        print(\"Wywołano\", func.__name__)\n",
    "        return result\n",
    "    \n",
    "#     wrapper.__doc__ = func.__doc__\n",
    "#     wrapper.__name__ = func.__name__\n",
    "    return wrapper"
   ]
  },
  {
   "cell_type": "code",
   "execution_count": 12,
   "id": "4161ef4f",
   "metadata": {},
   "outputs": [],
   "source": [
    "a()"
   ]
  },
  {
   "cell_type": "code",
   "execution_count": 13,
   "id": "5c7386a3",
   "metadata": {},
   "outputs": [],
   "source": [
    "a = call_logger(a)"
   ]
  },
  {
   "cell_type": "code",
   "execution_count": 14,
   "id": "4e100381",
   "metadata": {},
   "outputs": [
    {
     "name": "stdout",
     "output_type": "stream",
     "text": [
      "Wywołano a\n"
     ]
    }
   ],
   "source": []
  },
  {
   "cell_type": "code",
   "execution_count": 28,
   "id": "a582e4c0",
   "metadata": {},
   "outputs": [
    {
     "name": "stdout",
     "output_type": "stream",
     "text": [
      "Help on function c in module __main__:\n",
      "\n",
      "c()\n",
      "    to jest docstring\n",
      "\n"
     ]
    }
   ],
   "source": [
    "@call_logger\n",
    "def c():\n",
    "    \"\"\"to jest docstring\"\"\"\n",
    "    ...\n",
    "\n",
    "help(c)"
   ]
  },
  {
   "cell_type": "code",
   "execution_count": 29,
   "id": "db00361f",
   "metadata": {},
   "outputs": [
    {
     "data": {
      "text/plain": [
       "{'__wrapped__': <function __main__.c()>}"
      ]
     },
     "execution_count": 29,
     "metadata": {},
     "output_type": "execute_result"
    }
   ],
   "source": [
    "c.__dict__"
   ]
  },
  {
   "cell_type": "code",
   "execution_count": null,
   "id": "350082e7",
   "metadata": {},
   "outputs": [],
   "source": []
  },
  {
   "cell_type": "code",
   "execution_count": 17,
   "id": "92819f81",
   "metadata": {},
   "outputs": [
    {
     "name": "stdout",
     "output_type": "stream",
     "text": [
      "Ala ma kota\n"
     ]
    }
   ],
   "source": [
    "print(\"Ala ma kota\")"
   ]
  },
  {
   "cell_type": "markdown",
   "id": "607bf0ea",
   "metadata": {},
   "source": [
    "#### zadanie\n",
    "\n",
    "Zaimplementuj zestaw dekoratorów otaczających zwracany przez funkcję napis tagami HTML (pogrubienie, podkreślenie,\n",
    "przekreślenie):\n",
    "Przykład użycia:\n",
    "\n",
    "    def italic(func):\n",
    "    \n",
    "       def wrapper()\n",
    "\n",
    "    #@bold\n",
    "    @italic\n",
    "    def foo(arg):\n",
    "        return f'To jest {arg}' \n",
    "        \n",
    "    foo(\"text\")\n",
    "    \n",
    "    <i>To jest text</i>"
   ]
  },
  {
   "cell_type": "code",
   "execution_count": 33,
   "id": "e72e5333",
   "metadata": {},
   "outputs": [
    {
     "data": {
      "text/plain": [
       "'<i>To jest text</i>'"
      ]
     },
     "execution_count": 33,
     "metadata": {},
     "output_type": "execute_result"
    }
   ],
   "source": [
    "from functools import wraps\n",
    "def italic(func):\n",
    "    \n",
    "    @wraps(func)\n",
    "    def wrapper(*args, **kwargs):\n",
    "        \n",
    "        result = func(*args, **kwargs)\n",
    "        return f\"<i>{result}</i>\"\n",
    "    \n",
    "    return wrapper\n",
    "\n",
    "@italic\n",
    "def foo(arg):\n",
    "    return f'To jest {arg}' \n",
    "\n",
    "foo(\"text\")"
   ]
  },
  {
   "cell_type": "markdown",
   "id": "e0e04e4d",
   "metadata": {},
   "source": [
    "# OOP"
   ]
  },
  {
   "cell_type": "code",
   "execution_count": 35,
   "id": "2a4b7a0c",
   "metadata": {},
   "outputs": [],
   "source": [
    "class Osoba:\n",
    "    pass"
   ]
  },
  {
   "cell_type": "code",
   "execution_count": 36,
   "id": "f7858a58",
   "metadata": {},
   "outputs": [],
   "source": [
    "piotrek = Osoba()"
   ]
  },
  {
   "cell_type": "code",
   "execution_count": 37,
   "id": "14cb57e2",
   "metadata": {},
   "outputs": [
    {
     "data": {
      "text/plain": [
       "<__main__.Osoba at 0x267bf5caef0>"
      ]
     },
     "execution_count": 37,
     "metadata": {},
     "output_type": "execute_result"
    }
   ],
   "source": [
    "piotrek"
   ]
  },
  {
   "cell_type": "code",
   "execution_count": 38,
   "id": "d83c2214",
   "metadata": {},
   "outputs": [],
   "source": [
    "piotrek.wiek = 34"
   ]
  },
  {
   "cell_type": "code",
   "execution_count": 39,
   "id": "1379225b",
   "metadata": {},
   "outputs": [
    {
     "data": {
      "text/plain": [
       "34"
      ]
     },
     "execution_count": 39,
     "metadata": {},
     "output_type": "execute_result"
    }
   ],
   "source": [
    "piotrek.wiek"
   ]
  },
  {
   "cell_type": "code",
   "execution_count": 40,
   "id": "97ca2072",
   "metadata": {},
   "outputs": [
    {
     "ename": "AttributeError",
     "evalue": "'Osoba' object has no attribute 'imie'",
     "output_type": "error",
     "traceback": [
      "\u001b[1;31m---------------------------------------------------------------------------\u001b[0m",
      "\u001b[1;31mAttributeError\u001b[0m                            Traceback (most recent call last)",
      "\u001b[1;32mC:\\Users\\SZB345~1\\AppData\\Local\\Temp/ipykernel_8816/4006084156.py\u001b[0m in \u001b[0;36m<module>\u001b[1;34m\u001b[0m\n\u001b[1;32m----> 1\u001b[1;33m \u001b[0mpiotrek\u001b[0m\u001b[1;33m.\u001b[0m\u001b[0mimie\u001b[0m\u001b[1;33m\u001b[0m\u001b[1;33m\u001b[0m\u001b[0m\n\u001b[0m",
      "\u001b[1;31mAttributeError\u001b[0m: 'Osoba' object has no attribute 'imie'"
     ]
    }
   ],
   "source": [
    "piotrek.imie"
   ]
  },
  {
   "cell_type": "code",
   "execution_count": 51,
   "id": "b916ea7a",
   "metadata": {},
   "outputs": [
    {
     "data": {
      "text/plain": [
       "46"
      ]
     },
     "execution_count": 51,
     "metadata": {},
     "output_type": "execute_result"
    }
   ],
   "source": [
    "class Osoba:\n",
    "    gatunek = \"Homo Sapiens\"\n",
    "    \n",
    "    def __init__(self, imie, rok_ur, wzrost, waga, *args, **kwargs):\n",
    "        # atrybuty instancji\n",
    "        self.imie = imie\n",
    "        self.rok_ur = rok_ur\n",
    "        self.wzrost = wzrost\n",
    "        self.waga = waga\n",
    "        self.args = args\n",
    "        self.kwargs = kwargs\n",
    "    \n",
    "    def bmi(self):\n",
    "        return self.waga / (self.wzrost / 100) ** 2\n",
    "        \n",
    "piotrek = Osoba(\"Piotr\", 1986, 181, 82)\n",
    "\n",
    "piotrek.waga\n",
    "\n",
    "maria = Osoba(\"Maria\", 1990, 162, 46)\n",
    "\n",
    "maria.waga\n",
    "\n",
    "maria.kolor_wlosow = \"braz\""
   ]
  },
  {
   "cell_type": "code",
   "execution_count": 49,
   "id": "1ff1d6b7",
   "metadata": {},
   "outputs": [
    {
     "data": {
      "text/plain": [
       "17.527815881725342"
      ]
     },
     "execution_count": 49,
     "metadata": {},
     "output_type": "execute_result"
    }
   ],
   "source": [
    "maria.bmi()"
   ]
  },
  {
   "cell_type": "code",
   "execution_count": 50,
   "id": "91fa9655",
   "metadata": {},
   "outputs": [
    {
     "data": {
      "text/plain": [
       "17.527815881725342"
      ]
     },
     "execution_count": 50,
     "metadata": {},
     "output_type": "execute_result"
    }
   ],
   "source": [
    "Osoba.bmi(maria)"
   ]
  },
  {
   "cell_type": "code",
   "execution_count": 52,
   "id": "933fe388",
   "metadata": {},
   "outputs": [
    {
     "data": {
      "text/plain": [
       "'Homo Sapiens'"
      ]
     },
     "execution_count": 52,
     "metadata": {},
     "output_type": "execute_result"
    }
   ],
   "source": [
    "maria.gatunek"
   ]
  },
  {
   "cell_type": "code",
   "execution_count": 53,
   "id": "a78ebd22",
   "metadata": {},
   "outputs": [
    {
     "data": {
      "text/plain": [
       "'Homo Sapiens'"
      ]
     },
     "execution_count": 53,
     "metadata": {},
     "output_type": "execute_result"
    }
   ],
   "source": [
    "piotrek.gatunek"
   ]
  },
  {
   "cell_type": "code",
   "execution_count": 54,
   "id": "de7badfa",
   "metadata": {},
   "outputs": [
    {
     "data": {
      "text/plain": [
       "'Homo Sapiens'"
      ]
     },
     "execution_count": 54,
     "metadata": {},
     "output_type": "execute_result"
    }
   ],
   "source": [
    "Osoba.gatunek"
   ]
  },
  {
   "cell_type": "code",
   "execution_count": 55,
   "id": "684ed2b7",
   "metadata": {},
   "outputs": [
    {
     "data": {
      "text/plain": [
       "'Homo Nean..'"
      ]
     },
     "execution_count": 55,
     "metadata": {},
     "output_type": "execute_result"
    }
   ],
   "source": [
    "Osoba.gatunek = \"Homo Nean..\"\n",
    "\n",
    "maria.gatunek"
   ]
  },
  {
   "cell_type": "markdown",
   "id": "3cd24c9d",
   "metadata": {},
   "source": [
    "#### Zadanie\n",
    "\n",
    "Zaimplementuj klasę Product przechowującą informację o cenie, nazwie oraz ID produktu. Zaimplementuj metodę wypisującą\n",
    "informację o produkcie na konsolę. Przykład użycia:\n",
    "\n",
    "    >>> product = Product(1, 'Woda', 10.99)\n",
    "    >>> product.print_info()\n",
    "    Produkt \"Woda\", id: 1, cena: 10.99 PLN"
   ]
  },
  {
   "cell_type": "code",
   "execution_count": 56,
   "id": "8ddbf987",
   "metadata": {},
   "outputs": [
    {
     "name": "stdout",
     "output_type": "stream",
     "text": [
      "Proukt \"Woda\", id: 1, cena: 10 PLN\n"
     ]
    }
   ],
   "source": [
    "class Product:\n",
    "    \n",
    "    def __init__(self, id, nazwa, cena):\n",
    "        self.id = id\n",
    "        self.nazwa = nazwa\n",
    "        self.cena = cena\n",
    "        \n",
    "    \n",
    "    def print_info(self):\n",
    "        print(f'Produkt \"{self.nazwa}\", id: {self.id}, cena: {self.cena} PLN')\n",
    "        \n",
    "\n",
    "woda = Product(1, \"Woda\", 10)\n",
    "woda.print_info()"
   ]
  },
  {
   "cell_type": "markdown",
   "id": "ff996b7d",
   "metadata": {},
   "source": [
    "#### Zadnie 23\n",
    "\n",
    "Zaimplementuj klasę Employee umożliwiającą rejestrowanie czasu pracy oraz wypłacanie pensji na podstawie zadanej stawki\n",
    "godzinowej. Jeżeli pracownik będzie pracował więcej niż 8 godzin (podczas pojedynczej rejestracji czasu) to kolejne\n",
    "godziny policz jako nadgodziny (z podwójną stawką godzinową). Przykład użycia:\n",
    "\n",
    "    >>> employee = Employee('Jan', 'Nowak', 100.0)\n",
    "    >>> employee.register_time(5)\n",
    "    >>> employee.pay_salary()\n",
    "    500.0\n",
    "    >>> employee.pay_salary()\n",
    "    0.0\n",
    "    >>> employee.register_time(10)\n",
    "    >>> employee.pay_salary()\n",
    "    1200.0"
   ]
  },
  {
   "cell_type": "code",
   "execution_count": 150,
   "id": "a2901423",
   "metadata": {},
   "outputs": [],
   "source": [
    "class Employee:\n",
    "    \n",
    "    def __init__(self, first_name, last_name, rate_per_hour):\n",
    "        self.first_name = first_name\n",
    "        self.last_name = last_name\n",
    "        self.rate_per_hour = rate_per_hour\n",
    "        self.worked_hours = 0\n",
    "        \n",
    "        \n",
    "    def register_time(self, hours):\n",
    "        self.worked_hours = hours\n",
    "        \n",
    "    def pay_salary(self):\n",
    "        \n",
    "        if self.worked_hours > 8:\n",
    "            to_pay = 8 * self.rate_per_hour + (self.worked_hours - 8) * 2 * self.rate_per_hour\n",
    "        else:\n",
    "            to_pay = self.worked_hours * self.rate_per_hour\n",
    "        self.worked_hours = 0\n",
    "        return to_pay    \n",
    "    \n",
    "    def foo(self):\n",
    "        return self.worked_hours\n",
    "\n",
    "\n",
    "    \n",
    "class PremiumEmployee(Employee):\n",
    "    \n",
    "      \n",
    "    def __init__(self, first_name, last_name, rate_per_hour):\n",
    "        super().__init__(first_name, last_name, rate_per_hour)\n",
    "        self.bonuses = []\n",
    "        \n",
    "    def pay_salary(self):\n",
    "        to_pay = super().pay_salary()\n",
    "        to_pay += sum(self.bonuses)\n",
    "        self.bonuses = []\n",
    "        return to_pay\n",
    "    \n",
    "    def give_bonus(self, bonus):\n",
    "        self.bonuses.append(bonus)\n",
    "\n"
   ]
  },
  {
   "cell_type": "code",
   "execution_count": 151,
   "id": "9c6e19db",
   "metadata": {},
   "outputs": [
    {
     "data": {
      "text/plain": [
       "0"
      ]
     },
     "execution_count": 151,
     "metadata": {},
     "output_type": "execute_result"
    }
   ],
   "source": [
    "employee = Employee('Jan', 'Nowak', 100.0)\n",
    "employee.register_time(5)\n",
    "employee.pay_salary()\n",
    "employee.foo()\n",
    "\n",
    "Employee.foo(employee)"
   ]
  },
  {
   "cell_type": "code",
   "execution_count": 152,
   "id": "12e4434b",
   "metadata": {},
   "outputs": [],
   "source": [
    "pe = PremiumEmployee('Jan', 'Nowak', 100.0)\n",
    "\n",
    "pe.give_bonus(500)\n",
    "assert pe.pay_salary() == 500"
   ]
  },
  {
   "cell_type": "code",
   "execution_count": 140,
   "id": "02298581",
   "metadata": {},
   "outputs": [
    {
     "data": {
      "text/plain": [
       "0.0"
      ]
     },
     "execution_count": 140,
     "metadata": {},
     "output_type": "execute_result"
    }
   ],
   "source": [
    "employee.pay_salary()"
   ]
  },
  {
   "cell_type": "code",
   "execution_count": 62,
   "id": "ddad55fb",
   "metadata": {},
   "outputs": [],
   "source": [
    "lista = []\n",
    "def xxx(a, b, c):\n",
    "    \n",
    "    lista.extend([a, b, c, 0])\n",
    "    \n",
    "xxx(5, 5, 5)"
   ]
  },
  {
   "cell_type": "code",
   "execution_count": 63,
   "id": "081c9332",
   "metadata": {},
   "outputs": [
    {
     "data": {
      "text/plain": [
       "[5, 5, 5, 0]"
      ]
     },
     "execution_count": 63,
     "metadata": {},
     "output_type": "execute_result"
    }
   ],
   "source": [
    "lista"
   ]
  },
  {
   "cell_type": "markdown",
   "id": "53a22dae",
   "metadata": {},
   "source": [
    "#### #### Zadanie\n",
    "\n",
    "Zaimplementuj klasę CashMachine umożliwiającą wpłacanie i wypłacanie pieniędzy. Zadbaj o to aby stan bankomatu\n",
    "przetrzymywany był w zmiennych prywatnych. Przykład użycia:\n",
    "\n",
    "    >>> cash_machine = CashMachine()\n",
    "    >>> cash_machine.is_available\n",
    "    False\n",
    "    >>> cash_machine.put_money([200, 100, 100, 50])\n",
    "    >>> cash_machine.is_available\n",
    "    True\n",
    "    >>> cash_machine.withdraw_money(150)\n",
    "    [100, 50]"
   ]
  },
  {
   "cell_type": "code",
   "execution_count": 87,
   "id": "86144f8f",
   "metadata": {},
   "outputs": [
    {
     "data": {
      "text/plain": [
       "[]"
      ]
     },
     "execution_count": 87,
     "metadata": {},
     "output_type": "execute_result"
    }
   ],
   "source": [
    "class CashMachine:\n",
    "    \n",
    "    def __init__(self):\n",
    "        self.bills = []\n",
    "        \n",
    "    def put_money(self, bills):\n",
    "        \n",
    "        self.bills.extend(bills)\n",
    "\n",
    "    @property    \n",
    "    def is_available(self):\n",
    "        return bool(self.bills)\n",
    "    \n",
    "    def withdraw_money(self, amount):\n",
    "        \n",
    "        to_withadraw = []\n",
    "        \n",
    "        for bill in sorted(self.bills, reverse=True):\n",
    "            if sum(to_withadraw) + bill < amount:\n",
    "                to_withadraw.append(bill)\n",
    "        \n",
    "        if sum(to_withadraw) == amount:\n",
    "            for bill in to_withadraw:\n",
    "                self.bills.remove(bill)\n",
    "            return to_withadraw\n",
    "        \n",
    "        return []\n",
    "        \n",
    "        \n",
    "cash_machine = CashMachine()\n",
    "cash_machine.is_available\n",
    "cash_machine.put_money([200, 100, 100, 50])\n",
    "assert cash_machine.is_available\n",
    "\n",
    "cash_machine.withdraw_money(150)\n",
    "#[100, 50]"
   ]
  },
  {
   "cell_type": "markdown",
   "id": "a9f3f3e1",
   "metadata": {},
   "source": [
    "#### Zadanie\n",
    "\n",
    "Zaimplementuj klasę Vector dostarczającą funkcjonalność wektora swobodnego na dwuwymiarowej płaszczyźnie. Wektory\n",
    "powinny mieć możliwość dodawania, odejmowania, mnożenia (przez inny wektor i przez liczbę), porównywania (po długości)\n",
    "oraz powinny posiadać czytelną reprezentację napisową. Przykład użycia:\n",
    "\n",
    "\n",
    "    vector_1 = Vector(x=1, y=2)\n",
    "    vector_2 = Vector(x=1, y=2)\n",
    "    vector_3 = vector_1 + vector_2"
   ]
  },
  {
   "cell_type": "code",
   "execution_count": 129,
   "id": "13e7bdc2",
   "metadata": {},
   "outputs": [],
   "source": [
    "class Vector:\n",
    "    def __init__(self, x, y):\n",
    "        self.x = x\n",
    "        self.y = y\n",
    "    \n",
    "    def __add__(self, other):\n",
    "        return Vector(self.x + other.x, self.y + other.y)\n",
    "    \n",
    "    \n",
    "    def __mul__(self, other):\n",
    "        if isinstance(other, int):\n",
    "            return Vector(self.x * other, self.y*other)\n",
    "\n",
    "        return NotImplemented   \n",
    "    \n",
    "    def __rmul__(self, other):\n",
    "        return self.__mul__(other)\n",
    "    \n",
    "    def __eq__(self, other):\n",
    "        return self.x == other.x and self.y == other.y\n",
    "    \n",
    "    def __str__(self):\n",
    "        \n",
    "        return f\"<Vector x:{self.x}, y:{self.y}>\"\n",
    "    \n",
    "    def __repr__(self):\n",
    "        return str(self)\n",
    "        "
   ]
  },
  {
   "cell_type": "code",
   "execution_count": 130,
   "id": "735e72de",
   "metadata": {},
   "outputs": [
    {
     "data": {
      "text/plain": [
       "'[<Vector x:3, y:3>]'"
      ]
     },
     "execution_count": 130,
     "metadata": {},
     "output_type": "execute_result"
    }
   ],
   "source": [
    "v1 = Vector(1, 1)\n",
    "v2 = Vector(2, 2)\n",
    "\n",
    "assert v1 + v2 == Vector(3, 3) \n",
    "str([v1 + v2])"
   ]
  },
  {
   "cell_type": "code",
   "execution_count": 131,
   "id": "32ce41f2",
   "metadata": {},
   "outputs": [
    {
     "data": {
      "text/plain": [
       "<Vector x:3, y:3>"
      ]
     },
     "execution_count": 131,
     "metadata": {},
     "output_type": "execute_result"
    }
   ],
   "source": [
    "3 * v1"
   ]
  },
  {
   "cell_type": "code",
   "execution_count": 132,
   "id": "26635eb4",
   "metadata": {},
   "outputs": [
    {
     "ename": "AttributeError",
     "evalue": "'super' object has no attribute '__mul__'",
     "output_type": "error",
     "traceback": [
      "\u001b[1;31m---------------------------------------------------------------------------\u001b[0m",
      "\u001b[1;31mAttributeError\u001b[0m                            Traceback (most recent call last)",
      "\u001b[1;32mC:\\Users\\SZB345~1\\AppData\\Local\\Temp/ipykernel_8816/3270999739.py\u001b[0m in \u001b[0;36m<module>\u001b[1;34m\u001b[0m\n\u001b[1;32m----> 1\u001b[1;33m \u001b[0mv1\u001b[0m \u001b[1;33m*\u001b[0m \u001b[0mv2\u001b[0m\u001b[1;33m\u001b[0m\u001b[1;33m\u001b[0m\u001b[0m\n\u001b[0m",
      "\u001b[1;32mC:\\Users\\SZB345~1\\AppData\\Local\\Temp/ipykernel_8816/597532758.py\u001b[0m in \u001b[0;36m__mul__\u001b[1;34m(self, other)\u001b[0m\n\u001b[0;32m     11\u001b[0m         \u001b[1;32mif\u001b[0m \u001b[0misinstance\u001b[0m\u001b[1;33m(\u001b[0m\u001b[0mother\u001b[0m\u001b[1;33m,\u001b[0m \u001b[0mint\u001b[0m\u001b[1;33m)\u001b[0m\u001b[1;33m:\u001b[0m\u001b[1;33m\u001b[0m\u001b[1;33m\u001b[0m\u001b[0m\n\u001b[0;32m     12\u001b[0m             \u001b[1;32mreturn\u001b[0m \u001b[0mVector\u001b[0m\u001b[1;33m(\u001b[0m\u001b[0mself\u001b[0m\u001b[1;33m.\u001b[0m\u001b[0mx\u001b[0m \u001b[1;33m*\u001b[0m \u001b[0mother\u001b[0m\u001b[1;33m,\u001b[0m \u001b[0mself\u001b[0m\u001b[1;33m.\u001b[0m\u001b[0my\u001b[0m\u001b[1;33m*\u001b[0m\u001b[0mother\u001b[0m\u001b[1;33m)\u001b[0m\u001b[1;33m\u001b[0m\u001b[1;33m\u001b[0m\u001b[0m\n\u001b[1;32m---> 13\u001b[1;33m         \u001b[0msuper\u001b[0m\u001b[1;33m(\u001b[0m\u001b[1;33m)\u001b[0m\u001b[1;33m.\u001b[0m\u001b[0m__mul__\u001b[0m\u001b[1;33m(\u001b[0m\u001b[0mother\u001b[0m\u001b[1;33m)\u001b[0m\u001b[1;33m\u001b[0m\u001b[1;33m\u001b[0m\u001b[0m\n\u001b[0m\u001b[0;32m     14\u001b[0m \u001b[1;31m#         return NotImplemented\u001b[0m\u001b[1;33m\u001b[0m\u001b[1;33m\u001b[0m\u001b[0m\n\u001b[0;32m     15\u001b[0m \u001b[1;33m\u001b[0m\u001b[0m\n",
      "\u001b[1;31mAttributeError\u001b[0m: 'super' object has no attribute '__mul__'"
     ]
    }
   ],
   "source": [
    "v1 * v2"
   ]
  },
  {
   "cell_type": "code",
   "execution_count": 153,
   "id": "be915124",
   "metadata": {},
   "outputs": [
    {
     "name": "stdout",
     "output_type": "stream",
     "text": [
      "b\n",
      "c\n",
      "d\n"
     ]
    }
   ],
   "source": [
    "class B:\n",
    "    def b(self):\n",
    "        print('b')\n",
    "\n",
    "\n",
    "class C:\n",
    "    def c(self):\n",
    "        print('c')\n",
    "\n",
    "\n",
    "class D(B, C):\n",
    "    def d(self):\n",
    "        print('d')\n",
    "\n",
    "\n",
    "d = D()\n",
    "d.b()\n",
    "d.c()\n",
    "d.d()"
   ]
  },
  {
   "cell_type": "code",
   "execution_count": 158,
   "id": "8c437e28",
   "metadata": {},
   "outputs": [
    {
     "ename": "TypeError",
     "evalue": "Cannot create a consistent method resolution\norder (MRO) for bases B, C",
     "output_type": "error",
     "traceback": [
      "\u001b[1;31m---------------------------------------------------------------------------\u001b[0m",
      "\u001b[1;31mTypeError\u001b[0m                                 Traceback (most recent call last)",
      "\u001b[1;32mC:\\Users\\SZB345~1\\AppData\\Local\\Temp/ipykernel_8816/3251091132.py\u001b[0m in \u001b[0;36m<module>\u001b[1;34m\u001b[0m\n\u001b[0;32m     12\u001b[0m         \u001b[0mprint\u001b[0m\u001b[1;33m(\u001b[0m\u001b[1;34m'x z c'\u001b[0m\u001b[1;33m)\u001b[0m\u001b[1;33m\u001b[0m\u001b[1;33m\u001b[0m\u001b[0m\n\u001b[0;32m     13\u001b[0m \u001b[1;33m\u001b[0m\u001b[0m\n\u001b[1;32m---> 14\u001b[1;33m \u001b[1;32mclass\u001b[0m \u001b[0mD\u001b[0m\u001b[1;33m(\u001b[0m\u001b[0mB\u001b[0m\u001b[1;33m,\u001b[0m \u001b[0mC\u001b[0m\u001b[1;33m)\u001b[0m\u001b[1;33m:\u001b[0m\u001b[1;33m\u001b[0m\u001b[1;33m\u001b[0m\u001b[0m\n\u001b[0m\u001b[0;32m     15\u001b[0m     \u001b[1;32mdef\u001b[0m \u001b[0md\u001b[0m\u001b[1;33m(\u001b[0m\u001b[0mself\u001b[0m\u001b[1;33m)\u001b[0m\u001b[1;33m:\u001b[0m\u001b[1;33m\u001b[0m\u001b[1;33m\u001b[0m\u001b[0m\n\u001b[0;32m     16\u001b[0m         \u001b[0mprint\u001b[0m\u001b[1;33m(\u001b[0m\u001b[1;34m'd'\u001b[0m\u001b[1;33m)\u001b[0m\u001b[1;33m\u001b[0m\u001b[1;33m\u001b[0m\u001b[0m\n",
      "\u001b[1;31mTypeError\u001b[0m: Cannot create a consistent method resolution\norder (MRO) for bases B, C"
     ]
    }
   ],
   "source": [
    "\n",
    "class B:\n",
    "    def b(self):\n",
    "        print('b')\n",
    "\n",
    "    def x(self):\n",
    "        print('x z b')\n",
    "\n",
    "class C(B):\n",
    "    def c(self):\n",
    "        print('c')\n",
    "    def x(self):\n",
    "        print('x z c')\n",
    "\n",
    "class D(B, C):\n",
    "    def d(self):\n",
    "        print('d')\n",
    "\n",
    "\n",
    "# d = D()\n",
    "# d.b()\n",
    "# d.c()\n",
    "# d.d()\n",
    "# d.x()"
   ]
  },
  {
   "cell_type": "code",
   "execution_count": 159,
   "id": "d74a9352",
   "metadata": {},
   "outputs": [
    {
     "name": "stdout",
     "output_type": "stream",
     "text": [
      "b\n",
      "c\n",
      "d\n",
      "x z b\n"
     ]
    },
    {
     "data": {
      "text/plain": [
       "[__main__.D, __main__.B, __main__.C, object]"
      ]
     },
     "execution_count": 159,
     "metadata": {},
     "output_type": "execute_result"
    }
   ],
   "source": [
    "class B:\n",
    "    def b(self):\n",
    "        print('b')\n",
    "\n",
    "    def x(self):\n",
    "        print('x z b')\n",
    "\n",
    "class C():\n",
    "    def c(self):\n",
    "        print('c')\n",
    "    def x(self):\n",
    "        print('x z c')\n",
    "\n",
    "class D(B, C):\n",
    "    def d(self):\n",
    "        print('d')\n",
    "\n",
    "\n",
    "d = D()\n",
    "d.b()\n",
    "d.c()\n",
    "d.d()\n",
    "d.x()\n",
    "\n",
    "D.mro()"
   ]
  },
  {
   "cell_type": "code",
   "execution_count": 161,
   "id": "eebd1d62",
   "metadata": {},
   "outputs": [
    {
     "data": {
      "text/plain": [
       "['__class__',\n",
       " '__delattr__',\n",
       " '__dir__',\n",
       " '__doc__',\n",
       " '__eq__',\n",
       " '__format__',\n",
       " '__ge__',\n",
       " '__getattribute__',\n",
       " '__gt__',\n",
       " '__hash__',\n",
       " '__init__',\n",
       " '__init_subclass__',\n",
       " '__le__',\n",
       " '__lt__',\n",
       " '__ne__',\n",
       " '__new__',\n",
       " '__reduce__',\n",
       " '__reduce_ex__',\n",
       " '__repr__',\n",
       " '__setattr__',\n",
       " '__sizeof__',\n",
       " '__str__',\n",
       " '__subclasshook__']"
      ]
     },
     "execution_count": 161,
     "metadata": {},
     "output_type": "execute_result"
    }
   ],
   "source": [
    "dir(object)"
   ]
  },
  {
   "cell_type": "code",
   "execution_count": 162,
   "id": "a0b45647",
   "metadata": {},
   "outputs": [
    {
     "ename": "AttributeError",
     "evalue": "'D' object has no attribute 'xxx'",
     "output_type": "error",
     "traceback": [
      "\u001b[1;31m---------------------------------------------------------------------------\u001b[0m",
      "\u001b[1;31mAttributeError\u001b[0m                            Traceback (most recent call last)",
      "\u001b[1;32mC:\\Users\\SZB345~1\\AppData\\Local\\Temp/ipykernel_8816/2967494323.py\u001b[0m in \u001b[0;36m<module>\u001b[1;34m\u001b[0m\n\u001b[1;32m----> 1\u001b[1;33m \u001b[0md\u001b[0m\u001b[1;33m.\u001b[0m\u001b[0mxxx\u001b[0m\u001b[1;33m(\u001b[0m\u001b[1;33m)\u001b[0m\u001b[1;33m\u001b[0m\u001b[1;33m\u001b[0m\u001b[0m\n\u001b[0m",
      "\u001b[1;31mAttributeError\u001b[0m: 'D' object has no attribute 'xxx'"
     ]
    }
   ],
   "source": [
    "d.xxx()"
   ]
  },
  {
   "cell_type": "code",
   "execution_count": 163,
   "id": "e00f6118",
   "metadata": {},
   "outputs": [
    {
     "data": {
      "text/plain": [
       "'<__main__.D object at 0x00000267C0F3D0C0>'"
      ]
     },
     "execution_count": 163,
     "metadata": {},
     "output_type": "execute_result"
    }
   ],
   "source": [
    "d.__repr__()"
   ]
  },
  {
   "cell_type": "code",
   "execution_count": 164,
   "id": "f430f387",
   "metadata": {},
   "outputs": [
    {
     "data": {
      "text/plain": [
       "31.055555555555557"
      ]
     },
     "execution_count": 164,
     "metadata": {},
     "output_type": "execute_result"
    }
   ],
   "source": [
    "1118 / 36\n"
   ]
  },
  {
   "cell_type": "markdown",
   "id": "89c90df7",
   "metadata": {},
   "source": [
    "# praca z plikami\n"
   ]
  },
  {
   "cell_type": "code",
   "execution_count": 169,
   "id": "39a4f3ec",
   "metadata": {},
   "outputs": [],
   "source": [
    "f = open(\"dane.txt\", \"w\")\n"
   ]
  },
  {
   "cell_type": "code",
   "execution_count": 170,
   "id": "494850c0",
   "metadata": {},
   "outputs": [],
   "source": [
    "f.write(\"Ala\\n\")\n",
    "f.write(\"Kot\\n\")\n",
    "f.close()"
   ]
  },
  {
   "cell_type": "code",
   "execution_count": 173,
   "id": "536a64fe",
   "metadata": {},
   "outputs": [
    {
     "data": {
      "text/plain": [
       "['_CHUNK_SIZE',\n",
       " '__class__',\n",
       " '__del__',\n",
       " '__delattr__',\n",
       " '__dict__',\n",
       " '__dir__',\n",
       " '__doc__',\n",
       " '__enter__',\n",
       " '__eq__',\n",
       " '__exit__',\n",
       " '__format__',\n",
       " '__ge__',\n",
       " '__getattribute__',\n",
       " '__gt__',\n",
       " '__hash__',\n",
       " '__init__',\n",
       " '__init_subclass__',\n",
       " '__iter__',\n",
       " '__le__',\n",
       " '__lt__',\n",
       " '__ne__',\n",
       " '__new__',\n",
       " '__next__',\n",
       " '__reduce__',\n",
       " '__reduce_ex__',\n",
       " '__repr__',\n",
       " '__setattr__',\n",
       " '__sizeof__',\n",
       " '__str__',\n",
       " '__subclasshook__',\n",
       " '_checkClosed',\n",
       " '_checkReadable',\n",
       " '_checkSeekable',\n",
       " '_checkWritable',\n",
       " '_finalizing',\n",
       " 'buffer',\n",
       " 'close',\n",
       " 'closed',\n",
       " 'detach',\n",
       " 'encoding',\n",
       " 'errors',\n",
       " 'fileno',\n",
       " 'flush',\n",
       " 'isatty',\n",
       " 'line_buffering',\n",
       " 'mode',\n",
       " 'name',\n",
       " 'newlines',\n",
       " 'read',\n",
       " 'readable',\n",
       " 'readline',\n",
       " 'readlines',\n",
       " 'reconfigure',\n",
       " 'seek',\n",
       " 'seekable',\n",
       " 'tell',\n",
       " 'truncate',\n",
       " 'writable',\n",
       " 'write',\n",
       " 'write_through',\n",
       " 'writelines']"
      ]
     },
     "execution_count": 173,
     "metadata": {},
     "output_type": "execute_result"
    }
   ],
   "source": [
    "f = open(\"dane.txt\", \"a\")\n",
    "f.write(\"cos\\n\")\n",
    "\n",
    "f.close()\n",
    "dir(f)"
   ]
  },
  {
   "cell_type": "code",
   "execution_count": null,
   "id": "0b77034d",
   "metadata": {},
   "outputs": [],
   "source": [
    "try:\n",
    "    f = open(\"dane.txt\")\n",
    "    print(f.read())\n",
    "    1/0\n",
    "except:\n",
    "    ...\n",
    "finally:\n",
    "    f.close()"
   ]
  },
  {
   "cell_type": "code",
   "execution_count": 172,
   "id": "2818846d",
   "metadata": {},
   "outputs": [
    {
     "name": "stdout",
     "output_type": "stream",
     "text": [
      "Ala\n",
      "\n",
      "Kot\n",
      "\n",
      "cos\n",
      "\n"
     ]
    }
   ],
   "source": [
    "# context manager\n",
    "with open(\"dane.txt\") as f:\n",
    "    for line in f:\n",
    "        print(line)\n"
   ]
  },
  {
   "cell_type": "code",
   "execution_count": 176,
   "id": "297a0497",
   "metadata": {},
   "outputs": [
    {
     "data": {
      "text/plain": [
       "b'za\\xc5\\xbc\\xc3\\xb3\\xc5\\x82\\xc4\\x87 g\\xc4\\x99\\xc5\\x9bk\\xc4\\x85 ja\\xc5\\xba\\xc5\\x84'"
      ]
     },
     "execution_count": 176,
     "metadata": {},
     "output_type": "execute_result"
    }
   ],
   "source": [
    "\"zażółć gęśką jaźń\".encode()"
   ]
  },
  {
   "cell_type": "code",
   "execution_count": 183,
   "id": "39a2d976",
   "metadata": {},
   "outputs": [],
   "source": [
    "import pickle\n",
    "\n",
    "x = [1, 2, 3]\n",
    "\n",
    "with open(\"xxx\", \"wb\") as f:\n",
    "    f.write(pickle.dumps(x))\n",
    "\n",
    "    \n",
    "with open(\"xxx\", \"wb\") as f:\n",
    "   pickle.dump(x, f)\n"
   ]
  },
  {
   "cell_type": "code",
   "execution_count": 184,
   "id": "cbf3ee6f",
   "metadata": {},
   "outputs": [
    {
     "name": "stdout",
     "output_type": "stream",
     "text": [
      "[1, 2, 3]\n"
     ]
    }
   ],
   "source": [
    "with open(\"xxx\", \"rb\") as f:\n",
    "    dane = pickle.load(f)\n",
    "    print(dane)"
   ]
  },
  {
   "cell_type": "markdown",
   "id": "780ea717",
   "metadata": {},
   "source": [
    "1. Zapisac do pliku dane z listy \n",
    "lista = [\"xxx\", \"yyy\", \"zzz\"]\n",
    "\n",
    "kazdy element w nowej linii\n",
    "\n",
    "2. Odczytac plik i wyswietlic ponumerowane wiersze\n"
   ]
  },
  {
   "cell_type": "code",
   "execution_count": 187,
   "id": "fbc2c019",
   "metadata": {},
   "outputs": [
    {
     "name": "stdout",
     "output_type": "stream",
     "text": [
      "1 xxx\n",
      "2 yyy\n",
      "3 zzz\n"
     ]
    }
   ],
   "source": [
    "lista = [\"xxx\", \"yyy\", \"zzz\"]\n",
    "    \n",
    "with open(\"dane.txt\", \"w\") as f:\n",
    "    dane = \"\\n\".join(lista)\n",
    "    f.write(dane)\n",
    "    \n",
    "with open(\"dane.txt\") as f:\n",
    "    for i, l in enumerate(f.read().splitlines(), start=1):\n",
    "        print(i, l)"
   ]
  },
  {
   "cell_type": "markdown",
   "id": "3ab532b2",
   "metadata": {},
   "source": [
    "#### Zadanie\n",
    "\n",
    "Napisz program wczytujący plik z logami aktywności użytkowników w systemie. Na podstawie wczytanych danych wyświetl\n",
    "informację o sumarycznym czasie przebywania każdego użytkownika w systemie. Przykład użycia:\n",
    "\n",
    "    $ python read_logs.py logs.txt\n",
    "    Czas przebywania w systemie:\n",
    "    - user-1: 92 s\n",
    "    - user-2: 51 s\n",
    "    - user-3: 20 s"
   ]
  },
  {
   "cell_type": "code",
   "execution_count": 198,
   "id": "e1561fef",
   "metadata": {},
   "outputs": [
    {
     "name": "stdout",
     "output_type": "stream",
     "text": [
      " - user-2    : 4277 s\n",
      " - user-1    : 3490 s\n",
      " - user-3    : 3373 s\n",
      " - user-6    : 3122 s\n",
      " - user-4    : 2809 s\n",
      " - user-7    : 2559 s\n",
      " - user-8    : 2435 s\n",
      " - user-9    : 2344 s\n",
      " - user-5    : 2138 s\n",
      " - user-10   : 1965 s\n"
     ]
    }
   ],
   "source": [
    "from collections import defaultdict\n",
    "\n",
    "\n",
    "user_total_time = defaultdict(int)\n",
    "\n",
    "user_last_login = {}\n",
    "\n",
    "with open(\"dane/logs.txt\") as f:\n",
    "    for line in f:\n",
    "        user, action, t = line.strip().split(\";\")\n",
    "        t = int(t)\n",
    "        \n",
    "        if action == \"LOGIN\":\n",
    "            user_last_login[user] = t\n",
    "        elif action == \"LOGOUT\":\n",
    "            user_total_time[user] += t - user_last_login[user]\n",
    "\n",
    "for user, t in sorted(user_total_time.items(), key=lambda x: x[1], reverse=True):\n",
    "    print(f\" - {user:10}: {t} s\")"
   ]
  },
  {
   "cell_type": "code",
   "execution_count": 192,
   "id": "170d9a03",
   "metadata": {},
   "outputs": [],
   "source": [
    "user_total_time['k'] += 10"
   ]
  },
  {
   "cell_type": "code",
   "execution_count": 193,
   "id": "517f8f7b",
   "metadata": {},
   "outputs": [
    {
     "data": {
      "text/plain": [
       "defaultdict(int, {'k': 10})"
      ]
     },
     "execution_count": 193,
     "metadata": {},
     "output_type": "execute_result"
    }
   ],
   "source": [
    "user_total_time"
   ]
  },
  {
   "cell_type": "code",
   "execution_count": 194,
   "id": "6c19efb9",
   "metadata": {},
   "outputs": [],
   "source": [
    "user_last_login['k'] = user_last_login.get('k', 0) + 10"
   ]
  },
  {
   "cell_type": "code",
   "execution_count": 195,
   "id": "2296e116",
   "metadata": {},
   "outputs": [
    {
     "data": {
      "text/plain": [
       "{'k': 10}"
      ]
     },
     "execution_count": 195,
     "metadata": {},
     "output_type": "execute_result"
    }
   ],
   "source": [
    "user_last_login"
   ]
  },
  {
   "cell_type": "code",
   "execution_count": null,
   "id": "a91feeea",
   "metadata": {},
   "outputs": [],
   "source": []
  }
 ],
 "metadata": {
  "kernelspec": {
   "display_name": "Python 3 (ipykernel)",
   "language": "python",
   "name": "python3"
  },
  "language_info": {
   "codemirror_mode": {
    "name": "ipython",
    "version": 3
   },
   "file_extension": ".py",
   "mimetype": "text/x-python",
   "name": "python",
   "nbconvert_exporter": "python",
   "pygments_lexer": "ipython3",
   "version": "3.10.1"
  }
 },
 "nbformat": 4,
 "nbformat_minor": 5
}
